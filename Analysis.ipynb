{
 "cells": [
  {
   "cell_type": "code",
   "execution_count": 19,
   "metadata": {
    "collapsed": true,
    "pycharm": {
     "name": "#%%\n"
    }
   },
   "outputs": [
    {
     "data": {
      "text/plain": "   day regen  battery  reflector  distance  data  radiation\n0    1     N     89.4        5.0      1296   241       10.3\n1    2     N     88.6        NaN      1291   254       10.2\n2    3     Y     91.9        1.0      1334   169       10.2\n3    4     N     89.9        NaN      1301   214       10.3\n4    5     Y     90.5        4.0      1203   204       10.3",
      "text/html": "<div>\n<style scoped>\n    .dataframe tbody tr th:only-of-type {\n        vertical-align: middle;\n    }\n\n    .dataframe tbody tr th {\n        vertical-align: top;\n    }\n\n    .dataframe thead th {\n        text-align: right;\n    }\n</style>\n<table border=\"1\" class=\"dataframe\">\n  <thead>\n    <tr style=\"text-align: right;\">\n      <th></th>\n      <th>day</th>\n      <th>regen</th>\n      <th>battery</th>\n      <th>reflector</th>\n      <th>distance</th>\n      <th>data</th>\n      <th>radiation</th>\n    </tr>\n  </thead>\n  <tbody>\n    <tr>\n      <th>0</th>\n      <td>1</td>\n      <td>N</td>\n      <td>89.4</td>\n      <td>5.0</td>\n      <td>1296</td>\n      <td>241</td>\n      <td>10.3</td>\n    </tr>\n    <tr>\n      <th>1</th>\n      <td>2</td>\n      <td>N</td>\n      <td>88.6</td>\n      <td>NaN</td>\n      <td>1291</td>\n      <td>254</td>\n      <td>10.2</td>\n    </tr>\n    <tr>\n      <th>2</th>\n      <td>3</td>\n      <td>Y</td>\n      <td>91.9</td>\n      <td>1.0</td>\n      <td>1334</td>\n      <td>169</td>\n      <td>10.2</td>\n    </tr>\n    <tr>\n      <th>3</th>\n      <td>4</td>\n      <td>N</td>\n      <td>89.9</td>\n      <td>NaN</td>\n      <td>1301</td>\n      <td>214</td>\n      <td>10.3</td>\n    </tr>\n    <tr>\n      <th>4</th>\n      <td>5</td>\n      <td>Y</td>\n      <td>90.5</td>\n      <td>4.0</td>\n      <td>1203</td>\n      <td>204</td>\n      <td>10.3</td>\n    </tr>\n  </tbody>\n</table>\n</div>"
     },
     "execution_count": 19,
     "metadata": {},
     "output_type": "execute_result"
    }
   ],
   "source": [
    "import pandas as pd # Data Analysis library for working with tabular data\n",
    "\n",
    "# Load our AtlasIV data from the CSV file\n",
    "df = pd.read_csv('AtlasIV.csv')\n",
    "df.head()"
   ]
  },
  {
   "cell_type": "code",
   "execution_count": 20,
   "outputs": [
    {
     "data": {
      "text/plain": "   day  regen  battery  reflector  distance  data  radiation\n0    1      0     89.4        5.0      1296   241       10.3\n1    2      0     88.6        NaN      1291   254       10.2\n2    3      1     91.9        1.0      1334   169       10.2\n3    4      0     89.9        NaN      1301   214       10.3\n4    5      1     90.5        4.0      1203   204       10.3",
      "text/html": "<div>\n<style scoped>\n    .dataframe tbody tr th:only-of-type {\n        vertical-align: middle;\n    }\n\n    .dataframe tbody tr th {\n        vertical-align: top;\n    }\n\n    .dataframe thead th {\n        text-align: right;\n    }\n</style>\n<table border=\"1\" class=\"dataframe\">\n  <thead>\n    <tr style=\"text-align: right;\">\n      <th></th>\n      <th>day</th>\n      <th>regen</th>\n      <th>battery</th>\n      <th>reflector</th>\n      <th>distance</th>\n      <th>data</th>\n      <th>radiation</th>\n    </tr>\n  </thead>\n  <tbody>\n    <tr>\n      <th>0</th>\n      <td>1</td>\n      <td>0</td>\n      <td>89.4</td>\n      <td>5.0</td>\n      <td>1296</td>\n      <td>241</td>\n      <td>10.3</td>\n    </tr>\n    <tr>\n      <th>1</th>\n      <td>2</td>\n      <td>0</td>\n      <td>88.6</td>\n      <td>NaN</td>\n      <td>1291</td>\n      <td>254</td>\n      <td>10.2</td>\n    </tr>\n    <tr>\n      <th>2</th>\n      <td>3</td>\n      <td>1</td>\n      <td>91.9</td>\n      <td>1.0</td>\n      <td>1334</td>\n      <td>169</td>\n      <td>10.2</td>\n    </tr>\n    <tr>\n      <th>3</th>\n      <td>4</td>\n      <td>0</td>\n      <td>89.9</td>\n      <td>NaN</td>\n      <td>1301</td>\n      <td>214</td>\n      <td>10.3</td>\n    </tr>\n    <tr>\n      <th>4</th>\n      <td>5</td>\n      <td>1</td>\n      <td>90.5</td>\n      <td>4.0</td>\n      <td>1203</td>\n      <td>204</td>\n      <td>10.3</td>\n    </tr>\n  </tbody>\n</table>\n</div>"
     },
     "execution_count": 20,
     "metadata": {},
     "output_type": "execute_result"
    }
   ],
   "source": [
    "# Clean the regen column to be 0 for no recharge or 1 for recharged\n",
    "df['regen'].where(~(df['regen'] == 'N'), other=0, inplace=True)\n",
    "df['regen'].where(~(df['regen'] == 'Y'), other=1, inplace=True)\n",
    "df['regen'] = df['regen'].astype(int)\n",
    "\n",
    "df.head()"
   ],
   "metadata": {
    "collapsed": false,
    "pycharm": {
     "name": "#%%\n"
    }
   }
  },
  {
   "cell_type": "code",
   "execution_count": 21,
   "outputs": [
    {
     "data": {
      "text/plain": "              day       regen     battery   reflector     distance  \\\ncount  365.000000  365.000000  365.000000  196.000000   365.000000   \nmean   183.000000    0.534247   85.959178    2.923469  1227.616438   \nstd    105.510663    0.499511    2.706698    1.463841    59.161037   \nmin      1.000000    0.000000   78.400000    1.000000  1061.000000   \n25%     92.000000    0.000000   84.000000    1.750000  1189.000000   \n50%    183.000000    1.000000   86.000000    3.000000  1228.000000   \n75%    274.000000    1.000000   88.000000    4.000000  1268.000000   \nmax    365.000000    1.000000   92.700000    5.000000  1377.000000   \n\n             data   radiation  \ncount  365.000000  365.000000  \nmean   315.205479   10.238904  \nstd     74.287413    0.225000  \nmin    105.000000    9.700000  \n25%    262.000000   10.100000  \n50%    317.000000   10.200000  \n75%    367.000000   10.300000  \nmax    497.000000   11.600000  ",
      "text/html": "<div>\n<style scoped>\n    .dataframe tbody tr th:only-of-type {\n        vertical-align: middle;\n    }\n\n    .dataframe tbody tr th {\n        vertical-align: top;\n    }\n\n    .dataframe thead th {\n        text-align: right;\n    }\n</style>\n<table border=\"1\" class=\"dataframe\">\n  <thead>\n    <tr style=\"text-align: right;\">\n      <th></th>\n      <th>day</th>\n      <th>regen</th>\n      <th>battery</th>\n      <th>reflector</th>\n      <th>distance</th>\n      <th>data</th>\n      <th>radiation</th>\n    </tr>\n  </thead>\n  <tbody>\n    <tr>\n      <th>count</th>\n      <td>365.000000</td>\n      <td>365.000000</td>\n      <td>365.000000</td>\n      <td>196.000000</td>\n      <td>365.000000</td>\n      <td>365.000000</td>\n      <td>365.000000</td>\n    </tr>\n    <tr>\n      <th>mean</th>\n      <td>183.000000</td>\n      <td>0.534247</td>\n      <td>85.959178</td>\n      <td>2.923469</td>\n      <td>1227.616438</td>\n      <td>315.205479</td>\n      <td>10.238904</td>\n    </tr>\n    <tr>\n      <th>std</th>\n      <td>105.510663</td>\n      <td>0.499511</td>\n      <td>2.706698</td>\n      <td>1.463841</td>\n      <td>59.161037</td>\n      <td>74.287413</td>\n      <td>0.225000</td>\n    </tr>\n    <tr>\n      <th>min</th>\n      <td>1.000000</td>\n      <td>0.000000</td>\n      <td>78.400000</td>\n      <td>1.000000</td>\n      <td>1061.000000</td>\n      <td>105.000000</td>\n      <td>9.700000</td>\n    </tr>\n    <tr>\n      <th>25%</th>\n      <td>92.000000</td>\n      <td>0.000000</td>\n      <td>84.000000</td>\n      <td>1.750000</td>\n      <td>1189.000000</td>\n      <td>262.000000</td>\n      <td>10.100000</td>\n    </tr>\n    <tr>\n      <th>50%</th>\n      <td>183.000000</td>\n      <td>1.000000</td>\n      <td>86.000000</td>\n      <td>3.000000</td>\n      <td>1228.000000</td>\n      <td>317.000000</td>\n      <td>10.200000</td>\n    </tr>\n    <tr>\n      <th>75%</th>\n      <td>274.000000</td>\n      <td>1.000000</td>\n      <td>88.000000</td>\n      <td>4.000000</td>\n      <td>1268.000000</td>\n      <td>367.000000</td>\n      <td>10.300000</td>\n    </tr>\n    <tr>\n      <th>max</th>\n      <td>365.000000</td>\n      <td>1.000000</td>\n      <td>92.700000</td>\n      <td>5.000000</td>\n      <td>1377.000000</td>\n      <td>497.000000</td>\n      <td>11.600000</td>\n    </tr>\n  </tbody>\n</table>\n</div>"
     },
     "execution_count": 21,
     "metadata": {},
     "output_type": "execute_result"
    }
   ],
   "source": [
    "df.describe()"
   ],
   "metadata": {
    "collapsed": false,
    "pycharm": {
     "name": "#%%\n"
    }
   }
  }
 ],
 "metadata": {
  "kernelspec": {
   "display_name": "Python 3",
   "language": "python",
   "name": "python3"
  },
  "language_info": {
   "codemirror_mode": {
    "name": "ipython",
    "version": 2
   },
   "file_extension": ".py",
   "mimetype": "text/x-python",
   "name": "python",
   "nbconvert_exporter": "python",
   "pygments_lexer": "ipython2",
   "version": "2.7.6"
  }
 },
 "nbformat": 4,
 "nbformat_minor": 0
}