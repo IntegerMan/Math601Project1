{
 "cells": [
  {
   "cell_type": "code",
   "execution_count": 404,
   "metadata": {
    "collapsed": true,
    "pycharm": {
     "name": "#%%\n"
    }
   },
   "outputs": [
    {
     "data": {
      "text/html": [
       "<div>\n",
       "<style scoped>\n",
       "    .dataframe tbody tr th:only-of-type {\n",
       "        vertical-align: middle;\n",
       "    }\n",
       "\n",
       "    .dataframe tbody tr th {\n",
       "        vertical-align: top;\n",
       "    }\n",
       "\n",
       "    .dataframe thead th {\n",
       "        text-align: right;\n",
       "    }\n",
       "</style>\n",
       "<table border=\"1\" class=\"dataframe\">\n",
       "  <thead>\n",
       "    <tr style=\"text-align: right;\">\n",
       "      <th></th>\n",
       "      <th>day</th>\n",
       "      <th>regen</th>\n",
       "      <th>battery</th>\n",
       "      <th>reflector</th>\n",
       "      <th>distance</th>\n",
       "      <th>data</th>\n",
       "      <th>radiation</th>\n",
       "    </tr>\n",
       "  </thead>\n",
       "  <tbody>\n",
       "    <tr>\n",
       "      <th>0</th>\n",
       "      <td>1</td>\n",
       "      <td>N</td>\n",
       "      <td>89.4</td>\n",
       "      <td>5.0</td>\n",
       "      <td>1296</td>\n",
       "      <td>241</td>\n",
       "      <td>10.3</td>\n",
       "    </tr>\n",
       "    <tr>\n",
       "      <th>1</th>\n",
       "      <td>2</td>\n",
       "      <td>N</td>\n",
       "      <td>88.6</td>\n",
       "      <td>NaN</td>\n",
       "      <td>1291</td>\n",
       "      <td>254</td>\n",
       "      <td>10.2</td>\n",
       "    </tr>\n",
       "    <tr>\n",
       "      <th>2</th>\n",
       "      <td>3</td>\n",
       "      <td>Y</td>\n",
       "      <td>91.9</td>\n",
       "      <td>1.0</td>\n",
       "      <td>1334</td>\n",
       "      <td>169</td>\n",
       "      <td>10.2</td>\n",
       "    </tr>\n",
       "    <tr>\n",
       "      <th>3</th>\n",
       "      <td>4</td>\n",
       "      <td>N</td>\n",
       "      <td>89.9</td>\n",
       "      <td>NaN</td>\n",
       "      <td>1301</td>\n",
       "      <td>214</td>\n",
       "      <td>10.3</td>\n",
       "    </tr>\n",
       "    <tr>\n",
       "      <th>4</th>\n",
       "      <td>5</td>\n",
       "      <td>Y</td>\n",
       "      <td>90.5</td>\n",
       "      <td>4.0</td>\n",
       "      <td>1203</td>\n",
       "      <td>204</td>\n",
       "      <td>10.3</td>\n",
       "    </tr>\n",
       "  </tbody>\n",
       "</table>\n",
       "</div>"
      ],
      "text/plain": [
       "   day regen  battery  reflector  distance  data  radiation\n",
       "0    1     N     89.4        5.0      1296   241       10.3\n",
       "1    2     N     88.6        NaN      1291   254       10.2\n",
       "2    3     Y     91.9        1.0      1334   169       10.2\n",
       "3    4     N     89.9        NaN      1301   214       10.3\n",
       "4    5     Y     90.5        4.0      1203   204       10.3"
      ]
     },
     "execution_count": 404,
     "metadata": {},
     "output_type": "execute_result"
    }
   ],
   "source": [
    "import pandas as pd # Data Analysis library for working with tabular data\n",
    "\n",
    "# Load our AtlasIV data from the CSV file\n",
    "df = pd.read_csv('AtlasIV.csv')\n",
    "df.head()"
   ]
  },
  {
   "cell_type": "code",
   "execution_count": 405,
   "metadata": {
    "collapsed": false,
    "pycharm": {
     "name": "#%%\n"
    }
   },
   "outputs": [
    {
     "data": {
      "text/html": [
       "<div>\n",
       "<style scoped>\n",
       "    .dataframe tbody tr th:only-of-type {\n",
       "        vertical-align: middle;\n",
       "    }\n",
       "\n",
       "    .dataframe tbody tr th {\n",
       "        vertical-align: top;\n",
       "    }\n",
       "\n",
       "    .dataframe thead th {\n",
       "        text-align: right;\n",
       "    }\n",
       "</style>\n",
       "<table border=\"1\" class=\"dataframe\">\n",
       "  <thead>\n",
       "    <tr style=\"text-align: right;\">\n",
       "      <th></th>\n",
       "      <th>regen</th>\n",
       "      <th>battery</th>\n",
       "      <th>reflector</th>\n",
       "      <th>distance</th>\n",
       "      <th>data</th>\n",
       "      <th>radiation</th>\n",
       "      <th>hit reflector</th>\n",
       "      <th>reflector_str</th>\n",
       "    </tr>\n",
       "    <tr>\n",
       "      <th>day</th>\n",
       "      <th></th>\n",
       "      <th></th>\n",
       "      <th></th>\n",
       "      <th></th>\n",
       "      <th></th>\n",
       "      <th></th>\n",
       "      <th></th>\n",
       "      <th></th>\n",
       "    </tr>\n",
       "  </thead>\n",
       "  <tbody>\n",
       "    <tr>\n",
       "      <th>1</th>\n",
       "      <td>False</td>\n",
       "      <td>89.4</td>\n",
       "      <td>5.0</td>\n",
       "      <td>1296</td>\n",
       "      <td>241</td>\n",
       "      <td>10.3</td>\n",
       "      <td>True</td>\n",
       "      <td>Reflector #5</td>\n",
       "    </tr>\n",
       "    <tr>\n",
       "      <th>2</th>\n",
       "      <td>False</td>\n",
       "      <td>88.6</td>\n",
       "      <td>NaN</td>\n",
       "      <td>1291</td>\n",
       "      <td>254</td>\n",
       "      <td>10.2</td>\n",
       "      <td>False</td>\n",
       "      <td>nan</td>\n",
       "    </tr>\n",
       "    <tr>\n",
       "      <th>3</th>\n",
       "      <td>True</td>\n",
       "      <td>91.9</td>\n",
       "      <td>1.0</td>\n",
       "      <td>1334</td>\n",
       "      <td>169</td>\n",
       "      <td>10.2</td>\n",
       "      <td>True</td>\n",
       "      <td>Reflector #1</td>\n",
       "    </tr>\n",
       "    <tr>\n",
       "      <th>4</th>\n",
       "      <td>False</td>\n",
       "      <td>89.9</td>\n",
       "      <td>NaN</td>\n",
       "      <td>1301</td>\n",
       "      <td>214</td>\n",
       "      <td>10.3</td>\n",
       "      <td>False</td>\n",
       "      <td>nan</td>\n",
       "    </tr>\n",
       "    <tr>\n",
       "      <th>5</th>\n",
       "      <td>True</td>\n",
       "      <td>90.5</td>\n",
       "      <td>4.0</td>\n",
       "      <td>1203</td>\n",
       "      <td>204</td>\n",
       "      <td>10.3</td>\n",
       "      <td>True</td>\n",
       "      <td>Reflector #4</td>\n",
       "    </tr>\n",
       "  </tbody>\n",
       "</table>\n",
       "</div>"
      ],
      "text/plain": [
       "     regen  battery  reflector  distance  data  radiation  hit reflector  \\\n",
       "day                                                                        \n",
       "1    False     89.4        5.0      1296   241       10.3           True   \n",
       "2    False     88.6        NaN      1291   254       10.2          False   \n",
       "3     True     91.9        1.0      1334   169       10.2           True   \n",
       "4    False     89.9        NaN      1301   214       10.3          False   \n",
       "5     True     90.5        4.0      1203   204       10.3           True   \n",
       "\n",
       "    reflector_str  \n",
       "day                \n",
       "1    Reflector #5  \n",
       "2             nan  \n",
       "3    Reflector #1  \n",
       "4             nan  \n",
       "5    Reflector #4  "
      ]
     },
     "execution_count": 405,
     "metadata": {},
     "output_type": "execute_result"
    }
   ],
   "source": [
    "# Clean the regen column to be 0 for no recharge or 1 for recharged\n",
    "df['regen'].where(~(df['regen'] == 'N'), other=False, inplace=True)\n",
    "df['regen'].where(~(df['regen'] == 'Y'), other=True, inplace=True)\n",
    "df['regen'] = df['regen'].astype(bool)\n",
    "\n",
    "# Set the index column to be the day, since it's the unique ID of each row. Also sort sequentially\n",
    "df.sort_values(by='day', inplace=True)\n",
    "df.set_index('day', inplace=True)\n",
    "\n",
    "# Use Reflector of \"None\" for NaN values and treat the reflector column like a string column\n",
    "df['hit reflector'] = df['reflector'] >= 1\n",
    "df['reflector_str'] = df['reflector'].fillna('None')\n",
    "df['reflector_str'] = df['reflector'].astype(str)\n",
    "df['reflector_str'].replace(to_replace=['1.0'], value='Reflector #1', inplace=True)\n",
    "df['reflector_str'].replace(to_replace=['2.0'], value='Reflector #2', inplace=True)\n",
    "df['reflector_str'].replace(to_replace=['3.0'], value='Reflector #3', inplace=True)\n",
    "df['reflector_str'].replace(to_replace=['4.0'], value='Reflector #4', inplace=True)\n",
    "df['reflector_str'].replace(to_replace=['5.0'], value='Reflector #5', inplace=True)\n",
    "\n",
    "df.head()"
   ]
  },
  {
   "cell_type": "code",
   "execution_count": 406,
   "metadata": {},
   "outputs": [
    {
     "data": {
      "text/html": [
       "<div>\n",
       "<style scoped>\n",
       "    .dataframe tbody tr th:only-of-type {\n",
       "        vertical-align: middle;\n",
       "    }\n",
       "\n",
       "    .dataframe tbody tr th {\n",
       "        vertical-align: top;\n",
       "    }\n",
       "\n",
       "    .dataframe thead th {\n",
       "        text-align: right;\n",
       "    }\n",
       "</style>\n",
       "<table border=\"1\" class=\"dataframe\">\n",
       "  <thead>\n",
       "    <tr style=\"text-align: right;\">\n",
       "      <th></th>\n",
       "      <th>regen</th>\n",
       "      <th>battery</th>\n",
       "      <th>reflector</th>\n",
       "      <th>distance</th>\n",
       "      <th>data</th>\n",
       "      <th>radiation</th>\n",
       "      <th>hit reflector</th>\n",
       "      <th>reflector_str</th>\n",
       "      <th>battery delta</th>\n",
       "    </tr>\n",
       "    <tr>\n",
       "      <th>day</th>\n",
       "      <th></th>\n",
       "      <th></th>\n",
       "      <th></th>\n",
       "      <th></th>\n",
       "      <th></th>\n",
       "      <th></th>\n",
       "      <th></th>\n",
       "      <th></th>\n",
       "      <th></th>\n",
       "    </tr>\n",
       "  </thead>\n",
       "  <tbody>\n",
       "    <tr>\n",
       "      <th>1</th>\n",
       "      <td>False</td>\n",
       "      <td>89.4</td>\n",
       "      <td>5.0</td>\n",
       "      <td>1296</td>\n",
       "      <td>241</td>\n",
       "      <td>10.3</td>\n",
       "      <td>True</td>\n",
       "      <td>Reflector #5</td>\n",
       "      <td>0.0</td>\n",
       "    </tr>\n",
       "    <tr>\n",
       "      <th>2</th>\n",
       "      <td>False</td>\n",
       "      <td>88.6</td>\n",
       "      <td>NaN</td>\n",
       "      <td>1291</td>\n",
       "      <td>254</td>\n",
       "      <td>10.2</td>\n",
       "      <td>False</td>\n",
       "      <td>nan</td>\n",
       "      <td>-0.8</td>\n",
       "    </tr>\n",
       "    <tr>\n",
       "      <th>3</th>\n",
       "      <td>True</td>\n",
       "      <td>91.9</td>\n",
       "      <td>1.0</td>\n",
       "      <td>1334</td>\n",
       "      <td>169</td>\n",
       "      <td>10.2</td>\n",
       "      <td>True</td>\n",
       "      <td>Reflector #1</td>\n",
       "      <td>3.3</td>\n",
       "    </tr>\n",
       "    <tr>\n",
       "      <th>4</th>\n",
       "      <td>False</td>\n",
       "      <td>89.9</td>\n",
       "      <td>NaN</td>\n",
       "      <td>1301</td>\n",
       "      <td>214</td>\n",
       "      <td>10.3</td>\n",
       "      <td>False</td>\n",
       "      <td>nan</td>\n",
       "      <td>-2.0</td>\n",
       "    </tr>\n",
       "    <tr>\n",
       "      <th>5</th>\n",
       "      <td>True</td>\n",
       "      <td>90.5</td>\n",
       "      <td>4.0</td>\n",
       "      <td>1203</td>\n",
       "      <td>204</td>\n",
       "      <td>10.3</td>\n",
       "      <td>True</td>\n",
       "      <td>Reflector #4</td>\n",
       "      <td>0.6</td>\n",
       "    </tr>\n",
       "  </tbody>\n",
       "</table>\n",
       "</div>"
      ],
      "text/plain": [
       "     regen  battery  reflector  distance  data  radiation  hit reflector  \\\n",
       "day                                                                        \n",
       "1    False     89.4        5.0      1296   241       10.3           True   \n",
       "2    False     88.6        NaN      1291   254       10.2          False   \n",
       "3     True     91.9        1.0      1334   169       10.2           True   \n",
       "4    False     89.9        NaN      1301   214       10.3          False   \n",
       "5     True     90.5        4.0      1203   204       10.3           True   \n",
       "\n",
       "    reflector_str  battery delta  \n",
       "day                               \n",
       "1    Reflector #5            0.0  \n",
       "2             nan           -0.8  \n",
       "3    Reflector #1            3.3  \n",
       "4             nan           -2.0  \n",
       "5    Reflector #4            0.6  "
      ]
     },
     "execution_count": 406,
     "metadata": {},
     "output_type": "execute_result"
    }
   ],
   "source": [
    "# Engineer a battery delta column\n",
    "df['battery delta'] = df['battery'].diff()\n",
    "\n",
    "# Replace the first NaN value with a 0\n",
    "df['battery delta'] = df['battery delta'].fillna(0)\n",
    "\n",
    "df.head()"
   ]
  },
  {
   "cell_type": "code",
   "execution_count": 407,
   "metadata": {
    "collapsed": false,
    "pycharm": {
     "name": "#%%\n"
    }
   },
   "outputs": [
    {
     "data": {
      "text/html": [
       "<div>\n",
       "<style scoped>\n",
       "    .dataframe tbody tr th:only-of-type {\n",
       "        vertical-align: middle;\n",
       "    }\n",
       "\n",
       "    .dataframe tbody tr th {\n",
       "        vertical-align: top;\n",
       "    }\n",
       "\n",
       "    .dataframe thead th {\n",
       "        text-align: right;\n",
       "    }\n",
       "</style>\n",
       "<table border=\"1\" class=\"dataframe\">\n",
       "  <thead>\n",
       "    <tr style=\"text-align: right;\">\n",
       "      <th></th>\n",
       "      <th>battery</th>\n",
       "      <th>reflector</th>\n",
       "      <th>distance</th>\n",
       "      <th>data</th>\n",
       "      <th>radiation</th>\n",
       "      <th>battery delta</th>\n",
       "    </tr>\n",
       "  </thead>\n",
       "  <tbody>\n",
       "    <tr>\n",
       "      <th>count</th>\n",
       "      <td>365.000000</td>\n",
       "      <td>196.000000</td>\n",
       "      <td>365.000000</td>\n",
       "      <td>365.000000</td>\n",
       "      <td>365.000000</td>\n",
       "      <td>365.000000</td>\n",
       "    </tr>\n",
       "    <tr>\n",
       "      <th>mean</th>\n",
       "      <td>85.959178</td>\n",
       "      <td>2.923469</td>\n",
       "      <td>1227.616438</td>\n",
       "      <td>315.205479</td>\n",
       "      <td>10.238904</td>\n",
       "      <td>-0.020548</td>\n",
       "    </tr>\n",
       "    <tr>\n",
       "      <th>std</th>\n",
       "      <td>2.706698</td>\n",
       "      <td>1.463841</td>\n",
       "      <td>59.161037</td>\n",
       "      <td>74.287413</td>\n",
       "      <td>0.225000</td>\n",
       "      <td>1.994316</td>\n",
       "    </tr>\n",
       "    <tr>\n",
       "      <th>min</th>\n",
       "      <td>78.400000</td>\n",
       "      <td>1.000000</td>\n",
       "      <td>1061.000000</td>\n",
       "      <td>105.000000</td>\n",
       "      <td>9.700000</td>\n",
       "      <td>-5.500000</td>\n",
       "    </tr>\n",
       "    <tr>\n",
       "      <th>25%</th>\n",
       "      <td>84.000000</td>\n",
       "      <td>1.750000</td>\n",
       "      <td>1189.000000</td>\n",
       "      <td>262.000000</td>\n",
       "      <td>10.100000</td>\n",
       "      <td>-1.200000</td>\n",
       "    </tr>\n",
       "    <tr>\n",
       "      <th>50%</th>\n",
       "      <td>86.000000</td>\n",
       "      <td>3.000000</td>\n",
       "      <td>1228.000000</td>\n",
       "      <td>317.000000</td>\n",
       "      <td>10.200000</td>\n",
       "      <td>0.100000</td>\n",
       "    </tr>\n",
       "    <tr>\n",
       "      <th>75%</th>\n",
       "      <td>88.000000</td>\n",
       "      <td>4.000000</td>\n",
       "      <td>1268.000000</td>\n",
       "      <td>367.000000</td>\n",
       "      <td>10.300000</td>\n",
       "      <td>1.100000</td>\n",
       "    </tr>\n",
       "    <tr>\n",
       "      <th>max</th>\n",
       "      <td>92.700000</td>\n",
       "      <td>5.000000</td>\n",
       "      <td>1377.000000</td>\n",
       "      <td>497.000000</td>\n",
       "      <td>11.600000</td>\n",
       "      <td>5.900000</td>\n",
       "    </tr>\n",
       "  </tbody>\n",
       "</table>\n",
       "</div>"
      ],
      "text/plain": [
       "          battery   reflector     distance        data   radiation  \\\n",
       "count  365.000000  196.000000   365.000000  365.000000  365.000000   \n",
       "mean    85.959178    2.923469  1227.616438  315.205479   10.238904   \n",
       "std      2.706698    1.463841    59.161037   74.287413    0.225000   \n",
       "min     78.400000    1.000000  1061.000000  105.000000    9.700000   \n",
       "25%     84.000000    1.750000  1189.000000  262.000000   10.100000   \n",
       "50%     86.000000    3.000000  1228.000000  317.000000   10.200000   \n",
       "75%     88.000000    4.000000  1268.000000  367.000000   10.300000   \n",
       "max     92.700000    5.000000  1377.000000  497.000000   11.600000   \n",
       "\n",
       "       battery delta  \n",
       "count     365.000000  \n",
       "mean       -0.020548  \n",
       "std         1.994316  \n",
       "min        -5.500000  \n",
       "25%        -1.200000  \n",
       "50%         0.100000  \n",
       "75%         1.100000  \n",
       "max         5.900000  "
      ]
     },
     "execution_count": 407,
     "metadata": {},
     "output_type": "execute_result"
    }
   ],
   "source": [
    "df.describe()"
   ]
  },
  {
   "cell_type": "code",
   "execution_count": 408,
   "metadata": {
    "collapsed": false,
    "pycharm": {
     "name": "#%%\n"
    }
   },
   "outputs": [],
   "source": [
    "import plotly.express as px # Data visualization tool\n",
    "\n",
    "plotly_options = {\n",
    "    'labels': {\n",
    "        'battery': 'Beginning of day Battery %',\n",
    "        'battery delta': 'Relative Change in Starting Battery %',\n",
    "        'day': 'Mission Day',\n",
    "        'regen': 'Regenerated?',\n",
    "        'distance': 'Distance Travelled (km)',\n",
    "        'radiation': 'Radiation (Gy)',\n",
    "        'data': 'Data Transmitted (kb)',\n",
    "        'reflector': 'Reflector',\n",
    "        'reflector_str': 'Reflector',\n",
    "        'hit reflector': 'Hit Reflector?',\n",
    "    }\n",
    "}\n",
    "\n",
    "histogram_options = {\n",
    "    'color_discrete_sequence':px.colors.sequential.Agsunset,\n",
    "    'height': 500,\n",
    "    **plotly_options\n",
    "}"
   ]
  },
  {
   "cell_type": "code",
   "execution_count": 409,
   "metadata": {
    "collapsed": false,
    "pycharm": {
     "name": "#%%\n"
    }
   },
   "outputs": [
    {
     "data": {
      "application/vnd.plotly.v1+json": {
       "config": {
        "plotlyServerURL": "https://plot.ly"
       },
       "data": [
        {
         "alignmentgroup": "True",
         "bingroup": "x",
         "hovertemplate": "Beginning of day Battery %=%{x}<br>count=%{y}<extra></extra>",
         "legendgroup": "",
         "marker": {
          "color": "rgb(75, 41, 145)",
          "pattern": {
           "shape": ""
          }
         },
         "name": "",
         "offsetgroup": "",
         "orientation": "v",
         "showlegend": false,
         "type": "histogram",
         "x": [
          89.4,
          88.6,
          91.9,
          89.9,
          90.5,
          91.2,
          90.6,
          89.2,
          91.2,
          90.1,
          89.1,
          89.3,
          89.3,
          86.7,
          89.8,
          90.6,
          89.6,
          92.7,
          88.4,
          90.9,
          89.9,
          89.8,
          85.5,
          89.8,
          86.6,
          89.2,
          88,
          87.8,
          87.1,
          88.2,
          88.7,
          90.7,
          87,
          87.7,
          88.3,
          89.3,
          89.2,
          90.3,
          88,
          90.2,
          89.1,
          90.3,
          89.6,
          89.6,
          90.7,
          91,
          87.7,
          88.3,
          89.4,
          84.8,
          88.8,
          87.9,
          86.2,
          91.3,
          88.9,
          88.9,
          88.7,
          89.7,
          86.7,
          89.7,
          88.2,
          90.7,
          87.3,
          87.3,
          88.4,
          87.2,
          87.7,
          89.6,
          87.9,
          87.2,
          87.3,
          90,
          89.6,
          91.5,
          89.1,
          90.5,
          90.4,
          88.9,
          87.7,
          85,
          88.6,
          90,
          90.6,
          87.8,
          88.6,
          89.7,
          85.3,
          89,
          86.1,
          89.3,
          86.3,
          86.1,
          87.1,
          87.4,
          88.8,
          88.6,
          87.2,
          86,
          90.2,
          86.7,
          87.8,
          89.2,
          85.3,
          88.4,
          89,
          88.8,
          87.9,
          85.8,
          90.3,
          86.6,
          88.5,
          87.5,
          90.2,
          86.8,
          87.1,
          87.2,
          88.1,
          86.8,
          85.5,
          88.3,
          87.5,
          88.3,
          84.7,
          85.4,
          87.9,
          87.9,
          89.1,
          84.6,
          86.6,
          87.9,
          87.4,
          88.3,
          86.4,
          87,
          88,
          88,
          87.6,
          84.8,
          87.3,
          87.8,
          87.5,
          88,
          86.7,
          85.7,
          89.6,
          86,
          88.8,
          86.5,
          88.8,
          87,
          89,
          85.9,
          85.5,
          86.1,
          88.8,
          86.4,
          86.6,
          87.4,
          84.9,
          86.9,
          86.8,
          86.9,
          86.5,
          84.8,
          84.6,
          86.7,
          85.6,
          86.6,
          85.4,
          85.2,
          85.5,
          86.1,
          86.5,
          86.6,
          87.2,
          87,
          85.9,
          84.4,
          88.3,
          87.1,
          84.5,
          87.6,
          86.7,
          85.5,
          88.6,
          87.5,
          86.4,
          86.6,
          83.8,
          84.3,
          84.8,
          86.4,
          90,
          85.5,
          86.5,
          86.2,
          84.4,
          83.8,
          84.8,
          86,
          83.5,
          86.1,
          86.7,
          86.9,
          82.8,
          86.4,
          86,
          86,
          86.9,
          87.1,
          84.9,
          84.2,
          84.5,
          86.1,
          85.1,
          85.6,
          86.6,
          85.4,
          84.6,
          85,
          85.7,
          84.6,
          84.2,
          85.3,
          83.5,
          85.1,
          82.5,
          87,
          81.5,
          84,
          85.1,
          85,
          85.2,
          85.3,
          83.1,
          84.9,
          84.9,
          86,
          85.3,
          85.8,
          86.7,
          85.5,
          85.1,
          83,
          81.3,
          86,
          82.1,
          82.9,
          85.4,
          84.6,
          86.3,
          83.8,
          83.3,
          81.8,
          85.3,
          82.8,
          84.2,
          85.3,
          84.5,
          83.9,
          83.6,
          84.2,
          81.8,
          83.3,
          84.4,
          84.5,
          83,
          84.8,
          85.9,
          84.8,
          81.2,
          80.9,
          84.3,
          84,
          84.4,
          84.5,
          83,
          83.8,
          84.6,
          83.2,
          83,
          83.4,
          85.1,
          81.9,
          83.1,
          83.4,
          84.3,
          82.4,
          82.1,
          83.2,
          83.2,
          83.2,
          84,
          85.2,
          82.3,
          83.5,
          82.8,
          79.9,
          82.8,
          85.8,
          83,
          81.7,
          85.2,
          85.3,
          83.9,
          82.3,
          84.8,
          81.5,
          83.7,
          85.4,
          84.5,
          83.9,
          82.8,
          82.9,
          83.3,
          82.5,
          82.5,
          84.3,
          85.8,
          84.4,
          83.9,
          84.1,
          86.1,
          83.4,
          83.9,
          81.2,
          82.2,
          86.2,
          84.2,
          80.5,
          81.1,
          83.6,
          83.1,
          80.9,
          82.7,
          84.1,
          84.2,
          83.1,
          79.8,
          81.8,
          78.4,
          84.3,
          83,
          81.8,
          84,
          82.1,
          82.7,
          83.5,
          81.3,
          85,
          81.4,
          83.4,
          80.1,
          81.6,
          81.4,
          81.5,
          82.3,
          84.3,
          83,
          83.7,
          82.3,
          79.2,
          79.5,
          80.8,
          81.9
         ],
         "xaxis": "x",
         "yaxis": "y"
        },
        {
         "alignmentgroup": "True",
         "hovertemplate": "Beginning of day Battery %=%{x}<extra></extra>",
         "legendgroup": "",
         "marker": {
          "color": "rgb(75, 41, 145)"
         },
         "name": "",
         "offsetgroup": "",
         "scalegroup": "x",
         "showlegend": false,
         "type": "violin",
         "x": [
          89.4,
          88.6,
          91.9,
          89.9,
          90.5,
          91.2,
          90.6,
          89.2,
          91.2,
          90.1,
          89.1,
          89.3,
          89.3,
          86.7,
          89.8,
          90.6,
          89.6,
          92.7,
          88.4,
          90.9,
          89.9,
          89.8,
          85.5,
          89.8,
          86.6,
          89.2,
          88,
          87.8,
          87.1,
          88.2,
          88.7,
          90.7,
          87,
          87.7,
          88.3,
          89.3,
          89.2,
          90.3,
          88,
          90.2,
          89.1,
          90.3,
          89.6,
          89.6,
          90.7,
          91,
          87.7,
          88.3,
          89.4,
          84.8,
          88.8,
          87.9,
          86.2,
          91.3,
          88.9,
          88.9,
          88.7,
          89.7,
          86.7,
          89.7,
          88.2,
          90.7,
          87.3,
          87.3,
          88.4,
          87.2,
          87.7,
          89.6,
          87.9,
          87.2,
          87.3,
          90,
          89.6,
          91.5,
          89.1,
          90.5,
          90.4,
          88.9,
          87.7,
          85,
          88.6,
          90,
          90.6,
          87.8,
          88.6,
          89.7,
          85.3,
          89,
          86.1,
          89.3,
          86.3,
          86.1,
          87.1,
          87.4,
          88.8,
          88.6,
          87.2,
          86,
          90.2,
          86.7,
          87.8,
          89.2,
          85.3,
          88.4,
          89,
          88.8,
          87.9,
          85.8,
          90.3,
          86.6,
          88.5,
          87.5,
          90.2,
          86.8,
          87.1,
          87.2,
          88.1,
          86.8,
          85.5,
          88.3,
          87.5,
          88.3,
          84.7,
          85.4,
          87.9,
          87.9,
          89.1,
          84.6,
          86.6,
          87.9,
          87.4,
          88.3,
          86.4,
          87,
          88,
          88,
          87.6,
          84.8,
          87.3,
          87.8,
          87.5,
          88,
          86.7,
          85.7,
          89.6,
          86,
          88.8,
          86.5,
          88.8,
          87,
          89,
          85.9,
          85.5,
          86.1,
          88.8,
          86.4,
          86.6,
          87.4,
          84.9,
          86.9,
          86.8,
          86.9,
          86.5,
          84.8,
          84.6,
          86.7,
          85.6,
          86.6,
          85.4,
          85.2,
          85.5,
          86.1,
          86.5,
          86.6,
          87.2,
          87,
          85.9,
          84.4,
          88.3,
          87.1,
          84.5,
          87.6,
          86.7,
          85.5,
          88.6,
          87.5,
          86.4,
          86.6,
          83.8,
          84.3,
          84.8,
          86.4,
          90,
          85.5,
          86.5,
          86.2,
          84.4,
          83.8,
          84.8,
          86,
          83.5,
          86.1,
          86.7,
          86.9,
          82.8,
          86.4,
          86,
          86,
          86.9,
          87.1,
          84.9,
          84.2,
          84.5,
          86.1,
          85.1,
          85.6,
          86.6,
          85.4,
          84.6,
          85,
          85.7,
          84.6,
          84.2,
          85.3,
          83.5,
          85.1,
          82.5,
          87,
          81.5,
          84,
          85.1,
          85,
          85.2,
          85.3,
          83.1,
          84.9,
          84.9,
          86,
          85.3,
          85.8,
          86.7,
          85.5,
          85.1,
          83,
          81.3,
          86,
          82.1,
          82.9,
          85.4,
          84.6,
          86.3,
          83.8,
          83.3,
          81.8,
          85.3,
          82.8,
          84.2,
          85.3,
          84.5,
          83.9,
          83.6,
          84.2,
          81.8,
          83.3,
          84.4,
          84.5,
          83,
          84.8,
          85.9,
          84.8,
          81.2,
          80.9,
          84.3,
          84,
          84.4,
          84.5,
          83,
          83.8,
          84.6,
          83.2,
          83,
          83.4,
          85.1,
          81.9,
          83.1,
          83.4,
          84.3,
          82.4,
          82.1,
          83.2,
          83.2,
          83.2,
          84,
          85.2,
          82.3,
          83.5,
          82.8,
          79.9,
          82.8,
          85.8,
          83,
          81.7,
          85.2,
          85.3,
          83.9,
          82.3,
          84.8,
          81.5,
          83.7,
          85.4,
          84.5,
          83.9,
          82.8,
          82.9,
          83.3,
          82.5,
          82.5,
          84.3,
          85.8,
          84.4,
          83.9,
          84.1,
          86.1,
          83.4,
          83.9,
          81.2,
          82.2,
          86.2,
          84.2,
          80.5,
          81.1,
          83.6,
          83.1,
          80.9,
          82.7,
          84.1,
          84.2,
          83.1,
          79.8,
          81.8,
          78.4,
          84.3,
          83,
          81.8,
          84,
          82.1,
          82.7,
          83.5,
          81.3,
          85,
          81.4,
          83.4,
          80.1,
          81.6,
          81.4,
          81.5,
          82.3,
          84.3,
          83,
          83.7,
          82.3,
          79.2,
          79.5,
          80.8,
          81.9
         ],
         "xaxis": "x2",
         "yaxis": "y2"
        }
       ],
       "layout": {
        "barmode": "relative",
        "height": 500,
        "legend": {
         "tracegroupgap": 0
        },
        "template": {
         "data": {
          "bar": [
           {
            "error_x": {
             "color": "#2a3f5f"
            },
            "error_y": {
             "color": "#2a3f5f"
            },
            "marker": {
             "line": {
              "color": "#E5ECF6",
              "width": 0.5
             },
             "pattern": {
              "fillmode": "overlay",
              "size": 10,
              "solidity": 0.2
             }
            },
            "type": "bar"
           }
          ],
          "barpolar": [
           {
            "marker": {
             "line": {
              "color": "#E5ECF6",
              "width": 0.5
             },
             "pattern": {
              "fillmode": "overlay",
              "size": 10,
              "solidity": 0.2
             }
            },
            "type": "barpolar"
           }
          ],
          "carpet": [
           {
            "aaxis": {
             "endlinecolor": "#2a3f5f",
             "gridcolor": "white",
             "linecolor": "white",
             "minorgridcolor": "white",
             "startlinecolor": "#2a3f5f"
            },
            "baxis": {
             "endlinecolor": "#2a3f5f",
             "gridcolor": "white",
             "linecolor": "white",
             "minorgridcolor": "white",
             "startlinecolor": "#2a3f5f"
            },
            "type": "carpet"
           }
          ],
          "choropleth": [
           {
            "colorbar": {
             "outlinewidth": 0,
             "ticks": ""
            },
            "type": "choropleth"
           }
          ],
          "contour": [
           {
            "colorbar": {
             "outlinewidth": 0,
             "ticks": ""
            },
            "colorscale": [
             [
              0,
              "#0d0887"
             ],
             [
              0.1111111111111111,
              "#46039f"
             ],
             [
              0.2222222222222222,
              "#7201a8"
             ],
             [
              0.3333333333333333,
              "#9c179e"
             ],
             [
              0.4444444444444444,
              "#bd3786"
             ],
             [
              0.5555555555555556,
              "#d8576b"
             ],
             [
              0.6666666666666666,
              "#ed7953"
             ],
             [
              0.7777777777777778,
              "#fb9f3a"
             ],
             [
              0.8888888888888888,
              "#fdca26"
             ],
             [
              1,
              "#f0f921"
             ]
            ],
            "type": "contour"
           }
          ],
          "contourcarpet": [
           {
            "colorbar": {
             "outlinewidth": 0,
             "ticks": ""
            },
            "type": "contourcarpet"
           }
          ],
          "heatmap": [
           {
            "colorbar": {
             "outlinewidth": 0,
             "ticks": ""
            },
            "colorscale": [
             [
              0,
              "#0d0887"
             ],
             [
              0.1111111111111111,
              "#46039f"
             ],
             [
              0.2222222222222222,
              "#7201a8"
             ],
             [
              0.3333333333333333,
              "#9c179e"
             ],
             [
              0.4444444444444444,
              "#bd3786"
             ],
             [
              0.5555555555555556,
              "#d8576b"
             ],
             [
              0.6666666666666666,
              "#ed7953"
             ],
             [
              0.7777777777777778,
              "#fb9f3a"
             ],
             [
              0.8888888888888888,
              "#fdca26"
             ],
             [
              1,
              "#f0f921"
             ]
            ],
            "type": "heatmap"
           }
          ],
          "heatmapgl": [
           {
            "colorbar": {
             "outlinewidth": 0,
             "ticks": ""
            },
            "colorscale": [
             [
              0,
              "#0d0887"
             ],
             [
              0.1111111111111111,
              "#46039f"
             ],
             [
              0.2222222222222222,
              "#7201a8"
             ],
             [
              0.3333333333333333,
              "#9c179e"
             ],
             [
              0.4444444444444444,
              "#bd3786"
             ],
             [
              0.5555555555555556,
              "#d8576b"
             ],
             [
              0.6666666666666666,
              "#ed7953"
             ],
             [
              0.7777777777777778,
              "#fb9f3a"
             ],
             [
              0.8888888888888888,
              "#fdca26"
             ],
             [
              1,
              "#f0f921"
             ]
            ],
            "type": "heatmapgl"
           }
          ],
          "histogram": [
           {
            "marker": {
             "pattern": {
              "fillmode": "overlay",
              "size": 10,
              "solidity": 0.2
             }
            },
            "type": "histogram"
           }
          ],
          "histogram2d": [
           {
            "colorbar": {
             "outlinewidth": 0,
             "ticks": ""
            },
            "colorscale": [
             [
              0,
              "#0d0887"
             ],
             [
              0.1111111111111111,
              "#46039f"
             ],
             [
              0.2222222222222222,
              "#7201a8"
             ],
             [
              0.3333333333333333,
              "#9c179e"
             ],
             [
              0.4444444444444444,
              "#bd3786"
             ],
             [
              0.5555555555555556,
              "#d8576b"
             ],
             [
              0.6666666666666666,
              "#ed7953"
             ],
             [
              0.7777777777777778,
              "#fb9f3a"
             ],
             [
              0.8888888888888888,
              "#fdca26"
             ],
             [
              1,
              "#f0f921"
             ]
            ],
            "type": "histogram2d"
           }
          ],
          "histogram2dcontour": [
           {
            "colorbar": {
             "outlinewidth": 0,
             "ticks": ""
            },
            "colorscale": [
             [
              0,
              "#0d0887"
             ],
             [
              0.1111111111111111,
              "#46039f"
             ],
             [
              0.2222222222222222,
              "#7201a8"
             ],
             [
              0.3333333333333333,
              "#9c179e"
             ],
             [
              0.4444444444444444,
              "#bd3786"
             ],
             [
              0.5555555555555556,
              "#d8576b"
             ],
             [
              0.6666666666666666,
              "#ed7953"
             ],
             [
              0.7777777777777778,
              "#fb9f3a"
             ],
             [
              0.8888888888888888,
              "#fdca26"
             ],
             [
              1,
              "#f0f921"
             ]
            ],
            "type": "histogram2dcontour"
           }
          ],
          "mesh3d": [
           {
            "colorbar": {
             "outlinewidth": 0,
             "ticks": ""
            },
            "type": "mesh3d"
           }
          ],
          "parcoords": [
           {
            "line": {
             "colorbar": {
              "outlinewidth": 0,
              "ticks": ""
             }
            },
            "type": "parcoords"
           }
          ],
          "pie": [
           {
            "automargin": true,
            "type": "pie"
           }
          ],
          "scatter": [
           {
            "marker": {
             "colorbar": {
              "outlinewidth": 0,
              "ticks": ""
             }
            },
            "type": "scatter"
           }
          ],
          "scatter3d": [
           {
            "line": {
             "colorbar": {
              "outlinewidth": 0,
              "ticks": ""
             }
            },
            "marker": {
             "colorbar": {
              "outlinewidth": 0,
              "ticks": ""
             }
            },
            "type": "scatter3d"
           }
          ],
          "scattercarpet": [
           {
            "marker": {
             "colorbar": {
              "outlinewidth": 0,
              "ticks": ""
             }
            },
            "type": "scattercarpet"
           }
          ],
          "scattergeo": [
           {
            "marker": {
             "colorbar": {
              "outlinewidth": 0,
              "ticks": ""
             }
            },
            "type": "scattergeo"
           }
          ],
          "scattergl": [
           {
            "marker": {
             "colorbar": {
              "outlinewidth": 0,
              "ticks": ""
             }
            },
            "type": "scattergl"
           }
          ],
          "scattermapbox": [
           {
            "marker": {
             "colorbar": {
              "outlinewidth": 0,
              "ticks": ""
             }
            },
            "type": "scattermapbox"
           }
          ],
          "scatterpolar": [
           {
            "marker": {
             "colorbar": {
              "outlinewidth": 0,
              "ticks": ""
             }
            },
            "type": "scatterpolar"
           }
          ],
          "scatterpolargl": [
           {
            "marker": {
             "colorbar": {
              "outlinewidth": 0,
              "ticks": ""
             }
            },
            "type": "scatterpolargl"
           }
          ],
          "scatterternary": [
           {
            "marker": {
             "colorbar": {
              "outlinewidth": 0,
              "ticks": ""
             }
            },
            "type": "scatterternary"
           }
          ],
          "surface": [
           {
            "colorbar": {
             "outlinewidth": 0,
             "ticks": ""
            },
            "colorscale": [
             [
              0,
              "#0d0887"
             ],
             [
              0.1111111111111111,
              "#46039f"
             ],
             [
              0.2222222222222222,
              "#7201a8"
             ],
             [
              0.3333333333333333,
              "#9c179e"
             ],
             [
              0.4444444444444444,
              "#bd3786"
             ],
             [
              0.5555555555555556,
              "#d8576b"
             ],
             [
              0.6666666666666666,
              "#ed7953"
             ],
             [
              0.7777777777777778,
              "#fb9f3a"
             ],
             [
              0.8888888888888888,
              "#fdca26"
             ],
             [
              1,
              "#f0f921"
             ]
            ],
            "type": "surface"
           }
          ],
          "table": [
           {
            "cells": {
             "fill": {
              "color": "#EBF0F8"
             },
             "line": {
              "color": "white"
             }
            },
            "header": {
             "fill": {
              "color": "#C8D4E3"
             },
             "line": {
              "color": "white"
             }
            },
            "type": "table"
           }
          ]
         },
         "layout": {
          "annotationdefaults": {
           "arrowcolor": "#2a3f5f",
           "arrowhead": 0,
           "arrowwidth": 1
          },
          "autotypenumbers": "strict",
          "coloraxis": {
           "colorbar": {
            "outlinewidth": 0,
            "ticks": ""
           }
          },
          "colorscale": {
           "diverging": [
            [
             0,
             "#8e0152"
            ],
            [
             0.1,
             "#c51b7d"
            ],
            [
             0.2,
             "#de77ae"
            ],
            [
             0.3,
             "#f1b6da"
            ],
            [
             0.4,
             "#fde0ef"
            ],
            [
             0.5,
             "#f7f7f7"
            ],
            [
             0.6,
             "#e6f5d0"
            ],
            [
             0.7,
             "#b8e186"
            ],
            [
             0.8,
             "#7fbc41"
            ],
            [
             0.9,
             "#4d9221"
            ],
            [
             1,
             "#276419"
            ]
           ],
           "sequential": [
            [
             0,
             "#0d0887"
            ],
            [
             0.1111111111111111,
             "#46039f"
            ],
            [
             0.2222222222222222,
             "#7201a8"
            ],
            [
             0.3333333333333333,
             "#9c179e"
            ],
            [
             0.4444444444444444,
             "#bd3786"
            ],
            [
             0.5555555555555556,
             "#d8576b"
            ],
            [
             0.6666666666666666,
             "#ed7953"
            ],
            [
             0.7777777777777778,
             "#fb9f3a"
            ],
            [
             0.8888888888888888,
             "#fdca26"
            ],
            [
             1,
             "#f0f921"
            ]
           ],
           "sequentialminus": [
            [
             0,
             "#0d0887"
            ],
            [
             0.1111111111111111,
             "#46039f"
            ],
            [
             0.2222222222222222,
             "#7201a8"
            ],
            [
             0.3333333333333333,
             "#9c179e"
            ],
            [
             0.4444444444444444,
             "#bd3786"
            ],
            [
             0.5555555555555556,
             "#d8576b"
            ],
            [
             0.6666666666666666,
             "#ed7953"
            ],
            [
             0.7777777777777778,
             "#fb9f3a"
            ],
            [
             0.8888888888888888,
             "#fdca26"
            ],
            [
             1,
             "#f0f921"
            ]
           ]
          },
          "colorway": [
           "#636efa",
           "#EF553B",
           "#00cc96",
           "#ab63fa",
           "#FFA15A",
           "#19d3f3",
           "#FF6692",
           "#B6E880",
           "#FF97FF",
           "#FECB52"
          ],
          "font": {
           "color": "#2a3f5f"
          },
          "geo": {
           "bgcolor": "white",
           "lakecolor": "white",
           "landcolor": "#E5ECF6",
           "showlakes": true,
           "showland": true,
           "subunitcolor": "white"
          },
          "hoverlabel": {
           "align": "left"
          },
          "hovermode": "closest",
          "mapbox": {
           "style": "light"
          },
          "paper_bgcolor": "white",
          "plot_bgcolor": "#E5ECF6",
          "polar": {
           "angularaxis": {
            "gridcolor": "white",
            "linecolor": "white",
            "ticks": ""
           },
           "bgcolor": "#E5ECF6",
           "radialaxis": {
            "gridcolor": "white",
            "linecolor": "white",
            "ticks": ""
           }
          },
          "scene": {
           "xaxis": {
            "backgroundcolor": "#E5ECF6",
            "gridcolor": "white",
            "gridwidth": 2,
            "linecolor": "white",
            "showbackground": true,
            "ticks": "",
            "zerolinecolor": "white"
           },
           "yaxis": {
            "backgroundcolor": "#E5ECF6",
            "gridcolor": "white",
            "gridwidth": 2,
            "linecolor": "white",
            "showbackground": true,
            "ticks": "",
            "zerolinecolor": "white"
           },
           "zaxis": {
            "backgroundcolor": "#E5ECF6",
            "gridcolor": "white",
            "gridwidth": 2,
            "linecolor": "white",
            "showbackground": true,
            "ticks": "",
            "zerolinecolor": "white"
           }
          },
          "shapedefaults": {
           "line": {
            "color": "#2a3f5f"
           }
          },
          "ternary": {
           "aaxis": {
            "gridcolor": "white",
            "linecolor": "white",
            "ticks": ""
           },
           "baxis": {
            "gridcolor": "white",
            "linecolor": "white",
            "ticks": ""
           },
           "bgcolor": "#E5ECF6",
           "caxis": {
            "gridcolor": "white",
            "linecolor": "white",
            "ticks": ""
           }
          },
          "title": {
           "x": 0.05
          },
          "xaxis": {
           "automargin": true,
           "gridcolor": "white",
           "linecolor": "white",
           "ticks": "",
           "title": {
            "standoff": 15
           },
           "zerolinecolor": "white",
           "zerolinewidth": 2
          },
          "yaxis": {
           "automargin": true,
           "gridcolor": "white",
           "linecolor": "white",
           "ticks": "",
           "title": {
            "standoff": 15
           },
           "zerolinecolor": "white",
           "zerolinewidth": 2
          }
         }
        },
        "title": {
         "text": "Start Battery % Distribution"
        },
        "xaxis": {
         "anchor": "y",
         "domain": [
          0,
          1
         ],
         "title": {
          "text": "Beginning of day Battery %"
         }
        },
        "xaxis2": {
         "anchor": "y2",
         "domain": [
          0,
          1
         ],
         "matches": "x",
         "showgrid": true,
         "showticklabels": false
        },
        "yaxis": {
         "anchor": "x",
         "domain": [
          0,
          0.8316
         ],
         "title": {
          "text": "count"
         }
        },
        "yaxis2": {
         "anchor": "x2",
         "domain": [
          0.8416,
          1
         ],
         "matches": "y2",
         "showgrid": false,
         "showline": false,
         "showticklabels": false,
         "ticks": ""
        }
       }
      }
     },
     "metadata": {},
     "output_type": "display_data"
    }
   ],
   "source": [
    "px.histogram(df, x='battery', title='Start Battery % Distribution', marginal='violin', **histogram_options)"
   ]
  },
  {
   "cell_type": "code",
   "execution_count": 410,
   "metadata": {},
   "outputs": [
    {
     "data": {
      "application/vnd.plotly.v1+json": {
       "config": {
        "plotlyServerURL": "https://plot.ly"
       },
       "data": [
        {
         "alignmentgroup": "True",
         "bingroup": "x",
         "hovertemplate": "Relative Change in Starting Battery %=%{x}<br>count=%{y}<extra></extra>",
         "legendgroup": "",
         "marker": {
          "color": "rgb(75, 41, 145)",
          "pattern": {
           "shape": ""
          }
         },
         "name": "",
         "offsetgroup": "",
         "orientation": "v",
         "showlegend": false,
         "type": "histogram",
         "x": [
          0,
          -0.8000000000000114,
          3.3000000000000114,
          -2,
          0.5999999999999943,
          0.7000000000000028,
          -0.6000000000000085,
          -1.3999999999999915,
          2,
          -1.1000000000000085,
          -1,
          0.20000000000000284,
          0,
          -2.5999999999999943,
          3.0999999999999943,
          0.7999999999999972,
          -1,
          3.1000000000000085,
          -4.299999999999997,
          2.5,
          -1,
          -0.10000000000000853,
          -4.299999999999997,
          4.299999999999997,
          -3.200000000000003,
          2.6000000000000085,
          -1.2000000000000028,
          -0.20000000000000284,
          -0.7000000000000028,
          1.1000000000000085,
          0.5,
          2,
          -3.700000000000003,
          0.7000000000000028,
          0.5999999999999943,
          1,
          -0.09999999999999432,
          1.0999999999999943,
          -2.299999999999997,
          2.200000000000003,
          -1.1000000000000085,
          1.2000000000000028,
          -0.7000000000000028,
          0,
          1.1000000000000085,
          0.29999999999999716,
          -3.299999999999997,
          0.5999999999999943,
          1.1000000000000085,
          -4.6000000000000085,
          4,
          -0.8999999999999915,
          -1.7000000000000028,
          5.099999999999994,
          -2.3999999999999915,
          0,
          -0.20000000000000284,
          1,
          -3,
          3,
          -1.5,
          2.5,
          -3.4000000000000057,
          0,
          1.1000000000000085,
          -1.2000000000000028,
          0.5,
          1.8999999999999915,
          -1.6999999999999886,
          -0.7000000000000028,
          0.09999999999999432,
          2.700000000000003,
          -0.4000000000000057,
          1.9000000000000057,
          -2.4000000000000057,
          1.4000000000000057,
          -0.09999999999999432,
          -1.5,
          -1.2000000000000028,
          -2.700000000000003,
          3.5999999999999943,
          1.4000000000000057,
          0.5999999999999943,
          -2.799999999999997,
          0.7999999999999972,
          1.1000000000000085,
          -4.400000000000006,
          3.700000000000003,
          -2.9000000000000057,
          3.200000000000003,
          -3,
          -0.20000000000000284,
          1,
          0.30000000000001137,
          1.3999999999999915,
          -0.20000000000000284,
          -1.3999999999999915,
          -1.2000000000000028,
          4.200000000000003,
          -3.5,
          1.0999999999999943,
          1.4000000000000057,
          -3.9000000000000057,
          3.1000000000000085,
          0.5999999999999943,
          -0.20000000000000284,
          -0.8999999999999915,
          -2.1000000000000085,
          4.5,
          -3.700000000000003,
          1.9000000000000057,
          -1,
          2.700000000000003,
          -3.4000000000000057,
          0.29999999999999716,
          0.10000000000000853,
          0.8999999999999915,
          -1.2999999999999972,
          -1.2999999999999972,
          2.799999999999997,
          -0.7999999999999972,
          0.7999999999999972,
          -3.5999999999999943,
          0.7000000000000028,
          2.5,
          0,
          1.1999999999999886,
          -4.5,
          2,
          1.3000000000000114,
          -0.5,
          0.8999999999999915,
          -1.8999999999999915,
          0.5999999999999943,
          1,
          0,
          -0.4000000000000057,
          -2.799999999999997,
          2.5,
          0.5,
          -0.29999999999999716,
          0.5,
          -1.2999999999999972,
          -1,
          3.8999999999999915,
          -3.5999999999999943,
          2.799999999999997,
          -2.299999999999997,
          2.299999999999997,
          -1.7999999999999972,
          2,
          -3.0999999999999943,
          -0.4000000000000057,
          0.5999999999999943,
          2.700000000000003,
          -2.3999999999999915,
          0.19999999999998863,
          0.8000000000000114,
          -2.5,
          2,
          -0.10000000000000853,
          0.10000000000000853,
          -0.4000000000000057,
          -1.7000000000000028,
          -0.20000000000000284,
          2.1000000000000085,
          -1.1000000000000085,
          1,
          -1.1999999999999886,
          -0.20000000000000284,
          0.29999999999999716,
          0.5999999999999943,
          0.4000000000000057,
          0.09999999999999432,
          0.6000000000000085,
          -0.20000000000000284,
          -1.0999999999999943,
          -1.5,
          3.8999999999999915,
          -1.2000000000000028,
          -2.5999999999999943,
          3.0999999999999943,
          -0.8999999999999915,
          -1.2000000000000028,
          3.0999999999999943,
          -1.0999999999999943,
          -1.0999999999999943,
          0.19999999999998863,
          -2.799999999999997,
          0.5,
          0.5,
          1.6000000000000085,
          3.5999999999999943,
          -4.5,
          1,
          -0.29999999999999716,
          -1.7999999999999972,
          -0.6000000000000085,
          1,
          1.2000000000000028,
          -2.5,
          2.5999999999999943,
          0.6000000000000085,
          0.20000000000000284,
          -4.1000000000000085,
          3.6000000000000085,
          -0.4000000000000057,
          0,
          0.9000000000000057,
          0.19999999999998863,
          -2.1999999999999886,
          -0.7000000000000028,
          0.29999999999999716,
          1.5999999999999943,
          -1,
          0.5,
          1,
          -1.1999999999999886,
          -0.8000000000000114,
          0.4000000000000057,
          0.7000000000000028,
          -1.1000000000000085,
          -0.3999999999999915,
          1.0999999999999943,
          -1.7999999999999972,
          1.5999999999999943,
          -2.5999999999999943,
          4.5,
          -5.5,
          2.5,
          1.0999999999999943,
          -0.09999999999999432,
          0.20000000000000284,
          0.09999999999999432,
          -2.200000000000003,
          1.8000000000000114,
          0,
          1.0999999999999943,
          -0.7000000000000028,
          0.5,
          0.9000000000000057,
          -1.2000000000000028,
          -0.4000000000000057,
          -2.0999999999999943,
          -1.7000000000000028,
          4.700000000000003,
          -3.9000000000000057,
          0.8000000000000114,
          2.5,
          -0.8000000000000114,
          1.7000000000000028,
          -2.5,
          -0.5,
          -1.5,
          3.5,
          -2.5,
          1.4000000000000057,
          1.0999999999999943,
          -0.7999999999999972,
          -0.5999999999999943,
          -0.30000000000001137,
          0.6000000000000085,
          -2.4000000000000057,
          1.5,
          1.1000000000000085,
          0.09999999999999432,
          -1.5,
          1.7999999999999972,
          1.1000000000000085,
          -1.1000000000000085,
          -3.5999999999999943,
          -0.29999999999999716,
          3.3999999999999915,
          -0.29999999999999716,
          0.4000000000000057,
          0.09999999999999432,
          -1.5,
          0.7999999999999972,
          0.7999999999999972,
          -1.3999999999999915,
          -0.20000000000000284,
          0.4000000000000057,
          1.6999999999999886,
          -3.1999999999999886,
          1.1999999999999886,
          0.30000000000001137,
          0.8999999999999915,
          -1.8999999999999915,
          -0.30000000000001137,
          1.1000000000000085,
          0,
          0,
          0.7999999999999972,
          1.2000000000000028,
          -2.9000000000000057,
          1.2000000000000028,
          -0.7000000000000028,
          -2.8999999999999915,
          2.8999999999999915,
          3,
          -2.799999999999997,
          -1.2999999999999972,
          3.5,
          0.09999999999999432,
          -1.3999999999999915,
          -1.6000000000000085,
          2.5,
          -3.299999999999997,
          2.200000000000003,
          1.7000000000000028,
          -0.9000000000000057,
          -0.5999999999999943,
          -1.1000000000000085,
          0.10000000000000853,
          0.3999999999999915,
          -0.7999999999999972,
          0,
          1.7999999999999972,
          1.5,
          -1.3999999999999915,
          -0.5,
          0.19999999999998863,
          2,
          -2.6999999999999886,
          0.5,
          -2.700000000000003,
          1,
          4,
          -2,
          -3.700000000000003,
          0.5999999999999943,
          2.5,
          -0.5,
          -2.1999999999999886,
          1.7999999999999972,
          1.3999999999999915,
          0.10000000000000853,
          -1.1000000000000085,
          -3.299999999999997,
          2,
          -3.3999999999999915,
          5.8999999999999915,
          -1.2999999999999972,
          -1.2000000000000028,
          2.200000000000003,
          -1.9000000000000057,
          0.6000000000000085,
          0.7999999999999972,
          -2.200000000000003,
          3.700000000000003,
          -3.5999999999999943,
          2,
          -3.3000000000000114,
          1.5,
          -0.19999999999998863,
          0.09999999999999432,
          0.7999999999999972,
          2,
          -1.2999999999999972,
          0.7000000000000028,
          -1.4000000000000057,
          -3.0999999999999943,
          0.29999999999999716,
          1.2999999999999972,
          1.1000000000000085
         ],
         "xaxis": "x",
         "yaxis": "y"
        },
        {
         "alignmentgroup": "True",
         "hovertemplate": "Relative Change in Starting Battery %=%{x}<extra></extra>",
         "legendgroup": "",
         "marker": {
          "color": "rgb(75, 41, 145)"
         },
         "name": "",
         "offsetgroup": "",
         "scalegroup": "x",
         "showlegend": false,
         "type": "violin",
         "x": [
          0,
          -0.8000000000000114,
          3.3000000000000114,
          -2,
          0.5999999999999943,
          0.7000000000000028,
          -0.6000000000000085,
          -1.3999999999999915,
          2,
          -1.1000000000000085,
          -1,
          0.20000000000000284,
          0,
          -2.5999999999999943,
          3.0999999999999943,
          0.7999999999999972,
          -1,
          3.1000000000000085,
          -4.299999999999997,
          2.5,
          -1,
          -0.10000000000000853,
          -4.299999999999997,
          4.299999999999997,
          -3.200000000000003,
          2.6000000000000085,
          -1.2000000000000028,
          -0.20000000000000284,
          -0.7000000000000028,
          1.1000000000000085,
          0.5,
          2,
          -3.700000000000003,
          0.7000000000000028,
          0.5999999999999943,
          1,
          -0.09999999999999432,
          1.0999999999999943,
          -2.299999999999997,
          2.200000000000003,
          -1.1000000000000085,
          1.2000000000000028,
          -0.7000000000000028,
          0,
          1.1000000000000085,
          0.29999999999999716,
          -3.299999999999997,
          0.5999999999999943,
          1.1000000000000085,
          -4.6000000000000085,
          4,
          -0.8999999999999915,
          -1.7000000000000028,
          5.099999999999994,
          -2.3999999999999915,
          0,
          -0.20000000000000284,
          1,
          -3,
          3,
          -1.5,
          2.5,
          -3.4000000000000057,
          0,
          1.1000000000000085,
          -1.2000000000000028,
          0.5,
          1.8999999999999915,
          -1.6999999999999886,
          -0.7000000000000028,
          0.09999999999999432,
          2.700000000000003,
          -0.4000000000000057,
          1.9000000000000057,
          -2.4000000000000057,
          1.4000000000000057,
          -0.09999999999999432,
          -1.5,
          -1.2000000000000028,
          -2.700000000000003,
          3.5999999999999943,
          1.4000000000000057,
          0.5999999999999943,
          -2.799999999999997,
          0.7999999999999972,
          1.1000000000000085,
          -4.400000000000006,
          3.700000000000003,
          -2.9000000000000057,
          3.200000000000003,
          -3,
          -0.20000000000000284,
          1,
          0.30000000000001137,
          1.3999999999999915,
          -0.20000000000000284,
          -1.3999999999999915,
          -1.2000000000000028,
          4.200000000000003,
          -3.5,
          1.0999999999999943,
          1.4000000000000057,
          -3.9000000000000057,
          3.1000000000000085,
          0.5999999999999943,
          -0.20000000000000284,
          -0.8999999999999915,
          -2.1000000000000085,
          4.5,
          -3.700000000000003,
          1.9000000000000057,
          -1,
          2.700000000000003,
          -3.4000000000000057,
          0.29999999999999716,
          0.10000000000000853,
          0.8999999999999915,
          -1.2999999999999972,
          -1.2999999999999972,
          2.799999999999997,
          -0.7999999999999972,
          0.7999999999999972,
          -3.5999999999999943,
          0.7000000000000028,
          2.5,
          0,
          1.1999999999999886,
          -4.5,
          2,
          1.3000000000000114,
          -0.5,
          0.8999999999999915,
          -1.8999999999999915,
          0.5999999999999943,
          1,
          0,
          -0.4000000000000057,
          -2.799999999999997,
          2.5,
          0.5,
          -0.29999999999999716,
          0.5,
          -1.2999999999999972,
          -1,
          3.8999999999999915,
          -3.5999999999999943,
          2.799999999999997,
          -2.299999999999997,
          2.299999999999997,
          -1.7999999999999972,
          2,
          -3.0999999999999943,
          -0.4000000000000057,
          0.5999999999999943,
          2.700000000000003,
          -2.3999999999999915,
          0.19999999999998863,
          0.8000000000000114,
          -2.5,
          2,
          -0.10000000000000853,
          0.10000000000000853,
          -0.4000000000000057,
          -1.7000000000000028,
          -0.20000000000000284,
          2.1000000000000085,
          -1.1000000000000085,
          1,
          -1.1999999999999886,
          -0.20000000000000284,
          0.29999999999999716,
          0.5999999999999943,
          0.4000000000000057,
          0.09999999999999432,
          0.6000000000000085,
          -0.20000000000000284,
          -1.0999999999999943,
          -1.5,
          3.8999999999999915,
          -1.2000000000000028,
          -2.5999999999999943,
          3.0999999999999943,
          -0.8999999999999915,
          -1.2000000000000028,
          3.0999999999999943,
          -1.0999999999999943,
          -1.0999999999999943,
          0.19999999999998863,
          -2.799999999999997,
          0.5,
          0.5,
          1.6000000000000085,
          3.5999999999999943,
          -4.5,
          1,
          -0.29999999999999716,
          -1.7999999999999972,
          -0.6000000000000085,
          1,
          1.2000000000000028,
          -2.5,
          2.5999999999999943,
          0.6000000000000085,
          0.20000000000000284,
          -4.1000000000000085,
          3.6000000000000085,
          -0.4000000000000057,
          0,
          0.9000000000000057,
          0.19999999999998863,
          -2.1999999999999886,
          -0.7000000000000028,
          0.29999999999999716,
          1.5999999999999943,
          -1,
          0.5,
          1,
          -1.1999999999999886,
          -0.8000000000000114,
          0.4000000000000057,
          0.7000000000000028,
          -1.1000000000000085,
          -0.3999999999999915,
          1.0999999999999943,
          -1.7999999999999972,
          1.5999999999999943,
          -2.5999999999999943,
          4.5,
          -5.5,
          2.5,
          1.0999999999999943,
          -0.09999999999999432,
          0.20000000000000284,
          0.09999999999999432,
          -2.200000000000003,
          1.8000000000000114,
          0,
          1.0999999999999943,
          -0.7000000000000028,
          0.5,
          0.9000000000000057,
          -1.2000000000000028,
          -0.4000000000000057,
          -2.0999999999999943,
          -1.7000000000000028,
          4.700000000000003,
          -3.9000000000000057,
          0.8000000000000114,
          2.5,
          -0.8000000000000114,
          1.7000000000000028,
          -2.5,
          -0.5,
          -1.5,
          3.5,
          -2.5,
          1.4000000000000057,
          1.0999999999999943,
          -0.7999999999999972,
          -0.5999999999999943,
          -0.30000000000001137,
          0.6000000000000085,
          -2.4000000000000057,
          1.5,
          1.1000000000000085,
          0.09999999999999432,
          -1.5,
          1.7999999999999972,
          1.1000000000000085,
          -1.1000000000000085,
          -3.5999999999999943,
          -0.29999999999999716,
          3.3999999999999915,
          -0.29999999999999716,
          0.4000000000000057,
          0.09999999999999432,
          -1.5,
          0.7999999999999972,
          0.7999999999999972,
          -1.3999999999999915,
          -0.20000000000000284,
          0.4000000000000057,
          1.6999999999999886,
          -3.1999999999999886,
          1.1999999999999886,
          0.30000000000001137,
          0.8999999999999915,
          -1.8999999999999915,
          -0.30000000000001137,
          1.1000000000000085,
          0,
          0,
          0.7999999999999972,
          1.2000000000000028,
          -2.9000000000000057,
          1.2000000000000028,
          -0.7000000000000028,
          -2.8999999999999915,
          2.8999999999999915,
          3,
          -2.799999999999997,
          -1.2999999999999972,
          3.5,
          0.09999999999999432,
          -1.3999999999999915,
          -1.6000000000000085,
          2.5,
          -3.299999999999997,
          2.200000000000003,
          1.7000000000000028,
          -0.9000000000000057,
          -0.5999999999999943,
          -1.1000000000000085,
          0.10000000000000853,
          0.3999999999999915,
          -0.7999999999999972,
          0,
          1.7999999999999972,
          1.5,
          -1.3999999999999915,
          -0.5,
          0.19999999999998863,
          2,
          -2.6999999999999886,
          0.5,
          -2.700000000000003,
          1,
          4,
          -2,
          -3.700000000000003,
          0.5999999999999943,
          2.5,
          -0.5,
          -2.1999999999999886,
          1.7999999999999972,
          1.3999999999999915,
          0.10000000000000853,
          -1.1000000000000085,
          -3.299999999999997,
          2,
          -3.3999999999999915,
          5.8999999999999915,
          -1.2999999999999972,
          -1.2000000000000028,
          2.200000000000003,
          -1.9000000000000057,
          0.6000000000000085,
          0.7999999999999972,
          -2.200000000000003,
          3.700000000000003,
          -3.5999999999999943,
          2,
          -3.3000000000000114,
          1.5,
          -0.19999999999998863,
          0.09999999999999432,
          0.7999999999999972,
          2,
          -1.2999999999999972,
          0.7000000000000028,
          -1.4000000000000057,
          -3.0999999999999943,
          0.29999999999999716,
          1.2999999999999972,
          1.1000000000000085
         ],
         "xaxis": "x2",
         "yaxis": "y2"
        }
       ],
       "layout": {
        "barmode": "relative",
        "height": 500,
        "legend": {
         "tracegroupgap": 0
        },
        "template": {
         "data": {
          "bar": [
           {
            "error_x": {
             "color": "#2a3f5f"
            },
            "error_y": {
             "color": "#2a3f5f"
            },
            "marker": {
             "line": {
              "color": "#E5ECF6",
              "width": 0.5
             },
             "pattern": {
              "fillmode": "overlay",
              "size": 10,
              "solidity": 0.2
             }
            },
            "type": "bar"
           }
          ],
          "barpolar": [
           {
            "marker": {
             "line": {
              "color": "#E5ECF6",
              "width": 0.5
             },
             "pattern": {
              "fillmode": "overlay",
              "size": 10,
              "solidity": 0.2
             }
            },
            "type": "barpolar"
           }
          ],
          "carpet": [
           {
            "aaxis": {
             "endlinecolor": "#2a3f5f",
             "gridcolor": "white",
             "linecolor": "white",
             "minorgridcolor": "white",
             "startlinecolor": "#2a3f5f"
            },
            "baxis": {
             "endlinecolor": "#2a3f5f",
             "gridcolor": "white",
             "linecolor": "white",
             "minorgridcolor": "white",
             "startlinecolor": "#2a3f5f"
            },
            "type": "carpet"
           }
          ],
          "choropleth": [
           {
            "colorbar": {
             "outlinewidth": 0,
             "ticks": ""
            },
            "type": "choropleth"
           }
          ],
          "contour": [
           {
            "colorbar": {
             "outlinewidth": 0,
             "ticks": ""
            },
            "colorscale": [
             [
              0,
              "#0d0887"
             ],
             [
              0.1111111111111111,
              "#46039f"
             ],
             [
              0.2222222222222222,
              "#7201a8"
             ],
             [
              0.3333333333333333,
              "#9c179e"
             ],
             [
              0.4444444444444444,
              "#bd3786"
             ],
             [
              0.5555555555555556,
              "#d8576b"
             ],
             [
              0.6666666666666666,
              "#ed7953"
             ],
             [
              0.7777777777777778,
              "#fb9f3a"
             ],
             [
              0.8888888888888888,
              "#fdca26"
             ],
             [
              1,
              "#f0f921"
             ]
            ],
            "type": "contour"
           }
          ],
          "contourcarpet": [
           {
            "colorbar": {
             "outlinewidth": 0,
             "ticks": ""
            },
            "type": "contourcarpet"
           }
          ],
          "heatmap": [
           {
            "colorbar": {
             "outlinewidth": 0,
             "ticks": ""
            },
            "colorscale": [
             [
              0,
              "#0d0887"
             ],
             [
              0.1111111111111111,
              "#46039f"
             ],
             [
              0.2222222222222222,
              "#7201a8"
             ],
             [
              0.3333333333333333,
              "#9c179e"
             ],
             [
              0.4444444444444444,
              "#bd3786"
             ],
             [
              0.5555555555555556,
              "#d8576b"
             ],
             [
              0.6666666666666666,
              "#ed7953"
             ],
             [
              0.7777777777777778,
              "#fb9f3a"
             ],
             [
              0.8888888888888888,
              "#fdca26"
             ],
             [
              1,
              "#f0f921"
             ]
            ],
            "type": "heatmap"
           }
          ],
          "heatmapgl": [
           {
            "colorbar": {
             "outlinewidth": 0,
             "ticks": ""
            },
            "colorscale": [
             [
              0,
              "#0d0887"
             ],
             [
              0.1111111111111111,
              "#46039f"
             ],
             [
              0.2222222222222222,
              "#7201a8"
             ],
             [
              0.3333333333333333,
              "#9c179e"
             ],
             [
              0.4444444444444444,
              "#bd3786"
             ],
             [
              0.5555555555555556,
              "#d8576b"
             ],
             [
              0.6666666666666666,
              "#ed7953"
             ],
             [
              0.7777777777777778,
              "#fb9f3a"
             ],
             [
              0.8888888888888888,
              "#fdca26"
             ],
             [
              1,
              "#f0f921"
             ]
            ],
            "type": "heatmapgl"
           }
          ],
          "histogram": [
           {
            "marker": {
             "pattern": {
              "fillmode": "overlay",
              "size": 10,
              "solidity": 0.2
             }
            },
            "type": "histogram"
           }
          ],
          "histogram2d": [
           {
            "colorbar": {
             "outlinewidth": 0,
             "ticks": ""
            },
            "colorscale": [
             [
              0,
              "#0d0887"
             ],
             [
              0.1111111111111111,
              "#46039f"
             ],
             [
              0.2222222222222222,
              "#7201a8"
             ],
             [
              0.3333333333333333,
              "#9c179e"
             ],
             [
              0.4444444444444444,
              "#bd3786"
             ],
             [
              0.5555555555555556,
              "#d8576b"
             ],
             [
              0.6666666666666666,
              "#ed7953"
             ],
             [
              0.7777777777777778,
              "#fb9f3a"
             ],
             [
              0.8888888888888888,
              "#fdca26"
             ],
             [
              1,
              "#f0f921"
             ]
            ],
            "type": "histogram2d"
           }
          ],
          "histogram2dcontour": [
           {
            "colorbar": {
             "outlinewidth": 0,
             "ticks": ""
            },
            "colorscale": [
             [
              0,
              "#0d0887"
             ],
             [
              0.1111111111111111,
              "#46039f"
             ],
             [
              0.2222222222222222,
              "#7201a8"
             ],
             [
              0.3333333333333333,
              "#9c179e"
             ],
             [
              0.4444444444444444,
              "#bd3786"
             ],
             [
              0.5555555555555556,
              "#d8576b"
             ],
             [
              0.6666666666666666,
              "#ed7953"
             ],
             [
              0.7777777777777778,
              "#fb9f3a"
             ],
             [
              0.8888888888888888,
              "#fdca26"
             ],
             [
              1,
              "#f0f921"
             ]
            ],
            "type": "histogram2dcontour"
           }
          ],
          "mesh3d": [
           {
            "colorbar": {
             "outlinewidth": 0,
             "ticks": ""
            },
            "type": "mesh3d"
           }
          ],
          "parcoords": [
           {
            "line": {
             "colorbar": {
              "outlinewidth": 0,
              "ticks": ""
             }
            },
            "type": "parcoords"
           }
          ],
          "pie": [
           {
            "automargin": true,
            "type": "pie"
           }
          ],
          "scatter": [
           {
            "marker": {
             "colorbar": {
              "outlinewidth": 0,
              "ticks": ""
             }
            },
            "type": "scatter"
           }
          ],
          "scatter3d": [
           {
            "line": {
             "colorbar": {
              "outlinewidth": 0,
              "ticks": ""
             }
            },
            "marker": {
             "colorbar": {
              "outlinewidth": 0,
              "ticks": ""
             }
            },
            "type": "scatter3d"
           }
          ],
          "scattercarpet": [
           {
            "marker": {
             "colorbar": {
              "outlinewidth": 0,
              "ticks": ""
             }
            },
            "type": "scattercarpet"
           }
          ],
          "scattergeo": [
           {
            "marker": {
             "colorbar": {
              "outlinewidth": 0,
              "ticks": ""
             }
            },
            "type": "scattergeo"
           }
          ],
          "scattergl": [
           {
            "marker": {
             "colorbar": {
              "outlinewidth": 0,
              "ticks": ""
             }
            },
            "type": "scattergl"
           }
          ],
          "scattermapbox": [
           {
            "marker": {
             "colorbar": {
              "outlinewidth": 0,
              "ticks": ""
             }
            },
            "type": "scattermapbox"
           }
          ],
          "scatterpolar": [
           {
            "marker": {
             "colorbar": {
              "outlinewidth": 0,
              "ticks": ""
             }
            },
            "type": "scatterpolar"
           }
          ],
          "scatterpolargl": [
           {
            "marker": {
             "colorbar": {
              "outlinewidth": 0,
              "ticks": ""
             }
            },
            "type": "scatterpolargl"
           }
          ],
          "scatterternary": [
           {
            "marker": {
             "colorbar": {
              "outlinewidth": 0,
              "ticks": ""
             }
            },
            "type": "scatterternary"
           }
          ],
          "surface": [
           {
            "colorbar": {
             "outlinewidth": 0,
             "ticks": ""
            },
            "colorscale": [
             [
              0,
              "#0d0887"
             ],
             [
              0.1111111111111111,
              "#46039f"
             ],
             [
              0.2222222222222222,
              "#7201a8"
             ],
             [
              0.3333333333333333,
              "#9c179e"
             ],
             [
              0.4444444444444444,
              "#bd3786"
             ],
             [
              0.5555555555555556,
              "#d8576b"
             ],
             [
              0.6666666666666666,
              "#ed7953"
             ],
             [
              0.7777777777777778,
              "#fb9f3a"
             ],
             [
              0.8888888888888888,
              "#fdca26"
             ],
             [
              1,
              "#f0f921"
             ]
            ],
            "type": "surface"
           }
          ],
          "table": [
           {
            "cells": {
             "fill": {
              "color": "#EBF0F8"
             },
             "line": {
              "color": "white"
             }
            },
            "header": {
             "fill": {
              "color": "#C8D4E3"
             },
             "line": {
              "color": "white"
             }
            },
            "type": "table"
           }
          ]
         },
         "layout": {
          "annotationdefaults": {
           "arrowcolor": "#2a3f5f",
           "arrowhead": 0,
           "arrowwidth": 1
          },
          "autotypenumbers": "strict",
          "coloraxis": {
           "colorbar": {
            "outlinewidth": 0,
            "ticks": ""
           }
          },
          "colorscale": {
           "diverging": [
            [
             0,
             "#8e0152"
            ],
            [
             0.1,
             "#c51b7d"
            ],
            [
             0.2,
             "#de77ae"
            ],
            [
             0.3,
             "#f1b6da"
            ],
            [
             0.4,
             "#fde0ef"
            ],
            [
             0.5,
             "#f7f7f7"
            ],
            [
             0.6,
             "#e6f5d0"
            ],
            [
             0.7,
             "#b8e186"
            ],
            [
             0.8,
             "#7fbc41"
            ],
            [
             0.9,
             "#4d9221"
            ],
            [
             1,
             "#276419"
            ]
           ],
           "sequential": [
            [
             0,
             "#0d0887"
            ],
            [
             0.1111111111111111,
             "#46039f"
            ],
            [
             0.2222222222222222,
             "#7201a8"
            ],
            [
             0.3333333333333333,
             "#9c179e"
            ],
            [
             0.4444444444444444,
             "#bd3786"
            ],
            [
             0.5555555555555556,
             "#d8576b"
            ],
            [
             0.6666666666666666,
             "#ed7953"
            ],
            [
             0.7777777777777778,
             "#fb9f3a"
            ],
            [
             0.8888888888888888,
             "#fdca26"
            ],
            [
             1,
             "#f0f921"
            ]
           ],
           "sequentialminus": [
            [
             0,
             "#0d0887"
            ],
            [
             0.1111111111111111,
             "#46039f"
            ],
            [
             0.2222222222222222,
             "#7201a8"
            ],
            [
             0.3333333333333333,
             "#9c179e"
            ],
            [
             0.4444444444444444,
             "#bd3786"
            ],
            [
             0.5555555555555556,
             "#d8576b"
            ],
            [
             0.6666666666666666,
             "#ed7953"
            ],
            [
             0.7777777777777778,
             "#fb9f3a"
            ],
            [
             0.8888888888888888,
             "#fdca26"
            ],
            [
             1,
             "#f0f921"
            ]
           ]
          },
          "colorway": [
           "#636efa",
           "#EF553B",
           "#00cc96",
           "#ab63fa",
           "#FFA15A",
           "#19d3f3",
           "#FF6692",
           "#B6E880",
           "#FF97FF",
           "#FECB52"
          ],
          "font": {
           "color": "#2a3f5f"
          },
          "geo": {
           "bgcolor": "white",
           "lakecolor": "white",
           "landcolor": "#E5ECF6",
           "showlakes": true,
           "showland": true,
           "subunitcolor": "white"
          },
          "hoverlabel": {
           "align": "left"
          },
          "hovermode": "closest",
          "mapbox": {
           "style": "light"
          },
          "paper_bgcolor": "white",
          "plot_bgcolor": "#E5ECF6",
          "polar": {
           "angularaxis": {
            "gridcolor": "white",
            "linecolor": "white",
            "ticks": ""
           },
           "bgcolor": "#E5ECF6",
           "radialaxis": {
            "gridcolor": "white",
            "linecolor": "white",
            "ticks": ""
           }
          },
          "scene": {
           "xaxis": {
            "backgroundcolor": "#E5ECF6",
            "gridcolor": "white",
            "gridwidth": 2,
            "linecolor": "white",
            "showbackground": true,
            "ticks": "",
            "zerolinecolor": "white"
           },
           "yaxis": {
            "backgroundcolor": "#E5ECF6",
            "gridcolor": "white",
            "gridwidth": 2,
            "linecolor": "white",
            "showbackground": true,
            "ticks": "",
            "zerolinecolor": "white"
           },
           "zaxis": {
            "backgroundcolor": "#E5ECF6",
            "gridcolor": "white",
            "gridwidth": 2,
            "linecolor": "white",
            "showbackground": true,
            "ticks": "",
            "zerolinecolor": "white"
           }
          },
          "shapedefaults": {
           "line": {
            "color": "#2a3f5f"
           }
          },
          "ternary": {
           "aaxis": {
            "gridcolor": "white",
            "linecolor": "white",
            "ticks": ""
           },
           "baxis": {
            "gridcolor": "white",
            "linecolor": "white",
            "ticks": ""
           },
           "bgcolor": "#E5ECF6",
           "caxis": {
            "gridcolor": "white",
            "linecolor": "white",
            "ticks": ""
           }
          },
          "title": {
           "x": 0.05
          },
          "xaxis": {
           "automargin": true,
           "gridcolor": "white",
           "linecolor": "white",
           "ticks": "",
           "title": {
            "standoff": 15
           },
           "zerolinecolor": "white",
           "zerolinewidth": 2
          },
          "yaxis": {
           "automargin": true,
           "gridcolor": "white",
           "linecolor": "white",
           "ticks": "",
           "title": {
            "standoff": 15
           },
           "zerolinecolor": "white",
           "zerolinewidth": 2
          }
         }
        },
        "title": {
         "text": "Daily Battery Change"
        },
        "xaxis": {
         "anchor": "y",
         "domain": [
          0,
          1
         ],
         "title": {
          "text": "Relative Change in Starting Battery %"
         }
        },
        "xaxis2": {
         "anchor": "y2",
         "domain": [
          0,
          1
         ],
         "matches": "x",
         "showgrid": true,
         "showticklabels": false
        },
        "yaxis": {
         "anchor": "x",
         "domain": [
          0,
          0.8316
         ],
         "title": {
          "text": "count"
         }
        },
        "yaxis2": {
         "anchor": "x2",
         "domain": [
          0.8416,
          1
         ],
         "matches": "y2",
         "showgrid": false,
         "showline": false,
         "showticklabels": false,
         "ticks": ""
        }
       }
      }
     },
     "metadata": {},
     "output_type": "display_data"
    }
   ],
   "source": [
    "px.histogram(df, x='battery delta', title='Daily Battery Change', marginal='violin', **histogram_options)"
   ]
  },
  {
   "cell_type": "code",
   "execution_count": 411,
   "metadata": {
    "collapsed": false,
    "pycharm": {
     "name": "#%%\n"
    }
   },
   "outputs": [
    {
     "data": {
      "application/vnd.plotly.v1+json": {
       "config": {
        "plotlyServerURL": "https://plot.ly"
       },
       "data": [
        {
         "alignmentgroup": "True",
         "bingroup": "x",
         "hovertemplate": "Regenerated?=%{x}<br>count=%{y}<extra></extra>",
         "legendgroup": "False",
         "marker": {
          "color": "rgb(75, 41, 145)",
          "pattern": {
           "shape": ""
          }
         },
         "name": "False",
         "offsetgroup": "False",
         "orientation": "v",
         "showlegend": true,
         "type": "histogram",
         "x": [
          false,
          false,
          false,
          false,
          false,
          false,
          false,
          false,
          false,
          false,
          false,
          false,
          false,
          false,
          false,
          false,
          false,
          false,
          false,
          false,
          false,
          false,
          false,
          false,
          false,
          false,
          false,
          false,
          false,
          false,
          false,
          false,
          false,
          false,
          false,
          false,
          false,
          false,
          false,
          false,
          false,
          false,
          false,
          false,
          false,
          false,
          false,
          false,
          false,
          false,
          false,
          false,
          false,
          false,
          false,
          false,
          false,
          false,
          false,
          false,
          false,
          false,
          false,
          false,
          false,
          false,
          false,
          false,
          false,
          false,
          false,
          false,
          false,
          false,
          false,
          false,
          false,
          false,
          false,
          false,
          false,
          false,
          false,
          false,
          false,
          false,
          false,
          false,
          false,
          false,
          false,
          false,
          false,
          false,
          false,
          false,
          false,
          false,
          false,
          false,
          false,
          false,
          false,
          false,
          false,
          false,
          false,
          false,
          false,
          false,
          false,
          false,
          false,
          false,
          false,
          false,
          false,
          false,
          false,
          false,
          false,
          false,
          false,
          false,
          false,
          false,
          false,
          false,
          false,
          false,
          false,
          false,
          false,
          false,
          false,
          false,
          false,
          false,
          false,
          false,
          false,
          false,
          false,
          false,
          false,
          false,
          false,
          false,
          false,
          false,
          false,
          false,
          false,
          false,
          false,
          false,
          false,
          false,
          false,
          false,
          false,
          false,
          false,
          false,
          false,
          false,
          false,
          false,
          false,
          false
         ],
         "xaxis": "x",
         "yaxis": "y"
        },
        {
         "alignmentgroup": "True",
         "bingroup": "x",
         "hovertemplate": "Regenerated?=%{x}<br>count=%{y}<extra></extra>",
         "legendgroup": "True",
         "marker": {
          "color": "rgb(135, 44, 162)",
          "pattern": {
           "shape": ""
          }
         },
         "name": "True",
         "offsetgroup": "True",
         "orientation": "v",
         "showlegend": true,
         "type": "histogram",
         "x": [
          true,
          true,
          true,
          true,
          true,
          true,
          true,
          true,
          true,
          true,
          true,
          true,
          true,
          true,
          true,
          true,
          true,
          true,
          true,
          true,
          true,
          true,
          true,
          true,
          true,
          true,
          true,
          true,
          true,
          true,
          true,
          true,
          true,
          true,
          true,
          true,
          true,
          true,
          true,
          true,
          true,
          true,
          true,
          true,
          true,
          true,
          true,
          true,
          true,
          true,
          true,
          true,
          true,
          true,
          true,
          true,
          true,
          true,
          true,
          true,
          true,
          true,
          true,
          true,
          true,
          true,
          true,
          true,
          true,
          true,
          true,
          true,
          true,
          true,
          true,
          true,
          true,
          true,
          true,
          true,
          true,
          true,
          true,
          true,
          true,
          true,
          true,
          true,
          true,
          true,
          true,
          true,
          true,
          true,
          true,
          true,
          true,
          true,
          true,
          true,
          true,
          true,
          true,
          true,
          true,
          true,
          true,
          true,
          true,
          true,
          true,
          true,
          true,
          true,
          true,
          true,
          true,
          true,
          true,
          true,
          true,
          true,
          true,
          true,
          true,
          true,
          true,
          true,
          true,
          true,
          true,
          true,
          true,
          true,
          true,
          true,
          true,
          true,
          true,
          true,
          true,
          true,
          true,
          true,
          true,
          true,
          true,
          true,
          true,
          true,
          true,
          true,
          true,
          true,
          true,
          true,
          true,
          true,
          true,
          true,
          true,
          true,
          true,
          true,
          true,
          true,
          true,
          true,
          true,
          true,
          true,
          true,
          true,
          true,
          true,
          true,
          true,
          true,
          true,
          true,
          true,
          true,
          true,
          true,
          true,
          true,
          true,
          true,
          true,
          true,
          true,
          true,
          true,
          true,
          true
         ],
         "xaxis": "x",
         "yaxis": "y"
        }
       ],
       "layout": {
        "barmode": "relative",
        "height": 500,
        "legend": {
         "title": {
          "text": "Regenerated?"
         },
         "tracegroupgap": 0
        },
        "template": {
         "data": {
          "bar": [
           {
            "error_x": {
             "color": "#2a3f5f"
            },
            "error_y": {
             "color": "#2a3f5f"
            },
            "marker": {
             "line": {
              "color": "#E5ECF6",
              "width": 0.5
             },
             "pattern": {
              "fillmode": "overlay",
              "size": 10,
              "solidity": 0.2
             }
            },
            "type": "bar"
           }
          ],
          "barpolar": [
           {
            "marker": {
             "line": {
              "color": "#E5ECF6",
              "width": 0.5
             },
             "pattern": {
              "fillmode": "overlay",
              "size": 10,
              "solidity": 0.2
             }
            },
            "type": "barpolar"
           }
          ],
          "carpet": [
           {
            "aaxis": {
             "endlinecolor": "#2a3f5f",
             "gridcolor": "white",
             "linecolor": "white",
             "minorgridcolor": "white",
             "startlinecolor": "#2a3f5f"
            },
            "baxis": {
             "endlinecolor": "#2a3f5f",
             "gridcolor": "white",
             "linecolor": "white",
             "minorgridcolor": "white",
             "startlinecolor": "#2a3f5f"
            },
            "type": "carpet"
           }
          ],
          "choropleth": [
           {
            "colorbar": {
             "outlinewidth": 0,
             "ticks": ""
            },
            "type": "choropleth"
           }
          ],
          "contour": [
           {
            "colorbar": {
             "outlinewidth": 0,
             "ticks": ""
            },
            "colorscale": [
             [
              0,
              "#0d0887"
             ],
             [
              0.1111111111111111,
              "#46039f"
             ],
             [
              0.2222222222222222,
              "#7201a8"
             ],
             [
              0.3333333333333333,
              "#9c179e"
             ],
             [
              0.4444444444444444,
              "#bd3786"
             ],
             [
              0.5555555555555556,
              "#d8576b"
             ],
             [
              0.6666666666666666,
              "#ed7953"
             ],
             [
              0.7777777777777778,
              "#fb9f3a"
             ],
             [
              0.8888888888888888,
              "#fdca26"
             ],
             [
              1,
              "#f0f921"
             ]
            ],
            "type": "contour"
           }
          ],
          "contourcarpet": [
           {
            "colorbar": {
             "outlinewidth": 0,
             "ticks": ""
            },
            "type": "contourcarpet"
           }
          ],
          "heatmap": [
           {
            "colorbar": {
             "outlinewidth": 0,
             "ticks": ""
            },
            "colorscale": [
             [
              0,
              "#0d0887"
             ],
             [
              0.1111111111111111,
              "#46039f"
             ],
             [
              0.2222222222222222,
              "#7201a8"
             ],
             [
              0.3333333333333333,
              "#9c179e"
             ],
             [
              0.4444444444444444,
              "#bd3786"
             ],
             [
              0.5555555555555556,
              "#d8576b"
             ],
             [
              0.6666666666666666,
              "#ed7953"
             ],
             [
              0.7777777777777778,
              "#fb9f3a"
             ],
             [
              0.8888888888888888,
              "#fdca26"
             ],
             [
              1,
              "#f0f921"
             ]
            ],
            "type": "heatmap"
           }
          ],
          "heatmapgl": [
           {
            "colorbar": {
             "outlinewidth": 0,
             "ticks": ""
            },
            "colorscale": [
             [
              0,
              "#0d0887"
             ],
             [
              0.1111111111111111,
              "#46039f"
             ],
             [
              0.2222222222222222,
              "#7201a8"
             ],
             [
              0.3333333333333333,
              "#9c179e"
             ],
             [
              0.4444444444444444,
              "#bd3786"
             ],
             [
              0.5555555555555556,
              "#d8576b"
             ],
             [
              0.6666666666666666,
              "#ed7953"
             ],
             [
              0.7777777777777778,
              "#fb9f3a"
             ],
             [
              0.8888888888888888,
              "#fdca26"
             ],
             [
              1,
              "#f0f921"
             ]
            ],
            "type": "heatmapgl"
           }
          ],
          "histogram": [
           {
            "marker": {
             "pattern": {
              "fillmode": "overlay",
              "size": 10,
              "solidity": 0.2
             }
            },
            "type": "histogram"
           }
          ],
          "histogram2d": [
           {
            "colorbar": {
             "outlinewidth": 0,
             "ticks": ""
            },
            "colorscale": [
             [
              0,
              "#0d0887"
             ],
             [
              0.1111111111111111,
              "#46039f"
             ],
             [
              0.2222222222222222,
              "#7201a8"
             ],
             [
              0.3333333333333333,
              "#9c179e"
             ],
             [
              0.4444444444444444,
              "#bd3786"
             ],
             [
              0.5555555555555556,
              "#d8576b"
             ],
             [
              0.6666666666666666,
              "#ed7953"
             ],
             [
              0.7777777777777778,
              "#fb9f3a"
             ],
             [
              0.8888888888888888,
              "#fdca26"
             ],
             [
              1,
              "#f0f921"
             ]
            ],
            "type": "histogram2d"
           }
          ],
          "histogram2dcontour": [
           {
            "colorbar": {
             "outlinewidth": 0,
             "ticks": ""
            },
            "colorscale": [
             [
              0,
              "#0d0887"
             ],
             [
              0.1111111111111111,
              "#46039f"
             ],
             [
              0.2222222222222222,
              "#7201a8"
             ],
             [
              0.3333333333333333,
              "#9c179e"
             ],
             [
              0.4444444444444444,
              "#bd3786"
             ],
             [
              0.5555555555555556,
              "#d8576b"
             ],
             [
              0.6666666666666666,
              "#ed7953"
             ],
             [
              0.7777777777777778,
              "#fb9f3a"
             ],
             [
              0.8888888888888888,
              "#fdca26"
             ],
             [
              1,
              "#f0f921"
             ]
            ],
            "type": "histogram2dcontour"
           }
          ],
          "mesh3d": [
           {
            "colorbar": {
             "outlinewidth": 0,
             "ticks": ""
            },
            "type": "mesh3d"
           }
          ],
          "parcoords": [
           {
            "line": {
             "colorbar": {
              "outlinewidth": 0,
              "ticks": ""
             }
            },
            "type": "parcoords"
           }
          ],
          "pie": [
           {
            "automargin": true,
            "type": "pie"
           }
          ],
          "scatter": [
           {
            "marker": {
             "colorbar": {
              "outlinewidth": 0,
              "ticks": ""
             }
            },
            "type": "scatter"
           }
          ],
          "scatter3d": [
           {
            "line": {
             "colorbar": {
              "outlinewidth": 0,
              "ticks": ""
             }
            },
            "marker": {
             "colorbar": {
              "outlinewidth": 0,
              "ticks": ""
             }
            },
            "type": "scatter3d"
           }
          ],
          "scattercarpet": [
           {
            "marker": {
             "colorbar": {
              "outlinewidth": 0,
              "ticks": ""
             }
            },
            "type": "scattercarpet"
           }
          ],
          "scattergeo": [
           {
            "marker": {
             "colorbar": {
              "outlinewidth": 0,
              "ticks": ""
             }
            },
            "type": "scattergeo"
           }
          ],
          "scattergl": [
           {
            "marker": {
             "colorbar": {
              "outlinewidth": 0,
              "ticks": ""
             }
            },
            "type": "scattergl"
           }
          ],
          "scattermapbox": [
           {
            "marker": {
             "colorbar": {
              "outlinewidth": 0,
              "ticks": ""
             }
            },
            "type": "scattermapbox"
           }
          ],
          "scatterpolar": [
           {
            "marker": {
             "colorbar": {
              "outlinewidth": 0,
              "ticks": ""
             }
            },
            "type": "scatterpolar"
           }
          ],
          "scatterpolargl": [
           {
            "marker": {
             "colorbar": {
              "outlinewidth": 0,
              "ticks": ""
             }
            },
            "type": "scatterpolargl"
           }
          ],
          "scatterternary": [
           {
            "marker": {
             "colorbar": {
              "outlinewidth": 0,
              "ticks": ""
             }
            },
            "type": "scatterternary"
           }
          ],
          "surface": [
           {
            "colorbar": {
             "outlinewidth": 0,
             "ticks": ""
            },
            "colorscale": [
             [
              0,
              "#0d0887"
             ],
             [
              0.1111111111111111,
              "#46039f"
             ],
             [
              0.2222222222222222,
              "#7201a8"
             ],
             [
              0.3333333333333333,
              "#9c179e"
             ],
             [
              0.4444444444444444,
              "#bd3786"
             ],
             [
              0.5555555555555556,
              "#d8576b"
             ],
             [
              0.6666666666666666,
              "#ed7953"
             ],
             [
              0.7777777777777778,
              "#fb9f3a"
             ],
             [
              0.8888888888888888,
              "#fdca26"
             ],
             [
              1,
              "#f0f921"
             ]
            ],
            "type": "surface"
           }
          ],
          "table": [
           {
            "cells": {
             "fill": {
              "color": "#EBF0F8"
             },
             "line": {
              "color": "white"
             }
            },
            "header": {
             "fill": {
              "color": "#C8D4E3"
             },
             "line": {
              "color": "white"
             }
            },
            "type": "table"
           }
          ]
         },
         "layout": {
          "annotationdefaults": {
           "arrowcolor": "#2a3f5f",
           "arrowhead": 0,
           "arrowwidth": 1
          },
          "autotypenumbers": "strict",
          "coloraxis": {
           "colorbar": {
            "outlinewidth": 0,
            "ticks": ""
           }
          },
          "colorscale": {
           "diverging": [
            [
             0,
             "#8e0152"
            ],
            [
             0.1,
             "#c51b7d"
            ],
            [
             0.2,
             "#de77ae"
            ],
            [
             0.3,
             "#f1b6da"
            ],
            [
             0.4,
             "#fde0ef"
            ],
            [
             0.5,
             "#f7f7f7"
            ],
            [
             0.6,
             "#e6f5d0"
            ],
            [
             0.7,
             "#b8e186"
            ],
            [
             0.8,
             "#7fbc41"
            ],
            [
             0.9,
             "#4d9221"
            ],
            [
             1,
             "#276419"
            ]
           ],
           "sequential": [
            [
             0,
             "#0d0887"
            ],
            [
             0.1111111111111111,
             "#46039f"
            ],
            [
             0.2222222222222222,
             "#7201a8"
            ],
            [
             0.3333333333333333,
             "#9c179e"
            ],
            [
             0.4444444444444444,
             "#bd3786"
            ],
            [
             0.5555555555555556,
             "#d8576b"
            ],
            [
             0.6666666666666666,
             "#ed7953"
            ],
            [
             0.7777777777777778,
             "#fb9f3a"
            ],
            [
             0.8888888888888888,
             "#fdca26"
            ],
            [
             1,
             "#f0f921"
            ]
           ],
           "sequentialminus": [
            [
             0,
             "#0d0887"
            ],
            [
             0.1111111111111111,
             "#46039f"
            ],
            [
             0.2222222222222222,
             "#7201a8"
            ],
            [
             0.3333333333333333,
             "#9c179e"
            ],
            [
             0.4444444444444444,
             "#bd3786"
            ],
            [
             0.5555555555555556,
             "#d8576b"
            ],
            [
             0.6666666666666666,
             "#ed7953"
            ],
            [
             0.7777777777777778,
             "#fb9f3a"
            ],
            [
             0.8888888888888888,
             "#fdca26"
            ],
            [
             1,
             "#f0f921"
            ]
           ]
          },
          "colorway": [
           "#636efa",
           "#EF553B",
           "#00cc96",
           "#ab63fa",
           "#FFA15A",
           "#19d3f3",
           "#FF6692",
           "#B6E880",
           "#FF97FF",
           "#FECB52"
          ],
          "font": {
           "color": "#2a3f5f"
          },
          "geo": {
           "bgcolor": "white",
           "lakecolor": "white",
           "landcolor": "#E5ECF6",
           "showlakes": true,
           "showland": true,
           "subunitcolor": "white"
          },
          "hoverlabel": {
           "align": "left"
          },
          "hovermode": "closest",
          "mapbox": {
           "style": "light"
          },
          "paper_bgcolor": "white",
          "plot_bgcolor": "#E5ECF6",
          "polar": {
           "angularaxis": {
            "gridcolor": "white",
            "linecolor": "white",
            "ticks": ""
           },
           "bgcolor": "#E5ECF6",
           "radialaxis": {
            "gridcolor": "white",
            "linecolor": "white",
            "ticks": ""
           }
          },
          "scene": {
           "xaxis": {
            "backgroundcolor": "#E5ECF6",
            "gridcolor": "white",
            "gridwidth": 2,
            "linecolor": "white",
            "showbackground": true,
            "ticks": "",
            "zerolinecolor": "white"
           },
           "yaxis": {
            "backgroundcolor": "#E5ECF6",
            "gridcolor": "white",
            "gridwidth": 2,
            "linecolor": "white",
            "showbackground": true,
            "ticks": "",
            "zerolinecolor": "white"
           },
           "zaxis": {
            "backgroundcolor": "#E5ECF6",
            "gridcolor": "white",
            "gridwidth": 2,
            "linecolor": "white",
            "showbackground": true,
            "ticks": "",
            "zerolinecolor": "white"
           }
          },
          "shapedefaults": {
           "line": {
            "color": "#2a3f5f"
           }
          },
          "ternary": {
           "aaxis": {
            "gridcolor": "white",
            "linecolor": "white",
            "ticks": ""
           },
           "baxis": {
            "gridcolor": "white",
            "linecolor": "white",
            "ticks": ""
           },
           "bgcolor": "#E5ECF6",
           "caxis": {
            "gridcolor": "white",
            "linecolor": "white",
            "ticks": ""
           }
          },
          "title": {
           "x": 0.05
          },
          "xaxis": {
           "automargin": true,
           "gridcolor": "white",
           "linecolor": "white",
           "ticks": "",
           "title": {
            "standoff": 15
           },
           "zerolinecolor": "white",
           "zerolinewidth": 2
          },
          "yaxis": {
           "automargin": true,
           "gridcolor": "white",
           "linecolor": "white",
           "ticks": "",
           "title": {
            "standoff": 15
           },
           "zerolinecolor": "white",
           "zerolinewidth": 2
          }
         }
        },
        "title": {
         "text": "Regenerated?"
        },
        "xaxis": {
         "anchor": "y",
         "categoryarray": [
          false,
          true
         ],
         "categoryorder": "array",
         "domain": [
          0,
          1
         ],
         "title": {
          "text": "Regenerated?"
         }
        },
        "yaxis": {
         "anchor": "x",
         "domain": [
          0,
          1
         ],
         "title": {
          "text": "count"
         }
        }
       }
      }
     },
     "metadata": {},
     "output_type": "display_data"
    }
   ],
   "source": [
    "px.histogram(df, x='regen', title='Regenerated?', color='regen', **histogram_options)"
   ]
  },
  {
   "cell_type": "code",
   "execution_count": 412,
   "metadata": {},
   "outputs": [
    {
     "data": {
      "application/vnd.plotly.v1+json": {
       "config": {
        "plotlyServerURL": "https://plot.ly"
       },
       "data": [
        {
         "alignmentgroup": "True",
         "bingroup": "x",
         "hovertemplate": "Regenerated?=False<br>Hit Reflector?=%{x}<br>count=%{y}<extra></extra>",
         "legendgroup": "False",
         "marker": {
          "color": "rgb(75, 41, 145)",
          "pattern": {
           "shape": ""
          }
         },
         "name": "False",
         "offsetgroup": "False",
         "orientation": "v",
         "showlegend": true,
         "type": "histogram",
         "x": [
          true,
          false,
          false,
          false,
          false,
          false,
          false,
          false,
          false,
          false,
          false,
          false,
          false,
          false,
          false,
          false,
          false,
          false,
          false,
          false,
          false,
          false,
          false,
          false,
          false,
          false,
          false,
          false,
          false,
          false,
          false,
          false,
          false,
          false,
          false,
          false,
          false,
          false,
          false,
          false,
          false,
          false,
          false,
          false,
          false,
          false,
          false,
          false,
          false,
          false,
          false,
          false,
          false,
          false,
          false,
          false,
          false,
          false,
          false,
          false,
          false,
          false,
          false,
          false,
          false,
          false,
          false,
          false,
          false,
          false,
          false,
          false,
          false,
          false,
          false,
          false,
          false,
          false,
          false,
          false,
          false,
          false,
          false,
          false,
          false,
          false,
          false,
          false,
          false,
          false,
          false,
          false,
          false,
          false,
          false,
          false,
          false,
          false,
          false,
          false,
          false,
          false,
          false,
          false,
          false,
          false,
          false,
          false,
          false,
          false,
          false,
          false,
          false,
          false,
          false,
          false,
          false,
          false,
          false,
          false,
          false,
          false,
          false,
          false,
          false,
          false,
          false,
          false,
          false,
          false,
          false,
          false,
          false,
          false,
          false,
          false,
          false,
          false,
          false,
          false,
          false,
          false,
          false,
          false,
          false,
          false,
          false,
          false,
          false,
          false,
          false,
          false,
          false,
          false,
          false,
          false,
          false,
          false,
          false,
          false,
          false,
          false,
          false,
          false,
          false,
          false,
          false,
          false,
          false,
          false
         ],
         "xaxis": "x",
         "yaxis": "y"
        },
        {
         "alignmentgroup": "True",
         "bingroup": "x",
         "hovertemplate": "Regenerated?=True<br>Hit Reflector?=%{x}<br>count=%{y}<extra></extra>",
         "legendgroup": "True",
         "marker": {
          "color": "rgb(135, 44, 162)",
          "pattern": {
           "shape": ""
          }
         },
         "name": "True",
         "offsetgroup": "True",
         "orientation": "v",
         "showlegend": true,
         "type": "histogram",
         "x": [
          true,
          true,
          true,
          true,
          true,
          true,
          true,
          true,
          true,
          true,
          true,
          true,
          true,
          true,
          true,
          true,
          true,
          true,
          true,
          true,
          true,
          true,
          true,
          true,
          true,
          true,
          true,
          true,
          true,
          true,
          true,
          true,
          true,
          true,
          true,
          true,
          true,
          true,
          true,
          true,
          true,
          true,
          true,
          true,
          true,
          true,
          true,
          true,
          true,
          true,
          true,
          true,
          true,
          true,
          true,
          true,
          true,
          true,
          true,
          true,
          true,
          true,
          true,
          true,
          true,
          true,
          true,
          true,
          true,
          true,
          true,
          true,
          true,
          true,
          true,
          true,
          true,
          true,
          true,
          true,
          true,
          true,
          true,
          true,
          true,
          true,
          true,
          true,
          true,
          true,
          true,
          true,
          true,
          true,
          true,
          true,
          true,
          true,
          true,
          true,
          true,
          true,
          true,
          true,
          true,
          true,
          true,
          true,
          true,
          true,
          true,
          true,
          true,
          true,
          true,
          true,
          true,
          true,
          true,
          true,
          true,
          true,
          true,
          true,
          true,
          true,
          true,
          true,
          true,
          true,
          true,
          true,
          true,
          true,
          true,
          true,
          true,
          true,
          true,
          true,
          true,
          true,
          true,
          true,
          true,
          true,
          true,
          true,
          true,
          true,
          true,
          true,
          true,
          true,
          true,
          true,
          true,
          true,
          true,
          true,
          true,
          true,
          true,
          true,
          true,
          true,
          true,
          true,
          true,
          true,
          true,
          true,
          true,
          true,
          true,
          true,
          true,
          true,
          true,
          true,
          true,
          true,
          true,
          true,
          true,
          true,
          true,
          true,
          true,
          true,
          true,
          true,
          true,
          true,
          true
         ],
         "xaxis": "x2",
         "yaxis": "y2"
        }
       ],
       "layout": {
        "annotations": [
         {
          "font": {},
          "showarrow": false,
          "text": "Regenerated?=False",
          "x": 0.245,
          "xanchor": "center",
          "xref": "paper",
          "y": 1,
          "yanchor": "bottom",
          "yref": "paper"
         },
         {
          "font": {},
          "showarrow": false,
          "text": "Regenerated?=True",
          "x": 0.755,
          "xanchor": "center",
          "xref": "paper",
          "y": 1,
          "yanchor": "bottom",
          "yref": "paper"
         }
        ],
        "barmode": "relative",
        "height": 500,
        "legend": {
         "title": {
          "text": "Regenerated?"
         },
         "tracegroupgap": 0
        },
        "template": {
         "data": {
          "bar": [
           {
            "error_x": {
             "color": "#2a3f5f"
            },
            "error_y": {
             "color": "#2a3f5f"
            },
            "marker": {
             "line": {
              "color": "#E5ECF6",
              "width": 0.5
             },
             "pattern": {
              "fillmode": "overlay",
              "size": 10,
              "solidity": 0.2
             }
            },
            "type": "bar"
           }
          ],
          "barpolar": [
           {
            "marker": {
             "line": {
              "color": "#E5ECF6",
              "width": 0.5
             },
             "pattern": {
              "fillmode": "overlay",
              "size": 10,
              "solidity": 0.2
             }
            },
            "type": "barpolar"
           }
          ],
          "carpet": [
           {
            "aaxis": {
             "endlinecolor": "#2a3f5f",
             "gridcolor": "white",
             "linecolor": "white",
             "minorgridcolor": "white",
             "startlinecolor": "#2a3f5f"
            },
            "baxis": {
             "endlinecolor": "#2a3f5f",
             "gridcolor": "white",
             "linecolor": "white",
             "minorgridcolor": "white",
             "startlinecolor": "#2a3f5f"
            },
            "type": "carpet"
           }
          ],
          "choropleth": [
           {
            "colorbar": {
             "outlinewidth": 0,
             "ticks": ""
            },
            "type": "choropleth"
           }
          ],
          "contour": [
           {
            "colorbar": {
             "outlinewidth": 0,
             "ticks": ""
            },
            "colorscale": [
             [
              0,
              "#0d0887"
             ],
             [
              0.1111111111111111,
              "#46039f"
             ],
             [
              0.2222222222222222,
              "#7201a8"
             ],
             [
              0.3333333333333333,
              "#9c179e"
             ],
             [
              0.4444444444444444,
              "#bd3786"
             ],
             [
              0.5555555555555556,
              "#d8576b"
             ],
             [
              0.6666666666666666,
              "#ed7953"
             ],
             [
              0.7777777777777778,
              "#fb9f3a"
             ],
             [
              0.8888888888888888,
              "#fdca26"
             ],
             [
              1,
              "#f0f921"
             ]
            ],
            "type": "contour"
           }
          ],
          "contourcarpet": [
           {
            "colorbar": {
             "outlinewidth": 0,
             "ticks": ""
            },
            "type": "contourcarpet"
           }
          ],
          "heatmap": [
           {
            "colorbar": {
             "outlinewidth": 0,
             "ticks": ""
            },
            "colorscale": [
             [
              0,
              "#0d0887"
             ],
             [
              0.1111111111111111,
              "#46039f"
             ],
             [
              0.2222222222222222,
              "#7201a8"
             ],
             [
              0.3333333333333333,
              "#9c179e"
             ],
             [
              0.4444444444444444,
              "#bd3786"
             ],
             [
              0.5555555555555556,
              "#d8576b"
             ],
             [
              0.6666666666666666,
              "#ed7953"
             ],
             [
              0.7777777777777778,
              "#fb9f3a"
             ],
             [
              0.8888888888888888,
              "#fdca26"
             ],
             [
              1,
              "#f0f921"
             ]
            ],
            "type": "heatmap"
           }
          ],
          "heatmapgl": [
           {
            "colorbar": {
             "outlinewidth": 0,
             "ticks": ""
            },
            "colorscale": [
             [
              0,
              "#0d0887"
             ],
             [
              0.1111111111111111,
              "#46039f"
             ],
             [
              0.2222222222222222,
              "#7201a8"
             ],
             [
              0.3333333333333333,
              "#9c179e"
             ],
             [
              0.4444444444444444,
              "#bd3786"
             ],
             [
              0.5555555555555556,
              "#d8576b"
             ],
             [
              0.6666666666666666,
              "#ed7953"
             ],
             [
              0.7777777777777778,
              "#fb9f3a"
             ],
             [
              0.8888888888888888,
              "#fdca26"
             ],
             [
              1,
              "#f0f921"
             ]
            ],
            "type": "heatmapgl"
           }
          ],
          "histogram": [
           {
            "marker": {
             "pattern": {
              "fillmode": "overlay",
              "size": 10,
              "solidity": 0.2
             }
            },
            "type": "histogram"
           }
          ],
          "histogram2d": [
           {
            "colorbar": {
             "outlinewidth": 0,
             "ticks": ""
            },
            "colorscale": [
             [
              0,
              "#0d0887"
             ],
             [
              0.1111111111111111,
              "#46039f"
             ],
             [
              0.2222222222222222,
              "#7201a8"
             ],
             [
              0.3333333333333333,
              "#9c179e"
             ],
             [
              0.4444444444444444,
              "#bd3786"
             ],
             [
              0.5555555555555556,
              "#d8576b"
             ],
             [
              0.6666666666666666,
              "#ed7953"
             ],
             [
              0.7777777777777778,
              "#fb9f3a"
             ],
             [
              0.8888888888888888,
              "#fdca26"
             ],
             [
              1,
              "#f0f921"
             ]
            ],
            "type": "histogram2d"
           }
          ],
          "histogram2dcontour": [
           {
            "colorbar": {
             "outlinewidth": 0,
             "ticks": ""
            },
            "colorscale": [
             [
              0,
              "#0d0887"
             ],
             [
              0.1111111111111111,
              "#46039f"
             ],
             [
              0.2222222222222222,
              "#7201a8"
             ],
             [
              0.3333333333333333,
              "#9c179e"
             ],
             [
              0.4444444444444444,
              "#bd3786"
             ],
             [
              0.5555555555555556,
              "#d8576b"
             ],
             [
              0.6666666666666666,
              "#ed7953"
             ],
             [
              0.7777777777777778,
              "#fb9f3a"
             ],
             [
              0.8888888888888888,
              "#fdca26"
             ],
             [
              1,
              "#f0f921"
             ]
            ],
            "type": "histogram2dcontour"
           }
          ],
          "mesh3d": [
           {
            "colorbar": {
             "outlinewidth": 0,
             "ticks": ""
            },
            "type": "mesh3d"
           }
          ],
          "parcoords": [
           {
            "line": {
             "colorbar": {
              "outlinewidth": 0,
              "ticks": ""
             }
            },
            "type": "parcoords"
           }
          ],
          "pie": [
           {
            "automargin": true,
            "type": "pie"
           }
          ],
          "scatter": [
           {
            "marker": {
             "colorbar": {
              "outlinewidth": 0,
              "ticks": ""
             }
            },
            "type": "scatter"
           }
          ],
          "scatter3d": [
           {
            "line": {
             "colorbar": {
              "outlinewidth": 0,
              "ticks": ""
             }
            },
            "marker": {
             "colorbar": {
              "outlinewidth": 0,
              "ticks": ""
             }
            },
            "type": "scatter3d"
           }
          ],
          "scattercarpet": [
           {
            "marker": {
             "colorbar": {
              "outlinewidth": 0,
              "ticks": ""
             }
            },
            "type": "scattercarpet"
           }
          ],
          "scattergeo": [
           {
            "marker": {
             "colorbar": {
              "outlinewidth": 0,
              "ticks": ""
             }
            },
            "type": "scattergeo"
           }
          ],
          "scattergl": [
           {
            "marker": {
             "colorbar": {
              "outlinewidth": 0,
              "ticks": ""
             }
            },
            "type": "scattergl"
           }
          ],
          "scattermapbox": [
           {
            "marker": {
             "colorbar": {
              "outlinewidth": 0,
              "ticks": ""
             }
            },
            "type": "scattermapbox"
           }
          ],
          "scatterpolar": [
           {
            "marker": {
             "colorbar": {
              "outlinewidth": 0,
              "ticks": ""
             }
            },
            "type": "scatterpolar"
           }
          ],
          "scatterpolargl": [
           {
            "marker": {
             "colorbar": {
              "outlinewidth": 0,
              "ticks": ""
             }
            },
            "type": "scatterpolargl"
           }
          ],
          "scatterternary": [
           {
            "marker": {
             "colorbar": {
              "outlinewidth": 0,
              "ticks": ""
             }
            },
            "type": "scatterternary"
           }
          ],
          "surface": [
           {
            "colorbar": {
             "outlinewidth": 0,
             "ticks": ""
            },
            "colorscale": [
             [
              0,
              "#0d0887"
             ],
             [
              0.1111111111111111,
              "#46039f"
             ],
             [
              0.2222222222222222,
              "#7201a8"
             ],
             [
              0.3333333333333333,
              "#9c179e"
             ],
             [
              0.4444444444444444,
              "#bd3786"
             ],
             [
              0.5555555555555556,
              "#d8576b"
             ],
             [
              0.6666666666666666,
              "#ed7953"
             ],
             [
              0.7777777777777778,
              "#fb9f3a"
             ],
             [
              0.8888888888888888,
              "#fdca26"
             ],
             [
              1,
              "#f0f921"
             ]
            ],
            "type": "surface"
           }
          ],
          "table": [
           {
            "cells": {
             "fill": {
              "color": "#EBF0F8"
             },
             "line": {
              "color": "white"
             }
            },
            "header": {
             "fill": {
              "color": "#C8D4E3"
             },
             "line": {
              "color": "white"
             }
            },
            "type": "table"
           }
          ]
         },
         "layout": {
          "annotationdefaults": {
           "arrowcolor": "#2a3f5f",
           "arrowhead": 0,
           "arrowwidth": 1
          },
          "autotypenumbers": "strict",
          "coloraxis": {
           "colorbar": {
            "outlinewidth": 0,
            "ticks": ""
           }
          },
          "colorscale": {
           "diverging": [
            [
             0,
             "#8e0152"
            ],
            [
             0.1,
             "#c51b7d"
            ],
            [
             0.2,
             "#de77ae"
            ],
            [
             0.3,
             "#f1b6da"
            ],
            [
             0.4,
             "#fde0ef"
            ],
            [
             0.5,
             "#f7f7f7"
            ],
            [
             0.6,
             "#e6f5d0"
            ],
            [
             0.7,
             "#b8e186"
            ],
            [
             0.8,
             "#7fbc41"
            ],
            [
             0.9,
             "#4d9221"
            ],
            [
             1,
             "#276419"
            ]
           ],
           "sequential": [
            [
             0,
             "#0d0887"
            ],
            [
             0.1111111111111111,
             "#46039f"
            ],
            [
             0.2222222222222222,
             "#7201a8"
            ],
            [
             0.3333333333333333,
             "#9c179e"
            ],
            [
             0.4444444444444444,
             "#bd3786"
            ],
            [
             0.5555555555555556,
             "#d8576b"
            ],
            [
             0.6666666666666666,
             "#ed7953"
            ],
            [
             0.7777777777777778,
             "#fb9f3a"
            ],
            [
             0.8888888888888888,
             "#fdca26"
            ],
            [
             1,
             "#f0f921"
            ]
           ],
           "sequentialminus": [
            [
             0,
             "#0d0887"
            ],
            [
             0.1111111111111111,
             "#46039f"
            ],
            [
             0.2222222222222222,
             "#7201a8"
            ],
            [
             0.3333333333333333,
             "#9c179e"
            ],
            [
             0.4444444444444444,
             "#bd3786"
            ],
            [
             0.5555555555555556,
             "#d8576b"
            ],
            [
             0.6666666666666666,
             "#ed7953"
            ],
            [
             0.7777777777777778,
             "#fb9f3a"
            ],
            [
             0.8888888888888888,
             "#fdca26"
            ],
            [
             1,
             "#f0f921"
            ]
           ]
          },
          "colorway": [
           "#636efa",
           "#EF553B",
           "#00cc96",
           "#ab63fa",
           "#FFA15A",
           "#19d3f3",
           "#FF6692",
           "#B6E880",
           "#FF97FF",
           "#FECB52"
          ],
          "font": {
           "color": "#2a3f5f"
          },
          "geo": {
           "bgcolor": "white",
           "lakecolor": "white",
           "landcolor": "#E5ECF6",
           "showlakes": true,
           "showland": true,
           "subunitcolor": "white"
          },
          "hoverlabel": {
           "align": "left"
          },
          "hovermode": "closest",
          "mapbox": {
           "style": "light"
          },
          "paper_bgcolor": "white",
          "plot_bgcolor": "#E5ECF6",
          "polar": {
           "angularaxis": {
            "gridcolor": "white",
            "linecolor": "white",
            "ticks": ""
           },
           "bgcolor": "#E5ECF6",
           "radialaxis": {
            "gridcolor": "white",
            "linecolor": "white",
            "ticks": ""
           }
          },
          "scene": {
           "xaxis": {
            "backgroundcolor": "#E5ECF6",
            "gridcolor": "white",
            "gridwidth": 2,
            "linecolor": "white",
            "showbackground": true,
            "ticks": "",
            "zerolinecolor": "white"
           },
           "yaxis": {
            "backgroundcolor": "#E5ECF6",
            "gridcolor": "white",
            "gridwidth": 2,
            "linecolor": "white",
            "showbackground": true,
            "ticks": "",
            "zerolinecolor": "white"
           },
           "zaxis": {
            "backgroundcolor": "#E5ECF6",
            "gridcolor": "white",
            "gridwidth": 2,
            "linecolor": "white",
            "showbackground": true,
            "ticks": "",
            "zerolinecolor": "white"
           }
          },
          "shapedefaults": {
           "line": {
            "color": "#2a3f5f"
           }
          },
          "ternary": {
           "aaxis": {
            "gridcolor": "white",
            "linecolor": "white",
            "ticks": ""
           },
           "baxis": {
            "gridcolor": "white",
            "linecolor": "white",
            "ticks": ""
           },
           "bgcolor": "#E5ECF6",
           "caxis": {
            "gridcolor": "white",
            "linecolor": "white",
            "ticks": ""
           }
          },
          "title": {
           "x": 0.05
          },
          "xaxis": {
           "automargin": true,
           "gridcolor": "white",
           "linecolor": "white",
           "ticks": "",
           "title": {
            "standoff": 15
           },
           "zerolinecolor": "white",
           "zerolinewidth": 2
          },
          "yaxis": {
           "automargin": true,
           "gridcolor": "white",
           "linecolor": "white",
           "ticks": "",
           "title": {
            "standoff": 15
           },
           "zerolinecolor": "white",
           "zerolinewidth": 2
          }
         }
        },
        "title": {
         "text": "Relationship of Regeneration and Relfectors"
        },
        "xaxis": {
         "anchor": "y",
         "domain": [
          0,
          0.49
         ],
         "title": {
          "text": "Hit Reflector?"
         }
        },
        "xaxis2": {
         "anchor": "y2",
         "domain": [
          0.51,
          1
         ],
         "matches": "x",
         "title": {
          "text": "Hit Reflector?"
         }
        },
        "yaxis": {
         "anchor": "x",
         "domain": [
          0,
          1
         ],
         "title": {
          "text": "count"
         }
        },
        "yaxis2": {
         "anchor": "x2",
         "domain": [
          0,
          1
         ],
         "matches": "y",
         "showticklabels": false
        }
       }
      }
     },
     "metadata": {},
     "output_type": "display_data"
    }
   ],
   "source": [
    "px.histogram(df, x='hit reflector', title='Relationship of Regeneration and Relfectors', color='regen', facet_col='regen', **histogram_options)"
   ]
  },
  {
   "cell_type": "code",
   "execution_count": 413,
   "metadata": {},
   "outputs": [
    {
     "data": {
      "application/vnd.plotly.v1+json": {
       "config": {
        "plotlyServerURL": "https://plot.ly"
       },
       "data": [
        {
         "alignmentgroup": "True",
         "bingroup": "x",
         "hovertemplate": "Reflector=%{x}<br>count=%{y}<extra></extra>",
         "legendgroup": "Reflector #1",
         "marker": {
          "color": "rgb(75, 41, 145)",
          "pattern": {
           "shape": ""
          }
         },
         "name": "Reflector #1",
         "offsetgroup": "Reflector #1",
         "orientation": "v",
         "showlegend": true,
         "type": "histogram",
         "x": [
          "Reflector #1",
          "Reflector #1",
          "Reflector #1",
          "Reflector #1",
          "Reflector #1",
          "Reflector #1",
          "Reflector #1",
          "Reflector #1",
          "Reflector #1",
          "Reflector #1",
          "Reflector #1",
          "Reflector #1",
          "Reflector #1",
          "Reflector #1",
          "Reflector #1",
          "Reflector #1",
          "Reflector #1",
          "Reflector #1",
          "Reflector #1",
          "Reflector #1",
          "Reflector #1",
          "Reflector #1",
          "Reflector #1",
          "Reflector #1",
          "Reflector #1",
          "Reflector #1",
          "Reflector #1",
          "Reflector #1",
          "Reflector #1",
          "Reflector #1",
          "Reflector #1",
          "Reflector #1",
          "Reflector #1",
          "Reflector #1",
          "Reflector #1",
          "Reflector #1",
          "Reflector #1",
          "Reflector #1",
          "Reflector #1",
          "Reflector #1",
          "Reflector #1",
          "Reflector #1",
          "Reflector #1",
          "Reflector #1",
          "Reflector #1",
          "Reflector #1",
          "Reflector #1",
          "Reflector #1",
          "Reflector #1"
         ],
         "xaxis": "x",
         "yaxis": "y"
        },
        {
         "alignmentgroup": "True",
         "bingroup": "x",
         "hovertemplate": "Reflector=%{x}<br>count=%{y}<extra></extra>",
         "legendgroup": "Reflector #2",
         "marker": {
          "color": "rgb(135, 44, 162)",
          "pattern": {
           "shape": ""
          }
         },
         "name": "Reflector #2",
         "offsetgroup": "Reflector #2",
         "orientation": "v",
         "showlegend": true,
         "type": "histogram",
         "x": [
          "Reflector #2",
          "Reflector #2",
          "Reflector #2",
          "Reflector #2",
          "Reflector #2",
          "Reflector #2",
          "Reflector #2",
          "Reflector #2",
          "Reflector #2",
          "Reflector #2",
          "Reflector #2",
          "Reflector #2",
          "Reflector #2",
          "Reflector #2",
          "Reflector #2",
          "Reflector #2",
          "Reflector #2",
          "Reflector #2",
          "Reflector #2",
          "Reflector #2",
          "Reflector #2",
          "Reflector #2",
          "Reflector #2",
          "Reflector #2",
          "Reflector #2",
          "Reflector #2",
          "Reflector #2",
          "Reflector #2",
          "Reflector #2",
          "Reflector #2",
          "Reflector #2",
          "Reflector #2"
         ],
         "xaxis": "x",
         "yaxis": "y"
        },
        {
         "alignmentgroup": "True",
         "bingroup": "x",
         "hovertemplate": "Reflector=%{x}<br>count=%{y}<extra></extra>",
         "legendgroup": "Reflector #3",
         "marker": {
          "color": "rgb(192, 54, 157)",
          "pattern": {
           "shape": ""
          }
         },
         "name": "Reflector #3",
         "offsetgroup": "Reflector #3",
         "orientation": "v",
         "showlegend": true,
         "type": "histogram",
         "x": [
          "Reflector #3",
          "Reflector #3",
          "Reflector #3",
          "Reflector #3",
          "Reflector #3",
          "Reflector #3",
          "Reflector #3",
          "Reflector #3",
          "Reflector #3",
          "Reflector #3",
          "Reflector #3",
          "Reflector #3",
          "Reflector #3",
          "Reflector #3",
          "Reflector #3",
          "Reflector #3",
          "Reflector #3",
          "Reflector #3",
          "Reflector #3",
          "Reflector #3",
          "Reflector #3",
          "Reflector #3",
          "Reflector #3",
          "Reflector #3",
          "Reflector #3",
          "Reflector #3",
          "Reflector #3",
          "Reflector #3",
          "Reflector #3",
          "Reflector #3",
          "Reflector #3",
          "Reflector #3",
          "Reflector #3",
          "Reflector #3",
          "Reflector #3",
          "Reflector #3",
          "Reflector #3",
          "Reflector #3"
         ],
         "xaxis": "x",
         "yaxis": "y"
        },
        {
         "alignmentgroup": "True",
         "bingroup": "x",
         "hovertemplate": "Reflector=%{x}<br>count=%{y}<extra></extra>",
         "legendgroup": "Reflector #4",
         "marker": {
          "color": "rgb(234, 79, 136)",
          "pattern": {
           "shape": ""
          }
         },
         "name": "Reflector #4",
         "offsetgroup": "Reflector #4",
         "orientation": "v",
         "showlegend": true,
         "type": "histogram",
         "x": [
          "Reflector #4",
          "Reflector #4",
          "Reflector #4",
          "Reflector #4",
          "Reflector #4",
          "Reflector #4",
          "Reflector #4",
          "Reflector #4",
          "Reflector #4",
          "Reflector #4",
          "Reflector #4",
          "Reflector #4",
          "Reflector #4",
          "Reflector #4",
          "Reflector #4",
          "Reflector #4",
          "Reflector #4",
          "Reflector #4",
          "Reflector #4",
          "Reflector #4",
          "Reflector #4",
          "Reflector #4",
          "Reflector #4",
          "Reflector #4",
          "Reflector #4",
          "Reflector #4",
          "Reflector #4",
          "Reflector #4",
          "Reflector #4",
          "Reflector #4",
          "Reflector #4",
          "Reflector #4",
          "Reflector #4",
          "Reflector #4",
          "Reflector #4",
          "Reflector #4",
          "Reflector #4",
          "Reflector #4",
          "Reflector #4"
         ],
         "xaxis": "x",
         "yaxis": "y"
        },
        {
         "alignmentgroup": "True",
         "bingroup": "x",
         "hovertemplate": "Reflector=%{x}<br>count=%{y}<extra></extra>",
         "legendgroup": "Reflector #5",
         "marker": {
          "color": "rgb(250, 120, 118)",
          "pattern": {
           "shape": ""
          }
         },
         "name": "Reflector #5",
         "offsetgroup": "Reflector #5",
         "orientation": "v",
         "showlegend": true,
         "type": "histogram",
         "x": [
          "Reflector #5",
          "Reflector #5",
          "Reflector #5",
          "Reflector #5",
          "Reflector #5",
          "Reflector #5",
          "Reflector #5",
          "Reflector #5",
          "Reflector #5",
          "Reflector #5",
          "Reflector #5",
          "Reflector #5",
          "Reflector #5",
          "Reflector #5",
          "Reflector #5",
          "Reflector #5",
          "Reflector #5",
          "Reflector #5",
          "Reflector #5",
          "Reflector #5",
          "Reflector #5",
          "Reflector #5",
          "Reflector #5",
          "Reflector #5",
          "Reflector #5",
          "Reflector #5",
          "Reflector #5",
          "Reflector #5",
          "Reflector #5",
          "Reflector #5",
          "Reflector #5",
          "Reflector #5",
          "Reflector #5",
          "Reflector #5",
          "Reflector #5",
          "Reflector #5",
          "Reflector #5",
          "Reflector #5"
         ],
         "xaxis": "x",
         "yaxis": "y"
        },
        {
         "alignmentgroup": "True",
         "bingroup": "x",
         "hovertemplate": "Reflector=%{x}<br>count=%{y}<extra></extra>",
         "legendgroup": "nan",
         "marker": {
          "color": "rgb(246, 169, 122)",
          "pattern": {
           "shape": ""
          }
         },
         "name": "nan",
         "offsetgroup": "nan",
         "orientation": "v",
         "showlegend": true,
         "type": "histogram",
         "x": [
          "nan",
          "nan",
          "nan",
          "nan",
          "nan",
          "nan",
          "nan",
          "nan",
          "nan",
          "nan",
          "nan",
          "nan",
          "nan",
          "nan",
          "nan",
          "nan",
          "nan",
          "nan",
          "nan",
          "nan",
          "nan",
          "nan",
          "nan",
          "nan",
          "nan",
          "nan",
          "nan",
          "nan",
          "nan",
          "nan",
          "nan",
          "nan",
          "nan",
          "nan",
          "nan",
          "nan",
          "nan",
          "nan",
          "nan",
          "nan",
          "nan",
          "nan",
          "nan",
          "nan",
          "nan",
          "nan",
          "nan",
          "nan",
          "nan",
          "nan",
          "nan",
          "nan",
          "nan",
          "nan",
          "nan",
          "nan",
          "nan",
          "nan",
          "nan",
          "nan",
          "nan",
          "nan",
          "nan",
          "nan",
          "nan",
          "nan",
          "nan",
          "nan",
          "nan",
          "nan",
          "nan",
          "nan",
          "nan",
          "nan",
          "nan",
          "nan",
          "nan",
          "nan",
          "nan",
          "nan",
          "nan",
          "nan",
          "nan",
          "nan",
          "nan",
          "nan",
          "nan",
          "nan",
          "nan",
          "nan",
          "nan",
          "nan",
          "nan",
          "nan",
          "nan",
          "nan",
          "nan",
          "nan",
          "nan",
          "nan",
          "nan",
          "nan",
          "nan",
          "nan",
          "nan",
          "nan",
          "nan",
          "nan",
          "nan",
          "nan",
          "nan",
          "nan",
          "nan",
          "nan",
          "nan",
          "nan",
          "nan",
          "nan",
          "nan",
          "nan",
          "nan",
          "nan",
          "nan",
          "nan",
          "nan",
          "nan",
          "nan",
          "nan",
          "nan",
          "nan",
          "nan",
          "nan",
          "nan",
          "nan",
          "nan",
          "nan",
          "nan",
          "nan",
          "nan",
          "nan",
          "nan",
          "nan",
          "nan",
          "nan",
          "nan",
          "nan",
          "nan",
          "nan",
          "nan",
          "nan",
          "nan",
          "nan",
          "nan",
          "nan",
          "nan",
          "nan",
          "nan",
          "nan",
          "nan",
          "nan",
          "nan",
          "nan",
          "nan",
          "nan",
          "nan",
          "nan",
          "nan",
          "nan",
          "nan"
         ],
         "xaxis": "x",
         "yaxis": "y"
        }
       ],
       "layout": {
        "barmode": "relative",
        "height": 500,
        "legend": {
         "title": {
          "text": "Reflector"
         },
         "tracegroupgap": 0
        },
        "template": {
         "data": {
          "bar": [
           {
            "error_x": {
             "color": "#2a3f5f"
            },
            "error_y": {
             "color": "#2a3f5f"
            },
            "marker": {
             "line": {
              "color": "#E5ECF6",
              "width": 0.5
             },
             "pattern": {
              "fillmode": "overlay",
              "size": 10,
              "solidity": 0.2
             }
            },
            "type": "bar"
           }
          ],
          "barpolar": [
           {
            "marker": {
             "line": {
              "color": "#E5ECF6",
              "width": 0.5
             },
             "pattern": {
              "fillmode": "overlay",
              "size": 10,
              "solidity": 0.2
             }
            },
            "type": "barpolar"
           }
          ],
          "carpet": [
           {
            "aaxis": {
             "endlinecolor": "#2a3f5f",
             "gridcolor": "white",
             "linecolor": "white",
             "minorgridcolor": "white",
             "startlinecolor": "#2a3f5f"
            },
            "baxis": {
             "endlinecolor": "#2a3f5f",
             "gridcolor": "white",
             "linecolor": "white",
             "minorgridcolor": "white",
             "startlinecolor": "#2a3f5f"
            },
            "type": "carpet"
           }
          ],
          "choropleth": [
           {
            "colorbar": {
             "outlinewidth": 0,
             "ticks": ""
            },
            "type": "choropleth"
           }
          ],
          "contour": [
           {
            "colorbar": {
             "outlinewidth": 0,
             "ticks": ""
            },
            "colorscale": [
             [
              0,
              "#0d0887"
             ],
             [
              0.1111111111111111,
              "#46039f"
             ],
             [
              0.2222222222222222,
              "#7201a8"
             ],
             [
              0.3333333333333333,
              "#9c179e"
             ],
             [
              0.4444444444444444,
              "#bd3786"
             ],
             [
              0.5555555555555556,
              "#d8576b"
             ],
             [
              0.6666666666666666,
              "#ed7953"
             ],
             [
              0.7777777777777778,
              "#fb9f3a"
             ],
             [
              0.8888888888888888,
              "#fdca26"
             ],
             [
              1,
              "#f0f921"
             ]
            ],
            "type": "contour"
           }
          ],
          "contourcarpet": [
           {
            "colorbar": {
             "outlinewidth": 0,
             "ticks": ""
            },
            "type": "contourcarpet"
           }
          ],
          "heatmap": [
           {
            "colorbar": {
             "outlinewidth": 0,
             "ticks": ""
            },
            "colorscale": [
             [
              0,
              "#0d0887"
             ],
             [
              0.1111111111111111,
              "#46039f"
             ],
             [
              0.2222222222222222,
              "#7201a8"
             ],
             [
              0.3333333333333333,
              "#9c179e"
             ],
             [
              0.4444444444444444,
              "#bd3786"
             ],
             [
              0.5555555555555556,
              "#d8576b"
             ],
             [
              0.6666666666666666,
              "#ed7953"
             ],
             [
              0.7777777777777778,
              "#fb9f3a"
             ],
             [
              0.8888888888888888,
              "#fdca26"
             ],
             [
              1,
              "#f0f921"
             ]
            ],
            "type": "heatmap"
           }
          ],
          "heatmapgl": [
           {
            "colorbar": {
             "outlinewidth": 0,
             "ticks": ""
            },
            "colorscale": [
             [
              0,
              "#0d0887"
             ],
             [
              0.1111111111111111,
              "#46039f"
             ],
             [
              0.2222222222222222,
              "#7201a8"
             ],
             [
              0.3333333333333333,
              "#9c179e"
             ],
             [
              0.4444444444444444,
              "#bd3786"
             ],
             [
              0.5555555555555556,
              "#d8576b"
             ],
             [
              0.6666666666666666,
              "#ed7953"
             ],
             [
              0.7777777777777778,
              "#fb9f3a"
             ],
             [
              0.8888888888888888,
              "#fdca26"
             ],
             [
              1,
              "#f0f921"
             ]
            ],
            "type": "heatmapgl"
           }
          ],
          "histogram": [
           {
            "marker": {
             "pattern": {
              "fillmode": "overlay",
              "size": 10,
              "solidity": 0.2
             }
            },
            "type": "histogram"
           }
          ],
          "histogram2d": [
           {
            "colorbar": {
             "outlinewidth": 0,
             "ticks": ""
            },
            "colorscale": [
             [
              0,
              "#0d0887"
             ],
             [
              0.1111111111111111,
              "#46039f"
             ],
             [
              0.2222222222222222,
              "#7201a8"
             ],
             [
              0.3333333333333333,
              "#9c179e"
             ],
             [
              0.4444444444444444,
              "#bd3786"
             ],
             [
              0.5555555555555556,
              "#d8576b"
             ],
             [
              0.6666666666666666,
              "#ed7953"
             ],
             [
              0.7777777777777778,
              "#fb9f3a"
             ],
             [
              0.8888888888888888,
              "#fdca26"
             ],
             [
              1,
              "#f0f921"
             ]
            ],
            "type": "histogram2d"
           }
          ],
          "histogram2dcontour": [
           {
            "colorbar": {
             "outlinewidth": 0,
             "ticks": ""
            },
            "colorscale": [
             [
              0,
              "#0d0887"
             ],
             [
              0.1111111111111111,
              "#46039f"
             ],
             [
              0.2222222222222222,
              "#7201a8"
             ],
             [
              0.3333333333333333,
              "#9c179e"
             ],
             [
              0.4444444444444444,
              "#bd3786"
             ],
             [
              0.5555555555555556,
              "#d8576b"
             ],
             [
              0.6666666666666666,
              "#ed7953"
             ],
             [
              0.7777777777777778,
              "#fb9f3a"
             ],
             [
              0.8888888888888888,
              "#fdca26"
             ],
             [
              1,
              "#f0f921"
             ]
            ],
            "type": "histogram2dcontour"
           }
          ],
          "mesh3d": [
           {
            "colorbar": {
             "outlinewidth": 0,
             "ticks": ""
            },
            "type": "mesh3d"
           }
          ],
          "parcoords": [
           {
            "line": {
             "colorbar": {
              "outlinewidth": 0,
              "ticks": ""
             }
            },
            "type": "parcoords"
           }
          ],
          "pie": [
           {
            "automargin": true,
            "type": "pie"
           }
          ],
          "scatter": [
           {
            "marker": {
             "colorbar": {
              "outlinewidth": 0,
              "ticks": ""
             }
            },
            "type": "scatter"
           }
          ],
          "scatter3d": [
           {
            "line": {
             "colorbar": {
              "outlinewidth": 0,
              "ticks": ""
             }
            },
            "marker": {
             "colorbar": {
              "outlinewidth": 0,
              "ticks": ""
             }
            },
            "type": "scatter3d"
           }
          ],
          "scattercarpet": [
           {
            "marker": {
             "colorbar": {
              "outlinewidth": 0,
              "ticks": ""
             }
            },
            "type": "scattercarpet"
           }
          ],
          "scattergeo": [
           {
            "marker": {
             "colorbar": {
              "outlinewidth": 0,
              "ticks": ""
             }
            },
            "type": "scattergeo"
           }
          ],
          "scattergl": [
           {
            "marker": {
             "colorbar": {
              "outlinewidth": 0,
              "ticks": ""
             }
            },
            "type": "scattergl"
           }
          ],
          "scattermapbox": [
           {
            "marker": {
             "colorbar": {
              "outlinewidth": 0,
              "ticks": ""
             }
            },
            "type": "scattermapbox"
           }
          ],
          "scatterpolar": [
           {
            "marker": {
             "colorbar": {
              "outlinewidth": 0,
              "ticks": ""
             }
            },
            "type": "scatterpolar"
           }
          ],
          "scatterpolargl": [
           {
            "marker": {
             "colorbar": {
              "outlinewidth": 0,
              "ticks": ""
             }
            },
            "type": "scatterpolargl"
           }
          ],
          "scatterternary": [
           {
            "marker": {
             "colorbar": {
              "outlinewidth": 0,
              "ticks": ""
             }
            },
            "type": "scatterternary"
           }
          ],
          "surface": [
           {
            "colorbar": {
             "outlinewidth": 0,
             "ticks": ""
            },
            "colorscale": [
             [
              0,
              "#0d0887"
             ],
             [
              0.1111111111111111,
              "#46039f"
             ],
             [
              0.2222222222222222,
              "#7201a8"
             ],
             [
              0.3333333333333333,
              "#9c179e"
             ],
             [
              0.4444444444444444,
              "#bd3786"
             ],
             [
              0.5555555555555556,
              "#d8576b"
             ],
             [
              0.6666666666666666,
              "#ed7953"
             ],
             [
              0.7777777777777778,
              "#fb9f3a"
             ],
             [
              0.8888888888888888,
              "#fdca26"
             ],
             [
              1,
              "#f0f921"
             ]
            ],
            "type": "surface"
           }
          ],
          "table": [
           {
            "cells": {
             "fill": {
              "color": "#EBF0F8"
             },
             "line": {
              "color": "white"
             }
            },
            "header": {
             "fill": {
              "color": "#C8D4E3"
             },
             "line": {
              "color": "white"
             }
            },
            "type": "table"
           }
          ]
         },
         "layout": {
          "annotationdefaults": {
           "arrowcolor": "#2a3f5f",
           "arrowhead": 0,
           "arrowwidth": 1
          },
          "autotypenumbers": "strict",
          "coloraxis": {
           "colorbar": {
            "outlinewidth": 0,
            "ticks": ""
           }
          },
          "colorscale": {
           "diverging": [
            [
             0,
             "#8e0152"
            ],
            [
             0.1,
             "#c51b7d"
            ],
            [
             0.2,
             "#de77ae"
            ],
            [
             0.3,
             "#f1b6da"
            ],
            [
             0.4,
             "#fde0ef"
            ],
            [
             0.5,
             "#f7f7f7"
            ],
            [
             0.6,
             "#e6f5d0"
            ],
            [
             0.7,
             "#b8e186"
            ],
            [
             0.8,
             "#7fbc41"
            ],
            [
             0.9,
             "#4d9221"
            ],
            [
             1,
             "#276419"
            ]
           ],
           "sequential": [
            [
             0,
             "#0d0887"
            ],
            [
             0.1111111111111111,
             "#46039f"
            ],
            [
             0.2222222222222222,
             "#7201a8"
            ],
            [
             0.3333333333333333,
             "#9c179e"
            ],
            [
             0.4444444444444444,
             "#bd3786"
            ],
            [
             0.5555555555555556,
             "#d8576b"
            ],
            [
             0.6666666666666666,
             "#ed7953"
            ],
            [
             0.7777777777777778,
             "#fb9f3a"
            ],
            [
             0.8888888888888888,
             "#fdca26"
            ],
            [
             1,
             "#f0f921"
            ]
           ],
           "sequentialminus": [
            [
             0,
             "#0d0887"
            ],
            [
             0.1111111111111111,
             "#46039f"
            ],
            [
             0.2222222222222222,
             "#7201a8"
            ],
            [
             0.3333333333333333,
             "#9c179e"
            ],
            [
             0.4444444444444444,
             "#bd3786"
            ],
            [
             0.5555555555555556,
             "#d8576b"
            ],
            [
             0.6666666666666666,
             "#ed7953"
            ],
            [
             0.7777777777777778,
             "#fb9f3a"
            ],
            [
             0.8888888888888888,
             "#fdca26"
            ],
            [
             1,
             "#f0f921"
            ]
           ]
          },
          "colorway": [
           "#636efa",
           "#EF553B",
           "#00cc96",
           "#ab63fa",
           "#FFA15A",
           "#19d3f3",
           "#FF6692",
           "#B6E880",
           "#FF97FF",
           "#FECB52"
          ],
          "font": {
           "color": "#2a3f5f"
          },
          "geo": {
           "bgcolor": "white",
           "lakecolor": "white",
           "landcolor": "#E5ECF6",
           "showlakes": true,
           "showland": true,
           "subunitcolor": "white"
          },
          "hoverlabel": {
           "align": "left"
          },
          "hovermode": "closest",
          "mapbox": {
           "style": "light"
          },
          "paper_bgcolor": "white",
          "plot_bgcolor": "#E5ECF6",
          "polar": {
           "angularaxis": {
            "gridcolor": "white",
            "linecolor": "white",
            "ticks": ""
           },
           "bgcolor": "#E5ECF6",
           "radialaxis": {
            "gridcolor": "white",
            "linecolor": "white",
            "ticks": ""
           }
          },
          "scene": {
           "xaxis": {
            "backgroundcolor": "#E5ECF6",
            "gridcolor": "white",
            "gridwidth": 2,
            "linecolor": "white",
            "showbackground": true,
            "ticks": "",
            "zerolinecolor": "white"
           },
           "yaxis": {
            "backgroundcolor": "#E5ECF6",
            "gridcolor": "white",
            "gridwidth": 2,
            "linecolor": "white",
            "showbackground": true,
            "ticks": "",
            "zerolinecolor": "white"
           },
           "zaxis": {
            "backgroundcolor": "#E5ECF6",
            "gridcolor": "white",
            "gridwidth": 2,
            "linecolor": "white",
            "showbackground": true,
            "ticks": "",
            "zerolinecolor": "white"
           }
          },
          "shapedefaults": {
           "line": {
            "color": "#2a3f5f"
           }
          },
          "ternary": {
           "aaxis": {
            "gridcolor": "white",
            "linecolor": "white",
            "ticks": ""
           },
           "baxis": {
            "gridcolor": "white",
            "linecolor": "white",
            "ticks": ""
           },
           "bgcolor": "#E5ECF6",
           "caxis": {
            "gridcolor": "white",
            "linecolor": "white",
            "ticks": ""
           }
          },
          "title": {
           "x": 0.05
          },
          "xaxis": {
           "automargin": true,
           "gridcolor": "white",
           "linecolor": "white",
           "ticks": "",
           "title": {
            "standoff": 15
           },
           "zerolinecolor": "white",
           "zerolinewidth": 2
          },
          "yaxis": {
           "automargin": true,
           "gridcolor": "white",
           "linecolor": "white",
           "ticks": "",
           "title": {
            "standoff": 15
           },
           "zerolinecolor": "white",
           "zerolinewidth": 2
          }
         }
        },
        "title": {
         "text": "Reflector Hit"
        },
        "xaxis": {
         "anchor": "y",
         "categoryarray": [
          "Reflector #1",
          "Reflector #2",
          "Reflector #3",
          "Reflector #4",
          "Reflector #5",
          "nan"
         ],
         "categoryorder": "array",
         "domain": [
          0,
          1
         ],
         "title": {
          "text": "Reflector"
         }
        },
        "yaxis": {
         "anchor": "x",
         "domain": [
          0,
          1
         ],
         "title": {
          "text": "count"
         }
        }
       }
      }
     },
     "metadata": {},
     "output_type": "display_data"
    }
   ],
   "source": [
    "px.histogram(df.sort_values('reflector_str', ascending=True), x='reflector_str', title='Reflector Hit', color='reflector_str', **histogram_options)"
   ]
  },
  {
   "cell_type": "code",
   "execution_count": 414,
   "metadata": {},
   "outputs": [
    {
     "data": {
      "application/vnd.plotly.v1+json": {
       "config": {
        "plotlyServerURL": "https://plot.ly"
       },
       "data": [
        {
         "alignmentgroup": "True",
         "bingroup": "x",
         "hovertemplate": "Hit Reflector?=True<br>Relative Change in Starting Battery %=%{x}<br>count=%{y}<extra></extra>",
         "legendgroup": "True",
         "marker": {
          "color": "rgb(75, 41, 145)",
          "pattern": {
           "shape": ""
          }
         },
         "name": "True",
         "nbinsx": 75,
         "offsetgroup": "True",
         "orientation": "v",
         "showlegend": true,
         "type": "histogram",
         "x": [
          3.200000000000003,
          3.1000000000000085,
          4.200000000000003,
          3.3999999999999915,
          3.0999999999999943,
          3.700000000000003,
          3.5999999999999943,
          2.700000000000003,
          2.8999999999999915,
          2.5,
          3,
          3,
          3.5,
          2.5,
          2.200000000000003,
          5.099999999999994,
          3.5,
          4,
          4.5,
          2.700000000000003,
          3.0999999999999943,
          3.5999999999999943,
          2.1000000000000085,
          2.5999999999999943,
          3.6000000000000085,
          2.700000000000003,
          2.299999999999997,
          2.799999999999997,
          3.8999999999999915,
          2.5,
          4.5,
          2.5,
          2.5,
          2.799999999999997,
          4.700000000000003,
          2.5,
          2.200000000000003,
          3.8999999999999915,
          2.200000000000003,
          2.5,
          4,
          3.0999999999999943,
          2.6000000000000085,
          3.1000000000000085,
          4.299999999999997,
          3.700000000000003,
          3.3000000000000114,
          2.5,
          5.8999999999999915,
          1.9000000000000057,
          2,
          1.4000000000000057,
          1.3000000000000114,
          1.7999999999999972,
          2,
          1.9000000000000057,
          1.3999999999999915,
          1.4000000000000057,
          1.7000000000000028,
          1.7999999999999972,
          1.6999999999999886,
          1.3999999999999915,
          1.8999999999999915,
          1.4000000000000057,
          1.8000000000000114,
          1.4000000000000057,
          1.5,
          2,
          1.7999999999999972,
          2,
          1.7000000000000028,
          1.5,
          2,
          2,
          1.5999999999999943,
          2,
          1.6000000000000085,
          1.5,
          2,
          1.5999999999999943,
          2,
          1,
          1.0999999999999943,
          1.2999999999999972,
          1.0999999999999943,
          1,
          1,
          0.9000000000000057,
          0.8000000000000114,
          0.8000000000000114,
          1,
          0.8999999999999915,
          1.0999999999999943,
          0.9000000000000057,
          1.1999999999999886,
          1,
          1.0999999999999943,
          1.0999999999999943,
          1.2000000000000028,
          0.8999999999999915,
          1.1000000000000085,
          1.1000000000000085,
          1.1000000000000085,
          1.2000000000000028,
          1.0999999999999943,
          1.1000000000000085,
          0.8999999999999915,
          1,
          1.2000000000000028,
          1,
          1.1000000000000085,
          1.1000000000000085,
          1.1999999999999886,
          1.1000000000000085,
          1,
          1.2000000000000028,
          1.1000000000000085,
          1,
          1.1000000000000085,
          0.6000000000000085,
          0.4000000000000057,
          0.7000000000000028,
          0.5,
          0.4000000000000057,
          0.5,
          0.5,
          0.7000000000000028,
          0.7000000000000028,
          0.5999999999999943,
          0.5999999999999943,
          0.7000000000000028,
          0.5,
          0.5,
          0.6000000000000085,
          0.5999999999999943,
          0.5999999999999943,
          0.7999999999999972,
          0.5999999999999943,
          0.5,
          0.5999999999999943,
          0.6000000000000085,
          0.5999999999999943,
          0.4000000000000057,
          0.7999999999999972,
          0.6000000000000085,
          0.7999999999999972,
          0.7999999999999972,
          0.7999999999999972,
          0.5999999999999943,
          0.5,
          0.5999999999999943,
          0.4000000000000057,
          0.7999999999999972,
          0.5,
          0.5,
          0.7000000000000028,
          0.7999999999999972,
          0.7999999999999972,
          0.10000000000000853,
          0.29999999999999716,
          0.09999999999999432,
          0.19999999999998863,
          0.10000000000000853,
          0,
          0.09999999999999432,
          0,
          0.19999999999998863,
          0.09999999999999432,
          0.20000000000000284,
          0,
          0.09999999999999432,
          0.09999999999999432,
          0.29999999999999716,
          0.3999999999999915,
          0.19999999999998863,
          0,
          0,
          0.30000000000001137,
          0.20000000000000284,
          0,
          0,
          0,
          0.10000000000000853,
          0,
          0.29999999999999716,
          0.29999999999999716,
          0,
          0.10000000000000853,
          0.09999999999999432,
          0,
          0.20000000000000284,
          0.19999999999998863,
          0,
          0.30000000000001137,
          0.29999999999999716,
          0.09999999999999432
         ],
         "xaxis": "x",
         "yaxis": "y"
        },
        {
         "alignmentgroup": "True",
         "bingroup": "x",
         "hovertemplate": "Hit Reflector?=False<br>Relative Change in Starting Battery %=%{x}<br>count=%{y}<extra></extra>",
         "legendgroup": "False",
         "marker": {
          "color": "rgb(135, 44, 162)",
          "pattern": {
           "shape": ""
          }
         },
         "name": "False",
         "nbinsx": 75,
         "offsetgroup": "False",
         "orientation": "v",
         "showlegend": true,
         "type": "histogram",
         "x": [
          -1.3999999999999915,
          -4.6000000000000085,
          -0.8999999999999915,
          -1.1000000000000085,
          -0.5999999999999943,
          -1.6000000000000085,
          -0.9000000000000057,
          -3.299999999999997,
          -0.20000000000000284,
          -1.7000000000000028,
          -2.3999999999999915,
          -3.299999999999997,
          -2.700000000000003,
          -1.2000000000000028,
          -0.7999999999999972,
          -1.3999999999999915,
          -1.8999999999999915,
          -2.4000000000000057,
          -0.30000000000001137,
          -0.09999999999999432,
          -0.4000000000000057,
          -1.5,
          -0.7000000000000028,
          -1.6999999999999886,
          -1.2000000000000028,
          -2.9000000000000057,
          -0.7000000000000028,
          -3.1999999999999886,
          -2.8999999999999915,
          -3.4000000000000057,
          -1.5,
          -2.799999999999997,
          -1.2999999999999972,
          -0.20000000000000284,
          -3,
          -2.5999999999999943,
          -0.5,
          -1.2000000000000028,
          -4.299999999999997,
          -1.9000000000000057,
          -1,
          -2.5999999999999943,
          -2.200000000000003,
          -3.5999999999999943,
          -3.3000000000000114,
          -1.2999999999999972,
          -1,
          -1.1000000000000085,
          -1.3999999999999915,
          -0.6000000000000085,
          -1.2999999999999972,
          -2,
          -1.4000000000000057,
          -3.0999999999999943,
          -0.8000000000000114,
          -0.19999999999998863,
          -1,
          -3.3999999999999915,
          -0.10000000000000853,
          -2.799999999999997,
          -0.7000000000000028,
          -1.1000000000000085,
          -2.6999999999999886,
          -2.299999999999997,
          -2.700000000000003,
          -0.09999999999999432,
          -3.700000000000003,
          -2,
          -3.700000000000003,
          -0.7000000000000028,
          -0.20000000000000284,
          -0.5,
          -2.1999999999999886,
          -1.2000000000000028,
          -3.200000000000003,
          -4.299999999999997,
          -1.1000000000000085,
          -3.299999999999997,
          -1.3999999999999915,
          -4.400000000000006,
          -0.20000000000000284,
          -2.9000000000000057,
          -2.3999999999999915,
          -0.4000000000000057,
          -3.0999999999999943,
          -2.1999999999999886,
          -0.7000000000000028,
          -1.7999999999999972,
          -2.299999999999997,
          -1,
          -0.4000000000000057,
          -3.5999999999999943,
          -1.1999999999999886,
          -0.8000000000000114,
          -1.2999999999999972,
          -0.29999999999999716,
          -1.1000000000000085,
          -0.3999999999999915,
          -2.799999999999997,
          -1.7999999999999972,
          -1,
          -0.4000000000000057,
          -4.1000000000000085,
          -0.10000000000000853,
          -1.5,
          -1.0999999999999943,
          -1.2000000000000028,
          -0.20000000000000284,
          -1.0999999999999943,
          -1.0999999999999943,
          -2.799999999999997,
          -0.20000000000000284,
          -2.5,
          -1.1999999999999886,
          -4.5,
          -0.20000000000000284,
          -0.29999999999999716,
          -1.7999999999999972,
          -0.6000000000000085,
          -1.7000000000000028,
          -0.4000000000000057,
          -2.5,
          -1.1000000000000085,
          -2.5999999999999943,
          -5.5,
          -1.8999999999999915,
          -0.8999999999999915,
          -0.20000000000000284,
          -0.7999999999999972,
          -0.5999999999999943,
          -0.30000000000001137,
          -3.9000000000000057,
          -2.4000000000000057,
          -3.5,
          -2.5,
          -1.2000000000000028,
          -1.5,
          -0.20000000000000284,
          -1.1000000000000085,
          -3.5999999999999943,
          -0.29999999999999716,
          -1.2000000000000028,
          -0.29999999999999716,
          -3,
          -1.3999999999999915,
          -2.1000000000000085,
          -1.5,
          -0.5,
          -0.5,
          -0.09999999999999432,
          -4.5,
          -2.200000000000003,
          -3.5999999999999943,
          -0.7999999999999972,
          -1.2999999999999972,
          -0.7000000000000028,
          -1.2999999999999972,
          -1.2000000000000028,
          -0.4000000000000057,
          -2.0999999999999943,
          -1.7000000000000028,
          -3.9000000000000057,
          -3.4000000000000057,
          -1,
          -0.8000000000000114,
          -3.700000000000003,
          -2.5,
          -1.5,
          -0.8999999999999915
         ],
         "xaxis": "x",
         "yaxis": "y"
        }
       ],
       "layout": {
        "barmode": "relative",
        "height": 500,
        "legend": {
         "title": {
          "text": "Hit Reflector?"
         },
         "tracegroupgap": 0
        },
        "template": {
         "data": {
          "bar": [
           {
            "error_x": {
             "color": "#2a3f5f"
            },
            "error_y": {
             "color": "#2a3f5f"
            },
            "marker": {
             "line": {
              "color": "#E5ECF6",
              "width": 0.5
             },
             "pattern": {
              "fillmode": "overlay",
              "size": 10,
              "solidity": 0.2
             }
            },
            "type": "bar"
           }
          ],
          "barpolar": [
           {
            "marker": {
             "line": {
              "color": "#E5ECF6",
              "width": 0.5
             },
             "pattern": {
              "fillmode": "overlay",
              "size": 10,
              "solidity": 0.2
             }
            },
            "type": "barpolar"
           }
          ],
          "carpet": [
           {
            "aaxis": {
             "endlinecolor": "#2a3f5f",
             "gridcolor": "white",
             "linecolor": "white",
             "minorgridcolor": "white",
             "startlinecolor": "#2a3f5f"
            },
            "baxis": {
             "endlinecolor": "#2a3f5f",
             "gridcolor": "white",
             "linecolor": "white",
             "minorgridcolor": "white",
             "startlinecolor": "#2a3f5f"
            },
            "type": "carpet"
           }
          ],
          "choropleth": [
           {
            "colorbar": {
             "outlinewidth": 0,
             "ticks": ""
            },
            "type": "choropleth"
           }
          ],
          "contour": [
           {
            "colorbar": {
             "outlinewidth": 0,
             "ticks": ""
            },
            "colorscale": [
             [
              0,
              "#0d0887"
             ],
             [
              0.1111111111111111,
              "#46039f"
             ],
             [
              0.2222222222222222,
              "#7201a8"
             ],
             [
              0.3333333333333333,
              "#9c179e"
             ],
             [
              0.4444444444444444,
              "#bd3786"
             ],
             [
              0.5555555555555556,
              "#d8576b"
             ],
             [
              0.6666666666666666,
              "#ed7953"
             ],
             [
              0.7777777777777778,
              "#fb9f3a"
             ],
             [
              0.8888888888888888,
              "#fdca26"
             ],
             [
              1,
              "#f0f921"
             ]
            ],
            "type": "contour"
           }
          ],
          "contourcarpet": [
           {
            "colorbar": {
             "outlinewidth": 0,
             "ticks": ""
            },
            "type": "contourcarpet"
           }
          ],
          "heatmap": [
           {
            "colorbar": {
             "outlinewidth": 0,
             "ticks": ""
            },
            "colorscale": [
             [
              0,
              "#0d0887"
             ],
             [
              0.1111111111111111,
              "#46039f"
             ],
             [
              0.2222222222222222,
              "#7201a8"
             ],
             [
              0.3333333333333333,
              "#9c179e"
             ],
             [
              0.4444444444444444,
              "#bd3786"
             ],
             [
              0.5555555555555556,
              "#d8576b"
             ],
             [
              0.6666666666666666,
              "#ed7953"
             ],
             [
              0.7777777777777778,
              "#fb9f3a"
             ],
             [
              0.8888888888888888,
              "#fdca26"
             ],
             [
              1,
              "#f0f921"
             ]
            ],
            "type": "heatmap"
           }
          ],
          "heatmapgl": [
           {
            "colorbar": {
             "outlinewidth": 0,
             "ticks": ""
            },
            "colorscale": [
             [
              0,
              "#0d0887"
             ],
             [
              0.1111111111111111,
              "#46039f"
             ],
             [
              0.2222222222222222,
              "#7201a8"
             ],
             [
              0.3333333333333333,
              "#9c179e"
             ],
             [
              0.4444444444444444,
              "#bd3786"
             ],
             [
              0.5555555555555556,
              "#d8576b"
             ],
             [
              0.6666666666666666,
              "#ed7953"
             ],
             [
              0.7777777777777778,
              "#fb9f3a"
             ],
             [
              0.8888888888888888,
              "#fdca26"
             ],
             [
              1,
              "#f0f921"
             ]
            ],
            "type": "heatmapgl"
           }
          ],
          "histogram": [
           {
            "marker": {
             "pattern": {
              "fillmode": "overlay",
              "size": 10,
              "solidity": 0.2
             }
            },
            "type": "histogram"
           }
          ],
          "histogram2d": [
           {
            "colorbar": {
             "outlinewidth": 0,
             "ticks": ""
            },
            "colorscale": [
             [
              0,
              "#0d0887"
             ],
             [
              0.1111111111111111,
              "#46039f"
             ],
             [
              0.2222222222222222,
              "#7201a8"
             ],
             [
              0.3333333333333333,
              "#9c179e"
             ],
             [
              0.4444444444444444,
              "#bd3786"
             ],
             [
              0.5555555555555556,
              "#d8576b"
             ],
             [
              0.6666666666666666,
              "#ed7953"
             ],
             [
              0.7777777777777778,
              "#fb9f3a"
             ],
             [
              0.8888888888888888,
              "#fdca26"
             ],
             [
              1,
              "#f0f921"
             ]
            ],
            "type": "histogram2d"
           }
          ],
          "histogram2dcontour": [
           {
            "colorbar": {
             "outlinewidth": 0,
             "ticks": ""
            },
            "colorscale": [
             [
              0,
              "#0d0887"
             ],
             [
              0.1111111111111111,
              "#46039f"
             ],
             [
              0.2222222222222222,
              "#7201a8"
             ],
             [
              0.3333333333333333,
              "#9c179e"
             ],
             [
              0.4444444444444444,
              "#bd3786"
             ],
             [
              0.5555555555555556,
              "#d8576b"
             ],
             [
              0.6666666666666666,
              "#ed7953"
             ],
             [
              0.7777777777777778,
              "#fb9f3a"
             ],
             [
              0.8888888888888888,
              "#fdca26"
             ],
             [
              1,
              "#f0f921"
             ]
            ],
            "type": "histogram2dcontour"
           }
          ],
          "mesh3d": [
           {
            "colorbar": {
             "outlinewidth": 0,
             "ticks": ""
            },
            "type": "mesh3d"
           }
          ],
          "parcoords": [
           {
            "line": {
             "colorbar": {
              "outlinewidth": 0,
              "ticks": ""
             }
            },
            "type": "parcoords"
           }
          ],
          "pie": [
           {
            "automargin": true,
            "type": "pie"
           }
          ],
          "scatter": [
           {
            "marker": {
             "colorbar": {
              "outlinewidth": 0,
              "ticks": ""
             }
            },
            "type": "scatter"
           }
          ],
          "scatter3d": [
           {
            "line": {
             "colorbar": {
              "outlinewidth": 0,
              "ticks": ""
             }
            },
            "marker": {
             "colorbar": {
              "outlinewidth": 0,
              "ticks": ""
             }
            },
            "type": "scatter3d"
           }
          ],
          "scattercarpet": [
           {
            "marker": {
             "colorbar": {
              "outlinewidth": 0,
              "ticks": ""
             }
            },
            "type": "scattercarpet"
           }
          ],
          "scattergeo": [
           {
            "marker": {
             "colorbar": {
              "outlinewidth": 0,
              "ticks": ""
             }
            },
            "type": "scattergeo"
           }
          ],
          "scattergl": [
           {
            "marker": {
             "colorbar": {
              "outlinewidth": 0,
              "ticks": ""
             }
            },
            "type": "scattergl"
           }
          ],
          "scattermapbox": [
           {
            "marker": {
             "colorbar": {
              "outlinewidth": 0,
              "ticks": ""
             }
            },
            "type": "scattermapbox"
           }
          ],
          "scatterpolar": [
           {
            "marker": {
             "colorbar": {
              "outlinewidth": 0,
              "ticks": ""
             }
            },
            "type": "scatterpolar"
           }
          ],
          "scatterpolargl": [
           {
            "marker": {
             "colorbar": {
              "outlinewidth": 0,
              "ticks": ""
             }
            },
            "type": "scatterpolargl"
           }
          ],
          "scatterternary": [
           {
            "marker": {
             "colorbar": {
              "outlinewidth": 0,
              "ticks": ""
             }
            },
            "type": "scatterternary"
           }
          ],
          "surface": [
           {
            "colorbar": {
             "outlinewidth": 0,
             "ticks": ""
            },
            "colorscale": [
             [
              0,
              "#0d0887"
             ],
             [
              0.1111111111111111,
              "#46039f"
             ],
             [
              0.2222222222222222,
              "#7201a8"
             ],
             [
              0.3333333333333333,
              "#9c179e"
             ],
             [
              0.4444444444444444,
              "#bd3786"
             ],
             [
              0.5555555555555556,
              "#d8576b"
             ],
             [
              0.6666666666666666,
              "#ed7953"
             ],
             [
              0.7777777777777778,
              "#fb9f3a"
             ],
             [
              0.8888888888888888,
              "#fdca26"
             ],
             [
              1,
              "#f0f921"
             ]
            ],
            "type": "surface"
           }
          ],
          "table": [
           {
            "cells": {
             "fill": {
              "color": "#EBF0F8"
             },
             "line": {
              "color": "white"
             }
            },
            "header": {
             "fill": {
              "color": "#C8D4E3"
             },
             "line": {
              "color": "white"
             }
            },
            "type": "table"
           }
          ]
         },
         "layout": {
          "annotationdefaults": {
           "arrowcolor": "#2a3f5f",
           "arrowhead": 0,
           "arrowwidth": 1
          },
          "autotypenumbers": "strict",
          "coloraxis": {
           "colorbar": {
            "outlinewidth": 0,
            "ticks": ""
           }
          },
          "colorscale": {
           "diverging": [
            [
             0,
             "#8e0152"
            ],
            [
             0.1,
             "#c51b7d"
            ],
            [
             0.2,
             "#de77ae"
            ],
            [
             0.3,
             "#f1b6da"
            ],
            [
             0.4,
             "#fde0ef"
            ],
            [
             0.5,
             "#f7f7f7"
            ],
            [
             0.6,
             "#e6f5d0"
            ],
            [
             0.7,
             "#b8e186"
            ],
            [
             0.8,
             "#7fbc41"
            ],
            [
             0.9,
             "#4d9221"
            ],
            [
             1,
             "#276419"
            ]
           ],
           "sequential": [
            [
             0,
             "#0d0887"
            ],
            [
             0.1111111111111111,
             "#46039f"
            ],
            [
             0.2222222222222222,
             "#7201a8"
            ],
            [
             0.3333333333333333,
             "#9c179e"
            ],
            [
             0.4444444444444444,
             "#bd3786"
            ],
            [
             0.5555555555555556,
             "#d8576b"
            ],
            [
             0.6666666666666666,
             "#ed7953"
            ],
            [
             0.7777777777777778,
             "#fb9f3a"
            ],
            [
             0.8888888888888888,
             "#fdca26"
            ],
            [
             1,
             "#f0f921"
            ]
           ],
           "sequentialminus": [
            [
             0,
             "#0d0887"
            ],
            [
             0.1111111111111111,
             "#46039f"
            ],
            [
             0.2222222222222222,
             "#7201a8"
            ],
            [
             0.3333333333333333,
             "#9c179e"
            ],
            [
             0.4444444444444444,
             "#bd3786"
            ],
            [
             0.5555555555555556,
             "#d8576b"
            ],
            [
             0.6666666666666666,
             "#ed7953"
            ],
            [
             0.7777777777777778,
             "#fb9f3a"
            ],
            [
             0.8888888888888888,
             "#fdca26"
            ],
            [
             1,
             "#f0f921"
            ]
           ]
          },
          "colorway": [
           "#636efa",
           "#EF553B",
           "#00cc96",
           "#ab63fa",
           "#FFA15A",
           "#19d3f3",
           "#FF6692",
           "#B6E880",
           "#FF97FF",
           "#FECB52"
          ],
          "font": {
           "color": "#2a3f5f"
          },
          "geo": {
           "bgcolor": "white",
           "lakecolor": "white",
           "landcolor": "#E5ECF6",
           "showlakes": true,
           "showland": true,
           "subunitcolor": "white"
          },
          "hoverlabel": {
           "align": "left"
          },
          "hovermode": "closest",
          "mapbox": {
           "style": "light"
          },
          "paper_bgcolor": "white",
          "plot_bgcolor": "#E5ECF6",
          "polar": {
           "angularaxis": {
            "gridcolor": "white",
            "linecolor": "white",
            "ticks": ""
           },
           "bgcolor": "#E5ECF6",
           "radialaxis": {
            "gridcolor": "white",
            "linecolor": "white",
            "ticks": ""
           }
          },
          "scene": {
           "xaxis": {
            "backgroundcolor": "#E5ECF6",
            "gridcolor": "white",
            "gridwidth": 2,
            "linecolor": "white",
            "showbackground": true,
            "ticks": "",
            "zerolinecolor": "white"
           },
           "yaxis": {
            "backgroundcolor": "#E5ECF6",
            "gridcolor": "white",
            "gridwidth": 2,
            "linecolor": "white",
            "showbackground": true,
            "ticks": "",
            "zerolinecolor": "white"
           },
           "zaxis": {
            "backgroundcolor": "#E5ECF6",
            "gridcolor": "white",
            "gridwidth": 2,
            "linecolor": "white",
            "showbackground": true,
            "ticks": "",
            "zerolinecolor": "white"
           }
          },
          "shapedefaults": {
           "line": {
            "color": "#2a3f5f"
           }
          },
          "ternary": {
           "aaxis": {
            "gridcolor": "white",
            "linecolor": "white",
            "ticks": ""
           },
           "baxis": {
            "gridcolor": "white",
            "linecolor": "white",
            "ticks": ""
           },
           "bgcolor": "#E5ECF6",
           "caxis": {
            "gridcolor": "white",
            "linecolor": "white",
            "ticks": ""
           }
          },
          "title": {
           "x": 0.05
          },
          "xaxis": {
           "automargin": true,
           "gridcolor": "white",
           "linecolor": "white",
           "ticks": "",
           "title": {
            "standoff": 15
           },
           "zerolinecolor": "white",
           "zerolinewidth": 2
          },
          "yaxis": {
           "automargin": true,
           "gridcolor": "white",
           "linecolor": "white",
           "ticks": "",
           "title": {
            "standoff": 15
           },
           "zerolinecolor": "white",
           "zerolinewidth": 2
          }
         }
        },
        "title": {
         "text": "Battery Recharge by Reflector Hit"
        },
        "xaxis": {
         "anchor": "y",
         "domain": [
          0,
          1
         ],
         "title": {
          "text": "Relative Change in Starting Battery %"
         }
        },
        "yaxis": {
         "anchor": "x",
         "domain": [
          0,
          1
         ],
         "title": {
          "text": "count"
         }
        }
       }
      }
     },
     "metadata": {},
     "output_type": "display_data"
    }
   ],
   "source": [
    "px.histogram(df.sort_values('reflector_str'), x='battery delta', title='Battery Recharge by Reflector Hit', color='hit reflector', nbins=75, **histogram_options)"
   ]
  },
  {
   "cell_type": "code",
   "execution_count": 415,
   "metadata": {},
   "outputs": [
    {
     "data": {
      "application/vnd.plotly.v1+json": {
       "config": {
        "plotlyServerURL": "https://plot.ly"
       },
       "data": [
        {
         "alignmentgroup": "True",
         "bingroup": "x",
         "hovertemplate": "Reflector=Reflector #1<br>Relative Change in Starting Battery %=%{x}<br>count=%{y}<extra></extra>",
         "legendgroup": "Reflector #1",
         "marker": {
          "color": "rgb(75, 41, 145)",
          "pattern": {
           "shape": ""
          }
         },
         "name": "Reflector #1",
         "nbinsx": 75,
         "offsetgroup": "Reflector #1",
         "orientation": "v",
         "showlegend": true,
         "type": "histogram",
         "x": [
          3.200000000000003,
          3.1000000000000085,
          4.200000000000003,
          3.3999999999999915,
          3.0999999999999943,
          3.700000000000003,
          3.5999999999999943,
          2.700000000000003,
          2.8999999999999915,
          2.5,
          3,
          3,
          3.5,
          2.5,
          2.200000000000003,
          5.099999999999994,
          3.5,
          4,
          4.5,
          2.700000000000003,
          3.0999999999999943,
          3.5999999999999943,
          2.1000000000000085,
          2.5999999999999943,
          3.6000000000000085,
          2.700000000000003,
          2.299999999999997,
          2.799999999999997,
          3.8999999999999915,
          2.5,
          4.5,
          2.5,
          2.5,
          2.799999999999997,
          4.700000000000003,
          2.5,
          2.200000000000003,
          3.8999999999999915,
          2.200000000000003,
          2.5,
          4,
          3.0999999999999943,
          2.6000000000000085,
          3.1000000000000085,
          4.299999999999997,
          3.700000000000003,
          3.3000000000000114,
          2.5,
          5.8999999999999915
         ],
         "xaxis": "x",
         "yaxis": "y"
        },
        {
         "alignmentgroup": "True",
         "bingroup": "x",
         "hovertemplate": "Reflector=Reflector #2<br>Relative Change in Starting Battery %=%{x}<br>count=%{y}<extra></extra>",
         "legendgroup": "Reflector #2",
         "marker": {
          "color": "rgb(135, 44, 162)",
          "pattern": {
           "shape": ""
          }
         },
         "name": "Reflector #2",
         "nbinsx": 75,
         "offsetgroup": "Reflector #2",
         "orientation": "v",
         "showlegend": true,
         "type": "histogram",
         "x": [
          1.9000000000000057,
          2,
          1.4000000000000057,
          1.3000000000000114,
          1.7999999999999972,
          2,
          1.9000000000000057,
          1.3999999999999915,
          1.4000000000000057,
          1.7000000000000028,
          1.7999999999999972,
          1.6999999999999886,
          1.3999999999999915,
          1.8999999999999915,
          1.4000000000000057,
          1.8000000000000114,
          1.4000000000000057,
          1.5,
          2,
          1.7999999999999972,
          2,
          1.7000000000000028,
          1.5,
          2,
          2,
          1.5999999999999943,
          2,
          1.6000000000000085,
          1.5,
          2,
          1.5999999999999943,
          2
         ],
         "xaxis": "x",
         "yaxis": "y"
        },
        {
         "alignmentgroup": "True",
         "bingroup": "x",
         "hovertemplate": "Reflector=Reflector #3<br>Relative Change in Starting Battery %=%{x}<br>count=%{y}<extra></extra>",
         "legendgroup": "Reflector #3",
         "marker": {
          "color": "rgb(192, 54, 157)",
          "pattern": {
           "shape": ""
          }
         },
         "name": "Reflector #3",
         "nbinsx": 75,
         "offsetgroup": "Reflector #3",
         "orientation": "v",
         "showlegend": true,
         "type": "histogram",
         "x": [
          1,
          1.0999999999999943,
          1.2999999999999972,
          1.0999999999999943,
          1,
          1,
          0.9000000000000057,
          0.8000000000000114,
          0.8000000000000114,
          1,
          0.8999999999999915,
          1.0999999999999943,
          0.9000000000000057,
          1.1999999999999886,
          1,
          1.0999999999999943,
          1.0999999999999943,
          1.2000000000000028,
          0.8999999999999915,
          1.1000000000000085,
          1.1000000000000085,
          1.1000000000000085,
          1.2000000000000028,
          1.0999999999999943,
          1.1000000000000085,
          0.8999999999999915,
          1,
          1.2000000000000028,
          1,
          1.1000000000000085,
          1.1000000000000085,
          1.1999999999999886,
          1.1000000000000085,
          1,
          1.2000000000000028,
          1.1000000000000085,
          1,
          1.1000000000000085
         ],
         "xaxis": "x",
         "yaxis": "y"
        },
        {
         "alignmentgroup": "True",
         "bingroup": "x",
         "hovertemplate": "Reflector=Reflector #4<br>Relative Change in Starting Battery %=%{x}<br>count=%{y}<extra></extra>",
         "legendgroup": "Reflector #4",
         "marker": {
          "color": "rgb(234, 79, 136)",
          "pattern": {
           "shape": ""
          }
         },
         "name": "Reflector #4",
         "nbinsx": 75,
         "offsetgroup": "Reflector #4",
         "orientation": "v",
         "showlegend": true,
         "type": "histogram",
         "x": [
          0.6000000000000085,
          0.4000000000000057,
          0.7000000000000028,
          0.5,
          0.4000000000000057,
          0.5,
          0.5,
          0.7000000000000028,
          0.7000000000000028,
          0.5999999999999943,
          0.5999999999999943,
          0.7000000000000028,
          0.5,
          0.5,
          0.6000000000000085,
          0.5999999999999943,
          0.5999999999999943,
          0.7999999999999972,
          0.5999999999999943,
          0.5,
          0.5999999999999943,
          0.6000000000000085,
          0.5999999999999943,
          0.4000000000000057,
          0.7999999999999972,
          0.6000000000000085,
          0.7999999999999972,
          0.7999999999999972,
          0.7999999999999972,
          0.5999999999999943,
          0.5,
          0.5999999999999943,
          0.4000000000000057,
          0.7999999999999972,
          0.5,
          0.5,
          0.7000000000000028,
          0.7999999999999972,
          0.7999999999999972
         ],
         "xaxis": "x",
         "yaxis": "y"
        },
        {
         "alignmentgroup": "True",
         "bingroup": "x",
         "hovertemplate": "Reflector=Reflector #5<br>Relative Change in Starting Battery %=%{x}<br>count=%{y}<extra></extra>",
         "legendgroup": "Reflector #5",
         "marker": {
          "color": "rgb(250, 120, 118)",
          "pattern": {
           "shape": ""
          }
         },
         "name": "Reflector #5",
         "nbinsx": 75,
         "offsetgroup": "Reflector #5",
         "orientation": "v",
         "showlegend": true,
         "type": "histogram",
         "x": [
          0.10000000000000853,
          0.29999999999999716,
          0.09999999999999432,
          0.19999999999998863,
          0.10000000000000853,
          0,
          0.09999999999999432,
          0,
          0.19999999999998863,
          0.09999999999999432,
          0.20000000000000284,
          0,
          0.09999999999999432,
          0.09999999999999432,
          0.29999999999999716,
          0.3999999999999915,
          0.19999999999998863,
          0,
          0,
          0.30000000000001137,
          0.20000000000000284,
          0,
          0,
          0,
          0.10000000000000853,
          0,
          0.29999999999999716,
          0.29999999999999716,
          0,
          0.10000000000000853,
          0.09999999999999432,
          0,
          0.20000000000000284,
          0.19999999999998863,
          0,
          0.30000000000001137,
          0.29999999999999716,
          0.09999999999999432
         ],
         "xaxis": "x",
         "yaxis": "y"
        },
        {
         "alignmentgroup": "True",
         "bingroup": "x",
         "hovertemplate": "Reflector=nan<br>Relative Change in Starting Battery %=%{x}<br>count=%{y}<extra></extra>",
         "legendgroup": "nan",
         "marker": {
          "color": "rgb(246, 169, 122)",
          "pattern": {
           "shape": ""
          }
         },
         "name": "nan",
         "nbinsx": 75,
         "offsetgroup": "nan",
         "orientation": "v",
         "showlegend": true,
         "type": "histogram",
         "x": [
          -1.3999999999999915,
          -4.6000000000000085,
          -0.8999999999999915,
          -1.1000000000000085,
          -0.5999999999999943,
          -1.6000000000000085,
          -0.9000000000000057,
          -3.299999999999997,
          -0.20000000000000284,
          -1.7000000000000028,
          -2.3999999999999915,
          -3.299999999999997,
          -2.700000000000003,
          -1.2000000000000028,
          -0.7999999999999972,
          -1.3999999999999915,
          -1.8999999999999915,
          -2.4000000000000057,
          -0.30000000000001137,
          -0.09999999999999432,
          -0.4000000000000057,
          -1.5,
          -0.7000000000000028,
          -1.6999999999999886,
          -1.2000000000000028,
          -2.9000000000000057,
          -0.7000000000000028,
          -3.1999999999999886,
          -2.8999999999999915,
          -3.4000000000000057,
          -1.5,
          -2.799999999999997,
          -1.2999999999999972,
          -0.20000000000000284,
          -3,
          -2.5999999999999943,
          -0.5,
          -1.2000000000000028,
          -4.299999999999997,
          -1.9000000000000057,
          -1,
          -2.5999999999999943,
          -2.200000000000003,
          -3.5999999999999943,
          -3.3000000000000114,
          -1.2999999999999972,
          -1,
          -1.1000000000000085,
          -1.3999999999999915,
          -0.6000000000000085,
          -1.2999999999999972,
          -2,
          -1.4000000000000057,
          -3.0999999999999943,
          -0.8000000000000114,
          -0.19999999999998863,
          -1,
          -3.3999999999999915,
          -0.10000000000000853,
          -2.799999999999997,
          -0.7000000000000028,
          -1.1000000000000085,
          -2.6999999999999886,
          -2.299999999999997,
          -2.700000000000003,
          -0.09999999999999432,
          -3.700000000000003,
          -2,
          -3.700000000000003,
          -0.7000000000000028,
          -0.20000000000000284,
          -0.5,
          -2.1999999999999886,
          -1.2000000000000028,
          -3.200000000000003,
          -4.299999999999997,
          -1.1000000000000085,
          -3.299999999999997,
          -1.3999999999999915,
          -4.400000000000006,
          -0.20000000000000284,
          -2.9000000000000057,
          -2.3999999999999915,
          -0.4000000000000057,
          -3.0999999999999943,
          -2.1999999999999886,
          -0.7000000000000028,
          -1.7999999999999972,
          -2.299999999999997,
          -1,
          -0.4000000000000057,
          -3.5999999999999943,
          -1.1999999999999886,
          -0.8000000000000114,
          -1.2999999999999972,
          -0.29999999999999716,
          -1.1000000000000085,
          -0.3999999999999915,
          -2.799999999999997,
          -1.7999999999999972,
          -1,
          -0.4000000000000057,
          -4.1000000000000085,
          -0.10000000000000853,
          -1.5,
          -1.0999999999999943,
          -1.2000000000000028,
          -0.20000000000000284,
          -1.0999999999999943,
          -1.0999999999999943,
          -2.799999999999997,
          -0.20000000000000284,
          -2.5,
          -1.1999999999999886,
          -4.5,
          -0.20000000000000284,
          -0.29999999999999716,
          -1.7999999999999972,
          -0.6000000000000085,
          -1.7000000000000028,
          -0.4000000000000057,
          -2.5,
          -1.1000000000000085,
          -2.5999999999999943,
          -5.5,
          -1.8999999999999915,
          -0.8999999999999915,
          -0.20000000000000284,
          -0.7999999999999972,
          -0.5999999999999943,
          -0.30000000000001137,
          -3.9000000000000057,
          -2.4000000000000057,
          -3.5,
          -2.5,
          -1.2000000000000028,
          -1.5,
          -0.20000000000000284,
          -1.1000000000000085,
          -3.5999999999999943,
          -0.29999999999999716,
          -1.2000000000000028,
          -0.29999999999999716,
          -3,
          -1.3999999999999915,
          -2.1000000000000085,
          -1.5,
          -0.5,
          -0.5,
          -0.09999999999999432,
          -4.5,
          -2.200000000000003,
          -3.5999999999999943,
          -0.7999999999999972,
          -1.2999999999999972,
          -0.7000000000000028,
          -1.2999999999999972,
          -1.2000000000000028,
          -0.4000000000000057,
          -2.0999999999999943,
          -1.7000000000000028,
          -3.9000000000000057,
          -3.4000000000000057,
          -1,
          -0.8000000000000114,
          -3.700000000000003,
          -2.5,
          -1.5,
          -0.8999999999999915
         ],
         "xaxis": "x",
         "yaxis": "y"
        }
       ],
       "layout": {
        "barmode": "relative",
        "height": 500,
        "legend": {
         "title": {
          "text": "Reflector"
         },
         "tracegroupgap": 0
        },
        "template": {
         "data": {
          "bar": [
           {
            "error_x": {
             "color": "#2a3f5f"
            },
            "error_y": {
             "color": "#2a3f5f"
            },
            "marker": {
             "line": {
              "color": "#E5ECF6",
              "width": 0.5
             },
             "pattern": {
              "fillmode": "overlay",
              "size": 10,
              "solidity": 0.2
             }
            },
            "type": "bar"
           }
          ],
          "barpolar": [
           {
            "marker": {
             "line": {
              "color": "#E5ECF6",
              "width": 0.5
             },
             "pattern": {
              "fillmode": "overlay",
              "size": 10,
              "solidity": 0.2
             }
            },
            "type": "barpolar"
           }
          ],
          "carpet": [
           {
            "aaxis": {
             "endlinecolor": "#2a3f5f",
             "gridcolor": "white",
             "linecolor": "white",
             "minorgridcolor": "white",
             "startlinecolor": "#2a3f5f"
            },
            "baxis": {
             "endlinecolor": "#2a3f5f",
             "gridcolor": "white",
             "linecolor": "white",
             "minorgridcolor": "white",
             "startlinecolor": "#2a3f5f"
            },
            "type": "carpet"
           }
          ],
          "choropleth": [
           {
            "colorbar": {
             "outlinewidth": 0,
             "ticks": ""
            },
            "type": "choropleth"
           }
          ],
          "contour": [
           {
            "colorbar": {
             "outlinewidth": 0,
             "ticks": ""
            },
            "colorscale": [
             [
              0,
              "#0d0887"
             ],
             [
              0.1111111111111111,
              "#46039f"
             ],
             [
              0.2222222222222222,
              "#7201a8"
             ],
             [
              0.3333333333333333,
              "#9c179e"
             ],
             [
              0.4444444444444444,
              "#bd3786"
             ],
             [
              0.5555555555555556,
              "#d8576b"
             ],
             [
              0.6666666666666666,
              "#ed7953"
             ],
             [
              0.7777777777777778,
              "#fb9f3a"
             ],
             [
              0.8888888888888888,
              "#fdca26"
             ],
             [
              1,
              "#f0f921"
             ]
            ],
            "type": "contour"
           }
          ],
          "contourcarpet": [
           {
            "colorbar": {
             "outlinewidth": 0,
             "ticks": ""
            },
            "type": "contourcarpet"
           }
          ],
          "heatmap": [
           {
            "colorbar": {
             "outlinewidth": 0,
             "ticks": ""
            },
            "colorscale": [
             [
              0,
              "#0d0887"
             ],
             [
              0.1111111111111111,
              "#46039f"
             ],
             [
              0.2222222222222222,
              "#7201a8"
             ],
             [
              0.3333333333333333,
              "#9c179e"
             ],
             [
              0.4444444444444444,
              "#bd3786"
             ],
             [
              0.5555555555555556,
              "#d8576b"
             ],
             [
              0.6666666666666666,
              "#ed7953"
             ],
             [
              0.7777777777777778,
              "#fb9f3a"
             ],
             [
              0.8888888888888888,
              "#fdca26"
             ],
             [
              1,
              "#f0f921"
             ]
            ],
            "type": "heatmap"
           }
          ],
          "heatmapgl": [
           {
            "colorbar": {
             "outlinewidth": 0,
             "ticks": ""
            },
            "colorscale": [
             [
              0,
              "#0d0887"
             ],
             [
              0.1111111111111111,
              "#46039f"
             ],
             [
              0.2222222222222222,
              "#7201a8"
             ],
             [
              0.3333333333333333,
              "#9c179e"
             ],
             [
              0.4444444444444444,
              "#bd3786"
             ],
             [
              0.5555555555555556,
              "#d8576b"
             ],
             [
              0.6666666666666666,
              "#ed7953"
             ],
             [
              0.7777777777777778,
              "#fb9f3a"
             ],
             [
              0.8888888888888888,
              "#fdca26"
             ],
             [
              1,
              "#f0f921"
             ]
            ],
            "type": "heatmapgl"
           }
          ],
          "histogram": [
           {
            "marker": {
             "pattern": {
              "fillmode": "overlay",
              "size": 10,
              "solidity": 0.2
             }
            },
            "type": "histogram"
           }
          ],
          "histogram2d": [
           {
            "colorbar": {
             "outlinewidth": 0,
             "ticks": ""
            },
            "colorscale": [
             [
              0,
              "#0d0887"
             ],
             [
              0.1111111111111111,
              "#46039f"
             ],
             [
              0.2222222222222222,
              "#7201a8"
             ],
             [
              0.3333333333333333,
              "#9c179e"
             ],
             [
              0.4444444444444444,
              "#bd3786"
             ],
             [
              0.5555555555555556,
              "#d8576b"
             ],
             [
              0.6666666666666666,
              "#ed7953"
             ],
             [
              0.7777777777777778,
              "#fb9f3a"
             ],
             [
              0.8888888888888888,
              "#fdca26"
             ],
             [
              1,
              "#f0f921"
             ]
            ],
            "type": "histogram2d"
           }
          ],
          "histogram2dcontour": [
           {
            "colorbar": {
             "outlinewidth": 0,
             "ticks": ""
            },
            "colorscale": [
             [
              0,
              "#0d0887"
             ],
             [
              0.1111111111111111,
              "#46039f"
             ],
             [
              0.2222222222222222,
              "#7201a8"
             ],
             [
              0.3333333333333333,
              "#9c179e"
             ],
             [
              0.4444444444444444,
              "#bd3786"
             ],
             [
              0.5555555555555556,
              "#d8576b"
             ],
             [
              0.6666666666666666,
              "#ed7953"
             ],
             [
              0.7777777777777778,
              "#fb9f3a"
             ],
             [
              0.8888888888888888,
              "#fdca26"
             ],
             [
              1,
              "#f0f921"
             ]
            ],
            "type": "histogram2dcontour"
           }
          ],
          "mesh3d": [
           {
            "colorbar": {
             "outlinewidth": 0,
             "ticks": ""
            },
            "type": "mesh3d"
           }
          ],
          "parcoords": [
           {
            "line": {
             "colorbar": {
              "outlinewidth": 0,
              "ticks": ""
             }
            },
            "type": "parcoords"
           }
          ],
          "pie": [
           {
            "automargin": true,
            "type": "pie"
           }
          ],
          "scatter": [
           {
            "marker": {
             "colorbar": {
              "outlinewidth": 0,
              "ticks": ""
             }
            },
            "type": "scatter"
           }
          ],
          "scatter3d": [
           {
            "line": {
             "colorbar": {
              "outlinewidth": 0,
              "ticks": ""
             }
            },
            "marker": {
             "colorbar": {
              "outlinewidth": 0,
              "ticks": ""
             }
            },
            "type": "scatter3d"
           }
          ],
          "scattercarpet": [
           {
            "marker": {
             "colorbar": {
              "outlinewidth": 0,
              "ticks": ""
             }
            },
            "type": "scattercarpet"
           }
          ],
          "scattergeo": [
           {
            "marker": {
             "colorbar": {
              "outlinewidth": 0,
              "ticks": ""
             }
            },
            "type": "scattergeo"
           }
          ],
          "scattergl": [
           {
            "marker": {
             "colorbar": {
              "outlinewidth": 0,
              "ticks": ""
             }
            },
            "type": "scattergl"
           }
          ],
          "scattermapbox": [
           {
            "marker": {
             "colorbar": {
              "outlinewidth": 0,
              "ticks": ""
             }
            },
            "type": "scattermapbox"
           }
          ],
          "scatterpolar": [
           {
            "marker": {
             "colorbar": {
              "outlinewidth": 0,
              "ticks": ""
             }
            },
            "type": "scatterpolar"
           }
          ],
          "scatterpolargl": [
           {
            "marker": {
             "colorbar": {
              "outlinewidth": 0,
              "ticks": ""
             }
            },
            "type": "scatterpolargl"
           }
          ],
          "scatterternary": [
           {
            "marker": {
             "colorbar": {
              "outlinewidth": 0,
              "ticks": ""
             }
            },
            "type": "scatterternary"
           }
          ],
          "surface": [
           {
            "colorbar": {
             "outlinewidth": 0,
             "ticks": ""
            },
            "colorscale": [
             [
              0,
              "#0d0887"
             ],
             [
              0.1111111111111111,
              "#46039f"
             ],
             [
              0.2222222222222222,
              "#7201a8"
             ],
             [
              0.3333333333333333,
              "#9c179e"
             ],
             [
              0.4444444444444444,
              "#bd3786"
             ],
             [
              0.5555555555555556,
              "#d8576b"
             ],
             [
              0.6666666666666666,
              "#ed7953"
             ],
             [
              0.7777777777777778,
              "#fb9f3a"
             ],
             [
              0.8888888888888888,
              "#fdca26"
             ],
             [
              1,
              "#f0f921"
             ]
            ],
            "type": "surface"
           }
          ],
          "table": [
           {
            "cells": {
             "fill": {
              "color": "#EBF0F8"
             },
             "line": {
              "color": "white"
             }
            },
            "header": {
             "fill": {
              "color": "#C8D4E3"
             },
             "line": {
              "color": "white"
             }
            },
            "type": "table"
           }
          ]
         },
         "layout": {
          "annotationdefaults": {
           "arrowcolor": "#2a3f5f",
           "arrowhead": 0,
           "arrowwidth": 1
          },
          "autotypenumbers": "strict",
          "coloraxis": {
           "colorbar": {
            "outlinewidth": 0,
            "ticks": ""
           }
          },
          "colorscale": {
           "diverging": [
            [
             0,
             "#8e0152"
            ],
            [
             0.1,
             "#c51b7d"
            ],
            [
             0.2,
             "#de77ae"
            ],
            [
             0.3,
             "#f1b6da"
            ],
            [
             0.4,
             "#fde0ef"
            ],
            [
             0.5,
             "#f7f7f7"
            ],
            [
             0.6,
             "#e6f5d0"
            ],
            [
             0.7,
             "#b8e186"
            ],
            [
             0.8,
             "#7fbc41"
            ],
            [
             0.9,
             "#4d9221"
            ],
            [
             1,
             "#276419"
            ]
           ],
           "sequential": [
            [
             0,
             "#0d0887"
            ],
            [
             0.1111111111111111,
             "#46039f"
            ],
            [
             0.2222222222222222,
             "#7201a8"
            ],
            [
             0.3333333333333333,
             "#9c179e"
            ],
            [
             0.4444444444444444,
             "#bd3786"
            ],
            [
             0.5555555555555556,
             "#d8576b"
            ],
            [
             0.6666666666666666,
             "#ed7953"
            ],
            [
             0.7777777777777778,
             "#fb9f3a"
            ],
            [
             0.8888888888888888,
             "#fdca26"
            ],
            [
             1,
             "#f0f921"
            ]
           ],
           "sequentialminus": [
            [
             0,
             "#0d0887"
            ],
            [
             0.1111111111111111,
             "#46039f"
            ],
            [
             0.2222222222222222,
             "#7201a8"
            ],
            [
             0.3333333333333333,
             "#9c179e"
            ],
            [
             0.4444444444444444,
             "#bd3786"
            ],
            [
             0.5555555555555556,
             "#d8576b"
            ],
            [
             0.6666666666666666,
             "#ed7953"
            ],
            [
             0.7777777777777778,
             "#fb9f3a"
            ],
            [
             0.8888888888888888,
             "#fdca26"
            ],
            [
             1,
             "#f0f921"
            ]
           ]
          },
          "colorway": [
           "#636efa",
           "#EF553B",
           "#00cc96",
           "#ab63fa",
           "#FFA15A",
           "#19d3f3",
           "#FF6692",
           "#B6E880",
           "#FF97FF",
           "#FECB52"
          ],
          "font": {
           "color": "#2a3f5f"
          },
          "geo": {
           "bgcolor": "white",
           "lakecolor": "white",
           "landcolor": "#E5ECF6",
           "showlakes": true,
           "showland": true,
           "subunitcolor": "white"
          },
          "hoverlabel": {
           "align": "left"
          },
          "hovermode": "closest",
          "mapbox": {
           "style": "light"
          },
          "paper_bgcolor": "white",
          "plot_bgcolor": "#E5ECF6",
          "polar": {
           "angularaxis": {
            "gridcolor": "white",
            "linecolor": "white",
            "ticks": ""
           },
           "bgcolor": "#E5ECF6",
           "radialaxis": {
            "gridcolor": "white",
            "linecolor": "white",
            "ticks": ""
           }
          },
          "scene": {
           "xaxis": {
            "backgroundcolor": "#E5ECF6",
            "gridcolor": "white",
            "gridwidth": 2,
            "linecolor": "white",
            "showbackground": true,
            "ticks": "",
            "zerolinecolor": "white"
           },
           "yaxis": {
            "backgroundcolor": "#E5ECF6",
            "gridcolor": "white",
            "gridwidth": 2,
            "linecolor": "white",
            "showbackground": true,
            "ticks": "",
            "zerolinecolor": "white"
           },
           "zaxis": {
            "backgroundcolor": "#E5ECF6",
            "gridcolor": "white",
            "gridwidth": 2,
            "linecolor": "white",
            "showbackground": true,
            "ticks": "",
            "zerolinecolor": "white"
           }
          },
          "shapedefaults": {
           "line": {
            "color": "#2a3f5f"
           }
          },
          "ternary": {
           "aaxis": {
            "gridcolor": "white",
            "linecolor": "white",
            "ticks": ""
           },
           "baxis": {
            "gridcolor": "white",
            "linecolor": "white",
            "ticks": ""
           },
           "bgcolor": "#E5ECF6",
           "caxis": {
            "gridcolor": "white",
            "linecolor": "white",
            "ticks": ""
           }
          },
          "title": {
           "x": 0.05
          },
          "xaxis": {
           "automargin": true,
           "gridcolor": "white",
           "linecolor": "white",
           "ticks": "",
           "title": {
            "standoff": 15
           },
           "zerolinecolor": "white",
           "zerolinewidth": 2
          },
          "yaxis": {
           "automargin": true,
           "gridcolor": "white",
           "linecolor": "white",
           "ticks": "",
           "title": {
            "standoff": 15
           },
           "zerolinecolor": "white",
           "zerolinewidth": 2
          }
         }
        },
        "title": {
         "text": "Battery Recharge by Reflector Hit"
        },
        "xaxis": {
         "anchor": "y",
         "domain": [
          0,
          1
         ],
         "title": {
          "text": "Relative Change in Starting Battery %"
         }
        },
        "yaxis": {
         "anchor": "x",
         "domain": [
          0,
          1
         ],
         "title": {
          "text": "count"
         }
        }
       }
      }
     },
     "metadata": {},
     "output_type": "display_data"
    }
   ],
   "source": [
    "px.histogram(df.sort_values('reflector_str'), x='battery delta', title='Battery Recharge by Reflector Hit', color='reflector_str', nbins=75, **histogram_options)"
   ]
  },
  {
   "cell_type": "code",
   "execution_count": 416,
   "metadata": {},
   "outputs": [
    {
     "data": {
      "application/vnd.plotly.v1+json": {
       "config": {
        "plotlyServerURL": "https://plot.ly"
       },
       "data": [
        {
         "alignmentgroup": "True",
         "boxpoints": "suspectedoutliers",
         "hovertemplate": "Reflector=%{y}<br>Relative Change in Starting Battery %=%{x}<extra></extra>",
         "legendgroup": "Reflector #1",
         "marker": {
          "color": "rgb(75, 41, 145)"
         },
         "name": "Reflector #1",
         "notched": false,
         "offsetgroup": "Reflector #1",
         "orientation": "h",
         "showlegend": true,
         "type": "box",
         "x": [
          3.200000000000003,
          3.1000000000000085,
          4.200000000000003,
          3.3999999999999915,
          3.0999999999999943,
          3.700000000000003,
          3.5999999999999943,
          2.700000000000003,
          2.8999999999999915,
          2.5,
          3,
          3,
          3.5,
          2.5,
          2.200000000000003,
          5.099999999999994,
          3.5,
          4,
          4.5,
          2.700000000000003,
          3.0999999999999943,
          3.5999999999999943,
          2.1000000000000085,
          2.5999999999999943,
          3.6000000000000085,
          2.700000000000003,
          2.299999999999997,
          2.799999999999997,
          3.8999999999999915,
          2.5,
          4.5,
          2.5,
          2.5,
          2.799999999999997,
          4.700000000000003,
          2.5,
          2.200000000000003,
          3.8999999999999915,
          2.200000000000003,
          2.5,
          4,
          3.0999999999999943,
          2.6000000000000085,
          3.1000000000000085,
          4.299999999999997,
          3.700000000000003,
          3.3000000000000114,
          2.5,
          5.8999999999999915
         ],
         "x0": " ",
         "xaxis": "x",
         "y": [
          "Reflector #1",
          "Reflector #1",
          "Reflector #1",
          "Reflector #1",
          "Reflector #1",
          "Reflector #1",
          "Reflector #1",
          "Reflector #1",
          "Reflector #1",
          "Reflector #1",
          "Reflector #1",
          "Reflector #1",
          "Reflector #1",
          "Reflector #1",
          "Reflector #1",
          "Reflector #1",
          "Reflector #1",
          "Reflector #1",
          "Reflector #1",
          "Reflector #1",
          "Reflector #1",
          "Reflector #1",
          "Reflector #1",
          "Reflector #1",
          "Reflector #1",
          "Reflector #1",
          "Reflector #1",
          "Reflector #1",
          "Reflector #1",
          "Reflector #1",
          "Reflector #1",
          "Reflector #1",
          "Reflector #1",
          "Reflector #1",
          "Reflector #1",
          "Reflector #1",
          "Reflector #1",
          "Reflector #1",
          "Reflector #1",
          "Reflector #1",
          "Reflector #1",
          "Reflector #1",
          "Reflector #1",
          "Reflector #1",
          "Reflector #1",
          "Reflector #1",
          "Reflector #1",
          "Reflector #1",
          "Reflector #1"
         ],
         "y0": " ",
         "yaxis": "y"
        },
        {
         "alignmentgroup": "True",
         "boxpoints": "suspectedoutliers",
         "hovertemplate": "Reflector=%{y}<br>Relative Change in Starting Battery %=%{x}<extra></extra>",
         "legendgroup": "Reflector #2",
         "marker": {
          "color": "rgb(135, 44, 162)"
         },
         "name": "Reflector #2",
         "notched": false,
         "offsetgroup": "Reflector #2",
         "orientation": "h",
         "showlegend": true,
         "type": "box",
         "x": [
          1.9000000000000057,
          2,
          1.4000000000000057,
          1.3000000000000114,
          1.7999999999999972,
          2,
          1.9000000000000057,
          1.3999999999999915,
          1.4000000000000057,
          1.7000000000000028,
          1.7999999999999972,
          1.6999999999999886,
          1.3999999999999915,
          1.8999999999999915,
          1.4000000000000057,
          1.8000000000000114,
          1.4000000000000057,
          1.5,
          2,
          1.7999999999999972,
          2,
          1.7000000000000028,
          1.5,
          2,
          2,
          1.5999999999999943,
          2,
          1.6000000000000085,
          1.5,
          2,
          1.5999999999999943,
          2
         ],
         "x0": " ",
         "xaxis": "x",
         "y": [
          "Reflector #2",
          "Reflector #2",
          "Reflector #2",
          "Reflector #2",
          "Reflector #2",
          "Reflector #2",
          "Reflector #2",
          "Reflector #2",
          "Reflector #2",
          "Reflector #2",
          "Reflector #2",
          "Reflector #2",
          "Reflector #2",
          "Reflector #2",
          "Reflector #2",
          "Reflector #2",
          "Reflector #2",
          "Reflector #2",
          "Reflector #2",
          "Reflector #2",
          "Reflector #2",
          "Reflector #2",
          "Reflector #2",
          "Reflector #2",
          "Reflector #2",
          "Reflector #2",
          "Reflector #2",
          "Reflector #2",
          "Reflector #2",
          "Reflector #2",
          "Reflector #2",
          "Reflector #2"
         ],
         "y0": " ",
         "yaxis": "y"
        },
        {
         "alignmentgroup": "True",
         "boxpoints": "suspectedoutliers",
         "hovertemplate": "Reflector=%{y}<br>Relative Change in Starting Battery %=%{x}<extra></extra>",
         "legendgroup": "Reflector #3",
         "marker": {
          "color": "rgb(192, 54, 157)"
         },
         "name": "Reflector #3",
         "notched": false,
         "offsetgroup": "Reflector #3",
         "orientation": "h",
         "showlegend": true,
         "type": "box",
         "x": [
          1,
          1.0999999999999943,
          1.2999999999999972,
          1.0999999999999943,
          1,
          1,
          0.9000000000000057,
          0.8000000000000114,
          0.8000000000000114,
          1,
          0.8999999999999915,
          1.0999999999999943,
          0.9000000000000057,
          1.1999999999999886,
          1,
          1.0999999999999943,
          1.0999999999999943,
          1.2000000000000028,
          0.8999999999999915,
          1.1000000000000085,
          1.1000000000000085,
          1.1000000000000085,
          1.2000000000000028,
          1.0999999999999943,
          1.1000000000000085,
          0.8999999999999915,
          1,
          1.2000000000000028,
          1,
          1.1000000000000085,
          1.1000000000000085,
          1.1999999999999886,
          1.1000000000000085,
          1,
          1.2000000000000028,
          1.1000000000000085,
          1,
          1.1000000000000085
         ],
         "x0": " ",
         "xaxis": "x",
         "y": [
          "Reflector #3",
          "Reflector #3",
          "Reflector #3",
          "Reflector #3",
          "Reflector #3",
          "Reflector #3",
          "Reflector #3",
          "Reflector #3",
          "Reflector #3",
          "Reflector #3",
          "Reflector #3",
          "Reflector #3",
          "Reflector #3",
          "Reflector #3",
          "Reflector #3",
          "Reflector #3",
          "Reflector #3",
          "Reflector #3",
          "Reflector #3",
          "Reflector #3",
          "Reflector #3",
          "Reflector #3",
          "Reflector #3",
          "Reflector #3",
          "Reflector #3",
          "Reflector #3",
          "Reflector #3",
          "Reflector #3",
          "Reflector #3",
          "Reflector #3",
          "Reflector #3",
          "Reflector #3",
          "Reflector #3",
          "Reflector #3",
          "Reflector #3",
          "Reflector #3",
          "Reflector #3",
          "Reflector #3"
         ],
         "y0": " ",
         "yaxis": "y"
        },
        {
         "alignmentgroup": "True",
         "boxpoints": "suspectedoutliers",
         "hovertemplate": "Reflector=%{y}<br>Relative Change in Starting Battery %=%{x}<extra></extra>",
         "legendgroup": "Reflector #4",
         "marker": {
          "color": "rgb(234, 79, 136)"
         },
         "name": "Reflector #4",
         "notched": false,
         "offsetgroup": "Reflector #4",
         "orientation": "h",
         "showlegend": true,
         "type": "box",
         "x": [
          0.6000000000000085,
          0.4000000000000057,
          0.7000000000000028,
          0.5,
          0.4000000000000057,
          0.5,
          0.5,
          0.7000000000000028,
          0.7000000000000028,
          0.5999999999999943,
          0.5999999999999943,
          0.7000000000000028,
          0.5,
          0.5,
          0.6000000000000085,
          0.5999999999999943,
          0.5999999999999943,
          0.7999999999999972,
          0.5999999999999943,
          0.5,
          0.5999999999999943,
          0.6000000000000085,
          0.5999999999999943,
          0.4000000000000057,
          0.7999999999999972,
          0.6000000000000085,
          0.7999999999999972,
          0.7999999999999972,
          0.7999999999999972,
          0.5999999999999943,
          0.5,
          0.5999999999999943,
          0.4000000000000057,
          0.7999999999999972,
          0.5,
          0.5,
          0.7000000000000028,
          0.7999999999999972,
          0.7999999999999972
         ],
         "x0": " ",
         "xaxis": "x",
         "y": [
          "Reflector #4",
          "Reflector #4",
          "Reflector #4",
          "Reflector #4",
          "Reflector #4",
          "Reflector #4",
          "Reflector #4",
          "Reflector #4",
          "Reflector #4",
          "Reflector #4",
          "Reflector #4",
          "Reflector #4",
          "Reflector #4",
          "Reflector #4",
          "Reflector #4",
          "Reflector #4",
          "Reflector #4",
          "Reflector #4",
          "Reflector #4",
          "Reflector #4",
          "Reflector #4",
          "Reflector #4",
          "Reflector #4",
          "Reflector #4",
          "Reflector #4",
          "Reflector #4",
          "Reflector #4",
          "Reflector #4",
          "Reflector #4",
          "Reflector #4",
          "Reflector #4",
          "Reflector #4",
          "Reflector #4",
          "Reflector #4",
          "Reflector #4",
          "Reflector #4",
          "Reflector #4",
          "Reflector #4",
          "Reflector #4"
         ],
         "y0": " ",
         "yaxis": "y"
        },
        {
         "alignmentgroup": "True",
         "boxpoints": "suspectedoutliers",
         "hovertemplate": "Reflector=%{y}<br>Relative Change in Starting Battery %=%{x}<extra></extra>",
         "legendgroup": "Reflector #5",
         "marker": {
          "color": "rgb(250, 120, 118)"
         },
         "name": "Reflector #5",
         "notched": false,
         "offsetgroup": "Reflector #5",
         "orientation": "h",
         "showlegend": true,
         "type": "box",
         "x": [
          0.10000000000000853,
          0.29999999999999716,
          0.09999999999999432,
          0.19999999999998863,
          0.10000000000000853,
          0,
          0.09999999999999432,
          0,
          0.19999999999998863,
          0.09999999999999432,
          0.20000000000000284,
          0,
          0.09999999999999432,
          0.09999999999999432,
          0.29999999999999716,
          0.3999999999999915,
          0.19999999999998863,
          0,
          0,
          0.30000000000001137,
          0.20000000000000284,
          0,
          0,
          0,
          0.10000000000000853,
          0,
          0.29999999999999716,
          0.29999999999999716,
          0,
          0.10000000000000853,
          0.09999999999999432,
          0,
          0.20000000000000284,
          0.19999999999998863,
          0,
          0.30000000000001137,
          0.29999999999999716,
          0.09999999999999432
         ],
         "x0": " ",
         "xaxis": "x",
         "y": [
          "Reflector #5",
          "Reflector #5",
          "Reflector #5",
          "Reflector #5",
          "Reflector #5",
          "Reflector #5",
          "Reflector #5",
          "Reflector #5",
          "Reflector #5",
          "Reflector #5",
          "Reflector #5",
          "Reflector #5",
          "Reflector #5",
          "Reflector #5",
          "Reflector #5",
          "Reflector #5",
          "Reflector #5",
          "Reflector #5",
          "Reflector #5",
          "Reflector #5",
          "Reflector #5",
          "Reflector #5",
          "Reflector #5",
          "Reflector #5",
          "Reflector #5",
          "Reflector #5",
          "Reflector #5",
          "Reflector #5",
          "Reflector #5",
          "Reflector #5",
          "Reflector #5",
          "Reflector #5",
          "Reflector #5",
          "Reflector #5",
          "Reflector #5",
          "Reflector #5",
          "Reflector #5",
          "Reflector #5"
         ],
         "y0": " ",
         "yaxis": "y"
        },
        {
         "alignmentgroup": "True",
         "boxpoints": "suspectedoutliers",
         "hovertemplate": "Reflector=%{y}<br>Relative Change in Starting Battery %=%{x}<extra></extra>",
         "legendgroup": "nan",
         "marker": {
          "color": "rgb(246, 169, 122)"
         },
         "name": "nan",
         "notched": false,
         "offsetgroup": "nan",
         "orientation": "h",
         "showlegend": true,
         "type": "box",
         "x": [
          -1.3999999999999915,
          -4.6000000000000085,
          -0.8999999999999915,
          -1.1000000000000085,
          -0.5999999999999943,
          -1.6000000000000085,
          -0.9000000000000057,
          -3.299999999999997,
          -0.20000000000000284,
          -1.7000000000000028,
          -2.3999999999999915,
          -3.299999999999997,
          -2.700000000000003,
          -1.2000000000000028,
          -0.7999999999999972,
          -1.3999999999999915,
          -1.8999999999999915,
          -2.4000000000000057,
          -0.30000000000001137,
          -0.09999999999999432,
          -0.4000000000000057,
          -1.5,
          -0.7000000000000028,
          -1.6999999999999886,
          -1.2000000000000028,
          -2.9000000000000057,
          -0.7000000000000028,
          -3.1999999999999886,
          -2.8999999999999915,
          -3.4000000000000057,
          -1.5,
          -2.799999999999997,
          -1.2999999999999972,
          -0.20000000000000284,
          -3,
          -2.5999999999999943,
          -0.5,
          -1.2000000000000028,
          -4.299999999999997,
          -1.9000000000000057,
          -1,
          -2.5999999999999943,
          -2.200000000000003,
          -3.5999999999999943,
          -3.3000000000000114,
          -1.2999999999999972,
          -1,
          -1.1000000000000085,
          -1.3999999999999915,
          -0.6000000000000085,
          -1.2999999999999972,
          -2,
          -1.4000000000000057,
          -3.0999999999999943,
          -0.8000000000000114,
          -0.19999999999998863,
          -1,
          -3.3999999999999915,
          -0.10000000000000853,
          -2.799999999999997,
          -0.7000000000000028,
          -1.1000000000000085,
          -2.6999999999999886,
          -2.299999999999997,
          -2.700000000000003,
          -0.09999999999999432,
          -3.700000000000003,
          -2,
          -3.700000000000003,
          -0.7000000000000028,
          -0.20000000000000284,
          -0.5,
          -2.1999999999999886,
          -1.2000000000000028,
          -3.200000000000003,
          -4.299999999999997,
          -1.1000000000000085,
          -3.299999999999997,
          -1.3999999999999915,
          -4.400000000000006,
          -0.20000000000000284,
          -2.9000000000000057,
          -2.3999999999999915,
          -0.4000000000000057,
          -3.0999999999999943,
          -2.1999999999999886,
          -0.7000000000000028,
          -1.7999999999999972,
          -2.299999999999997,
          -1,
          -0.4000000000000057,
          -3.5999999999999943,
          -1.1999999999999886,
          -0.8000000000000114,
          -1.2999999999999972,
          -0.29999999999999716,
          -1.1000000000000085,
          -0.3999999999999915,
          -2.799999999999997,
          -1.7999999999999972,
          -1,
          -0.4000000000000057,
          -4.1000000000000085,
          -0.10000000000000853,
          -1.5,
          -1.0999999999999943,
          -1.2000000000000028,
          -0.20000000000000284,
          -1.0999999999999943,
          -1.0999999999999943,
          -2.799999999999997,
          -0.20000000000000284,
          -2.5,
          -1.1999999999999886,
          -4.5,
          -0.20000000000000284,
          -0.29999999999999716,
          -1.7999999999999972,
          -0.6000000000000085,
          -1.7000000000000028,
          -0.4000000000000057,
          -2.5,
          -1.1000000000000085,
          -2.5999999999999943,
          -5.5,
          -1.8999999999999915,
          -0.8999999999999915,
          -0.20000000000000284,
          -0.7999999999999972,
          -0.5999999999999943,
          -0.30000000000001137,
          -3.9000000000000057,
          -2.4000000000000057,
          -3.5,
          -2.5,
          -1.2000000000000028,
          -1.5,
          -0.20000000000000284,
          -1.1000000000000085,
          -3.5999999999999943,
          -0.29999999999999716,
          -1.2000000000000028,
          -0.29999999999999716,
          -3,
          -1.3999999999999915,
          -2.1000000000000085,
          -1.5,
          -0.5,
          -0.5,
          -0.09999999999999432,
          -4.5,
          -2.200000000000003,
          -3.5999999999999943,
          -0.7999999999999972,
          -1.2999999999999972,
          -0.7000000000000028,
          -1.2999999999999972,
          -1.2000000000000028,
          -0.4000000000000057,
          -2.0999999999999943,
          -1.7000000000000028,
          -3.9000000000000057,
          -3.4000000000000057,
          -1,
          -0.8000000000000114,
          -3.700000000000003,
          -2.5,
          -1.5,
          -0.8999999999999915
         ],
         "x0": " ",
         "xaxis": "x",
         "y": [
          "nan",
          "nan",
          "nan",
          "nan",
          "nan",
          "nan",
          "nan",
          "nan",
          "nan",
          "nan",
          "nan",
          "nan",
          "nan",
          "nan",
          "nan",
          "nan",
          "nan",
          "nan",
          "nan",
          "nan",
          "nan",
          "nan",
          "nan",
          "nan",
          "nan",
          "nan",
          "nan",
          "nan",
          "nan",
          "nan",
          "nan",
          "nan",
          "nan",
          "nan",
          "nan",
          "nan",
          "nan",
          "nan",
          "nan",
          "nan",
          "nan",
          "nan",
          "nan",
          "nan",
          "nan",
          "nan",
          "nan",
          "nan",
          "nan",
          "nan",
          "nan",
          "nan",
          "nan",
          "nan",
          "nan",
          "nan",
          "nan",
          "nan",
          "nan",
          "nan",
          "nan",
          "nan",
          "nan",
          "nan",
          "nan",
          "nan",
          "nan",
          "nan",
          "nan",
          "nan",
          "nan",
          "nan",
          "nan",
          "nan",
          "nan",
          "nan",
          "nan",
          "nan",
          "nan",
          "nan",
          "nan",
          "nan",
          "nan",
          "nan",
          "nan",
          "nan",
          "nan",
          "nan",
          "nan",
          "nan",
          "nan",
          "nan",
          "nan",
          "nan",
          "nan",
          "nan",
          "nan",
          "nan",
          "nan",
          "nan",
          "nan",
          "nan",
          "nan",
          "nan",
          "nan",
          "nan",
          "nan",
          "nan",
          "nan",
          "nan",
          "nan",
          "nan",
          "nan",
          "nan",
          "nan",
          "nan",
          "nan",
          "nan",
          "nan",
          "nan",
          "nan",
          "nan",
          "nan",
          "nan",
          "nan",
          "nan",
          "nan",
          "nan",
          "nan",
          "nan",
          "nan",
          "nan",
          "nan",
          "nan",
          "nan",
          "nan",
          "nan",
          "nan",
          "nan",
          "nan",
          "nan",
          "nan",
          "nan",
          "nan",
          "nan",
          "nan",
          "nan",
          "nan",
          "nan",
          "nan",
          "nan",
          "nan",
          "nan",
          "nan",
          "nan",
          "nan",
          "nan",
          "nan",
          "nan",
          "nan",
          "nan",
          "nan",
          "nan",
          "nan",
          "nan",
          "nan",
          "nan",
          "nan",
          "nan"
         ],
         "y0": " ",
         "yaxis": "y"
        }
       ],
       "layout": {
        "boxmode": "overlay",
        "height": 500,
        "legend": {
         "title": {
          "text": "Reflector"
         },
         "tracegroupgap": 0
        },
        "template": {
         "data": {
          "bar": [
           {
            "error_x": {
             "color": "#2a3f5f"
            },
            "error_y": {
             "color": "#2a3f5f"
            },
            "marker": {
             "line": {
              "color": "#E5ECF6",
              "width": 0.5
             },
             "pattern": {
              "fillmode": "overlay",
              "size": 10,
              "solidity": 0.2
             }
            },
            "type": "bar"
           }
          ],
          "barpolar": [
           {
            "marker": {
             "line": {
              "color": "#E5ECF6",
              "width": 0.5
             },
             "pattern": {
              "fillmode": "overlay",
              "size": 10,
              "solidity": 0.2
             }
            },
            "type": "barpolar"
           }
          ],
          "carpet": [
           {
            "aaxis": {
             "endlinecolor": "#2a3f5f",
             "gridcolor": "white",
             "linecolor": "white",
             "minorgridcolor": "white",
             "startlinecolor": "#2a3f5f"
            },
            "baxis": {
             "endlinecolor": "#2a3f5f",
             "gridcolor": "white",
             "linecolor": "white",
             "minorgridcolor": "white",
             "startlinecolor": "#2a3f5f"
            },
            "type": "carpet"
           }
          ],
          "choropleth": [
           {
            "colorbar": {
             "outlinewidth": 0,
             "ticks": ""
            },
            "type": "choropleth"
           }
          ],
          "contour": [
           {
            "colorbar": {
             "outlinewidth": 0,
             "ticks": ""
            },
            "colorscale": [
             [
              0,
              "#0d0887"
             ],
             [
              0.1111111111111111,
              "#46039f"
             ],
             [
              0.2222222222222222,
              "#7201a8"
             ],
             [
              0.3333333333333333,
              "#9c179e"
             ],
             [
              0.4444444444444444,
              "#bd3786"
             ],
             [
              0.5555555555555556,
              "#d8576b"
             ],
             [
              0.6666666666666666,
              "#ed7953"
             ],
             [
              0.7777777777777778,
              "#fb9f3a"
             ],
             [
              0.8888888888888888,
              "#fdca26"
             ],
             [
              1,
              "#f0f921"
             ]
            ],
            "type": "contour"
           }
          ],
          "contourcarpet": [
           {
            "colorbar": {
             "outlinewidth": 0,
             "ticks": ""
            },
            "type": "contourcarpet"
           }
          ],
          "heatmap": [
           {
            "colorbar": {
             "outlinewidth": 0,
             "ticks": ""
            },
            "colorscale": [
             [
              0,
              "#0d0887"
             ],
             [
              0.1111111111111111,
              "#46039f"
             ],
             [
              0.2222222222222222,
              "#7201a8"
             ],
             [
              0.3333333333333333,
              "#9c179e"
             ],
             [
              0.4444444444444444,
              "#bd3786"
             ],
             [
              0.5555555555555556,
              "#d8576b"
             ],
             [
              0.6666666666666666,
              "#ed7953"
             ],
             [
              0.7777777777777778,
              "#fb9f3a"
             ],
             [
              0.8888888888888888,
              "#fdca26"
             ],
             [
              1,
              "#f0f921"
             ]
            ],
            "type": "heatmap"
           }
          ],
          "heatmapgl": [
           {
            "colorbar": {
             "outlinewidth": 0,
             "ticks": ""
            },
            "colorscale": [
             [
              0,
              "#0d0887"
             ],
             [
              0.1111111111111111,
              "#46039f"
             ],
             [
              0.2222222222222222,
              "#7201a8"
             ],
             [
              0.3333333333333333,
              "#9c179e"
             ],
             [
              0.4444444444444444,
              "#bd3786"
             ],
             [
              0.5555555555555556,
              "#d8576b"
             ],
             [
              0.6666666666666666,
              "#ed7953"
             ],
             [
              0.7777777777777778,
              "#fb9f3a"
             ],
             [
              0.8888888888888888,
              "#fdca26"
             ],
             [
              1,
              "#f0f921"
             ]
            ],
            "type": "heatmapgl"
           }
          ],
          "histogram": [
           {
            "marker": {
             "pattern": {
              "fillmode": "overlay",
              "size": 10,
              "solidity": 0.2
             }
            },
            "type": "histogram"
           }
          ],
          "histogram2d": [
           {
            "colorbar": {
             "outlinewidth": 0,
             "ticks": ""
            },
            "colorscale": [
             [
              0,
              "#0d0887"
             ],
             [
              0.1111111111111111,
              "#46039f"
             ],
             [
              0.2222222222222222,
              "#7201a8"
             ],
             [
              0.3333333333333333,
              "#9c179e"
             ],
             [
              0.4444444444444444,
              "#bd3786"
             ],
             [
              0.5555555555555556,
              "#d8576b"
             ],
             [
              0.6666666666666666,
              "#ed7953"
             ],
             [
              0.7777777777777778,
              "#fb9f3a"
             ],
             [
              0.8888888888888888,
              "#fdca26"
             ],
             [
              1,
              "#f0f921"
             ]
            ],
            "type": "histogram2d"
           }
          ],
          "histogram2dcontour": [
           {
            "colorbar": {
             "outlinewidth": 0,
             "ticks": ""
            },
            "colorscale": [
             [
              0,
              "#0d0887"
             ],
             [
              0.1111111111111111,
              "#46039f"
             ],
             [
              0.2222222222222222,
              "#7201a8"
             ],
             [
              0.3333333333333333,
              "#9c179e"
             ],
             [
              0.4444444444444444,
              "#bd3786"
             ],
             [
              0.5555555555555556,
              "#d8576b"
             ],
             [
              0.6666666666666666,
              "#ed7953"
             ],
             [
              0.7777777777777778,
              "#fb9f3a"
             ],
             [
              0.8888888888888888,
              "#fdca26"
             ],
             [
              1,
              "#f0f921"
             ]
            ],
            "type": "histogram2dcontour"
           }
          ],
          "mesh3d": [
           {
            "colorbar": {
             "outlinewidth": 0,
             "ticks": ""
            },
            "type": "mesh3d"
           }
          ],
          "parcoords": [
           {
            "line": {
             "colorbar": {
              "outlinewidth": 0,
              "ticks": ""
             }
            },
            "type": "parcoords"
           }
          ],
          "pie": [
           {
            "automargin": true,
            "type": "pie"
           }
          ],
          "scatter": [
           {
            "marker": {
             "colorbar": {
              "outlinewidth": 0,
              "ticks": ""
             }
            },
            "type": "scatter"
           }
          ],
          "scatter3d": [
           {
            "line": {
             "colorbar": {
              "outlinewidth": 0,
              "ticks": ""
             }
            },
            "marker": {
             "colorbar": {
              "outlinewidth": 0,
              "ticks": ""
             }
            },
            "type": "scatter3d"
           }
          ],
          "scattercarpet": [
           {
            "marker": {
             "colorbar": {
              "outlinewidth": 0,
              "ticks": ""
             }
            },
            "type": "scattercarpet"
           }
          ],
          "scattergeo": [
           {
            "marker": {
             "colorbar": {
              "outlinewidth": 0,
              "ticks": ""
             }
            },
            "type": "scattergeo"
           }
          ],
          "scattergl": [
           {
            "marker": {
             "colorbar": {
              "outlinewidth": 0,
              "ticks": ""
             }
            },
            "type": "scattergl"
           }
          ],
          "scattermapbox": [
           {
            "marker": {
             "colorbar": {
              "outlinewidth": 0,
              "ticks": ""
             }
            },
            "type": "scattermapbox"
           }
          ],
          "scatterpolar": [
           {
            "marker": {
             "colorbar": {
              "outlinewidth": 0,
              "ticks": ""
             }
            },
            "type": "scatterpolar"
           }
          ],
          "scatterpolargl": [
           {
            "marker": {
             "colorbar": {
              "outlinewidth": 0,
              "ticks": ""
             }
            },
            "type": "scatterpolargl"
           }
          ],
          "scatterternary": [
           {
            "marker": {
             "colorbar": {
              "outlinewidth": 0,
              "ticks": ""
             }
            },
            "type": "scatterternary"
           }
          ],
          "surface": [
           {
            "colorbar": {
             "outlinewidth": 0,
             "ticks": ""
            },
            "colorscale": [
             [
              0,
              "#0d0887"
             ],
             [
              0.1111111111111111,
              "#46039f"
             ],
             [
              0.2222222222222222,
              "#7201a8"
             ],
             [
              0.3333333333333333,
              "#9c179e"
             ],
             [
              0.4444444444444444,
              "#bd3786"
             ],
             [
              0.5555555555555556,
              "#d8576b"
             ],
             [
              0.6666666666666666,
              "#ed7953"
             ],
             [
              0.7777777777777778,
              "#fb9f3a"
             ],
             [
              0.8888888888888888,
              "#fdca26"
             ],
             [
              1,
              "#f0f921"
             ]
            ],
            "type": "surface"
           }
          ],
          "table": [
           {
            "cells": {
             "fill": {
              "color": "#EBF0F8"
             },
             "line": {
              "color": "white"
             }
            },
            "header": {
             "fill": {
              "color": "#C8D4E3"
             },
             "line": {
              "color": "white"
             }
            },
            "type": "table"
           }
          ]
         },
         "layout": {
          "annotationdefaults": {
           "arrowcolor": "#2a3f5f",
           "arrowhead": 0,
           "arrowwidth": 1
          },
          "autotypenumbers": "strict",
          "coloraxis": {
           "colorbar": {
            "outlinewidth": 0,
            "ticks": ""
           }
          },
          "colorscale": {
           "diverging": [
            [
             0,
             "#8e0152"
            ],
            [
             0.1,
             "#c51b7d"
            ],
            [
             0.2,
             "#de77ae"
            ],
            [
             0.3,
             "#f1b6da"
            ],
            [
             0.4,
             "#fde0ef"
            ],
            [
             0.5,
             "#f7f7f7"
            ],
            [
             0.6,
             "#e6f5d0"
            ],
            [
             0.7,
             "#b8e186"
            ],
            [
             0.8,
             "#7fbc41"
            ],
            [
             0.9,
             "#4d9221"
            ],
            [
             1,
             "#276419"
            ]
           ],
           "sequential": [
            [
             0,
             "#0d0887"
            ],
            [
             0.1111111111111111,
             "#46039f"
            ],
            [
             0.2222222222222222,
             "#7201a8"
            ],
            [
             0.3333333333333333,
             "#9c179e"
            ],
            [
             0.4444444444444444,
             "#bd3786"
            ],
            [
             0.5555555555555556,
             "#d8576b"
            ],
            [
             0.6666666666666666,
             "#ed7953"
            ],
            [
             0.7777777777777778,
             "#fb9f3a"
            ],
            [
             0.8888888888888888,
             "#fdca26"
            ],
            [
             1,
             "#f0f921"
            ]
           ],
           "sequentialminus": [
            [
             0,
             "#0d0887"
            ],
            [
             0.1111111111111111,
             "#46039f"
            ],
            [
             0.2222222222222222,
             "#7201a8"
            ],
            [
             0.3333333333333333,
             "#9c179e"
            ],
            [
             0.4444444444444444,
             "#bd3786"
            ],
            [
             0.5555555555555556,
             "#d8576b"
            ],
            [
             0.6666666666666666,
             "#ed7953"
            ],
            [
             0.7777777777777778,
             "#fb9f3a"
            ],
            [
             0.8888888888888888,
             "#fdca26"
            ],
            [
             1,
             "#f0f921"
            ]
           ]
          },
          "colorway": [
           "#636efa",
           "#EF553B",
           "#00cc96",
           "#ab63fa",
           "#FFA15A",
           "#19d3f3",
           "#FF6692",
           "#B6E880",
           "#FF97FF",
           "#FECB52"
          ],
          "font": {
           "color": "#2a3f5f"
          },
          "geo": {
           "bgcolor": "white",
           "lakecolor": "white",
           "landcolor": "#E5ECF6",
           "showlakes": true,
           "showland": true,
           "subunitcolor": "white"
          },
          "hoverlabel": {
           "align": "left"
          },
          "hovermode": "closest",
          "mapbox": {
           "style": "light"
          },
          "paper_bgcolor": "white",
          "plot_bgcolor": "#E5ECF6",
          "polar": {
           "angularaxis": {
            "gridcolor": "white",
            "linecolor": "white",
            "ticks": ""
           },
           "bgcolor": "#E5ECF6",
           "radialaxis": {
            "gridcolor": "white",
            "linecolor": "white",
            "ticks": ""
           }
          },
          "scene": {
           "xaxis": {
            "backgroundcolor": "#E5ECF6",
            "gridcolor": "white",
            "gridwidth": 2,
            "linecolor": "white",
            "showbackground": true,
            "ticks": "",
            "zerolinecolor": "white"
           },
           "yaxis": {
            "backgroundcolor": "#E5ECF6",
            "gridcolor": "white",
            "gridwidth": 2,
            "linecolor": "white",
            "showbackground": true,
            "ticks": "",
            "zerolinecolor": "white"
           },
           "zaxis": {
            "backgroundcolor": "#E5ECF6",
            "gridcolor": "white",
            "gridwidth": 2,
            "linecolor": "white",
            "showbackground": true,
            "ticks": "",
            "zerolinecolor": "white"
           }
          },
          "shapedefaults": {
           "line": {
            "color": "#2a3f5f"
           }
          },
          "ternary": {
           "aaxis": {
            "gridcolor": "white",
            "linecolor": "white",
            "ticks": ""
           },
           "baxis": {
            "gridcolor": "white",
            "linecolor": "white",
            "ticks": ""
           },
           "bgcolor": "#E5ECF6",
           "caxis": {
            "gridcolor": "white",
            "linecolor": "white",
            "ticks": ""
           }
          },
          "title": {
           "x": 0.05
          },
          "xaxis": {
           "automargin": true,
           "gridcolor": "white",
           "linecolor": "white",
           "ticks": "",
           "title": {
            "standoff": 15
           },
           "zerolinecolor": "white",
           "zerolinewidth": 2
          },
          "yaxis": {
           "automargin": true,
           "gridcolor": "white",
           "linecolor": "white",
           "ticks": "",
           "title": {
            "standoff": 15
           },
           "zerolinecolor": "white",
           "zerolinewidth": 2
          }
         }
        },
        "title": {
         "text": "Battery Recharge by Reflector Hit"
        },
        "xaxis": {
         "anchor": "y",
         "domain": [
          0,
          1
         ],
         "title": {
          "text": "Relative Change in Starting Battery %"
         }
        },
        "yaxis": {
         "anchor": "x",
         "categoryarray": [
          "nan",
          "Reflector #5",
          "Reflector #4",
          "Reflector #3",
          "Reflector #2",
          "Reflector #1"
         ],
         "categoryorder": "array",
         "domain": [
          0,
          1
         ],
         "title": {
          "text": "Reflector"
         }
        }
       }
      }
     },
     "metadata": {},
     "output_type": "display_data"
    }
   ],
   "source": [
    "px.box(df.sort_values('reflector_str'), x='battery delta', y='reflector_str', title='Battery Recharge by Reflector Hit', color='reflector_str', points='suspectedoutliers', **histogram_options)"
   ]
  },
  {
   "cell_type": "code",
   "execution_count": 417,
   "metadata": {},
   "outputs": [
    {
     "data": {
      "application/vnd.plotly.v1+json": {
       "config": {
        "plotlyServerURL": "https://plot.ly"
       },
       "data": [
        {
         "alignmentgroup": "True",
         "bingroup": "x",
         "hovertemplate": "Regenerated?=False<br>Relative Change in Starting Battery %=%{x}<br>count=%{y}<extra></extra>",
         "legendgroup": "False",
         "marker": {
          "color": "rgb(75, 41, 145)",
          "pattern": {
           "shape": ""
          }
         },
         "name": "False",
         "offsetgroup": "False",
         "orientation": "v",
         "showlegend": true,
         "type": "histogram",
         "x": [
          0,
          -0.8000000000000114,
          -2,
          -0.6000000000000085,
          -1.3999999999999915,
          -1.1000000000000085,
          -1,
          -2.5999999999999943,
          -1,
          -4.299999999999997,
          -1,
          -0.10000000000000853,
          -4.299999999999997,
          -3.200000000000003,
          -1.2000000000000028,
          -0.20000000000000284,
          -0.7000000000000028,
          -3.700000000000003,
          -0.09999999999999432,
          -2.299999999999997,
          -1.1000000000000085,
          -0.7000000000000028,
          -3.299999999999997,
          -4.6000000000000085,
          -0.8999999999999915,
          -1.7000000000000028,
          -2.3999999999999915,
          -0.20000000000000284,
          -3,
          -1.5,
          -3.4000000000000057,
          -1.2000000000000028,
          -1.6999999999999886,
          -0.7000000000000028,
          -0.4000000000000057,
          -2.4000000000000057,
          -0.09999999999999432,
          -1.5,
          -1.2000000000000028,
          -2.700000000000003,
          -2.799999999999997,
          -4.400000000000006,
          -2.9000000000000057,
          -3,
          -0.20000000000000284,
          -0.20000000000000284,
          -1.3999999999999915,
          -1.2000000000000028,
          -3.5,
          -3.9000000000000057,
          -0.20000000000000284,
          -0.8999999999999915,
          -2.1000000000000085,
          -3.700000000000003,
          -1,
          -3.4000000000000057,
          -1.2999999999999972,
          -1.2999999999999972,
          -0.7999999999999972,
          -3.5999999999999943,
          -4.5,
          -0.5,
          -1.8999999999999915,
          -0.4000000000000057,
          -2.799999999999997,
          -0.29999999999999716,
          -1.2999999999999972,
          -1,
          -3.5999999999999943,
          -2.299999999999997,
          -1.7999999999999972,
          -3.0999999999999943,
          -0.4000000000000057,
          -2.3999999999999915,
          -2.5,
          -0.10000000000000853,
          -0.4000000000000057,
          -1.7000000000000028,
          -0.20000000000000284,
          -1.1000000000000085,
          -1.1999999999999886,
          -0.20000000000000284,
          -0.20000000000000284,
          -1.0999999999999943,
          -1.5,
          -1.2000000000000028,
          -2.5999999999999943,
          -0.8999999999999915,
          -1.2000000000000028,
          -1.0999999999999943,
          -1.0999999999999943,
          -2.799999999999997,
          -4.5,
          -0.29999999999999716,
          -1.7999999999999972,
          -0.6000000000000085,
          -2.5,
          -4.1000000000000085,
          -0.4000000000000057,
          -2.1999999999999886,
          -0.7000000000000028,
          -1,
          -1.1999999999999886,
          -0.8000000000000114,
          -1.1000000000000085,
          -0.3999999999999915,
          -1.7999999999999972,
          -2.5999999999999943,
          -5.5,
          -0.09999999999999432,
          -2.200000000000003,
          -0.7000000000000028,
          -1.2000000000000028,
          -0.4000000000000057,
          -2.0999999999999943,
          -1.7000000000000028,
          -3.9000000000000057,
          -0.8000000000000114,
          -2.5,
          -0.5,
          -1.5,
          -2.5,
          -0.7999999999999972,
          -0.5999999999999943,
          -0.30000000000001137,
          -2.4000000000000057,
          -1.5,
          -1.1000000000000085,
          -3.5999999999999943,
          -0.29999999999999716,
          -0.29999999999999716,
          -1.5,
          -1.3999999999999915,
          -0.20000000000000284,
          -3.1999999999999886,
          -1.8999999999999915,
          -0.30000000000001137,
          -2.9000000000000057,
          -0.7000000000000028,
          -2.8999999999999915,
          -2.799999999999997,
          -1.2999999999999972,
          -1.3999999999999915,
          -1.6000000000000085,
          -3.299999999999997,
          -0.9000000000000057,
          -0.5999999999999943,
          -1.1000000000000085,
          -0.7999999999999972,
          -1.3999999999999915,
          -0.5,
          -2.6999999999999886,
          -2.700000000000003,
          -2,
          -3.700000000000003,
          -0.5,
          -2.1999999999999886,
          -1.1000000000000085,
          -3.299999999999997,
          -3.3999999999999915,
          -1.2999999999999972,
          -1.2000000000000028,
          -1.9000000000000057,
          -2.200000000000003,
          -3.5999999999999943,
          -3.3000000000000114,
          -0.19999999999998863,
          -1.2999999999999972,
          -1.4000000000000057,
          -3.0999999999999943
         ],
         "xaxis": "x",
         "yaxis": "y"
        },
        {
         "alignmentgroup": "True",
         "bingroup": "x",
         "hovertemplate": "Regenerated?=True<br>Relative Change in Starting Battery %=%{x}<br>count=%{y}<extra></extra>",
         "legendgroup": "True",
         "marker": {
          "color": "rgb(135, 44, 162)",
          "pattern": {
           "shape": ""
          }
         },
         "name": "True",
         "offsetgroup": "True",
         "orientation": "v",
         "showlegend": true,
         "type": "histogram",
         "x": [
          3.3000000000000114,
          0.5999999999999943,
          0.7000000000000028,
          2,
          0.20000000000000284,
          0,
          3.0999999999999943,
          0.7999999999999972,
          3.1000000000000085,
          2.5,
          4.299999999999997,
          2.6000000000000085,
          1.1000000000000085,
          0.5,
          2,
          0.7000000000000028,
          0.5999999999999943,
          1,
          1.0999999999999943,
          2.200000000000003,
          1.2000000000000028,
          0,
          1.1000000000000085,
          0.29999999999999716,
          0.5999999999999943,
          1.1000000000000085,
          4,
          5.099999999999994,
          0,
          1,
          3,
          2.5,
          0,
          1.1000000000000085,
          0.5,
          1.8999999999999915,
          0.09999999999999432,
          2.700000000000003,
          1.9000000000000057,
          1.4000000000000057,
          3.5999999999999943,
          1.4000000000000057,
          0.5999999999999943,
          0.7999999999999972,
          1.1000000000000085,
          3.700000000000003,
          3.200000000000003,
          1,
          0.30000000000001137,
          1.3999999999999915,
          4.200000000000003,
          1.0999999999999943,
          1.4000000000000057,
          3.1000000000000085,
          0.5999999999999943,
          4.5,
          1.9000000000000057,
          2.700000000000003,
          0.29999999999999716,
          0.10000000000000853,
          0.8999999999999915,
          2.799999999999997,
          0.7999999999999972,
          0.7000000000000028,
          2.5,
          0,
          1.1999999999999886,
          2,
          1.3000000000000114,
          0.8999999999999915,
          0.5999999999999943,
          1,
          0,
          2.5,
          0.5,
          0.5,
          3.8999999999999915,
          2.799999999999997,
          2.299999999999997,
          2,
          0.5999999999999943,
          2.700000000000003,
          0.19999999999998863,
          0.8000000000000114,
          2,
          0.10000000000000853,
          2.1000000000000085,
          1,
          0.29999999999999716,
          0.5999999999999943,
          0.4000000000000057,
          0.09999999999999432,
          0.6000000000000085,
          3.8999999999999915,
          3.0999999999999943,
          3.0999999999999943,
          0.19999999999998863,
          0.5,
          0.5,
          1.6000000000000085,
          3.5999999999999943,
          1,
          1,
          1.2000000000000028,
          2.5999999999999943,
          0.6000000000000085,
          0.20000000000000284,
          3.6000000000000085,
          0,
          0.9000000000000057,
          0.19999999999998863,
          0.29999999999999716,
          1.5999999999999943,
          0.5,
          1,
          0.4000000000000057,
          0.7000000000000028,
          1.0999999999999943,
          1.5999999999999943,
          4.5,
          2.5,
          1.0999999999999943,
          0.20000000000000284,
          0.09999999999999432,
          1.8000000000000114,
          0,
          1.0999999999999943,
          0.5,
          0.9000000000000057,
          4.700000000000003,
          0.8000000000000114,
          2.5,
          1.7000000000000028,
          3.5,
          1.4000000000000057,
          1.0999999999999943,
          0.6000000000000085,
          1.5,
          1.1000000000000085,
          0.09999999999999432,
          1.7999999999999972,
          1.1000000000000085,
          3.3999999999999915,
          0.4000000000000057,
          0.09999999999999432,
          0.7999999999999972,
          0.7999999999999972,
          0.4000000000000057,
          1.6999999999999886,
          1.1999999999999886,
          0.30000000000001137,
          0.8999999999999915,
          1.1000000000000085,
          0,
          0,
          0.7999999999999972,
          1.2000000000000028,
          1.2000000000000028,
          2.8999999999999915,
          3,
          3.5,
          0.09999999999999432,
          2.5,
          2.200000000000003,
          1.7000000000000028,
          0.10000000000000853,
          0.3999999999999915,
          0,
          1.7999999999999972,
          1.5,
          0.19999999999998863,
          2,
          0.5,
          1,
          4,
          0.5999999999999943,
          2.5,
          1.7999999999999972,
          1.3999999999999915,
          0.10000000000000853,
          2,
          5.8999999999999915,
          2.200000000000003,
          0.6000000000000085,
          0.7999999999999972,
          3.700000000000003,
          2,
          1.5,
          0.09999999999999432,
          0.7999999999999972,
          2,
          0.7000000000000028,
          0.29999999999999716,
          1.2999999999999972,
          1.1000000000000085
         ],
         "xaxis": "x2",
         "yaxis": "y2"
        }
       ],
       "layout": {
        "annotations": [
         {
          "font": {},
          "showarrow": false,
          "text": "Regenerated?=False",
          "x": 0.245,
          "xanchor": "center",
          "xref": "paper",
          "y": 1,
          "yanchor": "bottom",
          "yref": "paper"
         },
         {
          "font": {},
          "showarrow": false,
          "text": "Regenerated?=True",
          "x": 0.755,
          "xanchor": "center",
          "xref": "paper",
          "y": 1,
          "yanchor": "bottom",
          "yref": "paper"
         }
        ],
        "barmode": "relative",
        "height": 500,
        "legend": {
         "title": {
          "text": "Regenerated?"
         },
         "tracegroupgap": 0
        },
        "template": {
         "data": {
          "bar": [
           {
            "error_x": {
             "color": "#2a3f5f"
            },
            "error_y": {
             "color": "#2a3f5f"
            },
            "marker": {
             "line": {
              "color": "#E5ECF6",
              "width": 0.5
             },
             "pattern": {
              "fillmode": "overlay",
              "size": 10,
              "solidity": 0.2
             }
            },
            "type": "bar"
           }
          ],
          "barpolar": [
           {
            "marker": {
             "line": {
              "color": "#E5ECF6",
              "width": 0.5
             },
             "pattern": {
              "fillmode": "overlay",
              "size": 10,
              "solidity": 0.2
             }
            },
            "type": "barpolar"
           }
          ],
          "carpet": [
           {
            "aaxis": {
             "endlinecolor": "#2a3f5f",
             "gridcolor": "white",
             "linecolor": "white",
             "minorgridcolor": "white",
             "startlinecolor": "#2a3f5f"
            },
            "baxis": {
             "endlinecolor": "#2a3f5f",
             "gridcolor": "white",
             "linecolor": "white",
             "minorgridcolor": "white",
             "startlinecolor": "#2a3f5f"
            },
            "type": "carpet"
           }
          ],
          "choropleth": [
           {
            "colorbar": {
             "outlinewidth": 0,
             "ticks": ""
            },
            "type": "choropleth"
           }
          ],
          "contour": [
           {
            "colorbar": {
             "outlinewidth": 0,
             "ticks": ""
            },
            "colorscale": [
             [
              0,
              "#0d0887"
             ],
             [
              0.1111111111111111,
              "#46039f"
             ],
             [
              0.2222222222222222,
              "#7201a8"
             ],
             [
              0.3333333333333333,
              "#9c179e"
             ],
             [
              0.4444444444444444,
              "#bd3786"
             ],
             [
              0.5555555555555556,
              "#d8576b"
             ],
             [
              0.6666666666666666,
              "#ed7953"
             ],
             [
              0.7777777777777778,
              "#fb9f3a"
             ],
             [
              0.8888888888888888,
              "#fdca26"
             ],
             [
              1,
              "#f0f921"
             ]
            ],
            "type": "contour"
           }
          ],
          "contourcarpet": [
           {
            "colorbar": {
             "outlinewidth": 0,
             "ticks": ""
            },
            "type": "contourcarpet"
           }
          ],
          "heatmap": [
           {
            "colorbar": {
             "outlinewidth": 0,
             "ticks": ""
            },
            "colorscale": [
             [
              0,
              "#0d0887"
             ],
             [
              0.1111111111111111,
              "#46039f"
             ],
             [
              0.2222222222222222,
              "#7201a8"
             ],
             [
              0.3333333333333333,
              "#9c179e"
             ],
             [
              0.4444444444444444,
              "#bd3786"
             ],
             [
              0.5555555555555556,
              "#d8576b"
             ],
             [
              0.6666666666666666,
              "#ed7953"
             ],
             [
              0.7777777777777778,
              "#fb9f3a"
             ],
             [
              0.8888888888888888,
              "#fdca26"
             ],
             [
              1,
              "#f0f921"
             ]
            ],
            "type": "heatmap"
           }
          ],
          "heatmapgl": [
           {
            "colorbar": {
             "outlinewidth": 0,
             "ticks": ""
            },
            "colorscale": [
             [
              0,
              "#0d0887"
             ],
             [
              0.1111111111111111,
              "#46039f"
             ],
             [
              0.2222222222222222,
              "#7201a8"
             ],
             [
              0.3333333333333333,
              "#9c179e"
             ],
             [
              0.4444444444444444,
              "#bd3786"
             ],
             [
              0.5555555555555556,
              "#d8576b"
             ],
             [
              0.6666666666666666,
              "#ed7953"
             ],
             [
              0.7777777777777778,
              "#fb9f3a"
             ],
             [
              0.8888888888888888,
              "#fdca26"
             ],
             [
              1,
              "#f0f921"
             ]
            ],
            "type": "heatmapgl"
           }
          ],
          "histogram": [
           {
            "marker": {
             "pattern": {
              "fillmode": "overlay",
              "size": 10,
              "solidity": 0.2
             }
            },
            "type": "histogram"
           }
          ],
          "histogram2d": [
           {
            "colorbar": {
             "outlinewidth": 0,
             "ticks": ""
            },
            "colorscale": [
             [
              0,
              "#0d0887"
             ],
             [
              0.1111111111111111,
              "#46039f"
             ],
             [
              0.2222222222222222,
              "#7201a8"
             ],
             [
              0.3333333333333333,
              "#9c179e"
             ],
             [
              0.4444444444444444,
              "#bd3786"
             ],
             [
              0.5555555555555556,
              "#d8576b"
             ],
             [
              0.6666666666666666,
              "#ed7953"
             ],
             [
              0.7777777777777778,
              "#fb9f3a"
             ],
             [
              0.8888888888888888,
              "#fdca26"
             ],
             [
              1,
              "#f0f921"
             ]
            ],
            "type": "histogram2d"
           }
          ],
          "histogram2dcontour": [
           {
            "colorbar": {
             "outlinewidth": 0,
             "ticks": ""
            },
            "colorscale": [
             [
              0,
              "#0d0887"
             ],
             [
              0.1111111111111111,
              "#46039f"
             ],
             [
              0.2222222222222222,
              "#7201a8"
             ],
             [
              0.3333333333333333,
              "#9c179e"
             ],
             [
              0.4444444444444444,
              "#bd3786"
             ],
             [
              0.5555555555555556,
              "#d8576b"
             ],
             [
              0.6666666666666666,
              "#ed7953"
             ],
             [
              0.7777777777777778,
              "#fb9f3a"
             ],
             [
              0.8888888888888888,
              "#fdca26"
             ],
             [
              1,
              "#f0f921"
             ]
            ],
            "type": "histogram2dcontour"
           }
          ],
          "mesh3d": [
           {
            "colorbar": {
             "outlinewidth": 0,
             "ticks": ""
            },
            "type": "mesh3d"
           }
          ],
          "parcoords": [
           {
            "line": {
             "colorbar": {
              "outlinewidth": 0,
              "ticks": ""
             }
            },
            "type": "parcoords"
           }
          ],
          "pie": [
           {
            "automargin": true,
            "type": "pie"
           }
          ],
          "scatter": [
           {
            "marker": {
             "colorbar": {
              "outlinewidth": 0,
              "ticks": ""
             }
            },
            "type": "scatter"
           }
          ],
          "scatter3d": [
           {
            "line": {
             "colorbar": {
              "outlinewidth": 0,
              "ticks": ""
             }
            },
            "marker": {
             "colorbar": {
              "outlinewidth": 0,
              "ticks": ""
             }
            },
            "type": "scatter3d"
           }
          ],
          "scattercarpet": [
           {
            "marker": {
             "colorbar": {
              "outlinewidth": 0,
              "ticks": ""
             }
            },
            "type": "scattercarpet"
           }
          ],
          "scattergeo": [
           {
            "marker": {
             "colorbar": {
              "outlinewidth": 0,
              "ticks": ""
             }
            },
            "type": "scattergeo"
           }
          ],
          "scattergl": [
           {
            "marker": {
             "colorbar": {
              "outlinewidth": 0,
              "ticks": ""
             }
            },
            "type": "scattergl"
           }
          ],
          "scattermapbox": [
           {
            "marker": {
             "colorbar": {
              "outlinewidth": 0,
              "ticks": ""
             }
            },
            "type": "scattermapbox"
           }
          ],
          "scatterpolar": [
           {
            "marker": {
             "colorbar": {
              "outlinewidth": 0,
              "ticks": ""
             }
            },
            "type": "scatterpolar"
           }
          ],
          "scatterpolargl": [
           {
            "marker": {
             "colorbar": {
              "outlinewidth": 0,
              "ticks": ""
             }
            },
            "type": "scatterpolargl"
           }
          ],
          "scatterternary": [
           {
            "marker": {
             "colorbar": {
              "outlinewidth": 0,
              "ticks": ""
             }
            },
            "type": "scatterternary"
           }
          ],
          "surface": [
           {
            "colorbar": {
             "outlinewidth": 0,
             "ticks": ""
            },
            "colorscale": [
             [
              0,
              "#0d0887"
             ],
             [
              0.1111111111111111,
              "#46039f"
             ],
             [
              0.2222222222222222,
              "#7201a8"
             ],
             [
              0.3333333333333333,
              "#9c179e"
             ],
             [
              0.4444444444444444,
              "#bd3786"
             ],
             [
              0.5555555555555556,
              "#d8576b"
             ],
             [
              0.6666666666666666,
              "#ed7953"
             ],
             [
              0.7777777777777778,
              "#fb9f3a"
             ],
             [
              0.8888888888888888,
              "#fdca26"
             ],
             [
              1,
              "#f0f921"
             ]
            ],
            "type": "surface"
           }
          ],
          "table": [
           {
            "cells": {
             "fill": {
              "color": "#EBF0F8"
             },
             "line": {
              "color": "white"
             }
            },
            "header": {
             "fill": {
              "color": "#C8D4E3"
             },
             "line": {
              "color": "white"
             }
            },
            "type": "table"
           }
          ]
         },
         "layout": {
          "annotationdefaults": {
           "arrowcolor": "#2a3f5f",
           "arrowhead": 0,
           "arrowwidth": 1
          },
          "autotypenumbers": "strict",
          "coloraxis": {
           "colorbar": {
            "outlinewidth": 0,
            "ticks": ""
           }
          },
          "colorscale": {
           "diverging": [
            [
             0,
             "#8e0152"
            ],
            [
             0.1,
             "#c51b7d"
            ],
            [
             0.2,
             "#de77ae"
            ],
            [
             0.3,
             "#f1b6da"
            ],
            [
             0.4,
             "#fde0ef"
            ],
            [
             0.5,
             "#f7f7f7"
            ],
            [
             0.6,
             "#e6f5d0"
            ],
            [
             0.7,
             "#b8e186"
            ],
            [
             0.8,
             "#7fbc41"
            ],
            [
             0.9,
             "#4d9221"
            ],
            [
             1,
             "#276419"
            ]
           ],
           "sequential": [
            [
             0,
             "#0d0887"
            ],
            [
             0.1111111111111111,
             "#46039f"
            ],
            [
             0.2222222222222222,
             "#7201a8"
            ],
            [
             0.3333333333333333,
             "#9c179e"
            ],
            [
             0.4444444444444444,
             "#bd3786"
            ],
            [
             0.5555555555555556,
             "#d8576b"
            ],
            [
             0.6666666666666666,
             "#ed7953"
            ],
            [
             0.7777777777777778,
             "#fb9f3a"
            ],
            [
             0.8888888888888888,
             "#fdca26"
            ],
            [
             1,
             "#f0f921"
            ]
           ],
           "sequentialminus": [
            [
             0,
             "#0d0887"
            ],
            [
             0.1111111111111111,
             "#46039f"
            ],
            [
             0.2222222222222222,
             "#7201a8"
            ],
            [
             0.3333333333333333,
             "#9c179e"
            ],
            [
             0.4444444444444444,
             "#bd3786"
            ],
            [
             0.5555555555555556,
             "#d8576b"
            ],
            [
             0.6666666666666666,
             "#ed7953"
            ],
            [
             0.7777777777777778,
             "#fb9f3a"
            ],
            [
             0.8888888888888888,
             "#fdca26"
            ],
            [
             1,
             "#f0f921"
            ]
           ]
          },
          "colorway": [
           "#636efa",
           "#EF553B",
           "#00cc96",
           "#ab63fa",
           "#FFA15A",
           "#19d3f3",
           "#FF6692",
           "#B6E880",
           "#FF97FF",
           "#FECB52"
          ],
          "font": {
           "color": "#2a3f5f"
          },
          "geo": {
           "bgcolor": "white",
           "lakecolor": "white",
           "landcolor": "#E5ECF6",
           "showlakes": true,
           "showland": true,
           "subunitcolor": "white"
          },
          "hoverlabel": {
           "align": "left"
          },
          "hovermode": "closest",
          "mapbox": {
           "style": "light"
          },
          "paper_bgcolor": "white",
          "plot_bgcolor": "#E5ECF6",
          "polar": {
           "angularaxis": {
            "gridcolor": "white",
            "linecolor": "white",
            "ticks": ""
           },
           "bgcolor": "#E5ECF6",
           "radialaxis": {
            "gridcolor": "white",
            "linecolor": "white",
            "ticks": ""
           }
          },
          "scene": {
           "xaxis": {
            "backgroundcolor": "#E5ECF6",
            "gridcolor": "white",
            "gridwidth": 2,
            "linecolor": "white",
            "showbackground": true,
            "ticks": "",
            "zerolinecolor": "white"
           },
           "yaxis": {
            "backgroundcolor": "#E5ECF6",
            "gridcolor": "white",
            "gridwidth": 2,
            "linecolor": "white",
            "showbackground": true,
            "ticks": "",
            "zerolinecolor": "white"
           },
           "zaxis": {
            "backgroundcolor": "#E5ECF6",
            "gridcolor": "white",
            "gridwidth": 2,
            "linecolor": "white",
            "showbackground": true,
            "ticks": "",
            "zerolinecolor": "white"
           }
          },
          "shapedefaults": {
           "line": {
            "color": "#2a3f5f"
           }
          },
          "ternary": {
           "aaxis": {
            "gridcolor": "white",
            "linecolor": "white",
            "ticks": ""
           },
           "baxis": {
            "gridcolor": "white",
            "linecolor": "white",
            "ticks": ""
           },
           "bgcolor": "#E5ECF6",
           "caxis": {
            "gridcolor": "white",
            "linecolor": "white",
            "ticks": ""
           }
          },
          "title": {
           "x": 0.05
          },
          "xaxis": {
           "automargin": true,
           "gridcolor": "white",
           "linecolor": "white",
           "ticks": "",
           "title": {
            "standoff": 15
           },
           "zerolinecolor": "white",
           "zerolinewidth": 2
          },
          "yaxis": {
           "automargin": true,
           "gridcolor": "white",
           "linecolor": "white",
           "ticks": "",
           "title": {
            "standoff": 15
           },
           "zerolinecolor": "white",
           "zerolinewidth": 2
          }
         }
        },
        "title": {
         "text": "Battery Change by Regenerated"
        },
        "xaxis": {
         "anchor": "y",
         "domain": [
          0,
          0.49
         ],
         "title": {
          "text": "Relative Change in Starting Battery %"
         }
        },
        "xaxis2": {
         "anchor": "y2",
         "domain": [
          0.51,
          1
         ],
         "matches": "x",
         "title": {
          "text": "Relative Change in Starting Battery %"
         }
        },
        "yaxis": {
         "anchor": "x",
         "domain": [
          0,
          1
         ],
         "title": {
          "text": "count"
         }
        },
        "yaxis2": {
         "anchor": "x2",
         "domain": [
          0,
          1
         ],
         "matches": "y",
         "showticklabels": false
        }
       }
      }
     },
     "metadata": {},
     "output_type": "display_data"
    }
   ],
   "source": [
    "px.histogram(df, x='battery delta', title='Battery Change by Regenerated', color=\"regen\", facet_col='regen', **histogram_options)"
   ]
  },
  {
   "cell_type": "code",
   "execution_count": 418,
   "metadata": {},
   "outputs": [
    {
     "data": {
      "application/vnd.plotly.v1+json": {
       "config": {
        "plotlyServerURL": "https://plot.ly"
       },
       "data": [
        {
         "alignmentgroup": "True",
         "bingroup": "x",
         "hovertemplate": "Regenerated?=False<br>Distance Travelled (km)=%{x}<br>count=%{y}<extra></extra>",
         "legendgroup": "False",
         "marker": {
          "color": "rgb(75, 41, 145)",
          "pattern": {
           "shape": ""
          }
         },
         "name": "False",
         "offsetgroup": "False",
         "orientation": "v",
         "showlegend": true,
         "type": "histogram",
         "x": [
          1296,
          1291,
          1301,
          1286,
          1271,
          1277,
          1296,
          1191,
          1331,
          1265,
          1321,
          1345,
          1195,
          1243,
          1314,
          1296,
          1230,
          1231,
          1218,
          1256,
          1287,
          1284,
          1180,
          1254,
          1277,
          1208,
          1254,
          1355,
          1256,
          1264,
          1292,
          1230,
          1281,
          1283,
          1223,
          1307,
          1239,
          1295,
          1325,
          1135,
          1319,
          1207,
          1192,
          1233,
          1235,
          1250,
          1265,
          1182,
          1246,
          1211,
          1255,
          1284,
          1201,
          1284,
          1275,
          1249,
          1211,
          1271,
          1255,
          1251,
          1186,
          1228,
          1245,
          1268,
          1207,
          1245,
          1210,
          1243,
          1219,
          1234,
          1239,
          1254,
          1211,
          1165,
          1228,
          1186,
          1226,
          1199,
          1167,
          1199,
          1262,
          1216,
          1254,
          1209,
          1155,
          1261,
          1236,
          1238,
          1220,
          1214,
          1225,
          1197,
          1231,
          1244,
          1196,
          1156,
          1232,
          1280,
          1221,
          1247,
          1226,
          1143,
          1210,
          1192,
          1239,
          1287,
          1188,
          1169,
          1138,
          1271,
          1208,
          1238,
          1214,
          1236,
          1199,
          1148,
          1127,
          1247,
          1141,
          1121,
          1137,
          1211,
          1120,
          1158,
          1177,
          1198,
          1187,
          1175,
          1239,
          1133,
          1164,
          1220,
          1148,
          1187,
          1176,
          1218,
          1243,
          1098,
          1181,
          1130,
          1181,
          1161,
          1199,
          1186,
          1124,
          1185,
          1273,
          1147,
          1180,
          1198,
          1195,
          1162,
          1139,
          1257,
          1209,
          1217,
          1110,
          1150,
          1131,
          1088,
          1132,
          1112,
          1175,
          1098,
          1085,
          1061,
          1150,
          1262,
          1093,
          1101
         ],
         "xaxis": "x",
         "yaxis": "y"
        },
        {
         "alignmentgroup": "True",
         "bingroup": "x",
         "hovertemplate": "Regenerated?=True<br>Distance Travelled (km)=%{x}<br>count=%{y}<extra></extra>",
         "legendgroup": "True",
         "marker": {
          "color": "rgb(135, 44, 162)",
          "pattern": {
           "shape": ""
          }
         },
         "name": "True",
         "offsetgroup": "True",
         "orientation": "v",
         "showlegend": true,
         "type": "histogram",
         "x": [
          1334,
          1203,
          1311,
          1232,
          1215,
          1258,
          1323,
          1332,
          1330,
          1371,
          1377,
          1291,
          1264,
          1263,
          1364,
          1297,
          1267,
          1235,
          1333,
          1240,
          1339,
          1326,
          1336,
          1299,
          1320,
          1274,
          1247,
          1358,
          1239,
          1327,
          1299,
          1348,
          1245,
          1225,
          1243,
          1265,
          1265,
          1256,
          1282,
          1357,
          1300,
          1281,
          1324,
          1294,
          1263,
          1293,
          1313,
          1208,
          1293,
          1240,
          1251,
          1199,
          1333,
          1249,
          1318,
          1261,
          1293,
          1265,
          1219,
          1287,
          1274,
          1208,
          1286,
          1181,
          1311,
          1269,
          1337,
          1304,
          1219,
          1306,
          1180,
          1259,
          1269,
          1273,
          1248,
          1212,
          1294,
          1237,
          1327,
          1296,
          1296,
          1287,
          1213,
          1233,
          1211,
          1214,
          1250,
          1272,
          1177,
          1225,
          1259,
          1320,
          1269,
          1189,
          1310,
          1313,
          1211,
          1255,
          1199,
          1224,
          1258,
          1212,
          1190,
          1217,
          1275,
          1242,
          1258,
          1142,
          1154,
          1268,
          1248,
          1188,
          1215,
          1249,
          1271,
          1215,
          1195,
          1223,
          1212,
          1198,
          1229,
          1289,
          1236,
          1248,
          1243,
          1169,
          1274,
          1268,
          1268,
          1266,
          1189,
          1178,
          1189,
          1189,
          1132,
          1205,
          1188,
          1178,
          1171,
          1244,
          1158,
          1257,
          1199,
          1133,
          1236,
          1242,
          1149,
          1183,
          1212,
          1202,
          1185,
          1219,
          1191,
          1184,
          1216,
          1195,
          1196,
          1163,
          1105,
          1157,
          1176,
          1173,
          1233,
          1206,
          1230,
          1174,
          1148,
          1091,
          1218,
          1166,
          1255,
          1236,
          1195,
          1195,
          1265,
          1109,
          1193,
          1221,
          1206,
          1196,
          1174,
          1187,
          1203,
          1227,
          1168,
          1199,
          1142,
          1164,
          1138,
          1202,
          1187,
          1231,
          1137,
          1078,
          1186
         ],
         "xaxis": "x2",
         "yaxis": "y2"
        }
       ],
       "layout": {
        "annotations": [
         {
          "font": {},
          "showarrow": false,
          "text": "Regenerated?=False",
          "x": 0.245,
          "xanchor": "center",
          "xref": "paper",
          "y": 1,
          "yanchor": "bottom",
          "yref": "paper"
         },
         {
          "font": {},
          "showarrow": false,
          "text": "Regenerated?=True",
          "x": 0.755,
          "xanchor": "center",
          "xref": "paper",
          "y": 1,
          "yanchor": "bottom",
          "yref": "paper"
         }
        ],
        "barmode": "relative",
        "height": 500,
        "legend": {
         "title": {
          "text": "Regenerated?"
         },
         "tracegroupgap": 0
        },
        "template": {
         "data": {
          "bar": [
           {
            "error_x": {
             "color": "#2a3f5f"
            },
            "error_y": {
             "color": "#2a3f5f"
            },
            "marker": {
             "line": {
              "color": "#E5ECF6",
              "width": 0.5
             },
             "pattern": {
              "fillmode": "overlay",
              "size": 10,
              "solidity": 0.2
             }
            },
            "type": "bar"
           }
          ],
          "barpolar": [
           {
            "marker": {
             "line": {
              "color": "#E5ECF6",
              "width": 0.5
             },
             "pattern": {
              "fillmode": "overlay",
              "size": 10,
              "solidity": 0.2
             }
            },
            "type": "barpolar"
           }
          ],
          "carpet": [
           {
            "aaxis": {
             "endlinecolor": "#2a3f5f",
             "gridcolor": "white",
             "linecolor": "white",
             "minorgridcolor": "white",
             "startlinecolor": "#2a3f5f"
            },
            "baxis": {
             "endlinecolor": "#2a3f5f",
             "gridcolor": "white",
             "linecolor": "white",
             "minorgridcolor": "white",
             "startlinecolor": "#2a3f5f"
            },
            "type": "carpet"
           }
          ],
          "choropleth": [
           {
            "colorbar": {
             "outlinewidth": 0,
             "ticks": ""
            },
            "type": "choropleth"
           }
          ],
          "contour": [
           {
            "colorbar": {
             "outlinewidth": 0,
             "ticks": ""
            },
            "colorscale": [
             [
              0,
              "#0d0887"
             ],
             [
              0.1111111111111111,
              "#46039f"
             ],
             [
              0.2222222222222222,
              "#7201a8"
             ],
             [
              0.3333333333333333,
              "#9c179e"
             ],
             [
              0.4444444444444444,
              "#bd3786"
             ],
             [
              0.5555555555555556,
              "#d8576b"
             ],
             [
              0.6666666666666666,
              "#ed7953"
             ],
             [
              0.7777777777777778,
              "#fb9f3a"
             ],
             [
              0.8888888888888888,
              "#fdca26"
             ],
             [
              1,
              "#f0f921"
             ]
            ],
            "type": "contour"
           }
          ],
          "contourcarpet": [
           {
            "colorbar": {
             "outlinewidth": 0,
             "ticks": ""
            },
            "type": "contourcarpet"
           }
          ],
          "heatmap": [
           {
            "colorbar": {
             "outlinewidth": 0,
             "ticks": ""
            },
            "colorscale": [
             [
              0,
              "#0d0887"
             ],
             [
              0.1111111111111111,
              "#46039f"
             ],
             [
              0.2222222222222222,
              "#7201a8"
             ],
             [
              0.3333333333333333,
              "#9c179e"
             ],
             [
              0.4444444444444444,
              "#bd3786"
             ],
             [
              0.5555555555555556,
              "#d8576b"
             ],
             [
              0.6666666666666666,
              "#ed7953"
             ],
             [
              0.7777777777777778,
              "#fb9f3a"
             ],
             [
              0.8888888888888888,
              "#fdca26"
             ],
             [
              1,
              "#f0f921"
             ]
            ],
            "type": "heatmap"
           }
          ],
          "heatmapgl": [
           {
            "colorbar": {
             "outlinewidth": 0,
             "ticks": ""
            },
            "colorscale": [
             [
              0,
              "#0d0887"
             ],
             [
              0.1111111111111111,
              "#46039f"
             ],
             [
              0.2222222222222222,
              "#7201a8"
             ],
             [
              0.3333333333333333,
              "#9c179e"
             ],
             [
              0.4444444444444444,
              "#bd3786"
             ],
             [
              0.5555555555555556,
              "#d8576b"
             ],
             [
              0.6666666666666666,
              "#ed7953"
             ],
             [
              0.7777777777777778,
              "#fb9f3a"
             ],
             [
              0.8888888888888888,
              "#fdca26"
             ],
             [
              1,
              "#f0f921"
             ]
            ],
            "type": "heatmapgl"
           }
          ],
          "histogram": [
           {
            "marker": {
             "pattern": {
              "fillmode": "overlay",
              "size": 10,
              "solidity": 0.2
             }
            },
            "type": "histogram"
           }
          ],
          "histogram2d": [
           {
            "colorbar": {
             "outlinewidth": 0,
             "ticks": ""
            },
            "colorscale": [
             [
              0,
              "#0d0887"
             ],
             [
              0.1111111111111111,
              "#46039f"
             ],
             [
              0.2222222222222222,
              "#7201a8"
             ],
             [
              0.3333333333333333,
              "#9c179e"
             ],
             [
              0.4444444444444444,
              "#bd3786"
             ],
             [
              0.5555555555555556,
              "#d8576b"
             ],
             [
              0.6666666666666666,
              "#ed7953"
             ],
             [
              0.7777777777777778,
              "#fb9f3a"
             ],
             [
              0.8888888888888888,
              "#fdca26"
             ],
             [
              1,
              "#f0f921"
             ]
            ],
            "type": "histogram2d"
           }
          ],
          "histogram2dcontour": [
           {
            "colorbar": {
             "outlinewidth": 0,
             "ticks": ""
            },
            "colorscale": [
             [
              0,
              "#0d0887"
             ],
             [
              0.1111111111111111,
              "#46039f"
             ],
             [
              0.2222222222222222,
              "#7201a8"
             ],
             [
              0.3333333333333333,
              "#9c179e"
             ],
             [
              0.4444444444444444,
              "#bd3786"
             ],
             [
              0.5555555555555556,
              "#d8576b"
             ],
             [
              0.6666666666666666,
              "#ed7953"
             ],
             [
              0.7777777777777778,
              "#fb9f3a"
             ],
             [
              0.8888888888888888,
              "#fdca26"
             ],
             [
              1,
              "#f0f921"
             ]
            ],
            "type": "histogram2dcontour"
           }
          ],
          "mesh3d": [
           {
            "colorbar": {
             "outlinewidth": 0,
             "ticks": ""
            },
            "type": "mesh3d"
           }
          ],
          "parcoords": [
           {
            "line": {
             "colorbar": {
              "outlinewidth": 0,
              "ticks": ""
             }
            },
            "type": "parcoords"
           }
          ],
          "pie": [
           {
            "automargin": true,
            "type": "pie"
           }
          ],
          "scatter": [
           {
            "marker": {
             "colorbar": {
              "outlinewidth": 0,
              "ticks": ""
             }
            },
            "type": "scatter"
           }
          ],
          "scatter3d": [
           {
            "line": {
             "colorbar": {
              "outlinewidth": 0,
              "ticks": ""
             }
            },
            "marker": {
             "colorbar": {
              "outlinewidth": 0,
              "ticks": ""
             }
            },
            "type": "scatter3d"
           }
          ],
          "scattercarpet": [
           {
            "marker": {
             "colorbar": {
              "outlinewidth": 0,
              "ticks": ""
             }
            },
            "type": "scattercarpet"
           }
          ],
          "scattergeo": [
           {
            "marker": {
             "colorbar": {
              "outlinewidth": 0,
              "ticks": ""
             }
            },
            "type": "scattergeo"
           }
          ],
          "scattergl": [
           {
            "marker": {
             "colorbar": {
              "outlinewidth": 0,
              "ticks": ""
             }
            },
            "type": "scattergl"
           }
          ],
          "scattermapbox": [
           {
            "marker": {
             "colorbar": {
              "outlinewidth": 0,
              "ticks": ""
             }
            },
            "type": "scattermapbox"
           }
          ],
          "scatterpolar": [
           {
            "marker": {
             "colorbar": {
              "outlinewidth": 0,
              "ticks": ""
             }
            },
            "type": "scatterpolar"
           }
          ],
          "scatterpolargl": [
           {
            "marker": {
             "colorbar": {
              "outlinewidth": 0,
              "ticks": ""
             }
            },
            "type": "scatterpolargl"
           }
          ],
          "scatterternary": [
           {
            "marker": {
             "colorbar": {
              "outlinewidth": 0,
              "ticks": ""
             }
            },
            "type": "scatterternary"
           }
          ],
          "surface": [
           {
            "colorbar": {
             "outlinewidth": 0,
             "ticks": ""
            },
            "colorscale": [
             [
              0,
              "#0d0887"
             ],
             [
              0.1111111111111111,
              "#46039f"
             ],
             [
              0.2222222222222222,
              "#7201a8"
             ],
             [
              0.3333333333333333,
              "#9c179e"
             ],
             [
              0.4444444444444444,
              "#bd3786"
             ],
             [
              0.5555555555555556,
              "#d8576b"
             ],
             [
              0.6666666666666666,
              "#ed7953"
             ],
             [
              0.7777777777777778,
              "#fb9f3a"
             ],
             [
              0.8888888888888888,
              "#fdca26"
             ],
             [
              1,
              "#f0f921"
             ]
            ],
            "type": "surface"
           }
          ],
          "table": [
           {
            "cells": {
             "fill": {
              "color": "#EBF0F8"
             },
             "line": {
              "color": "white"
             }
            },
            "header": {
             "fill": {
              "color": "#C8D4E3"
             },
             "line": {
              "color": "white"
             }
            },
            "type": "table"
           }
          ]
         },
         "layout": {
          "annotationdefaults": {
           "arrowcolor": "#2a3f5f",
           "arrowhead": 0,
           "arrowwidth": 1
          },
          "autotypenumbers": "strict",
          "coloraxis": {
           "colorbar": {
            "outlinewidth": 0,
            "ticks": ""
           }
          },
          "colorscale": {
           "diverging": [
            [
             0,
             "#8e0152"
            ],
            [
             0.1,
             "#c51b7d"
            ],
            [
             0.2,
             "#de77ae"
            ],
            [
             0.3,
             "#f1b6da"
            ],
            [
             0.4,
             "#fde0ef"
            ],
            [
             0.5,
             "#f7f7f7"
            ],
            [
             0.6,
             "#e6f5d0"
            ],
            [
             0.7,
             "#b8e186"
            ],
            [
             0.8,
             "#7fbc41"
            ],
            [
             0.9,
             "#4d9221"
            ],
            [
             1,
             "#276419"
            ]
           ],
           "sequential": [
            [
             0,
             "#0d0887"
            ],
            [
             0.1111111111111111,
             "#46039f"
            ],
            [
             0.2222222222222222,
             "#7201a8"
            ],
            [
             0.3333333333333333,
             "#9c179e"
            ],
            [
             0.4444444444444444,
             "#bd3786"
            ],
            [
             0.5555555555555556,
             "#d8576b"
            ],
            [
             0.6666666666666666,
             "#ed7953"
            ],
            [
             0.7777777777777778,
             "#fb9f3a"
            ],
            [
             0.8888888888888888,
             "#fdca26"
            ],
            [
             1,
             "#f0f921"
            ]
           ],
           "sequentialminus": [
            [
             0,
             "#0d0887"
            ],
            [
             0.1111111111111111,
             "#46039f"
            ],
            [
             0.2222222222222222,
             "#7201a8"
            ],
            [
             0.3333333333333333,
             "#9c179e"
            ],
            [
             0.4444444444444444,
             "#bd3786"
            ],
            [
             0.5555555555555556,
             "#d8576b"
            ],
            [
             0.6666666666666666,
             "#ed7953"
            ],
            [
             0.7777777777777778,
             "#fb9f3a"
            ],
            [
             0.8888888888888888,
             "#fdca26"
            ],
            [
             1,
             "#f0f921"
            ]
           ]
          },
          "colorway": [
           "#636efa",
           "#EF553B",
           "#00cc96",
           "#ab63fa",
           "#FFA15A",
           "#19d3f3",
           "#FF6692",
           "#B6E880",
           "#FF97FF",
           "#FECB52"
          ],
          "font": {
           "color": "#2a3f5f"
          },
          "geo": {
           "bgcolor": "white",
           "lakecolor": "white",
           "landcolor": "#E5ECF6",
           "showlakes": true,
           "showland": true,
           "subunitcolor": "white"
          },
          "hoverlabel": {
           "align": "left"
          },
          "hovermode": "closest",
          "mapbox": {
           "style": "light"
          },
          "paper_bgcolor": "white",
          "plot_bgcolor": "#E5ECF6",
          "polar": {
           "angularaxis": {
            "gridcolor": "white",
            "linecolor": "white",
            "ticks": ""
           },
           "bgcolor": "#E5ECF6",
           "radialaxis": {
            "gridcolor": "white",
            "linecolor": "white",
            "ticks": ""
           }
          },
          "scene": {
           "xaxis": {
            "backgroundcolor": "#E5ECF6",
            "gridcolor": "white",
            "gridwidth": 2,
            "linecolor": "white",
            "showbackground": true,
            "ticks": "",
            "zerolinecolor": "white"
           },
           "yaxis": {
            "backgroundcolor": "#E5ECF6",
            "gridcolor": "white",
            "gridwidth": 2,
            "linecolor": "white",
            "showbackground": true,
            "ticks": "",
            "zerolinecolor": "white"
           },
           "zaxis": {
            "backgroundcolor": "#E5ECF6",
            "gridcolor": "white",
            "gridwidth": 2,
            "linecolor": "white",
            "showbackground": true,
            "ticks": "",
            "zerolinecolor": "white"
           }
          },
          "shapedefaults": {
           "line": {
            "color": "#2a3f5f"
           }
          },
          "ternary": {
           "aaxis": {
            "gridcolor": "white",
            "linecolor": "white",
            "ticks": ""
           },
           "baxis": {
            "gridcolor": "white",
            "linecolor": "white",
            "ticks": ""
           },
           "bgcolor": "#E5ECF6",
           "caxis": {
            "gridcolor": "white",
            "linecolor": "white",
            "ticks": ""
           }
          },
          "title": {
           "x": 0.05
          },
          "xaxis": {
           "automargin": true,
           "gridcolor": "white",
           "linecolor": "white",
           "ticks": "",
           "title": {
            "standoff": 15
           },
           "zerolinecolor": "white",
           "zerolinewidth": 2
          },
          "yaxis": {
           "automargin": true,
           "gridcolor": "white",
           "linecolor": "white",
           "ticks": "",
           "title": {
            "standoff": 15
           },
           "zerolinecolor": "white",
           "zerolinewidth": 2
          }
         }
        },
        "title": {
         "text": "Distance Travelled by Regeneration"
        },
        "xaxis": {
         "anchor": "y",
         "domain": [
          0,
          0.49
         ],
         "title": {
          "text": "Distance Travelled (km)"
         }
        },
        "xaxis2": {
         "anchor": "y2",
         "domain": [
          0.51,
          1
         ],
         "matches": "x",
         "title": {
          "text": "Distance Travelled (km)"
         }
        },
        "yaxis": {
         "anchor": "x",
         "domain": [
          0,
          1
         ],
         "title": {
          "text": "count"
         }
        },
        "yaxis2": {
         "anchor": "x2",
         "domain": [
          0,
          1
         ],
         "matches": "y",
         "showticklabels": false
        }
       }
      }
     },
     "metadata": {},
     "output_type": "display_data"
    }
   ],
   "source": [
    "px.histogram(df, x='distance', title='Distance Travelled by Regeneration', color=\"regen\", facet_col='regen', **histogram_options)"
   ]
  },
  {
   "cell_type": "code",
   "execution_count": 419,
   "metadata": {},
   "outputs": [
    {
     "data": {
      "application/vnd.plotly.v1+json": {
       "config": {
        "plotlyServerURL": "https://plot.ly"
       },
       "data": [
        {
         "alignmentgroup": "True",
         "boxpoints": "outliers",
         "hovertemplate": "Regenerated?=%{x}<br>Distance Travelled (km)=%{y}<extra></extra>",
         "legendgroup": "False",
         "marker": {
          "color": "rgb(75, 41, 145)"
         },
         "name": "False",
         "notched": false,
         "offsetgroup": "False",
         "orientation": "v",
         "showlegend": true,
         "type": "box",
         "x": [
          false,
          false,
          false,
          false,
          false,
          false,
          false,
          false,
          false,
          false,
          false,
          false,
          false,
          false,
          false,
          false,
          false,
          false,
          false,
          false,
          false,
          false,
          false,
          false,
          false,
          false,
          false,
          false,
          false,
          false,
          false,
          false,
          false,
          false,
          false,
          false,
          false,
          false,
          false,
          false,
          false,
          false,
          false,
          false,
          false,
          false,
          false,
          false,
          false,
          false,
          false,
          false,
          false,
          false,
          false,
          false,
          false,
          false,
          false,
          false,
          false,
          false,
          false,
          false,
          false,
          false,
          false,
          false,
          false,
          false,
          false,
          false,
          false,
          false,
          false,
          false,
          false,
          false,
          false,
          false,
          false,
          false,
          false,
          false,
          false,
          false,
          false,
          false,
          false,
          false,
          false,
          false,
          false,
          false,
          false,
          false,
          false,
          false,
          false,
          false,
          false,
          false,
          false,
          false,
          false,
          false,
          false,
          false,
          false,
          false,
          false,
          false,
          false,
          false,
          false,
          false,
          false,
          false,
          false,
          false,
          false,
          false,
          false,
          false,
          false,
          false,
          false,
          false,
          false,
          false,
          false,
          false,
          false,
          false,
          false,
          false,
          false,
          false,
          false,
          false,
          false,
          false,
          false,
          false,
          false,
          false,
          false,
          false,
          false,
          false,
          false,
          false,
          false,
          false,
          false,
          false,
          false,
          false,
          false,
          false,
          false,
          false,
          false,
          false,
          false,
          false,
          false,
          false,
          false,
          false
         ],
         "x0": " ",
         "xaxis": "x",
         "y": [
          1296,
          1291,
          1301,
          1286,
          1271,
          1277,
          1296,
          1191,
          1331,
          1265,
          1321,
          1345,
          1195,
          1243,
          1314,
          1296,
          1230,
          1231,
          1218,
          1256,
          1287,
          1284,
          1180,
          1254,
          1277,
          1208,
          1254,
          1355,
          1256,
          1264,
          1292,
          1230,
          1281,
          1283,
          1223,
          1307,
          1239,
          1295,
          1325,
          1135,
          1319,
          1207,
          1192,
          1233,
          1235,
          1250,
          1265,
          1182,
          1246,
          1211,
          1255,
          1284,
          1201,
          1284,
          1275,
          1249,
          1211,
          1271,
          1255,
          1251,
          1186,
          1228,
          1245,
          1268,
          1207,
          1245,
          1210,
          1243,
          1219,
          1234,
          1239,
          1254,
          1211,
          1165,
          1228,
          1186,
          1226,
          1199,
          1167,
          1199,
          1262,
          1216,
          1254,
          1209,
          1155,
          1261,
          1236,
          1238,
          1220,
          1214,
          1225,
          1197,
          1231,
          1244,
          1196,
          1156,
          1232,
          1280,
          1221,
          1247,
          1226,
          1143,
          1210,
          1192,
          1239,
          1287,
          1188,
          1169,
          1138,
          1271,
          1208,
          1238,
          1214,
          1236,
          1199,
          1148,
          1127,
          1247,
          1141,
          1121,
          1137,
          1211,
          1120,
          1158,
          1177,
          1198,
          1187,
          1175,
          1239,
          1133,
          1164,
          1220,
          1148,
          1187,
          1176,
          1218,
          1243,
          1098,
          1181,
          1130,
          1181,
          1161,
          1199,
          1186,
          1124,
          1185,
          1273,
          1147,
          1180,
          1198,
          1195,
          1162,
          1139,
          1257,
          1209,
          1217,
          1110,
          1150,
          1131,
          1088,
          1132,
          1112,
          1175,
          1098,
          1085,
          1061,
          1150,
          1262,
          1093,
          1101
         ],
         "y0": " ",
         "yaxis": "y"
        },
        {
         "alignmentgroup": "True",
         "boxpoints": "outliers",
         "hovertemplate": "Regenerated?=%{x}<br>Distance Travelled (km)=%{y}<extra></extra>",
         "legendgroup": "True",
         "marker": {
          "color": "rgb(135, 44, 162)"
         },
         "name": "True",
         "notched": false,
         "offsetgroup": "True",
         "orientation": "v",
         "showlegend": true,
         "type": "box",
         "x": [
          true,
          true,
          true,
          true,
          true,
          true,
          true,
          true,
          true,
          true,
          true,
          true,
          true,
          true,
          true,
          true,
          true,
          true,
          true,
          true,
          true,
          true,
          true,
          true,
          true,
          true,
          true,
          true,
          true,
          true,
          true,
          true,
          true,
          true,
          true,
          true,
          true,
          true,
          true,
          true,
          true,
          true,
          true,
          true,
          true,
          true,
          true,
          true,
          true,
          true,
          true,
          true,
          true,
          true,
          true,
          true,
          true,
          true,
          true,
          true,
          true,
          true,
          true,
          true,
          true,
          true,
          true,
          true,
          true,
          true,
          true,
          true,
          true,
          true,
          true,
          true,
          true,
          true,
          true,
          true,
          true,
          true,
          true,
          true,
          true,
          true,
          true,
          true,
          true,
          true,
          true,
          true,
          true,
          true,
          true,
          true,
          true,
          true,
          true,
          true,
          true,
          true,
          true,
          true,
          true,
          true,
          true,
          true,
          true,
          true,
          true,
          true,
          true,
          true,
          true,
          true,
          true,
          true,
          true,
          true,
          true,
          true,
          true,
          true,
          true,
          true,
          true,
          true,
          true,
          true,
          true,
          true,
          true,
          true,
          true,
          true,
          true,
          true,
          true,
          true,
          true,
          true,
          true,
          true,
          true,
          true,
          true,
          true,
          true,
          true,
          true,
          true,
          true,
          true,
          true,
          true,
          true,
          true,
          true,
          true,
          true,
          true,
          true,
          true,
          true,
          true,
          true,
          true,
          true,
          true,
          true,
          true,
          true,
          true,
          true,
          true,
          true,
          true,
          true,
          true,
          true,
          true,
          true,
          true,
          true,
          true,
          true,
          true,
          true,
          true,
          true,
          true,
          true,
          true,
          true
         ],
         "x0": " ",
         "xaxis": "x",
         "y": [
          1334,
          1203,
          1311,
          1232,
          1215,
          1258,
          1323,
          1332,
          1330,
          1371,
          1377,
          1291,
          1264,
          1263,
          1364,
          1297,
          1267,
          1235,
          1333,
          1240,
          1339,
          1326,
          1336,
          1299,
          1320,
          1274,
          1247,
          1358,
          1239,
          1327,
          1299,
          1348,
          1245,
          1225,
          1243,
          1265,
          1265,
          1256,
          1282,
          1357,
          1300,
          1281,
          1324,
          1294,
          1263,
          1293,
          1313,
          1208,
          1293,
          1240,
          1251,
          1199,
          1333,
          1249,
          1318,
          1261,
          1293,
          1265,
          1219,
          1287,
          1274,
          1208,
          1286,
          1181,
          1311,
          1269,
          1337,
          1304,
          1219,
          1306,
          1180,
          1259,
          1269,
          1273,
          1248,
          1212,
          1294,
          1237,
          1327,
          1296,
          1296,
          1287,
          1213,
          1233,
          1211,
          1214,
          1250,
          1272,
          1177,
          1225,
          1259,
          1320,
          1269,
          1189,
          1310,
          1313,
          1211,
          1255,
          1199,
          1224,
          1258,
          1212,
          1190,
          1217,
          1275,
          1242,
          1258,
          1142,
          1154,
          1268,
          1248,
          1188,
          1215,
          1249,
          1271,
          1215,
          1195,
          1223,
          1212,
          1198,
          1229,
          1289,
          1236,
          1248,
          1243,
          1169,
          1274,
          1268,
          1268,
          1266,
          1189,
          1178,
          1189,
          1189,
          1132,
          1205,
          1188,
          1178,
          1171,
          1244,
          1158,
          1257,
          1199,
          1133,
          1236,
          1242,
          1149,
          1183,
          1212,
          1202,
          1185,
          1219,
          1191,
          1184,
          1216,
          1195,
          1196,
          1163,
          1105,
          1157,
          1176,
          1173,
          1233,
          1206,
          1230,
          1174,
          1148,
          1091,
          1218,
          1166,
          1255,
          1236,
          1195,
          1195,
          1265,
          1109,
          1193,
          1221,
          1206,
          1196,
          1174,
          1187,
          1203,
          1227,
          1168,
          1199,
          1142,
          1164,
          1138,
          1202,
          1187,
          1231,
          1137,
          1078,
          1186
         ],
         "y0": " ",
         "yaxis": "y"
        }
       ],
       "layout": {
        "boxmode": "overlay",
        "height": 500,
        "legend": {
         "title": {
          "text": "Regenerated?"
         },
         "tracegroupgap": 0
        },
        "template": {
         "data": {
          "bar": [
           {
            "error_x": {
             "color": "#2a3f5f"
            },
            "error_y": {
             "color": "#2a3f5f"
            },
            "marker": {
             "line": {
              "color": "#E5ECF6",
              "width": 0.5
             },
             "pattern": {
              "fillmode": "overlay",
              "size": 10,
              "solidity": 0.2
             }
            },
            "type": "bar"
           }
          ],
          "barpolar": [
           {
            "marker": {
             "line": {
              "color": "#E5ECF6",
              "width": 0.5
             },
             "pattern": {
              "fillmode": "overlay",
              "size": 10,
              "solidity": 0.2
             }
            },
            "type": "barpolar"
           }
          ],
          "carpet": [
           {
            "aaxis": {
             "endlinecolor": "#2a3f5f",
             "gridcolor": "white",
             "linecolor": "white",
             "minorgridcolor": "white",
             "startlinecolor": "#2a3f5f"
            },
            "baxis": {
             "endlinecolor": "#2a3f5f",
             "gridcolor": "white",
             "linecolor": "white",
             "minorgridcolor": "white",
             "startlinecolor": "#2a3f5f"
            },
            "type": "carpet"
           }
          ],
          "choropleth": [
           {
            "colorbar": {
             "outlinewidth": 0,
             "ticks": ""
            },
            "type": "choropleth"
           }
          ],
          "contour": [
           {
            "colorbar": {
             "outlinewidth": 0,
             "ticks": ""
            },
            "colorscale": [
             [
              0,
              "#0d0887"
             ],
             [
              0.1111111111111111,
              "#46039f"
             ],
             [
              0.2222222222222222,
              "#7201a8"
             ],
             [
              0.3333333333333333,
              "#9c179e"
             ],
             [
              0.4444444444444444,
              "#bd3786"
             ],
             [
              0.5555555555555556,
              "#d8576b"
             ],
             [
              0.6666666666666666,
              "#ed7953"
             ],
             [
              0.7777777777777778,
              "#fb9f3a"
             ],
             [
              0.8888888888888888,
              "#fdca26"
             ],
             [
              1,
              "#f0f921"
             ]
            ],
            "type": "contour"
           }
          ],
          "contourcarpet": [
           {
            "colorbar": {
             "outlinewidth": 0,
             "ticks": ""
            },
            "type": "contourcarpet"
           }
          ],
          "heatmap": [
           {
            "colorbar": {
             "outlinewidth": 0,
             "ticks": ""
            },
            "colorscale": [
             [
              0,
              "#0d0887"
             ],
             [
              0.1111111111111111,
              "#46039f"
             ],
             [
              0.2222222222222222,
              "#7201a8"
             ],
             [
              0.3333333333333333,
              "#9c179e"
             ],
             [
              0.4444444444444444,
              "#bd3786"
             ],
             [
              0.5555555555555556,
              "#d8576b"
             ],
             [
              0.6666666666666666,
              "#ed7953"
             ],
             [
              0.7777777777777778,
              "#fb9f3a"
             ],
             [
              0.8888888888888888,
              "#fdca26"
             ],
             [
              1,
              "#f0f921"
             ]
            ],
            "type": "heatmap"
           }
          ],
          "heatmapgl": [
           {
            "colorbar": {
             "outlinewidth": 0,
             "ticks": ""
            },
            "colorscale": [
             [
              0,
              "#0d0887"
             ],
             [
              0.1111111111111111,
              "#46039f"
             ],
             [
              0.2222222222222222,
              "#7201a8"
             ],
             [
              0.3333333333333333,
              "#9c179e"
             ],
             [
              0.4444444444444444,
              "#bd3786"
             ],
             [
              0.5555555555555556,
              "#d8576b"
             ],
             [
              0.6666666666666666,
              "#ed7953"
             ],
             [
              0.7777777777777778,
              "#fb9f3a"
             ],
             [
              0.8888888888888888,
              "#fdca26"
             ],
             [
              1,
              "#f0f921"
             ]
            ],
            "type": "heatmapgl"
           }
          ],
          "histogram": [
           {
            "marker": {
             "pattern": {
              "fillmode": "overlay",
              "size": 10,
              "solidity": 0.2
             }
            },
            "type": "histogram"
           }
          ],
          "histogram2d": [
           {
            "colorbar": {
             "outlinewidth": 0,
             "ticks": ""
            },
            "colorscale": [
             [
              0,
              "#0d0887"
             ],
             [
              0.1111111111111111,
              "#46039f"
             ],
             [
              0.2222222222222222,
              "#7201a8"
             ],
             [
              0.3333333333333333,
              "#9c179e"
             ],
             [
              0.4444444444444444,
              "#bd3786"
             ],
             [
              0.5555555555555556,
              "#d8576b"
             ],
             [
              0.6666666666666666,
              "#ed7953"
             ],
             [
              0.7777777777777778,
              "#fb9f3a"
             ],
             [
              0.8888888888888888,
              "#fdca26"
             ],
             [
              1,
              "#f0f921"
             ]
            ],
            "type": "histogram2d"
           }
          ],
          "histogram2dcontour": [
           {
            "colorbar": {
             "outlinewidth": 0,
             "ticks": ""
            },
            "colorscale": [
             [
              0,
              "#0d0887"
             ],
             [
              0.1111111111111111,
              "#46039f"
             ],
             [
              0.2222222222222222,
              "#7201a8"
             ],
             [
              0.3333333333333333,
              "#9c179e"
             ],
             [
              0.4444444444444444,
              "#bd3786"
             ],
             [
              0.5555555555555556,
              "#d8576b"
             ],
             [
              0.6666666666666666,
              "#ed7953"
             ],
             [
              0.7777777777777778,
              "#fb9f3a"
             ],
             [
              0.8888888888888888,
              "#fdca26"
             ],
             [
              1,
              "#f0f921"
             ]
            ],
            "type": "histogram2dcontour"
           }
          ],
          "mesh3d": [
           {
            "colorbar": {
             "outlinewidth": 0,
             "ticks": ""
            },
            "type": "mesh3d"
           }
          ],
          "parcoords": [
           {
            "line": {
             "colorbar": {
              "outlinewidth": 0,
              "ticks": ""
             }
            },
            "type": "parcoords"
           }
          ],
          "pie": [
           {
            "automargin": true,
            "type": "pie"
           }
          ],
          "scatter": [
           {
            "marker": {
             "colorbar": {
              "outlinewidth": 0,
              "ticks": ""
             }
            },
            "type": "scatter"
           }
          ],
          "scatter3d": [
           {
            "line": {
             "colorbar": {
              "outlinewidth": 0,
              "ticks": ""
             }
            },
            "marker": {
             "colorbar": {
              "outlinewidth": 0,
              "ticks": ""
             }
            },
            "type": "scatter3d"
           }
          ],
          "scattercarpet": [
           {
            "marker": {
             "colorbar": {
              "outlinewidth": 0,
              "ticks": ""
             }
            },
            "type": "scattercarpet"
           }
          ],
          "scattergeo": [
           {
            "marker": {
             "colorbar": {
              "outlinewidth": 0,
              "ticks": ""
             }
            },
            "type": "scattergeo"
           }
          ],
          "scattergl": [
           {
            "marker": {
             "colorbar": {
              "outlinewidth": 0,
              "ticks": ""
             }
            },
            "type": "scattergl"
           }
          ],
          "scattermapbox": [
           {
            "marker": {
             "colorbar": {
              "outlinewidth": 0,
              "ticks": ""
             }
            },
            "type": "scattermapbox"
           }
          ],
          "scatterpolar": [
           {
            "marker": {
             "colorbar": {
              "outlinewidth": 0,
              "ticks": ""
             }
            },
            "type": "scatterpolar"
           }
          ],
          "scatterpolargl": [
           {
            "marker": {
             "colorbar": {
              "outlinewidth": 0,
              "ticks": ""
             }
            },
            "type": "scatterpolargl"
           }
          ],
          "scatterternary": [
           {
            "marker": {
             "colorbar": {
              "outlinewidth": 0,
              "ticks": ""
             }
            },
            "type": "scatterternary"
           }
          ],
          "surface": [
           {
            "colorbar": {
             "outlinewidth": 0,
             "ticks": ""
            },
            "colorscale": [
             [
              0,
              "#0d0887"
             ],
             [
              0.1111111111111111,
              "#46039f"
             ],
             [
              0.2222222222222222,
              "#7201a8"
             ],
             [
              0.3333333333333333,
              "#9c179e"
             ],
             [
              0.4444444444444444,
              "#bd3786"
             ],
             [
              0.5555555555555556,
              "#d8576b"
             ],
             [
              0.6666666666666666,
              "#ed7953"
             ],
             [
              0.7777777777777778,
              "#fb9f3a"
             ],
             [
              0.8888888888888888,
              "#fdca26"
             ],
             [
              1,
              "#f0f921"
             ]
            ],
            "type": "surface"
           }
          ],
          "table": [
           {
            "cells": {
             "fill": {
              "color": "#EBF0F8"
             },
             "line": {
              "color": "white"
             }
            },
            "header": {
             "fill": {
              "color": "#C8D4E3"
             },
             "line": {
              "color": "white"
             }
            },
            "type": "table"
           }
          ]
         },
         "layout": {
          "annotationdefaults": {
           "arrowcolor": "#2a3f5f",
           "arrowhead": 0,
           "arrowwidth": 1
          },
          "autotypenumbers": "strict",
          "coloraxis": {
           "colorbar": {
            "outlinewidth": 0,
            "ticks": ""
           }
          },
          "colorscale": {
           "diverging": [
            [
             0,
             "#8e0152"
            ],
            [
             0.1,
             "#c51b7d"
            ],
            [
             0.2,
             "#de77ae"
            ],
            [
             0.3,
             "#f1b6da"
            ],
            [
             0.4,
             "#fde0ef"
            ],
            [
             0.5,
             "#f7f7f7"
            ],
            [
             0.6,
             "#e6f5d0"
            ],
            [
             0.7,
             "#b8e186"
            ],
            [
             0.8,
             "#7fbc41"
            ],
            [
             0.9,
             "#4d9221"
            ],
            [
             1,
             "#276419"
            ]
           ],
           "sequential": [
            [
             0,
             "#0d0887"
            ],
            [
             0.1111111111111111,
             "#46039f"
            ],
            [
             0.2222222222222222,
             "#7201a8"
            ],
            [
             0.3333333333333333,
             "#9c179e"
            ],
            [
             0.4444444444444444,
             "#bd3786"
            ],
            [
             0.5555555555555556,
             "#d8576b"
            ],
            [
             0.6666666666666666,
             "#ed7953"
            ],
            [
             0.7777777777777778,
             "#fb9f3a"
            ],
            [
             0.8888888888888888,
             "#fdca26"
            ],
            [
             1,
             "#f0f921"
            ]
           ],
           "sequentialminus": [
            [
             0,
             "#0d0887"
            ],
            [
             0.1111111111111111,
             "#46039f"
            ],
            [
             0.2222222222222222,
             "#7201a8"
            ],
            [
             0.3333333333333333,
             "#9c179e"
            ],
            [
             0.4444444444444444,
             "#bd3786"
            ],
            [
             0.5555555555555556,
             "#d8576b"
            ],
            [
             0.6666666666666666,
             "#ed7953"
            ],
            [
             0.7777777777777778,
             "#fb9f3a"
            ],
            [
             0.8888888888888888,
             "#fdca26"
            ],
            [
             1,
             "#f0f921"
            ]
           ]
          },
          "colorway": [
           "#636efa",
           "#EF553B",
           "#00cc96",
           "#ab63fa",
           "#FFA15A",
           "#19d3f3",
           "#FF6692",
           "#B6E880",
           "#FF97FF",
           "#FECB52"
          ],
          "font": {
           "color": "#2a3f5f"
          },
          "geo": {
           "bgcolor": "white",
           "lakecolor": "white",
           "landcolor": "#E5ECF6",
           "showlakes": true,
           "showland": true,
           "subunitcolor": "white"
          },
          "hoverlabel": {
           "align": "left"
          },
          "hovermode": "closest",
          "mapbox": {
           "style": "light"
          },
          "paper_bgcolor": "white",
          "plot_bgcolor": "#E5ECF6",
          "polar": {
           "angularaxis": {
            "gridcolor": "white",
            "linecolor": "white",
            "ticks": ""
           },
           "bgcolor": "#E5ECF6",
           "radialaxis": {
            "gridcolor": "white",
            "linecolor": "white",
            "ticks": ""
           }
          },
          "scene": {
           "xaxis": {
            "backgroundcolor": "#E5ECF6",
            "gridcolor": "white",
            "gridwidth": 2,
            "linecolor": "white",
            "showbackground": true,
            "ticks": "",
            "zerolinecolor": "white"
           },
           "yaxis": {
            "backgroundcolor": "#E5ECF6",
            "gridcolor": "white",
            "gridwidth": 2,
            "linecolor": "white",
            "showbackground": true,
            "ticks": "",
            "zerolinecolor": "white"
           },
           "zaxis": {
            "backgroundcolor": "#E5ECF6",
            "gridcolor": "white",
            "gridwidth": 2,
            "linecolor": "white",
            "showbackground": true,
            "ticks": "",
            "zerolinecolor": "white"
           }
          },
          "shapedefaults": {
           "line": {
            "color": "#2a3f5f"
           }
          },
          "ternary": {
           "aaxis": {
            "gridcolor": "white",
            "linecolor": "white",
            "ticks": ""
           },
           "baxis": {
            "gridcolor": "white",
            "linecolor": "white",
            "ticks": ""
           },
           "bgcolor": "#E5ECF6",
           "caxis": {
            "gridcolor": "white",
            "linecolor": "white",
            "ticks": ""
           }
          },
          "title": {
           "x": 0.05
          },
          "xaxis": {
           "automargin": true,
           "gridcolor": "white",
           "linecolor": "white",
           "ticks": "",
           "title": {
            "standoff": 15
           },
           "zerolinecolor": "white",
           "zerolinewidth": 2
          },
          "yaxis": {
           "automargin": true,
           "gridcolor": "white",
           "linecolor": "white",
           "ticks": "",
           "title": {
            "standoff": 15
           },
           "zerolinecolor": "white",
           "zerolinewidth": 2
          }
         }
        },
        "title": {
         "text": "Distance Travelled"
        },
        "xaxis": {
         "anchor": "y",
         "categoryarray": [
          false,
          true
         ],
         "categoryorder": "array",
         "domain": [
          0,
          1
         ],
         "title": {
          "text": "Regenerated?"
         }
        },
        "yaxis": {
         "anchor": "x",
         "domain": [
          0,
          1
         ],
         "title": {
          "text": "Distance Travelled (km)"
         }
        }
       }
      }
     },
     "metadata": {},
     "output_type": "display_data"
    }
   ],
   "source": [
    "px.box(df, y='distance', x='regen', title='Distance Travelled', color='regen', points='outliers', **histogram_options)"
   ]
  },
  {
   "cell_type": "code",
   "execution_count": 420,
   "metadata": {},
   "outputs": [
    {
     "data": {
      "application/vnd.plotly.v1+json": {
       "config": {
        "plotlyServerURL": "https://plot.ly"
       },
       "data": [
        {
         "alignmentgroup": "True",
         "bingroup": "x",
         "hovertemplate": "Radiation (Gy)=%{x}<br>count=%{y}<extra></extra>",
         "legendgroup": "",
         "marker": {
          "color": "rgb(75, 41, 145)",
          "pattern": {
           "shape": ""
          }
         },
         "name": "",
         "offsetgroup": "",
         "orientation": "v",
         "showlegend": false,
         "type": "histogram",
         "x": [
          10.3,
          10.2,
          10.2,
          10.3,
          10.3,
          10.1,
          10,
          10.3,
          10.1,
          10.2,
          10.1,
          10.3,
          10.3,
          10.2,
          10.2,
          10.3,
          10.2,
          10.2,
          10.2,
          10.3,
          10.1,
          10.2,
          10.3,
          10.4,
          10.2,
          10.3,
          10.1,
          10.3,
          10.2,
          10.2,
          10.2,
          10,
          10.3,
          10.2,
          10.3,
          10.1,
          10.2,
          10.4,
          10.2,
          10.3,
          9.9,
          10.1,
          10.2,
          10.3,
          10.2,
          10.2,
          10.1,
          10.4,
          10.2,
          10.3,
          10.3,
          10,
          10.3,
          10.1,
          10.3,
          10.2,
          10.1,
          10.4,
          10,
          10.3,
          10.3,
          10.2,
          10.2,
          10.4,
          10.5,
          10.6,
          11.3,
          11.4,
          10.9,
          10.7,
          10.3,
          10.1,
          10,
          9.8,
          10.1,
          10.2,
          10.1,
          10.2,
          10.3,
          10.2,
          10.2,
          10.3,
          10.1,
          10.1,
          10.2,
          10.2,
          10.2,
          10.3,
          10,
          10,
          10.2,
          10.1,
          10.2,
          10.1,
          10.3,
          10.3,
          10.3,
          10.2,
          10.2,
          10.2,
          10.2,
          10.1,
          10.2,
          10.2,
          10.3,
          10.1,
          10.2,
          10,
          10.2,
          10.2,
          10.3,
          10.2,
          10.2,
          10.1,
          10.3,
          10.2,
          10.2,
          10.3,
          10.4,
          9.9,
          10.2,
          10.3,
          10.2,
          10.2,
          10.2,
          10.2,
          10.2,
          10.3,
          10.3,
          10.1,
          10.2,
          9.9,
          10.2,
          10.1,
          10.1,
          10.2,
          10.2,
          10.2,
          10,
          10.2,
          10.3,
          10.1,
          10.2,
          10.2,
          10.2,
          10.2,
          10.1,
          10.2,
          10.2,
          10.1,
          10.3,
          10.5,
          10.6,
          11.3,
          11.6,
          11,
          10.6,
          10.4,
          10.3,
          10.2,
          9.7,
          10.1,
          10.2,
          10.1,
          10.2,
          10.1,
          10.2,
          10.1,
          10.1,
          10.1,
          10.3,
          10.1,
          10.2,
          10.1,
          10.2,
          10.2,
          10,
          10.2,
          10.1,
          10.3,
          10.2,
          10.1,
          10.3,
          10.3,
          10.2,
          10.1,
          10,
          10.2,
          10.4,
          10.3,
          10.3,
          10.3,
          10.1,
          10.1,
          10.3,
          10.2,
          10.2,
          10.1,
          10.2,
          10.2,
          10.2,
          10.2,
          10.2,
          10.2,
          10.2,
          10.4,
          10.2,
          10.3,
          10.3,
          10.1,
          10.2,
          10.3,
          10.1,
          10.3,
          10.2,
          10.4,
          10.2,
          10.2,
          10.2,
          10.3,
          10.3,
          10.2,
          10.1,
          10.2,
          10.2,
          10.1,
          10.3,
          10.2,
          10.3,
          10.3,
          10.1,
          10.1,
          10.1,
          10.2,
          10,
          10.3,
          10.3,
          10.4,
          10.5,
          10.7,
          11.1,
          11.5,
          11.1,
          10.6,
          10.5,
          10.1,
          10.1,
          10,
          9.9,
          10.4,
          10.1,
          10.2,
          10.3,
          10,
          10,
          10.2,
          10.2,
          10.2,
          10.3,
          10.2,
          10.3,
          10.3,
          10.2,
          10.1,
          10.1,
          10.2,
          10.1,
          10.3,
          10.1,
          10.2,
          10.1,
          10.2,
          10.1,
          9.9,
          10.2,
          10.3,
          10.3,
          10.3,
          10.1,
          10.3,
          10.1,
          10.1,
          10.2,
          10.1,
          10.2,
          10.2,
          10.2,
          10.2,
          10.2,
          10.1,
          10.3,
          10.3,
          10,
          10.2,
          10.3,
          10,
          10.2,
          10.2,
          10.3,
          10,
          10.4,
          10.1,
          10.2,
          10,
          10.2,
          10.2,
          10.1,
          10.2,
          10.2,
          10.3,
          10.2,
          10.1,
          10.1,
          10.3,
          10.1,
          10.1,
          10.1,
          10.3,
          10.3,
          10.3,
          10.2,
          10.3,
          10.2,
          10.4,
          10.4,
          10.3,
          10.8,
          11.1,
          11.4,
          10.8,
          10.4,
          10.4,
          10.3,
          10,
          9.7,
          10.2,
          10.1,
          10.2,
          10.3,
          10.2,
          10.3,
          10.2,
          10.3,
          10.2,
          10.4,
          10.3,
          10.2,
          10.4,
          10.2,
          10.2,
          10.1,
          10.2,
          10.3,
          10.2,
          10.2,
          10.2,
          10.1,
          10.1,
          10.2,
          10.1,
          10.1,
          10.2,
          10.1,
          10.2,
          10.2
         ],
         "xaxis": "x",
         "yaxis": "y"
        },
        {
         "alignmentgroup": "True",
         "hovertemplate": "Radiation (Gy)=%{x}<extra></extra>",
         "legendgroup": "",
         "marker": {
          "color": "rgb(75, 41, 145)"
         },
         "name": "",
         "offsetgroup": "",
         "scalegroup": "x",
         "showlegend": false,
         "type": "violin",
         "x": [
          10.3,
          10.2,
          10.2,
          10.3,
          10.3,
          10.1,
          10,
          10.3,
          10.1,
          10.2,
          10.1,
          10.3,
          10.3,
          10.2,
          10.2,
          10.3,
          10.2,
          10.2,
          10.2,
          10.3,
          10.1,
          10.2,
          10.3,
          10.4,
          10.2,
          10.3,
          10.1,
          10.3,
          10.2,
          10.2,
          10.2,
          10,
          10.3,
          10.2,
          10.3,
          10.1,
          10.2,
          10.4,
          10.2,
          10.3,
          9.9,
          10.1,
          10.2,
          10.3,
          10.2,
          10.2,
          10.1,
          10.4,
          10.2,
          10.3,
          10.3,
          10,
          10.3,
          10.1,
          10.3,
          10.2,
          10.1,
          10.4,
          10,
          10.3,
          10.3,
          10.2,
          10.2,
          10.4,
          10.5,
          10.6,
          11.3,
          11.4,
          10.9,
          10.7,
          10.3,
          10.1,
          10,
          9.8,
          10.1,
          10.2,
          10.1,
          10.2,
          10.3,
          10.2,
          10.2,
          10.3,
          10.1,
          10.1,
          10.2,
          10.2,
          10.2,
          10.3,
          10,
          10,
          10.2,
          10.1,
          10.2,
          10.1,
          10.3,
          10.3,
          10.3,
          10.2,
          10.2,
          10.2,
          10.2,
          10.1,
          10.2,
          10.2,
          10.3,
          10.1,
          10.2,
          10,
          10.2,
          10.2,
          10.3,
          10.2,
          10.2,
          10.1,
          10.3,
          10.2,
          10.2,
          10.3,
          10.4,
          9.9,
          10.2,
          10.3,
          10.2,
          10.2,
          10.2,
          10.2,
          10.2,
          10.3,
          10.3,
          10.1,
          10.2,
          9.9,
          10.2,
          10.1,
          10.1,
          10.2,
          10.2,
          10.2,
          10,
          10.2,
          10.3,
          10.1,
          10.2,
          10.2,
          10.2,
          10.2,
          10.1,
          10.2,
          10.2,
          10.1,
          10.3,
          10.5,
          10.6,
          11.3,
          11.6,
          11,
          10.6,
          10.4,
          10.3,
          10.2,
          9.7,
          10.1,
          10.2,
          10.1,
          10.2,
          10.1,
          10.2,
          10.1,
          10.1,
          10.1,
          10.3,
          10.1,
          10.2,
          10.1,
          10.2,
          10.2,
          10,
          10.2,
          10.1,
          10.3,
          10.2,
          10.1,
          10.3,
          10.3,
          10.2,
          10.1,
          10,
          10.2,
          10.4,
          10.3,
          10.3,
          10.3,
          10.1,
          10.1,
          10.3,
          10.2,
          10.2,
          10.1,
          10.2,
          10.2,
          10.2,
          10.2,
          10.2,
          10.2,
          10.2,
          10.4,
          10.2,
          10.3,
          10.3,
          10.1,
          10.2,
          10.3,
          10.1,
          10.3,
          10.2,
          10.4,
          10.2,
          10.2,
          10.2,
          10.3,
          10.3,
          10.2,
          10.1,
          10.2,
          10.2,
          10.1,
          10.3,
          10.2,
          10.3,
          10.3,
          10.1,
          10.1,
          10.1,
          10.2,
          10,
          10.3,
          10.3,
          10.4,
          10.5,
          10.7,
          11.1,
          11.5,
          11.1,
          10.6,
          10.5,
          10.1,
          10.1,
          10,
          9.9,
          10.4,
          10.1,
          10.2,
          10.3,
          10,
          10,
          10.2,
          10.2,
          10.2,
          10.3,
          10.2,
          10.3,
          10.3,
          10.2,
          10.1,
          10.1,
          10.2,
          10.1,
          10.3,
          10.1,
          10.2,
          10.1,
          10.2,
          10.1,
          9.9,
          10.2,
          10.3,
          10.3,
          10.3,
          10.1,
          10.3,
          10.1,
          10.1,
          10.2,
          10.1,
          10.2,
          10.2,
          10.2,
          10.2,
          10.2,
          10.1,
          10.3,
          10.3,
          10,
          10.2,
          10.3,
          10,
          10.2,
          10.2,
          10.3,
          10,
          10.4,
          10.1,
          10.2,
          10,
          10.2,
          10.2,
          10.1,
          10.2,
          10.2,
          10.3,
          10.2,
          10.1,
          10.1,
          10.3,
          10.1,
          10.1,
          10.1,
          10.3,
          10.3,
          10.3,
          10.2,
          10.3,
          10.2,
          10.4,
          10.4,
          10.3,
          10.8,
          11.1,
          11.4,
          10.8,
          10.4,
          10.4,
          10.3,
          10,
          9.7,
          10.2,
          10.1,
          10.2,
          10.3,
          10.2,
          10.3,
          10.2,
          10.3,
          10.2,
          10.4,
          10.3,
          10.2,
          10.4,
          10.2,
          10.2,
          10.1,
          10.2,
          10.3,
          10.2,
          10.2,
          10.2,
          10.1,
          10.1,
          10.2,
          10.1,
          10.1,
          10.2,
          10.1,
          10.2,
          10.2
         ],
         "xaxis": "x2",
         "yaxis": "y2"
        }
       ],
       "layout": {
        "barmode": "relative",
        "height": 500,
        "legend": {
         "tracegroupgap": 0
        },
        "template": {
         "data": {
          "bar": [
           {
            "error_x": {
             "color": "#2a3f5f"
            },
            "error_y": {
             "color": "#2a3f5f"
            },
            "marker": {
             "line": {
              "color": "#E5ECF6",
              "width": 0.5
             },
             "pattern": {
              "fillmode": "overlay",
              "size": 10,
              "solidity": 0.2
             }
            },
            "type": "bar"
           }
          ],
          "barpolar": [
           {
            "marker": {
             "line": {
              "color": "#E5ECF6",
              "width": 0.5
             },
             "pattern": {
              "fillmode": "overlay",
              "size": 10,
              "solidity": 0.2
             }
            },
            "type": "barpolar"
           }
          ],
          "carpet": [
           {
            "aaxis": {
             "endlinecolor": "#2a3f5f",
             "gridcolor": "white",
             "linecolor": "white",
             "minorgridcolor": "white",
             "startlinecolor": "#2a3f5f"
            },
            "baxis": {
             "endlinecolor": "#2a3f5f",
             "gridcolor": "white",
             "linecolor": "white",
             "minorgridcolor": "white",
             "startlinecolor": "#2a3f5f"
            },
            "type": "carpet"
           }
          ],
          "choropleth": [
           {
            "colorbar": {
             "outlinewidth": 0,
             "ticks": ""
            },
            "type": "choropleth"
           }
          ],
          "contour": [
           {
            "colorbar": {
             "outlinewidth": 0,
             "ticks": ""
            },
            "colorscale": [
             [
              0,
              "#0d0887"
             ],
             [
              0.1111111111111111,
              "#46039f"
             ],
             [
              0.2222222222222222,
              "#7201a8"
             ],
             [
              0.3333333333333333,
              "#9c179e"
             ],
             [
              0.4444444444444444,
              "#bd3786"
             ],
             [
              0.5555555555555556,
              "#d8576b"
             ],
             [
              0.6666666666666666,
              "#ed7953"
             ],
             [
              0.7777777777777778,
              "#fb9f3a"
             ],
             [
              0.8888888888888888,
              "#fdca26"
             ],
             [
              1,
              "#f0f921"
             ]
            ],
            "type": "contour"
           }
          ],
          "contourcarpet": [
           {
            "colorbar": {
             "outlinewidth": 0,
             "ticks": ""
            },
            "type": "contourcarpet"
           }
          ],
          "heatmap": [
           {
            "colorbar": {
             "outlinewidth": 0,
             "ticks": ""
            },
            "colorscale": [
             [
              0,
              "#0d0887"
             ],
             [
              0.1111111111111111,
              "#46039f"
             ],
             [
              0.2222222222222222,
              "#7201a8"
             ],
             [
              0.3333333333333333,
              "#9c179e"
             ],
             [
              0.4444444444444444,
              "#bd3786"
             ],
             [
              0.5555555555555556,
              "#d8576b"
             ],
             [
              0.6666666666666666,
              "#ed7953"
             ],
             [
              0.7777777777777778,
              "#fb9f3a"
             ],
             [
              0.8888888888888888,
              "#fdca26"
             ],
             [
              1,
              "#f0f921"
             ]
            ],
            "type": "heatmap"
           }
          ],
          "heatmapgl": [
           {
            "colorbar": {
             "outlinewidth": 0,
             "ticks": ""
            },
            "colorscale": [
             [
              0,
              "#0d0887"
             ],
             [
              0.1111111111111111,
              "#46039f"
             ],
             [
              0.2222222222222222,
              "#7201a8"
             ],
             [
              0.3333333333333333,
              "#9c179e"
             ],
             [
              0.4444444444444444,
              "#bd3786"
             ],
             [
              0.5555555555555556,
              "#d8576b"
             ],
             [
              0.6666666666666666,
              "#ed7953"
             ],
             [
              0.7777777777777778,
              "#fb9f3a"
             ],
             [
              0.8888888888888888,
              "#fdca26"
             ],
             [
              1,
              "#f0f921"
             ]
            ],
            "type": "heatmapgl"
           }
          ],
          "histogram": [
           {
            "marker": {
             "pattern": {
              "fillmode": "overlay",
              "size": 10,
              "solidity": 0.2
             }
            },
            "type": "histogram"
           }
          ],
          "histogram2d": [
           {
            "colorbar": {
             "outlinewidth": 0,
             "ticks": ""
            },
            "colorscale": [
             [
              0,
              "#0d0887"
             ],
             [
              0.1111111111111111,
              "#46039f"
             ],
             [
              0.2222222222222222,
              "#7201a8"
             ],
             [
              0.3333333333333333,
              "#9c179e"
             ],
             [
              0.4444444444444444,
              "#bd3786"
             ],
             [
              0.5555555555555556,
              "#d8576b"
             ],
             [
              0.6666666666666666,
              "#ed7953"
             ],
             [
              0.7777777777777778,
              "#fb9f3a"
             ],
             [
              0.8888888888888888,
              "#fdca26"
             ],
             [
              1,
              "#f0f921"
             ]
            ],
            "type": "histogram2d"
           }
          ],
          "histogram2dcontour": [
           {
            "colorbar": {
             "outlinewidth": 0,
             "ticks": ""
            },
            "colorscale": [
             [
              0,
              "#0d0887"
             ],
             [
              0.1111111111111111,
              "#46039f"
             ],
             [
              0.2222222222222222,
              "#7201a8"
             ],
             [
              0.3333333333333333,
              "#9c179e"
             ],
             [
              0.4444444444444444,
              "#bd3786"
             ],
             [
              0.5555555555555556,
              "#d8576b"
             ],
             [
              0.6666666666666666,
              "#ed7953"
             ],
             [
              0.7777777777777778,
              "#fb9f3a"
             ],
             [
              0.8888888888888888,
              "#fdca26"
             ],
             [
              1,
              "#f0f921"
             ]
            ],
            "type": "histogram2dcontour"
           }
          ],
          "mesh3d": [
           {
            "colorbar": {
             "outlinewidth": 0,
             "ticks": ""
            },
            "type": "mesh3d"
           }
          ],
          "parcoords": [
           {
            "line": {
             "colorbar": {
              "outlinewidth": 0,
              "ticks": ""
             }
            },
            "type": "parcoords"
           }
          ],
          "pie": [
           {
            "automargin": true,
            "type": "pie"
           }
          ],
          "scatter": [
           {
            "marker": {
             "colorbar": {
              "outlinewidth": 0,
              "ticks": ""
             }
            },
            "type": "scatter"
           }
          ],
          "scatter3d": [
           {
            "line": {
             "colorbar": {
              "outlinewidth": 0,
              "ticks": ""
             }
            },
            "marker": {
             "colorbar": {
              "outlinewidth": 0,
              "ticks": ""
             }
            },
            "type": "scatter3d"
           }
          ],
          "scattercarpet": [
           {
            "marker": {
             "colorbar": {
              "outlinewidth": 0,
              "ticks": ""
             }
            },
            "type": "scattercarpet"
           }
          ],
          "scattergeo": [
           {
            "marker": {
             "colorbar": {
              "outlinewidth": 0,
              "ticks": ""
             }
            },
            "type": "scattergeo"
           }
          ],
          "scattergl": [
           {
            "marker": {
             "colorbar": {
              "outlinewidth": 0,
              "ticks": ""
             }
            },
            "type": "scattergl"
           }
          ],
          "scattermapbox": [
           {
            "marker": {
             "colorbar": {
              "outlinewidth": 0,
              "ticks": ""
             }
            },
            "type": "scattermapbox"
           }
          ],
          "scatterpolar": [
           {
            "marker": {
             "colorbar": {
              "outlinewidth": 0,
              "ticks": ""
             }
            },
            "type": "scatterpolar"
           }
          ],
          "scatterpolargl": [
           {
            "marker": {
             "colorbar": {
              "outlinewidth": 0,
              "ticks": ""
             }
            },
            "type": "scatterpolargl"
           }
          ],
          "scatterternary": [
           {
            "marker": {
             "colorbar": {
              "outlinewidth": 0,
              "ticks": ""
             }
            },
            "type": "scatterternary"
           }
          ],
          "surface": [
           {
            "colorbar": {
             "outlinewidth": 0,
             "ticks": ""
            },
            "colorscale": [
             [
              0,
              "#0d0887"
             ],
             [
              0.1111111111111111,
              "#46039f"
             ],
             [
              0.2222222222222222,
              "#7201a8"
             ],
             [
              0.3333333333333333,
              "#9c179e"
             ],
             [
              0.4444444444444444,
              "#bd3786"
             ],
             [
              0.5555555555555556,
              "#d8576b"
             ],
             [
              0.6666666666666666,
              "#ed7953"
             ],
             [
              0.7777777777777778,
              "#fb9f3a"
             ],
             [
              0.8888888888888888,
              "#fdca26"
             ],
             [
              1,
              "#f0f921"
             ]
            ],
            "type": "surface"
           }
          ],
          "table": [
           {
            "cells": {
             "fill": {
              "color": "#EBF0F8"
             },
             "line": {
              "color": "white"
             }
            },
            "header": {
             "fill": {
              "color": "#C8D4E3"
             },
             "line": {
              "color": "white"
             }
            },
            "type": "table"
           }
          ]
         },
         "layout": {
          "annotationdefaults": {
           "arrowcolor": "#2a3f5f",
           "arrowhead": 0,
           "arrowwidth": 1
          },
          "autotypenumbers": "strict",
          "coloraxis": {
           "colorbar": {
            "outlinewidth": 0,
            "ticks": ""
           }
          },
          "colorscale": {
           "diverging": [
            [
             0,
             "#8e0152"
            ],
            [
             0.1,
             "#c51b7d"
            ],
            [
             0.2,
             "#de77ae"
            ],
            [
             0.3,
             "#f1b6da"
            ],
            [
             0.4,
             "#fde0ef"
            ],
            [
             0.5,
             "#f7f7f7"
            ],
            [
             0.6,
             "#e6f5d0"
            ],
            [
             0.7,
             "#b8e186"
            ],
            [
             0.8,
             "#7fbc41"
            ],
            [
             0.9,
             "#4d9221"
            ],
            [
             1,
             "#276419"
            ]
           ],
           "sequential": [
            [
             0,
             "#0d0887"
            ],
            [
             0.1111111111111111,
             "#46039f"
            ],
            [
             0.2222222222222222,
             "#7201a8"
            ],
            [
             0.3333333333333333,
             "#9c179e"
            ],
            [
             0.4444444444444444,
             "#bd3786"
            ],
            [
             0.5555555555555556,
             "#d8576b"
            ],
            [
             0.6666666666666666,
             "#ed7953"
            ],
            [
             0.7777777777777778,
             "#fb9f3a"
            ],
            [
             0.8888888888888888,
             "#fdca26"
            ],
            [
             1,
             "#f0f921"
            ]
           ],
           "sequentialminus": [
            [
             0,
             "#0d0887"
            ],
            [
             0.1111111111111111,
             "#46039f"
            ],
            [
             0.2222222222222222,
             "#7201a8"
            ],
            [
             0.3333333333333333,
             "#9c179e"
            ],
            [
             0.4444444444444444,
             "#bd3786"
            ],
            [
             0.5555555555555556,
             "#d8576b"
            ],
            [
             0.6666666666666666,
             "#ed7953"
            ],
            [
             0.7777777777777778,
             "#fb9f3a"
            ],
            [
             0.8888888888888888,
             "#fdca26"
            ],
            [
             1,
             "#f0f921"
            ]
           ]
          },
          "colorway": [
           "#636efa",
           "#EF553B",
           "#00cc96",
           "#ab63fa",
           "#FFA15A",
           "#19d3f3",
           "#FF6692",
           "#B6E880",
           "#FF97FF",
           "#FECB52"
          ],
          "font": {
           "color": "#2a3f5f"
          },
          "geo": {
           "bgcolor": "white",
           "lakecolor": "white",
           "landcolor": "#E5ECF6",
           "showlakes": true,
           "showland": true,
           "subunitcolor": "white"
          },
          "hoverlabel": {
           "align": "left"
          },
          "hovermode": "closest",
          "mapbox": {
           "style": "light"
          },
          "paper_bgcolor": "white",
          "plot_bgcolor": "#E5ECF6",
          "polar": {
           "angularaxis": {
            "gridcolor": "white",
            "linecolor": "white",
            "ticks": ""
           },
           "bgcolor": "#E5ECF6",
           "radialaxis": {
            "gridcolor": "white",
            "linecolor": "white",
            "ticks": ""
           }
          },
          "scene": {
           "xaxis": {
            "backgroundcolor": "#E5ECF6",
            "gridcolor": "white",
            "gridwidth": 2,
            "linecolor": "white",
            "showbackground": true,
            "ticks": "",
            "zerolinecolor": "white"
           },
           "yaxis": {
            "backgroundcolor": "#E5ECF6",
            "gridcolor": "white",
            "gridwidth": 2,
            "linecolor": "white",
            "showbackground": true,
            "ticks": "",
            "zerolinecolor": "white"
           },
           "zaxis": {
            "backgroundcolor": "#E5ECF6",
            "gridcolor": "white",
            "gridwidth": 2,
            "linecolor": "white",
            "showbackground": true,
            "ticks": "",
            "zerolinecolor": "white"
           }
          },
          "shapedefaults": {
           "line": {
            "color": "#2a3f5f"
           }
          },
          "ternary": {
           "aaxis": {
            "gridcolor": "white",
            "linecolor": "white",
            "ticks": ""
           },
           "baxis": {
            "gridcolor": "white",
            "linecolor": "white",
            "ticks": ""
           },
           "bgcolor": "#E5ECF6",
           "caxis": {
            "gridcolor": "white",
            "linecolor": "white",
            "ticks": ""
           }
          },
          "title": {
           "x": 0.05
          },
          "xaxis": {
           "automargin": true,
           "gridcolor": "white",
           "linecolor": "white",
           "ticks": "",
           "title": {
            "standoff": 15
           },
           "zerolinecolor": "white",
           "zerolinewidth": 2
          },
          "yaxis": {
           "automargin": true,
           "gridcolor": "white",
           "linecolor": "white",
           "ticks": "",
           "title": {
            "standoff": 15
           },
           "zerolinecolor": "white",
           "zerolinewidth": 2
          }
         }
        },
        "title": {
         "text": "Radiation Encountered"
        },
        "xaxis": {
         "anchor": "y",
         "domain": [
          0,
          1
         ],
         "title": {
          "text": "Radiation (Gy)"
         }
        },
        "xaxis2": {
         "anchor": "y2",
         "domain": [
          0,
          1
         ],
         "matches": "x",
         "showgrid": true,
         "showticklabels": false
        },
        "yaxis": {
         "anchor": "x",
         "domain": [
          0,
          0.8316
         ],
         "title": {
          "text": "count"
         }
        },
        "yaxis2": {
         "anchor": "x2",
         "domain": [
          0.8416,
          1
         ],
         "matches": "y2",
         "showgrid": false,
         "showline": false,
         "showticklabels": false,
         "ticks": ""
        }
       }
      }
     },
     "metadata": {},
     "output_type": "display_data"
    }
   ],
   "source": [
    "px.histogram(df, x='radiation', title='Radiation Encountered', marginal='violin', **histogram_options)"
   ]
  },
  {
   "cell_type": "code",
   "execution_count": 421,
   "metadata": {},
   "outputs": [
    {
     "data": {
      "application/vnd.plotly.v1+json": {
       "config": {
        "plotlyServerURL": "https://plot.ly"
       },
       "data": [
        {
         "alignmentgroup": "True",
         "bingroup": "x",
         "hovertemplate": "Regenerated?=False<br>Data Transmitted (kb)=%{x}<br>count=%{y}<extra></extra>",
         "legendgroup": "False",
         "marker": {
          "color": "rgb(75, 41, 145)",
          "pattern": {
           "shape": ""
          }
         },
         "name": "False",
         "offsetgroup": "False",
         "orientation": "v",
         "showlegend": true,
         "type": "histogram",
         "x": [
          241,
          254,
          214,
          152,
          288,
          261,
          242,
          352,
          227,
          220,
          329,
          170,
          273,
          405,
          167,
          340,
          305,
          207,
          295,
          203,
          238,
          260,
          232,
          318,
          224,
          396,
          285,
          306,
          355,
          260,
          329,
          356,
          243,
          233,
          246,
          220,
          321,
          185,
          335,
          424,
          265,
          297,
          241,
          340,
          234,
          199,
          368,
          324,
          335,
          282,
          285,
          184,
          335,
          366,
          274,
          128,
          371,
          326,
          326,
          273,
          318,
          300,
          301,
          308,
          313,
          429,
          314,
          373,
          238,
          320,
          317,
          436,
          350,
          244,
          349,
          262,
          438,
          365,
          302,
          286,
          284,
          307,
          287,
          391,
          335,
          295,
          383,
          311,
          362,
          257,
          347,
          392,
          296,
          338,
          377,
          440,
          344,
          414,
          365,
          326,
          397,
          316,
          332,
          360,
          375,
          471,
          455,
          367,
          395,
          392,
          434,
          282,
          297,
          393,
          333,
          343,
          373,
          331,
          420,
          372,
          345,
          442,
          382,
          356,
          329,
          347,
          373,
          329,
          399,
          346,
          341,
          430,
          410,
          356,
          432,
          497,
          434,
          472,
          435,
          385,
          359,
          374,
          326,
          378,
          387,
          313,
          392,
          471,
          417,
          283,
          405,
          411,
          327,
          341,
          428,
          283,
          385,
          387,
          409,
          458,
          305,
          454,
          358,
          363,
          331,
          299,
          454,
          350,
          368,
          450
         ],
         "xaxis": "x",
         "yaxis": "y"
        },
        {
         "alignmentgroup": "True",
         "hovertemplate": "Regenerated?=False<br>Data Transmitted (kb)=%{x}<extra></extra>",
         "legendgroup": "False",
         "marker": {
          "color": "rgb(75, 41, 145)"
         },
         "name": "False",
         "offsetgroup": "False",
         "scalegroup": "x",
         "showlegend": false,
         "type": "violin",
         "x": [
          241,
          254,
          214,
          152,
          288,
          261,
          242,
          352,
          227,
          220,
          329,
          170,
          273,
          405,
          167,
          340,
          305,
          207,
          295,
          203,
          238,
          260,
          232,
          318,
          224,
          396,
          285,
          306,
          355,
          260,
          329,
          356,
          243,
          233,
          246,
          220,
          321,
          185,
          335,
          424,
          265,
          297,
          241,
          340,
          234,
          199,
          368,
          324,
          335,
          282,
          285,
          184,
          335,
          366,
          274,
          128,
          371,
          326,
          326,
          273,
          318,
          300,
          301,
          308,
          313,
          429,
          314,
          373,
          238,
          320,
          317,
          436,
          350,
          244,
          349,
          262,
          438,
          365,
          302,
          286,
          284,
          307,
          287,
          391,
          335,
          295,
          383,
          311,
          362,
          257,
          347,
          392,
          296,
          338,
          377,
          440,
          344,
          414,
          365,
          326,
          397,
          316,
          332,
          360,
          375,
          471,
          455,
          367,
          395,
          392,
          434,
          282,
          297,
          393,
          333,
          343,
          373,
          331,
          420,
          372,
          345,
          442,
          382,
          356,
          329,
          347,
          373,
          329,
          399,
          346,
          341,
          430,
          410,
          356,
          432,
          497,
          434,
          472,
          435,
          385,
          359,
          374,
          326,
          378,
          387,
          313,
          392,
          471,
          417,
          283,
          405,
          411,
          327,
          341,
          428,
          283,
          385,
          387,
          409,
          458,
          305,
          454,
          358,
          363,
          331,
          299,
          454,
          350,
          368,
          450
         ],
         "xaxis": "x2",
         "yaxis": "y2"
        },
        {
         "alignmentgroup": "True",
         "bingroup": "x",
         "hovertemplate": "Regenerated?=True<br>Data Transmitted (kb)=%{x}<br>count=%{y}<extra></extra>",
         "legendgroup": "True",
         "marker": {
          "color": "rgb(135, 44, 162)",
          "pattern": {
           "shape": ""
          }
         },
         "name": "True",
         "offsetgroup": "True",
         "orientation": "v",
         "showlegend": true,
         "type": "histogram",
         "x": [
          169,
          204,
          105,
          235,
          149,
          308,
          177,
          210,
          166,
          263,
          286,
          282,
          215,
          221,
          153,
          238,
          312,
          294,
          223,
          244,
          240,
          230,
          284,
          232,
          211,
          139,
          206,
          217,
          258,
          238,
          185,
          193,
          265,
          256,
          348,
          335,
          291,
          186,
          126,
          229,
          235,
          186,
          287,
          271,
          186,
          289,
          220,
          224,
          315,
          339,
          192,
          308,
          269,
          244,
          241,
          333,
          259,
          189,
          332,
          333,
          328,
          233,
          156,
          269,
          241,
          313,
          210,
          290,
          264,
          232,
          370,
          256,
          283,
          314,
          317,
          298,
          231,
          239,
          228,
          234,
          318,
          206,
          294,
          286,
          269,
          301,
          315,
          286,
          258,
          261,
          329,
          304,
          268,
          282,
          261,
          225,
          324,
          301,
          313,
          317,
          251,
          303,
          403,
          391,
          319,
          255,
          252,
          253,
          291,
          325,
          380,
          290,
          363,
          273,
          300,
          336,
          236,
          372,
          381,
          329,
          274,
          348,
          301,
          367,
          351,
          361,
          341,
          345,
          300,
          262,
          372,
          414,
          281,
          290,
          355,
          296,
          431,
          395,
          343,
          340,
          253,
          299,
          360,
          366,
          276,
          328,
          321,
          392,
          386,
          319,
          351,
          258,
          423,
          485,
          345,
          387,
          330,
          302,
          380,
          356,
          292,
          401,
          399,
          399,
          413,
          378,
          423,
          314,
          362,
          283,
          359,
          370,
          385,
          442,
          288,
          416,
          359,
          377,
          398,
          350,
          497,
          285,
          315,
          406,
          405,
          302,
          360,
          360,
          349,
          407,
          275,
          392,
          481,
          445,
          355
         ],
         "xaxis": "x",
         "yaxis": "y"
        },
        {
         "alignmentgroup": "True",
         "hovertemplate": "Regenerated?=True<br>Data Transmitted (kb)=%{x}<extra></extra>",
         "legendgroup": "True",
         "marker": {
          "color": "rgb(135, 44, 162)"
         },
         "name": "True",
         "offsetgroup": "True",
         "scalegroup": "x",
         "showlegend": false,
         "type": "violin",
         "x": [
          169,
          204,
          105,
          235,
          149,
          308,
          177,
          210,
          166,
          263,
          286,
          282,
          215,
          221,
          153,
          238,
          312,
          294,
          223,
          244,
          240,
          230,
          284,
          232,
          211,
          139,
          206,
          217,
          258,
          238,
          185,
          193,
          265,
          256,
          348,
          335,
          291,
          186,
          126,
          229,
          235,
          186,
          287,
          271,
          186,
          289,
          220,
          224,
          315,
          339,
          192,
          308,
          269,
          244,
          241,
          333,
          259,
          189,
          332,
          333,
          328,
          233,
          156,
          269,
          241,
          313,
          210,
          290,
          264,
          232,
          370,
          256,
          283,
          314,
          317,
          298,
          231,
          239,
          228,
          234,
          318,
          206,
          294,
          286,
          269,
          301,
          315,
          286,
          258,
          261,
          329,
          304,
          268,
          282,
          261,
          225,
          324,
          301,
          313,
          317,
          251,
          303,
          403,
          391,
          319,
          255,
          252,
          253,
          291,
          325,
          380,
          290,
          363,
          273,
          300,
          336,
          236,
          372,
          381,
          329,
          274,
          348,
          301,
          367,
          351,
          361,
          341,
          345,
          300,
          262,
          372,
          414,
          281,
          290,
          355,
          296,
          431,
          395,
          343,
          340,
          253,
          299,
          360,
          366,
          276,
          328,
          321,
          392,
          386,
          319,
          351,
          258,
          423,
          485,
          345,
          387,
          330,
          302,
          380,
          356,
          292,
          401,
          399,
          399,
          413,
          378,
          423,
          314,
          362,
          283,
          359,
          370,
          385,
          442,
          288,
          416,
          359,
          377,
          398,
          350,
          497,
          285,
          315,
          406,
          405,
          302,
          360,
          360,
          349,
          407,
          275,
          392,
          481,
          445,
          355
         ],
         "xaxis": "x2",
         "yaxis": "y2"
        }
       ],
       "layout": {
        "barmode": "relative",
        "height": 500,
        "legend": {
         "title": {
          "text": "Regenerated?"
         },
         "tracegroupgap": 0
        },
        "template": {
         "data": {
          "bar": [
           {
            "error_x": {
             "color": "#2a3f5f"
            },
            "error_y": {
             "color": "#2a3f5f"
            },
            "marker": {
             "line": {
              "color": "#E5ECF6",
              "width": 0.5
             },
             "pattern": {
              "fillmode": "overlay",
              "size": 10,
              "solidity": 0.2
             }
            },
            "type": "bar"
           }
          ],
          "barpolar": [
           {
            "marker": {
             "line": {
              "color": "#E5ECF6",
              "width": 0.5
             },
             "pattern": {
              "fillmode": "overlay",
              "size": 10,
              "solidity": 0.2
             }
            },
            "type": "barpolar"
           }
          ],
          "carpet": [
           {
            "aaxis": {
             "endlinecolor": "#2a3f5f",
             "gridcolor": "white",
             "linecolor": "white",
             "minorgridcolor": "white",
             "startlinecolor": "#2a3f5f"
            },
            "baxis": {
             "endlinecolor": "#2a3f5f",
             "gridcolor": "white",
             "linecolor": "white",
             "minorgridcolor": "white",
             "startlinecolor": "#2a3f5f"
            },
            "type": "carpet"
           }
          ],
          "choropleth": [
           {
            "colorbar": {
             "outlinewidth": 0,
             "ticks": ""
            },
            "type": "choropleth"
           }
          ],
          "contour": [
           {
            "colorbar": {
             "outlinewidth": 0,
             "ticks": ""
            },
            "colorscale": [
             [
              0,
              "#0d0887"
             ],
             [
              0.1111111111111111,
              "#46039f"
             ],
             [
              0.2222222222222222,
              "#7201a8"
             ],
             [
              0.3333333333333333,
              "#9c179e"
             ],
             [
              0.4444444444444444,
              "#bd3786"
             ],
             [
              0.5555555555555556,
              "#d8576b"
             ],
             [
              0.6666666666666666,
              "#ed7953"
             ],
             [
              0.7777777777777778,
              "#fb9f3a"
             ],
             [
              0.8888888888888888,
              "#fdca26"
             ],
             [
              1,
              "#f0f921"
             ]
            ],
            "type": "contour"
           }
          ],
          "contourcarpet": [
           {
            "colorbar": {
             "outlinewidth": 0,
             "ticks": ""
            },
            "type": "contourcarpet"
           }
          ],
          "heatmap": [
           {
            "colorbar": {
             "outlinewidth": 0,
             "ticks": ""
            },
            "colorscale": [
             [
              0,
              "#0d0887"
             ],
             [
              0.1111111111111111,
              "#46039f"
             ],
             [
              0.2222222222222222,
              "#7201a8"
             ],
             [
              0.3333333333333333,
              "#9c179e"
             ],
             [
              0.4444444444444444,
              "#bd3786"
             ],
             [
              0.5555555555555556,
              "#d8576b"
             ],
             [
              0.6666666666666666,
              "#ed7953"
             ],
             [
              0.7777777777777778,
              "#fb9f3a"
             ],
             [
              0.8888888888888888,
              "#fdca26"
             ],
             [
              1,
              "#f0f921"
             ]
            ],
            "type": "heatmap"
           }
          ],
          "heatmapgl": [
           {
            "colorbar": {
             "outlinewidth": 0,
             "ticks": ""
            },
            "colorscale": [
             [
              0,
              "#0d0887"
             ],
             [
              0.1111111111111111,
              "#46039f"
             ],
             [
              0.2222222222222222,
              "#7201a8"
             ],
             [
              0.3333333333333333,
              "#9c179e"
             ],
             [
              0.4444444444444444,
              "#bd3786"
             ],
             [
              0.5555555555555556,
              "#d8576b"
             ],
             [
              0.6666666666666666,
              "#ed7953"
             ],
             [
              0.7777777777777778,
              "#fb9f3a"
             ],
             [
              0.8888888888888888,
              "#fdca26"
             ],
             [
              1,
              "#f0f921"
             ]
            ],
            "type": "heatmapgl"
           }
          ],
          "histogram": [
           {
            "marker": {
             "pattern": {
              "fillmode": "overlay",
              "size": 10,
              "solidity": 0.2
             }
            },
            "type": "histogram"
           }
          ],
          "histogram2d": [
           {
            "colorbar": {
             "outlinewidth": 0,
             "ticks": ""
            },
            "colorscale": [
             [
              0,
              "#0d0887"
             ],
             [
              0.1111111111111111,
              "#46039f"
             ],
             [
              0.2222222222222222,
              "#7201a8"
             ],
             [
              0.3333333333333333,
              "#9c179e"
             ],
             [
              0.4444444444444444,
              "#bd3786"
             ],
             [
              0.5555555555555556,
              "#d8576b"
             ],
             [
              0.6666666666666666,
              "#ed7953"
             ],
             [
              0.7777777777777778,
              "#fb9f3a"
             ],
             [
              0.8888888888888888,
              "#fdca26"
             ],
             [
              1,
              "#f0f921"
             ]
            ],
            "type": "histogram2d"
           }
          ],
          "histogram2dcontour": [
           {
            "colorbar": {
             "outlinewidth": 0,
             "ticks": ""
            },
            "colorscale": [
             [
              0,
              "#0d0887"
             ],
             [
              0.1111111111111111,
              "#46039f"
             ],
             [
              0.2222222222222222,
              "#7201a8"
             ],
             [
              0.3333333333333333,
              "#9c179e"
             ],
             [
              0.4444444444444444,
              "#bd3786"
             ],
             [
              0.5555555555555556,
              "#d8576b"
             ],
             [
              0.6666666666666666,
              "#ed7953"
             ],
             [
              0.7777777777777778,
              "#fb9f3a"
             ],
             [
              0.8888888888888888,
              "#fdca26"
             ],
             [
              1,
              "#f0f921"
             ]
            ],
            "type": "histogram2dcontour"
           }
          ],
          "mesh3d": [
           {
            "colorbar": {
             "outlinewidth": 0,
             "ticks": ""
            },
            "type": "mesh3d"
           }
          ],
          "parcoords": [
           {
            "line": {
             "colorbar": {
              "outlinewidth": 0,
              "ticks": ""
             }
            },
            "type": "parcoords"
           }
          ],
          "pie": [
           {
            "automargin": true,
            "type": "pie"
           }
          ],
          "scatter": [
           {
            "marker": {
             "colorbar": {
              "outlinewidth": 0,
              "ticks": ""
             }
            },
            "type": "scatter"
           }
          ],
          "scatter3d": [
           {
            "line": {
             "colorbar": {
              "outlinewidth": 0,
              "ticks": ""
             }
            },
            "marker": {
             "colorbar": {
              "outlinewidth": 0,
              "ticks": ""
             }
            },
            "type": "scatter3d"
           }
          ],
          "scattercarpet": [
           {
            "marker": {
             "colorbar": {
              "outlinewidth": 0,
              "ticks": ""
             }
            },
            "type": "scattercarpet"
           }
          ],
          "scattergeo": [
           {
            "marker": {
             "colorbar": {
              "outlinewidth": 0,
              "ticks": ""
             }
            },
            "type": "scattergeo"
           }
          ],
          "scattergl": [
           {
            "marker": {
             "colorbar": {
              "outlinewidth": 0,
              "ticks": ""
             }
            },
            "type": "scattergl"
           }
          ],
          "scattermapbox": [
           {
            "marker": {
             "colorbar": {
              "outlinewidth": 0,
              "ticks": ""
             }
            },
            "type": "scattermapbox"
           }
          ],
          "scatterpolar": [
           {
            "marker": {
             "colorbar": {
              "outlinewidth": 0,
              "ticks": ""
             }
            },
            "type": "scatterpolar"
           }
          ],
          "scatterpolargl": [
           {
            "marker": {
             "colorbar": {
              "outlinewidth": 0,
              "ticks": ""
             }
            },
            "type": "scatterpolargl"
           }
          ],
          "scatterternary": [
           {
            "marker": {
             "colorbar": {
              "outlinewidth": 0,
              "ticks": ""
             }
            },
            "type": "scatterternary"
           }
          ],
          "surface": [
           {
            "colorbar": {
             "outlinewidth": 0,
             "ticks": ""
            },
            "colorscale": [
             [
              0,
              "#0d0887"
             ],
             [
              0.1111111111111111,
              "#46039f"
             ],
             [
              0.2222222222222222,
              "#7201a8"
             ],
             [
              0.3333333333333333,
              "#9c179e"
             ],
             [
              0.4444444444444444,
              "#bd3786"
             ],
             [
              0.5555555555555556,
              "#d8576b"
             ],
             [
              0.6666666666666666,
              "#ed7953"
             ],
             [
              0.7777777777777778,
              "#fb9f3a"
             ],
             [
              0.8888888888888888,
              "#fdca26"
             ],
             [
              1,
              "#f0f921"
             ]
            ],
            "type": "surface"
           }
          ],
          "table": [
           {
            "cells": {
             "fill": {
              "color": "#EBF0F8"
             },
             "line": {
              "color": "white"
             }
            },
            "header": {
             "fill": {
              "color": "#C8D4E3"
             },
             "line": {
              "color": "white"
             }
            },
            "type": "table"
           }
          ]
         },
         "layout": {
          "annotationdefaults": {
           "arrowcolor": "#2a3f5f",
           "arrowhead": 0,
           "arrowwidth": 1
          },
          "autotypenumbers": "strict",
          "coloraxis": {
           "colorbar": {
            "outlinewidth": 0,
            "ticks": ""
           }
          },
          "colorscale": {
           "diverging": [
            [
             0,
             "#8e0152"
            ],
            [
             0.1,
             "#c51b7d"
            ],
            [
             0.2,
             "#de77ae"
            ],
            [
             0.3,
             "#f1b6da"
            ],
            [
             0.4,
             "#fde0ef"
            ],
            [
             0.5,
             "#f7f7f7"
            ],
            [
             0.6,
             "#e6f5d0"
            ],
            [
             0.7,
             "#b8e186"
            ],
            [
             0.8,
             "#7fbc41"
            ],
            [
             0.9,
             "#4d9221"
            ],
            [
             1,
             "#276419"
            ]
           ],
           "sequential": [
            [
             0,
             "#0d0887"
            ],
            [
             0.1111111111111111,
             "#46039f"
            ],
            [
             0.2222222222222222,
             "#7201a8"
            ],
            [
             0.3333333333333333,
             "#9c179e"
            ],
            [
             0.4444444444444444,
             "#bd3786"
            ],
            [
             0.5555555555555556,
             "#d8576b"
            ],
            [
             0.6666666666666666,
             "#ed7953"
            ],
            [
             0.7777777777777778,
             "#fb9f3a"
            ],
            [
             0.8888888888888888,
             "#fdca26"
            ],
            [
             1,
             "#f0f921"
            ]
           ],
           "sequentialminus": [
            [
             0,
             "#0d0887"
            ],
            [
             0.1111111111111111,
             "#46039f"
            ],
            [
             0.2222222222222222,
             "#7201a8"
            ],
            [
             0.3333333333333333,
             "#9c179e"
            ],
            [
             0.4444444444444444,
             "#bd3786"
            ],
            [
             0.5555555555555556,
             "#d8576b"
            ],
            [
             0.6666666666666666,
             "#ed7953"
            ],
            [
             0.7777777777777778,
             "#fb9f3a"
            ],
            [
             0.8888888888888888,
             "#fdca26"
            ],
            [
             1,
             "#f0f921"
            ]
           ]
          },
          "colorway": [
           "#636efa",
           "#EF553B",
           "#00cc96",
           "#ab63fa",
           "#FFA15A",
           "#19d3f3",
           "#FF6692",
           "#B6E880",
           "#FF97FF",
           "#FECB52"
          ],
          "font": {
           "color": "#2a3f5f"
          },
          "geo": {
           "bgcolor": "white",
           "lakecolor": "white",
           "landcolor": "#E5ECF6",
           "showlakes": true,
           "showland": true,
           "subunitcolor": "white"
          },
          "hoverlabel": {
           "align": "left"
          },
          "hovermode": "closest",
          "mapbox": {
           "style": "light"
          },
          "paper_bgcolor": "white",
          "plot_bgcolor": "#E5ECF6",
          "polar": {
           "angularaxis": {
            "gridcolor": "white",
            "linecolor": "white",
            "ticks": ""
           },
           "bgcolor": "#E5ECF6",
           "radialaxis": {
            "gridcolor": "white",
            "linecolor": "white",
            "ticks": ""
           }
          },
          "scene": {
           "xaxis": {
            "backgroundcolor": "#E5ECF6",
            "gridcolor": "white",
            "gridwidth": 2,
            "linecolor": "white",
            "showbackground": true,
            "ticks": "",
            "zerolinecolor": "white"
           },
           "yaxis": {
            "backgroundcolor": "#E5ECF6",
            "gridcolor": "white",
            "gridwidth": 2,
            "linecolor": "white",
            "showbackground": true,
            "ticks": "",
            "zerolinecolor": "white"
           },
           "zaxis": {
            "backgroundcolor": "#E5ECF6",
            "gridcolor": "white",
            "gridwidth": 2,
            "linecolor": "white",
            "showbackground": true,
            "ticks": "",
            "zerolinecolor": "white"
           }
          },
          "shapedefaults": {
           "line": {
            "color": "#2a3f5f"
           }
          },
          "ternary": {
           "aaxis": {
            "gridcolor": "white",
            "linecolor": "white",
            "ticks": ""
           },
           "baxis": {
            "gridcolor": "white",
            "linecolor": "white",
            "ticks": ""
           },
           "bgcolor": "#E5ECF6",
           "caxis": {
            "gridcolor": "white",
            "linecolor": "white",
            "ticks": ""
           }
          },
          "title": {
           "x": 0.05
          },
          "xaxis": {
           "automargin": true,
           "gridcolor": "white",
           "linecolor": "white",
           "ticks": "",
           "title": {
            "standoff": 15
           },
           "zerolinecolor": "white",
           "zerolinewidth": 2
          },
          "yaxis": {
           "automargin": true,
           "gridcolor": "white",
           "linecolor": "white",
           "ticks": "",
           "title": {
            "standoff": 15
           },
           "zerolinecolor": "white",
           "zerolinewidth": 2
          }
         }
        },
        "title": {
         "text": "Data Transmitted"
        },
        "xaxis": {
         "anchor": "y",
         "domain": [
          0,
          1
         ],
         "title": {
          "text": "Data Transmitted (kb)"
         }
        },
        "xaxis2": {
         "anchor": "y2",
         "domain": [
          0,
          1
         ],
         "matches": "x",
         "showgrid": true,
         "showticklabels": false
        },
        "yaxis": {
         "anchor": "x",
         "domain": [
          0,
          0.7326
         ],
         "title": {
          "text": "count"
         }
        },
        "yaxis2": {
         "anchor": "x2",
         "domain": [
          0.7426,
          1
         ],
         "matches": "y2",
         "showgrid": false,
         "showline": false,
         "showticklabels": false,
         "ticks": ""
        }
       }
      }
     },
     "metadata": {},
     "output_type": "display_data"
    }
   ],
   "source": [
    "px.histogram(df, x='data', title='Data Transmitted', marginal='violin', color='regen', **histogram_options)"
   ]
  },
  {
   "cell_type": "code",
   "execution_count": 422,
   "metadata": {},
   "outputs": [
    {
     "data": {
      "application/vnd.plotly.v1+json": {
       "config": {
        "plotlyServerURL": "https://plot.ly"
       },
       "data": [
        {
         "hovertemplate": "Mission Day=%{x}<br>Distance Travelled (km)=%{y}<extra></extra>",
         "legendgroup": "",
         "line": {
          "color": "#FA0087",
          "dash": "solid"
         },
         "marker": {
          "symbol": "circle"
         },
         "mode": "lines",
         "name": "",
         "orientation": "v",
         "showlegend": false,
         "type": "scatter",
         "x": [
          1,
          2,
          3,
          4,
          5,
          6,
          7,
          8,
          9,
          10,
          11,
          12,
          13,
          14,
          15,
          16,
          17,
          18,
          19,
          20,
          21,
          22,
          23,
          24,
          25,
          26,
          27,
          28,
          29,
          30,
          31,
          32,
          33,
          34,
          35,
          36,
          37,
          38,
          39,
          40,
          41,
          42,
          43,
          44,
          45,
          46,
          47,
          48,
          49,
          50,
          51,
          52,
          53,
          54,
          55,
          56,
          57,
          58,
          59,
          60,
          61,
          62,
          63,
          64,
          65,
          66,
          67,
          68,
          69,
          70,
          71,
          72,
          73,
          74,
          75,
          76,
          77,
          78,
          79,
          80,
          81,
          82,
          83,
          84,
          85,
          86,
          87,
          88,
          89,
          90,
          91,
          92,
          93,
          94,
          95,
          96,
          97,
          98,
          99,
          100,
          101,
          102,
          103,
          104,
          105,
          106,
          107,
          108,
          109,
          110,
          111,
          112,
          113,
          114,
          115,
          116,
          117,
          118,
          119,
          120,
          121,
          122,
          123,
          124,
          125,
          126,
          127,
          128,
          129,
          130,
          131,
          132,
          133,
          134,
          135,
          136,
          137,
          138,
          139,
          140,
          141,
          142,
          143,
          144,
          145,
          146,
          147,
          148,
          149,
          150,
          151,
          152,
          153,
          154,
          155,
          156,
          157,
          158,
          159,
          160,
          161,
          162,
          163,
          164,
          165,
          166,
          167,
          168,
          169,
          170,
          171,
          172,
          173,
          174,
          175,
          176,
          177,
          178,
          179,
          180,
          181,
          182,
          183,
          184,
          185,
          186,
          187,
          188,
          189,
          190,
          191,
          192,
          193,
          194,
          195,
          196,
          197,
          198,
          199,
          200,
          201,
          202,
          203,
          204,
          205,
          206,
          207,
          208,
          209,
          210,
          211,
          212,
          213,
          214,
          215,
          216,
          217,
          218,
          219,
          220,
          221,
          222,
          223,
          224,
          225,
          226,
          227,
          228,
          229,
          230,
          231,
          232,
          233,
          234,
          235,
          236,
          237,
          238,
          239,
          240,
          241,
          242,
          243,
          244,
          245,
          246,
          247,
          248,
          249,
          250,
          251,
          252,
          253,
          254,
          255,
          256,
          257,
          258,
          259,
          260,
          261,
          262,
          263,
          264,
          265,
          266,
          267,
          268,
          269,
          270,
          271,
          272,
          273,
          274,
          275,
          276,
          277,
          278,
          279,
          280,
          281,
          282,
          283,
          284,
          285,
          286,
          287,
          288,
          289,
          290,
          291,
          292,
          293,
          294,
          295,
          296,
          297,
          298,
          299,
          300,
          301,
          302,
          303,
          304,
          305,
          306,
          307,
          308,
          309,
          310,
          311,
          312,
          313,
          314,
          315,
          316,
          317,
          318,
          319,
          320,
          321,
          322,
          323,
          324,
          325,
          326,
          327,
          328,
          329,
          330,
          331,
          332,
          333,
          334,
          335,
          336,
          337,
          338,
          339,
          340,
          341,
          342,
          343,
          344,
          345,
          346,
          347,
          348,
          349,
          350,
          351,
          352,
          353,
          354,
          355,
          356,
          357,
          358,
          359,
          360,
          361,
          362,
          363,
          364,
          365
         ],
         "xaxis": "x",
         "y": [
          1296,
          1291,
          1334,
          1301,
          1203,
          1311,
          1286,
          1271,
          1232,
          1277,
          1296,
          1215,
          1258,
          1191,
          1323,
          1332,
          1331,
          1330,
          1265,
          1371,
          1321,
          1345,
          1195,
          1377,
          1243,
          1291,
          1314,
          1296,
          1230,
          1264,
          1263,
          1364,
          1231,
          1297,
          1267,
          1235,
          1218,
          1333,
          1256,
          1240,
          1287,
          1339,
          1284,
          1326,
          1336,
          1299,
          1180,
          1320,
          1274,
          1254,
          1247,
          1277,
          1208,
          1358,
          1254,
          1239,
          1355,
          1327,
          1256,
          1299,
          1264,
          1348,
          1292,
          1245,
          1225,
          1230,
          1243,
          1265,
          1281,
          1283,
          1265,
          1256,
          1223,
          1282,
          1307,
          1357,
          1239,
          1295,
          1325,
          1135,
          1300,
          1281,
          1324,
          1319,
          1294,
          1263,
          1207,
          1293,
          1192,
          1313,
          1233,
          1235,
          1208,
          1293,
          1240,
          1250,
          1265,
          1182,
          1251,
          1246,
          1199,
          1333,
          1211,
          1249,
          1318,
          1255,
          1284,
          1201,
          1261,
          1284,
          1293,
          1275,
          1265,
          1249,
          1219,
          1287,
          1274,
          1211,
          1271,
          1208,
          1255,
          1286,
          1251,
          1181,
          1311,
          1269,
          1337,
          1186,
          1304,
          1219,
          1228,
          1306,
          1245,
          1180,
          1259,
          1269,
          1268,
          1207,
          1273,
          1248,
          1245,
          1212,
          1210,
          1243,
          1294,
          1219,
          1237,
          1234,
          1327,
          1239,
          1296,
          1254,
          1211,
          1296,
          1287,
          1165,
          1213,
          1233,
          1228,
          1211,
          1186,
          1214,
          1226,
          1199,
          1167,
          1250,
          1199,
          1272,
          1262,
          1216,
          1177,
          1225,
          1259,
          1320,
          1269,
          1254,
          1209,
          1155,
          1189,
          1261,
          1236,
          1310,
          1238,
          1220,
          1313,
          1214,
          1225,
          1211,
          1197,
          1255,
          1199,
          1224,
          1258,
          1231,
          1212,
          1244,
          1196,
          1156,
          1190,
          1217,
          1232,
          1275,
          1242,
          1258,
          1280,
          1142,
          1221,
          1154,
          1268,
          1248,
          1247,
          1226,
          1188,
          1215,
          1143,
          1249,
          1271,
          1210,
          1192,
          1215,
          1195,
          1239,
          1287,
          1223,
          1188,
          1212,
          1169,
          1198,
          1138,
          1229,
          1289,
          1271,
          1236,
          1248,
          1208,
          1243,
          1169,
          1274,
          1238,
          1268,
          1268,
          1214,
          1236,
          1199,
          1148,
          1266,
          1127,
          1189,
          1178,
          1247,
          1189,
          1141,
          1121,
          1137,
          1189,
          1211,
          1132,
          1205,
          1120,
          1158,
          1177,
          1188,
          1198,
          1178,
          1171,
          1244,
          1187,
          1158,
          1257,
          1175,
          1239,
          1133,
          1199,
          1164,
          1133,
          1236,
          1220,
          1242,
          1149,
          1148,
          1187,
          1183,
          1212,
          1176,
          1202,
          1185,
          1219,
          1218,
          1243,
          1191,
          1184,
          1216,
          1195,
          1196,
          1098,
          1163,
          1181,
          1130,
          1105,
          1157,
          1181,
          1161,
          1176,
          1173,
          1199,
          1186,
          1233,
          1124,
          1206,
          1230,
          1185,
          1273,
          1147,
          1174,
          1148,
          1180,
          1091,
          1218,
          1166,
          1198,
          1195,
          1255,
          1236,
          1162,
          1195,
          1139,
          1195,
          1265,
          1257,
          1209,
          1109,
          1193,
          1217,
          1110,
          1221,
          1206,
          1196,
          1150,
          1131,
          1174,
          1088,
          1187,
          1132,
          1112,
          1203,
          1175,
          1227,
          1168,
          1098,
          1199,
          1085,
          1142,
          1061,
          1164,
          1150,
          1138,
          1202,
          1187,
          1262,
          1231,
          1093,
          1101,
          1137,
          1078,
          1186
         ],
         "yaxis": "y"
        }
       ],
       "layout": {
        "legend": {
         "tracegroupgap": 0
        },
        "template": {
         "data": {
          "bar": [
           {
            "error_x": {
             "color": "#2a3f5f"
            },
            "error_y": {
             "color": "#2a3f5f"
            },
            "marker": {
             "line": {
              "color": "#E5ECF6",
              "width": 0.5
             },
             "pattern": {
              "fillmode": "overlay",
              "size": 10,
              "solidity": 0.2
             }
            },
            "type": "bar"
           }
          ],
          "barpolar": [
           {
            "marker": {
             "line": {
              "color": "#E5ECF6",
              "width": 0.5
             },
             "pattern": {
              "fillmode": "overlay",
              "size": 10,
              "solidity": 0.2
             }
            },
            "type": "barpolar"
           }
          ],
          "carpet": [
           {
            "aaxis": {
             "endlinecolor": "#2a3f5f",
             "gridcolor": "white",
             "linecolor": "white",
             "minorgridcolor": "white",
             "startlinecolor": "#2a3f5f"
            },
            "baxis": {
             "endlinecolor": "#2a3f5f",
             "gridcolor": "white",
             "linecolor": "white",
             "minorgridcolor": "white",
             "startlinecolor": "#2a3f5f"
            },
            "type": "carpet"
           }
          ],
          "choropleth": [
           {
            "colorbar": {
             "outlinewidth": 0,
             "ticks": ""
            },
            "type": "choropleth"
           }
          ],
          "contour": [
           {
            "colorbar": {
             "outlinewidth": 0,
             "ticks": ""
            },
            "colorscale": [
             [
              0,
              "#0d0887"
             ],
             [
              0.1111111111111111,
              "#46039f"
             ],
             [
              0.2222222222222222,
              "#7201a8"
             ],
             [
              0.3333333333333333,
              "#9c179e"
             ],
             [
              0.4444444444444444,
              "#bd3786"
             ],
             [
              0.5555555555555556,
              "#d8576b"
             ],
             [
              0.6666666666666666,
              "#ed7953"
             ],
             [
              0.7777777777777778,
              "#fb9f3a"
             ],
             [
              0.8888888888888888,
              "#fdca26"
             ],
             [
              1,
              "#f0f921"
             ]
            ],
            "type": "contour"
           }
          ],
          "contourcarpet": [
           {
            "colorbar": {
             "outlinewidth": 0,
             "ticks": ""
            },
            "type": "contourcarpet"
           }
          ],
          "heatmap": [
           {
            "colorbar": {
             "outlinewidth": 0,
             "ticks": ""
            },
            "colorscale": [
             [
              0,
              "#0d0887"
             ],
             [
              0.1111111111111111,
              "#46039f"
             ],
             [
              0.2222222222222222,
              "#7201a8"
             ],
             [
              0.3333333333333333,
              "#9c179e"
             ],
             [
              0.4444444444444444,
              "#bd3786"
             ],
             [
              0.5555555555555556,
              "#d8576b"
             ],
             [
              0.6666666666666666,
              "#ed7953"
             ],
             [
              0.7777777777777778,
              "#fb9f3a"
             ],
             [
              0.8888888888888888,
              "#fdca26"
             ],
             [
              1,
              "#f0f921"
             ]
            ],
            "type": "heatmap"
           }
          ],
          "heatmapgl": [
           {
            "colorbar": {
             "outlinewidth": 0,
             "ticks": ""
            },
            "colorscale": [
             [
              0,
              "#0d0887"
             ],
             [
              0.1111111111111111,
              "#46039f"
             ],
             [
              0.2222222222222222,
              "#7201a8"
             ],
             [
              0.3333333333333333,
              "#9c179e"
             ],
             [
              0.4444444444444444,
              "#bd3786"
             ],
             [
              0.5555555555555556,
              "#d8576b"
             ],
             [
              0.6666666666666666,
              "#ed7953"
             ],
             [
              0.7777777777777778,
              "#fb9f3a"
             ],
             [
              0.8888888888888888,
              "#fdca26"
             ],
             [
              1,
              "#f0f921"
             ]
            ],
            "type": "heatmapgl"
           }
          ],
          "histogram": [
           {
            "marker": {
             "pattern": {
              "fillmode": "overlay",
              "size": 10,
              "solidity": 0.2
             }
            },
            "type": "histogram"
           }
          ],
          "histogram2d": [
           {
            "colorbar": {
             "outlinewidth": 0,
             "ticks": ""
            },
            "colorscale": [
             [
              0,
              "#0d0887"
             ],
             [
              0.1111111111111111,
              "#46039f"
             ],
             [
              0.2222222222222222,
              "#7201a8"
             ],
             [
              0.3333333333333333,
              "#9c179e"
             ],
             [
              0.4444444444444444,
              "#bd3786"
             ],
             [
              0.5555555555555556,
              "#d8576b"
             ],
             [
              0.6666666666666666,
              "#ed7953"
             ],
             [
              0.7777777777777778,
              "#fb9f3a"
             ],
             [
              0.8888888888888888,
              "#fdca26"
             ],
             [
              1,
              "#f0f921"
             ]
            ],
            "type": "histogram2d"
           }
          ],
          "histogram2dcontour": [
           {
            "colorbar": {
             "outlinewidth": 0,
             "ticks": ""
            },
            "colorscale": [
             [
              0,
              "#0d0887"
             ],
             [
              0.1111111111111111,
              "#46039f"
             ],
             [
              0.2222222222222222,
              "#7201a8"
             ],
             [
              0.3333333333333333,
              "#9c179e"
             ],
             [
              0.4444444444444444,
              "#bd3786"
             ],
             [
              0.5555555555555556,
              "#d8576b"
             ],
             [
              0.6666666666666666,
              "#ed7953"
             ],
             [
              0.7777777777777778,
              "#fb9f3a"
             ],
             [
              0.8888888888888888,
              "#fdca26"
             ],
             [
              1,
              "#f0f921"
             ]
            ],
            "type": "histogram2dcontour"
           }
          ],
          "mesh3d": [
           {
            "colorbar": {
             "outlinewidth": 0,
             "ticks": ""
            },
            "type": "mesh3d"
           }
          ],
          "parcoords": [
           {
            "line": {
             "colorbar": {
              "outlinewidth": 0,
              "ticks": ""
             }
            },
            "type": "parcoords"
           }
          ],
          "pie": [
           {
            "automargin": true,
            "type": "pie"
           }
          ],
          "scatter": [
           {
            "marker": {
             "colorbar": {
              "outlinewidth": 0,
              "ticks": ""
             }
            },
            "type": "scatter"
           }
          ],
          "scatter3d": [
           {
            "line": {
             "colorbar": {
              "outlinewidth": 0,
              "ticks": ""
             }
            },
            "marker": {
             "colorbar": {
              "outlinewidth": 0,
              "ticks": ""
             }
            },
            "type": "scatter3d"
           }
          ],
          "scattercarpet": [
           {
            "marker": {
             "colorbar": {
              "outlinewidth": 0,
              "ticks": ""
             }
            },
            "type": "scattercarpet"
           }
          ],
          "scattergeo": [
           {
            "marker": {
             "colorbar": {
              "outlinewidth": 0,
              "ticks": ""
             }
            },
            "type": "scattergeo"
           }
          ],
          "scattergl": [
           {
            "marker": {
             "colorbar": {
              "outlinewidth": 0,
              "ticks": ""
             }
            },
            "type": "scattergl"
           }
          ],
          "scattermapbox": [
           {
            "marker": {
             "colorbar": {
              "outlinewidth": 0,
              "ticks": ""
             }
            },
            "type": "scattermapbox"
           }
          ],
          "scatterpolar": [
           {
            "marker": {
             "colorbar": {
              "outlinewidth": 0,
              "ticks": ""
             }
            },
            "type": "scatterpolar"
           }
          ],
          "scatterpolargl": [
           {
            "marker": {
             "colorbar": {
              "outlinewidth": 0,
              "ticks": ""
             }
            },
            "type": "scatterpolargl"
           }
          ],
          "scatterternary": [
           {
            "marker": {
             "colorbar": {
              "outlinewidth": 0,
              "ticks": ""
             }
            },
            "type": "scatterternary"
           }
          ],
          "surface": [
           {
            "colorbar": {
             "outlinewidth": 0,
             "ticks": ""
            },
            "colorscale": [
             [
              0,
              "#0d0887"
             ],
             [
              0.1111111111111111,
              "#46039f"
             ],
             [
              0.2222222222222222,
              "#7201a8"
             ],
             [
              0.3333333333333333,
              "#9c179e"
             ],
             [
              0.4444444444444444,
              "#bd3786"
             ],
             [
              0.5555555555555556,
              "#d8576b"
             ],
             [
              0.6666666666666666,
              "#ed7953"
             ],
             [
              0.7777777777777778,
              "#fb9f3a"
             ],
             [
              0.8888888888888888,
              "#fdca26"
             ],
             [
              1,
              "#f0f921"
             ]
            ],
            "type": "surface"
           }
          ],
          "table": [
           {
            "cells": {
             "fill": {
              "color": "#EBF0F8"
             },
             "line": {
              "color": "white"
             }
            },
            "header": {
             "fill": {
              "color": "#C8D4E3"
             },
             "line": {
              "color": "white"
             }
            },
            "type": "table"
           }
          ]
         },
         "layout": {
          "annotationdefaults": {
           "arrowcolor": "#2a3f5f",
           "arrowhead": 0,
           "arrowwidth": 1
          },
          "autotypenumbers": "strict",
          "coloraxis": {
           "colorbar": {
            "outlinewidth": 0,
            "ticks": ""
           }
          },
          "colorscale": {
           "diverging": [
            [
             0,
             "#8e0152"
            ],
            [
             0.1,
             "#c51b7d"
            ],
            [
             0.2,
             "#de77ae"
            ],
            [
             0.3,
             "#f1b6da"
            ],
            [
             0.4,
             "#fde0ef"
            ],
            [
             0.5,
             "#f7f7f7"
            ],
            [
             0.6,
             "#e6f5d0"
            ],
            [
             0.7,
             "#b8e186"
            ],
            [
             0.8,
             "#7fbc41"
            ],
            [
             0.9,
             "#4d9221"
            ],
            [
             1,
             "#276419"
            ]
           ],
           "sequential": [
            [
             0,
             "#0d0887"
            ],
            [
             0.1111111111111111,
             "#46039f"
            ],
            [
             0.2222222222222222,
             "#7201a8"
            ],
            [
             0.3333333333333333,
             "#9c179e"
            ],
            [
             0.4444444444444444,
             "#bd3786"
            ],
            [
             0.5555555555555556,
             "#d8576b"
            ],
            [
             0.6666666666666666,
             "#ed7953"
            ],
            [
             0.7777777777777778,
             "#fb9f3a"
            ],
            [
             0.8888888888888888,
             "#fdca26"
            ],
            [
             1,
             "#f0f921"
            ]
           ],
           "sequentialminus": [
            [
             0,
             "#0d0887"
            ],
            [
             0.1111111111111111,
             "#46039f"
            ],
            [
             0.2222222222222222,
             "#7201a8"
            ],
            [
             0.3333333333333333,
             "#9c179e"
            ],
            [
             0.4444444444444444,
             "#bd3786"
            ],
            [
             0.5555555555555556,
             "#d8576b"
            ],
            [
             0.6666666666666666,
             "#ed7953"
            ],
            [
             0.7777777777777778,
             "#fb9f3a"
            ],
            [
             0.8888888888888888,
             "#fdca26"
            ],
            [
             1,
             "#f0f921"
            ]
           ]
          },
          "colorway": [
           "#636efa",
           "#EF553B",
           "#00cc96",
           "#ab63fa",
           "#FFA15A",
           "#19d3f3",
           "#FF6692",
           "#B6E880",
           "#FF97FF",
           "#FECB52"
          ],
          "font": {
           "color": "#2a3f5f"
          },
          "geo": {
           "bgcolor": "white",
           "lakecolor": "white",
           "landcolor": "#E5ECF6",
           "showlakes": true,
           "showland": true,
           "subunitcolor": "white"
          },
          "hoverlabel": {
           "align": "left"
          },
          "hovermode": "closest",
          "mapbox": {
           "style": "light"
          },
          "paper_bgcolor": "white",
          "plot_bgcolor": "#E5ECF6",
          "polar": {
           "angularaxis": {
            "gridcolor": "white",
            "linecolor": "white",
            "ticks": ""
           },
           "bgcolor": "#E5ECF6",
           "radialaxis": {
            "gridcolor": "white",
            "linecolor": "white",
            "ticks": ""
           }
          },
          "scene": {
           "xaxis": {
            "backgroundcolor": "#E5ECF6",
            "gridcolor": "white",
            "gridwidth": 2,
            "linecolor": "white",
            "showbackground": true,
            "ticks": "",
            "zerolinecolor": "white"
           },
           "yaxis": {
            "backgroundcolor": "#E5ECF6",
            "gridcolor": "white",
            "gridwidth": 2,
            "linecolor": "white",
            "showbackground": true,
            "ticks": "",
            "zerolinecolor": "white"
           },
           "zaxis": {
            "backgroundcolor": "#E5ECF6",
            "gridcolor": "white",
            "gridwidth": 2,
            "linecolor": "white",
            "showbackground": true,
            "ticks": "",
            "zerolinecolor": "white"
           }
          },
          "shapedefaults": {
           "line": {
            "color": "#2a3f5f"
           }
          },
          "ternary": {
           "aaxis": {
            "gridcolor": "white",
            "linecolor": "white",
            "ticks": ""
           },
           "baxis": {
            "gridcolor": "white",
            "linecolor": "white",
            "ticks": ""
           },
           "bgcolor": "#E5ECF6",
           "caxis": {
            "gridcolor": "white",
            "linecolor": "white",
            "ticks": ""
           }
          },
          "title": {
           "x": 0.05
          },
          "xaxis": {
           "automargin": true,
           "gridcolor": "white",
           "linecolor": "white",
           "ticks": "",
           "title": {
            "standoff": 15
           },
           "zerolinecolor": "white",
           "zerolinewidth": 2
          },
          "yaxis": {
           "automargin": true,
           "gridcolor": "white",
           "linecolor": "white",
           "ticks": "",
           "title": {
            "standoff": 15
           },
           "zerolinecolor": "white",
           "zerolinewidth": 2
          }
         }
        },
        "title": {
         "text": "Daily Distance Travelled"
        },
        "xaxis": {
         "anchor": "y",
         "domain": [
          0,
          1
         ],
         "title": {
          "text": "Mission Day"
         }
        },
        "yaxis": {
         "anchor": "x",
         "domain": [
          0,
          1
         ],
         "title": {
          "text": "Distance Travelled (km)"
         }
        }
       }
      }
     },
     "metadata": {},
     "output_type": "display_data"
    }
   ],
   "source": [
    "px.line(df, x=df.index, y='distance', title='Daily Distance Travelled', color_discrete_sequence=px.colors.qualitative.Alphabet_r, **plotly_options)"
   ]
  },
  {
   "cell_type": "code",
   "execution_count": 423,
   "metadata": {},
   "outputs": [
    {
     "data": {
      "application/vnd.plotly.v1+json": {
       "config": {
        "plotlyServerURL": "https://plot.ly"
       },
       "data": [
        {
         "hovertemplate": "Regenerated?=False<br>Mission Day=%{x}<br>Beginning of day Battery %=%{y}<extra></extra>",
         "legendgroup": "False",
         "line": {
          "color": "#AF0038",
          "dash": "solid"
         },
         "marker": {
          "symbol": "circle"
         },
         "mode": "lines",
         "name": "False",
         "orientation": "v",
         "showlegend": true,
         "type": "scatter",
         "x": [
          1,
          2,
          4,
          7,
          8,
          10,
          11,
          14,
          17,
          19,
          21,
          22,
          23,
          25,
          27,
          28,
          29,
          33,
          37,
          39,
          41,
          43,
          47,
          50,
          52,
          53,
          55,
          57,
          59,
          61,
          63,
          66,
          69,
          70,
          73,
          75,
          77,
          78,
          79,
          80,
          84,
          87,
          89,
          91,
          92,
          96,
          97,
          98,
          100,
          103,
          106,
          107,
          108,
          110,
          112,
          114,
          118,
          119,
          121,
          123,
          128,
          131,
          133,
          137,
          138,
          141,
          143,
          144,
          146,
          148,
          150,
          152,
          153,
          156,
          159,
          161,
          163,
          164,
          165,
          167,
          169,
          170,
          176,
          177,
          178,
          180,
          181,
          183,
          184,
          186,
          187,
          189,
          194,
          196,
          197,
          198,
          201,
          205,
          207,
          211,
          212,
          215,
          218,
          219,
          222,
          223,
          225,
          227,
          229,
          232,
          235,
          239,
          242,
          243,
          244,
          245,
          247,
          250,
          252,
          253,
          254,
          256,
          259,
          260,
          261,
          263,
          267,
          270,
          271,
          272,
          274,
          277,
          280,
          281,
          284,
          288,
          289,
          295,
          297,
          298,
          301,
          302,
          305,
          306,
          308,
          311,
          312,
          313,
          316,
          320,
          321,
          324,
          326,
          329,
          330,
          333,
          334,
          338,
          339,
          341,
          343,
          344,
          346,
          349,
          351,
          353,
          355,
          359,
          361,
          362
         ],
         "xaxis": "x",
         "y": [
          89.4,
          88.6,
          89.9,
          90.6,
          89.2,
          90.1,
          89.1,
          86.7,
          89.6,
          88.4,
          89.9,
          89.8,
          85.5,
          86.6,
          88,
          87.8,
          87.1,
          87,
          89.2,
          88,
          89.1,
          89.6,
          87.7,
          84.8,
          87.9,
          86.2,
          88.9,
          88.7,
          86.7,
          88.2,
          87.3,
          87.2,
          87.9,
          87.2,
          89.6,
          89.1,
          90.4,
          88.9,
          87.7,
          85,
          87.8,
          85.3,
          86.1,
          86.3,
          86.1,
          88.6,
          87.2,
          86,
          86.7,
          85.3,
          88.8,
          87.9,
          85.8,
          86.6,
          87.5,
          86.8,
          86.8,
          85.5,
          87.5,
          84.7,
          84.6,
          87.4,
          86.4,
          87.6,
          84.8,
          87.5,
          86.7,
          85.7,
          86,
          86.5,
          87,
          85.9,
          85.5,
          86.4,
          84.9,
          86.8,
          86.5,
          84.8,
          84.6,
          85.6,
          85.4,
          85.2,
          87,
          85.9,
          84.4,
          87.1,
          84.5,
          86.7,
          85.5,
          87.5,
          86.4,
          83.8,
          85.5,
          86.2,
          84.4,
          83.8,
          83.5,
          82.8,
          86,
          84.9,
          84.2,
          85.1,
          85.4,
          84.6,
          84.6,
          84.2,
          83.5,
          82.5,
          81.5,
          85,
          83.1,
          85.3,
          85.5,
          85.1,
          83,
          81.3,
          82.1,
          84.6,
          83.8,
          83.3,
          81.8,
          82.8,
          84.5,
          83.9,
          83.6,
          81.8,
          83,
          84.8,
          81.2,
          80.9,
          84,
          83,
          83.2,
          83,
          81.9,
          82.4,
          82.1,
          82.3,
          82.8,
          79.9,
          83,
          81.7,
          83.9,
          82.3,
          81.5,
          84.5,
          83.9,
          82.8,
          82.5,
          84.4,
          83.9,
          83.4,
          81.2,
          84.2,
          80.5,
          83.1,
          80.9,
          83.1,
          79.8,
          78.4,
          83,
          81.8,
          82.1,
          81.3,
          81.4,
          80.1,
          81.4,
          83,
          82.3,
          79.2
         ],
         "yaxis": "y"
        },
        {
         "hovertemplate": "Regenerated?=True<br>Mission Day=%{x}<br>Beginning of day Battery %=%{y}<extra></extra>",
         "legendgroup": "True",
         "line": {
          "color": "#0D2A63",
          "dash": "solid"
         },
         "marker": {
          "symbol": "circle"
         },
         "mode": "lines",
         "name": "True",
         "orientation": "v",
         "showlegend": true,
         "type": "scatter",
         "x": [
          3,
          5,
          6,
          9,
          12,
          13,
          15,
          16,
          18,
          20,
          24,
          26,
          30,
          31,
          32,
          34,
          35,
          36,
          38,
          40,
          42,
          44,
          45,
          46,
          48,
          49,
          51,
          54,
          56,
          58,
          60,
          62,
          64,
          65,
          67,
          68,
          71,
          72,
          74,
          76,
          81,
          82,
          83,
          85,
          86,
          88,
          90,
          93,
          94,
          95,
          99,
          101,
          102,
          104,
          105,
          109,
          111,
          113,
          115,
          116,
          117,
          120,
          122,
          124,
          125,
          126,
          127,
          129,
          130,
          132,
          134,
          135,
          136,
          139,
          140,
          142,
          145,
          147,
          149,
          151,
          154,
          155,
          157,
          158,
          160,
          162,
          166,
          168,
          171,
          172,
          173,
          174,
          175,
          179,
          182,
          185,
          188,
          190,
          191,
          192,
          193,
          195,
          199,
          200,
          202,
          203,
          204,
          206,
          208,
          209,
          210,
          213,
          214,
          216,
          217,
          220,
          221,
          224,
          226,
          228,
          230,
          231,
          233,
          234,
          236,
          237,
          238,
          240,
          241,
          246,
          248,
          249,
          251,
          255,
          257,
          258,
          262,
          264,
          265,
          266,
          268,
          269,
          273,
          275,
          276,
          278,
          279,
          282,
          283,
          285,
          286,
          287,
          290,
          291,
          292,
          293,
          294,
          296,
          299,
          300,
          303,
          304,
          307,
          309,
          310,
          314,
          315,
          317,
          318,
          319,
          322,
          323,
          325,
          327,
          328,
          331,
          332,
          335,
          336,
          337,
          340,
          342,
          345,
          347,
          348,
          350,
          352,
          354,
          356,
          357,
          358,
          360,
          363,
          364,
          365
         ],
         "xaxis": "x",
         "y": [
          91.9,
          90.5,
          91.2,
          91.2,
          89.3,
          89.3,
          89.8,
          90.6,
          92.7,
          90.9,
          89.8,
          89.2,
          88.2,
          88.7,
          90.7,
          87.7,
          88.3,
          89.3,
          90.3,
          90.2,
          90.3,
          89.6,
          90.7,
          91,
          88.3,
          89.4,
          88.8,
          91.3,
          88.9,
          89.7,
          89.7,
          90.7,
          87.3,
          88.4,
          87.7,
          89.6,
          87.3,
          90,
          91.5,
          90.5,
          88.6,
          90,
          90.6,
          88.6,
          89.7,
          89,
          89.3,
          87.1,
          87.4,
          88.8,
          90.2,
          87.8,
          89.2,
          88.4,
          89,
          90.3,
          88.5,
          90.2,
          87.1,
          87.2,
          88.1,
          88.3,
          88.3,
          85.4,
          87.9,
          87.9,
          89.1,
          86.6,
          87.9,
          88.3,
          87,
          88,
          88,
          87.3,
          87.8,
          88,
          89.6,
          88.8,
          88.8,
          89,
          86.1,
          88.8,
          86.6,
          87.4,
          86.9,
          86.9,
          86.7,
          86.6,
          85.5,
          86.1,
          86.5,
          86.6,
          87.2,
          88.3,
          87.6,
          88.6,
          86.6,
          84.3,
          84.8,
          86.4,
          90,
          86.5,
          84.8,
          86,
          86.1,
          86.7,
          86.9,
          86.4,
          86,
          86.9,
          87.1,
          84.5,
          86.1,
          85.6,
          86.6,
          85,
          85.7,
          85.3,
          85.1,
          87,
          84,
          85.1,
          85.2,
          85.3,
          84.9,
          84.9,
          86,
          85.8,
          86.7,
          86,
          82.9,
          85.4,
          86.3,
          85.3,
          84.2,
          85.3,
          84.2,
          83.3,
          84.4,
          84.5,
          84.8,
          85.9,
          84.3,
          84.4,
          84.5,
          83.8,
          84.6,
          83.4,
          85.1,
          83.1,
          83.4,
          84.3,
          83.2,
          83.2,
          83.2,
          84,
          85.2,
          83.5,
          82.8,
          85.8,
          85.2,
          85.3,
          84.8,
          83.7,
          85.4,
          82.9,
          83.3,
          82.5,
          84.3,
          85.8,
          84.1,
          86.1,
          83.9,
          82.2,
          86.2,
          81.1,
          83.6,
          82.7,
          84.1,
          84.2,
          81.8,
          84.3,
          84,
          82.7,
          83.5,
          85,
          83.4,
          81.6,
          81.5,
          82.3,
          84.3,
          83.7,
          79.5,
          80.8,
          81.9
         ],
         "yaxis": "y"
        }
       ],
       "layout": {
        "legend": {
         "title": {
          "text": "Regenerated?"
         },
         "tracegroupgap": 0
        },
        "template": {
         "data": {
          "bar": [
           {
            "error_x": {
             "color": "#2a3f5f"
            },
            "error_y": {
             "color": "#2a3f5f"
            },
            "marker": {
             "line": {
              "color": "#E5ECF6",
              "width": 0.5
             },
             "pattern": {
              "fillmode": "overlay",
              "size": 10,
              "solidity": 0.2
             }
            },
            "type": "bar"
           }
          ],
          "barpolar": [
           {
            "marker": {
             "line": {
              "color": "#E5ECF6",
              "width": 0.5
             },
             "pattern": {
              "fillmode": "overlay",
              "size": 10,
              "solidity": 0.2
             }
            },
            "type": "barpolar"
           }
          ],
          "carpet": [
           {
            "aaxis": {
             "endlinecolor": "#2a3f5f",
             "gridcolor": "white",
             "linecolor": "white",
             "minorgridcolor": "white",
             "startlinecolor": "#2a3f5f"
            },
            "baxis": {
             "endlinecolor": "#2a3f5f",
             "gridcolor": "white",
             "linecolor": "white",
             "minorgridcolor": "white",
             "startlinecolor": "#2a3f5f"
            },
            "type": "carpet"
           }
          ],
          "choropleth": [
           {
            "colorbar": {
             "outlinewidth": 0,
             "ticks": ""
            },
            "type": "choropleth"
           }
          ],
          "contour": [
           {
            "colorbar": {
             "outlinewidth": 0,
             "ticks": ""
            },
            "colorscale": [
             [
              0,
              "#0d0887"
             ],
             [
              0.1111111111111111,
              "#46039f"
             ],
             [
              0.2222222222222222,
              "#7201a8"
             ],
             [
              0.3333333333333333,
              "#9c179e"
             ],
             [
              0.4444444444444444,
              "#bd3786"
             ],
             [
              0.5555555555555556,
              "#d8576b"
             ],
             [
              0.6666666666666666,
              "#ed7953"
             ],
             [
              0.7777777777777778,
              "#fb9f3a"
             ],
             [
              0.8888888888888888,
              "#fdca26"
             ],
             [
              1,
              "#f0f921"
             ]
            ],
            "type": "contour"
           }
          ],
          "contourcarpet": [
           {
            "colorbar": {
             "outlinewidth": 0,
             "ticks": ""
            },
            "type": "contourcarpet"
           }
          ],
          "heatmap": [
           {
            "colorbar": {
             "outlinewidth": 0,
             "ticks": ""
            },
            "colorscale": [
             [
              0,
              "#0d0887"
             ],
             [
              0.1111111111111111,
              "#46039f"
             ],
             [
              0.2222222222222222,
              "#7201a8"
             ],
             [
              0.3333333333333333,
              "#9c179e"
             ],
             [
              0.4444444444444444,
              "#bd3786"
             ],
             [
              0.5555555555555556,
              "#d8576b"
             ],
             [
              0.6666666666666666,
              "#ed7953"
             ],
             [
              0.7777777777777778,
              "#fb9f3a"
             ],
             [
              0.8888888888888888,
              "#fdca26"
             ],
             [
              1,
              "#f0f921"
             ]
            ],
            "type": "heatmap"
           }
          ],
          "heatmapgl": [
           {
            "colorbar": {
             "outlinewidth": 0,
             "ticks": ""
            },
            "colorscale": [
             [
              0,
              "#0d0887"
             ],
             [
              0.1111111111111111,
              "#46039f"
             ],
             [
              0.2222222222222222,
              "#7201a8"
             ],
             [
              0.3333333333333333,
              "#9c179e"
             ],
             [
              0.4444444444444444,
              "#bd3786"
             ],
             [
              0.5555555555555556,
              "#d8576b"
             ],
             [
              0.6666666666666666,
              "#ed7953"
             ],
             [
              0.7777777777777778,
              "#fb9f3a"
             ],
             [
              0.8888888888888888,
              "#fdca26"
             ],
             [
              1,
              "#f0f921"
             ]
            ],
            "type": "heatmapgl"
           }
          ],
          "histogram": [
           {
            "marker": {
             "pattern": {
              "fillmode": "overlay",
              "size": 10,
              "solidity": 0.2
             }
            },
            "type": "histogram"
           }
          ],
          "histogram2d": [
           {
            "colorbar": {
             "outlinewidth": 0,
             "ticks": ""
            },
            "colorscale": [
             [
              0,
              "#0d0887"
             ],
             [
              0.1111111111111111,
              "#46039f"
             ],
             [
              0.2222222222222222,
              "#7201a8"
             ],
             [
              0.3333333333333333,
              "#9c179e"
             ],
             [
              0.4444444444444444,
              "#bd3786"
             ],
             [
              0.5555555555555556,
              "#d8576b"
             ],
             [
              0.6666666666666666,
              "#ed7953"
             ],
             [
              0.7777777777777778,
              "#fb9f3a"
             ],
             [
              0.8888888888888888,
              "#fdca26"
             ],
             [
              1,
              "#f0f921"
             ]
            ],
            "type": "histogram2d"
           }
          ],
          "histogram2dcontour": [
           {
            "colorbar": {
             "outlinewidth": 0,
             "ticks": ""
            },
            "colorscale": [
             [
              0,
              "#0d0887"
             ],
             [
              0.1111111111111111,
              "#46039f"
             ],
             [
              0.2222222222222222,
              "#7201a8"
             ],
             [
              0.3333333333333333,
              "#9c179e"
             ],
             [
              0.4444444444444444,
              "#bd3786"
             ],
             [
              0.5555555555555556,
              "#d8576b"
             ],
             [
              0.6666666666666666,
              "#ed7953"
             ],
             [
              0.7777777777777778,
              "#fb9f3a"
             ],
             [
              0.8888888888888888,
              "#fdca26"
             ],
             [
              1,
              "#f0f921"
             ]
            ],
            "type": "histogram2dcontour"
           }
          ],
          "mesh3d": [
           {
            "colorbar": {
             "outlinewidth": 0,
             "ticks": ""
            },
            "type": "mesh3d"
           }
          ],
          "parcoords": [
           {
            "line": {
             "colorbar": {
              "outlinewidth": 0,
              "ticks": ""
             }
            },
            "type": "parcoords"
           }
          ],
          "pie": [
           {
            "automargin": true,
            "type": "pie"
           }
          ],
          "scatter": [
           {
            "marker": {
             "colorbar": {
              "outlinewidth": 0,
              "ticks": ""
             }
            },
            "type": "scatter"
           }
          ],
          "scatter3d": [
           {
            "line": {
             "colorbar": {
              "outlinewidth": 0,
              "ticks": ""
             }
            },
            "marker": {
             "colorbar": {
              "outlinewidth": 0,
              "ticks": ""
             }
            },
            "type": "scatter3d"
           }
          ],
          "scattercarpet": [
           {
            "marker": {
             "colorbar": {
              "outlinewidth": 0,
              "ticks": ""
             }
            },
            "type": "scattercarpet"
           }
          ],
          "scattergeo": [
           {
            "marker": {
             "colorbar": {
              "outlinewidth": 0,
              "ticks": ""
             }
            },
            "type": "scattergeo"
           }
          ],
          "scattergl": [
           {
            "marker": {
             "colorbar": {
              "outlinewidth": 0,
              "ticks": ""
             }
            },
            "type": "scattergl"
           }
          ],
          "scattermapbox": [
           {
            "marker": {
             "colorbar": {
              "outlinewidth": 0,
              "ticks": ""
             }
            },
            "type": "scattermapbox"
           }
          ],
          "scatterpolar": [
           {
            "marker": {
             "colorbar": {
              "outlinewidth": 0,
              "ticks": ""
             }
            },
            "type": "scatterpolar"
           }
          ],
          "scatterpolargl": [
           {
            "marker": {
             "colorbar": {
              "outlinewidth": 0,
              "ticks": ""
             }
            },
            "type": "scatterpolargl"
           }
          ],
          "scatterternary": [
           {
            "marker": {
             "colorbar": {
              "outlinewidth": 0,
              "ticks": ""
             }
            },
            "type": "scatterternary"
           }
          ],
          "surface": [
           {
            "colorbar": {
             "outlinewidth": 0,
             "ticks": ""
            },
            "colorscale": [
             [
              0,
              "#0d0887"
             ],
             [
              0.1111111111111111,
              "#46039f"
             ],
             [
              0.2222222222222222,
              "#7201a8"
             ],
             [
              0.3333333333333333,
              "#9c179e"
             ],
             [
              0.4444444444444444,
              "#bd3786"
             ],
             [
              0.5555555555555556,
              "#d8576b"
             ],
             [
              0.6666666666666666,
              "#ed7953"
             ],
             [
              0.7777777777777778,
              "#fb9f3a"
             ],
             [
              0.8888888888888888,
              "#fdca26"
             ],
             [
              1,
              "#f0f921"
             ]
            ],
            "type": "surface"
           }
          ],
          "table": [
           {
            "cells": {
             "fill": {
              "color": "#EBF0F8"
             },
             "line": {
              "color": "white"
             }
            },
            "header": {
             "fill": {
              "color": "#C8D4E3"
             },
             "line": {
              "color": "white"
             }
            },
            "type": "table"
           }
          ]
         },
         "layout": {
          "annotationdefaults": {
           "arrowcolor": "#2a3f5f",
           "arrowhead": 0,
           "arrowwidth": 1
          },
          "autotypenumbers": "strict",
          "coloraxis": {
           "colorbar": {
            "outlinewidth": 0,
            "ticks": ""
           }
          },
          "colorscale": {
           "diverging": [
            [
             0,
             "#8e0152"
            ],
            [
             0.1,
             "#c51b7d"
            ],
            [
             0.2,
             "#de77ae"
            ],
            [
             0.3,
             "#f1b6da"
            ],
            [
             0.4,
             "#fde0ef"
            ],
            [
             0.5,
             "#f7f7f7"
            ],
            [
             0.6,
             "#e6f5d0"
            ],
            [
             0.7,
             "#b8e186"
            ],
            [
             0.8,
             "#7fbc41"
            ],
            [
             0.9,
             "#4d9221"
            ],
            [
             1,
             "#276419"
            ]
           ],
           "sequential": [
            [
             0,
             "#0d0887"
            ],
            [
             0.1111111111111111,
             "#46039f"
            ],
            [
             0.2222222222222222,
             "#7201a8"
            ],
            [
             0.3333333333333333,
             "#9c179e"
            ],
            [
             0.4444444444444444,
             "#bd3786"
            ],
            [
             0.5555555555555556,
             "#d8576b"
            ],
            [
             0.6666666666666666,
             "#ed7953"
            ],
            [
             0.7777777777777778,
             "#fb9f3a"
            ],
            [
             0.8888888888888888,
             "#fdca26"
            ],
            [
             1,
             "#f0f921"
            ]
           ],
           "sequentialminus": [
            [
             0,
             "#0d0887"
            ],
            [
             0.1111111111111111,
             "#46039f"
            ],
            [
             0.2222222222222222,
             "#7201a8"
            ],
            [
             0.3333333333333333,
             "#9c179e"
            ],
            [
             0.4444444444444444,
             "#bd3786"
            ],
            [
             0.5555555555555556,
             "#d8576b"
            ],
            [
             0.6666666666666666,
             "#ed7953"
            ],
            [
             0.7777777777777778,
             "#fb9f3a"
            ],
            [
             0.8888888888888888,
             "#fdca26"
            ],
            [
             1,
             "#f0f921"
            ]
           ]
          },
          "colorway": [
           "#636efa",
           "#EF553B",
           "#00cc96",
           "#ab63fa",
           "#FFA15A",
           "#19d3f3",
           "#FF6692",
           "#B6E880",
           "#FF97FF",
           "#FECB52"
          ],
          "font": {
           "color": "#2a3f5f"
          },
          "geo": {
           "bgcolor": "white",
           "lakecolor": "white",
           "landcolor": "#E5ECF6",
           "showlakes": true,
           "showland": true,
           "subunitcolor": "white"
          },
          "hoverlabel": {
           "align": "left"
          },
          "hovermode": "closest",
          "mapbox": {
           "style": "light"
          },
          "paper_bgcolor": "white",
          "plot_bgcolor": "#E5ECF6",
          "polar": {
           "angularaxis": {
            "gridcolor": "white",
            "linecolor": "white",
            "ticks": ""
           },
           "bgcolor": "#E5ECF6",
           "radialaxis": {
            "gridcolor": "white",
            "linecolor": "white",
            "ticks": ""
           }
          },
          "scene": {
           "xaxis": {
            "backgroundcolor": "#E5ECF6",
            "gridcolor": "white",
            "gridwidth": 2,
            "linecolor": "white",
            "showbackground": true,
            "ticks": "",
            "zerolinecolor": "white"
           },
           "yaxis": {
            "backgroundcolor": "#E5ECF6",
            "gridcolor": "white",
            "gridwidth": 2,
            "linecolor": "white",
            "showbackground": true,
            "ticks": "",
            "zerolinecolor": "white"
           },
           "zaxis": {
            "backgroundcolor": "#E5ECF6",
            "gridcolor": "white",
            "gridwidth": 2,
            "linecolor": "white",
            "showbackground": true,
            "ticks": "",
            "zerolinecolor": "white"
           }
          },
          "shapedefaults": {
           "line": {
            "color": "#2a3f5f"
           }
          },
          "ternary": {
           "aaxis": {
            "gridcolor": "white",
            "linecolor": "white",
            "ticks": ""
           },
           "baxis": {
            "gridcolor": "white",
            "linecolor": "white",
            "ticks": ""
           },
           "bgcolor": "#E5ECF6",
           "caxis": {
            "gridcolor": "white",
            "linecolor": "white",
            "ticks": ""
           }
          },
          "title": {
           "x": 0.05
          },
          "xaxis": {
           "automargin": true,
           "gridcolor": "white",
           "linecolor": "white",
           "ticks": "",
           "title": {
            "standoff": 15
           },
           "zerolinecolor": "white",
           "zerolinewidth": 2
          },
          "yaxis": {
           "automargin": true,
           "gridcolor": "white",
           "linecolor": "white",
           "ticks": "",
           "title": {
            "standoff": 15
           },
           "zerolinecolor": "white",
           "zerolinewidth": 2
          }
         }
        },
        "title": {
         "text": "Daily Starting Battery"
        },
        "xaxis": {
         "anchor": "y",
         "domain": [
          0,
          1
         ],
         "title": {
          "text": "Mission Day"
         }
        },
        "yaxis": {
         "anchor": "x",
         "domain": [
          0,
          1
         ],
         "title": {
          "text": "Beginning of day Battery %"
         }
        }
       }
      }
     },
     "metadata": {},
     "output_type": "display_data"
    }
   ],
   "source": [
    "px.line(df, x=df.index, y='battery', title='Daily Starting Battery', color='regen', color_discrete_sequence=px.colors.qualitative.Dark24_r, **plotly_options)"
   ]
  },
  {
   "cell_type": "code",
   "execution_count": 424,
   "metadata": {},
   "outputs": [
    {
     "data": {
      "application/vnd.plotly.v1+json": {
       "config": {
        "plotlyServerURL": "https://plot.ly"
       },
       "data": [
        {
         "hovertemplate": "Regenerated?=False<br>Mission Day=%{x}<br>Data Transmitted (kb)=%{y}<extra></extra>",
         "legendgroup": "False",
         "line": {
          "color": "#AF0038",
          "dash": "solid"
         },
         "marker": {
          "symbol": "circle"
         },
         "mode": "lines",
         "name": "False",
         "orientation": "v",
         "showlegend": true,
         "type": "scatter",
         "x": [
          1,
          2,
          4,
          7,
          8,
          10,
          11,
          14,
          17,
          19,
          21,
          22,
          23,
          25,
          27,
          28,
          29,
          33,
          37,
          39,
          41,
          43,
          47,
          50,
          52,
          53,
          55,
          57,
          59,
          61,
          63,
          66,
          69,
          70,
          73,
          75,
          77,
          78,
          79,
          80,
          84,
          87,
          89,
          91,
          92,
          96,
          97,
          98,
          100,
          103,
          106,
          107,
          108,
          110,
          112,
          114,
          118,
          119,
          121,
          123,
          128,
          131,
          133,
          137,
          138,
          141,
          143,
          144,
          146,
          148,
          150,
          152,
          153,
          156,
          159,
          161,
          163,
          164,
          165,
          167,
          169,
          170,
          176,
          177,
          178,
          180,
          181,
          183,
          184,
          186,
          187,
          189,
          194,
          196,
          197,
          198,
          201,
          205,
          207,
          211,
          212,
          215,
          218,
          219,
          222,
          223,
          225,
          227,
          229,
          232,
          235,
          239,
          242,
          243,
          244,
          245,
          247,
          250,
          252,
          253,
          254,
          256,
          259,
          260,
          261,
          263,
          267,
          270,
          271,
          272,
          274,
          277,
          280,
          281,
          284,
          288,
          289,
          295,
          297,
          298,
          301,
          302,
          305,
          306,
          308,
          311,
          312,
          313,
          316,
          320,
          321,
          324,
          326,
          329,
          330,
          333,
          334,
          338,
          339,
          341,
          343,
          344,
          346,
          349,
          351,
          353,
          355,
          359,
          361,
          362
         ],
         "xaxis": "x",
         "y": [
          241,
          254,
          214,
          152,
          288,
          261,
          242,
          352,
          227,
          220,
          329,
          170,
          273,
          405,
          167,
          340,
          305,
          207,
          295,
          203,
          238,
          260,
          232,
          318,
          224,
          396,
          285,
          306,
          355,
          260,
          329,
          356,
          243,
          233,
          246,
          220,
          321,
          185,
          335,
          424,
          265,
          297,
          241,
          340,
          234,
          199,
          368,
          324,
          335,
          282,
          285,
          184,
          335,
          366,
          274,
          128,
          371,
          326,
          326,
          273,
          318,
          300,
          301,
          308,
          313,
          429,
          314,
          373,
          238,
          320,
          317,
          436,
          350,
          244,
          349,
          262,
          438,
          365,
          302,
          286,
          284,
          307,
          287,
          391,
          335,
          295,
          383,
          311,
          362,
          257,
          347,
          392,
          296,
          338,
          377,
          440,
          344,
          414,
          365,
          326,
          397,
          316,
          332,
          360,
          375,
          471,
          455,
          367,
          395,
          392,
          434,
          282,
          297,
          393,
          333,
          343,
          373,
          331,
          420,
          372,
          345,
          442,
          382,
          356,
          329,
          347,
          373,
          329,
          399,
          346,
          341,
          430,
          410,
          356,
          432,
          497,
          434,
          472,
          435,
          385,
          359,
          374,
          326,
          378,
          387,
          313,
          392,
          471,
          417,
          283,
          405,
          411,
          327,
          341,
          428,
          283,
          385,
          387,
          409,
          458,
          305,
          454,
          358,
          363,
          331,
          299,
          454,
          350,
          368,
          450
         ],
         "yaxis": "y"
        },
        {
         "hovertemplate": "Regenerated?=True<br>Mission Day=%{x}<br>Data Transmitted (kb)=%{y}<extra></extra>",
         "legendgroup": "True",
         "line": {
          "color": "#0D2A63",
          "dash": "solid"
         },
         "marker": {
          "symbol": "circle"
         },
         "mode": "lines",
         "name": "True",
         "orientation": "v",
         "showlegend": true,
         "type": "scatter",
         "x": [
          3,
          5,
          6,
          9,
          12,
          13,
          15,
          16,
          18,
          20,
          24,
          26,
          30,
          31,
          32,
          34,
          35,
          36,
          38,
          40,
          42,
          44,
          45,
          46,
          48,
          49,
          51,
          54,
          56,
          58,
          60,
          62,
          64,
          65,
          67,
          68,
          71,
          72,
          74,
          76,
          81,
          82,
          83,
          85,
          86,
          88,
          90,
          93,
          94,
          95,
          99,
          101,
          102,
          104,
          105,
          109,
          111,
          113,
          115,
          116,
          117,
          120,
          122,
          124,
          125,
          126,
          127,
          129,
          130,
          132,
          134,
          135,
          136,
          139,
          140,
          142,
          145,
          147,
          149,
          151,
          154,
          155,
          157,
          158,
          160,
          162,
          166,
          168,
          171,
          172,
          173,
          174,
          175,
          179,
          182,
          185,
          188,
          190,
          191,
          192,
          193,
          195,
          199,
          200,
          202,
          203,
          204,
          206,
          208,
          209,
          210,
          213,
          214,
          216,
          217,
          220,
          221,
          224,
          226,
          228,
          230,
          231,
          233,
          234,
          236,
          237,
          238,
          240,
          241,
          246,
          248,
          249,
          251,
          255,
          257,
          258,
          262,
          264,
          265,
          266,
          268,
          269,
          273,
          275,
          276,
          278,
          279,
          282,
          283,
          285,
          286,
          287,
          290,
          291,
          292,
          293,
          294,
          296,
          299,
          300,
          303,
          304,
          307,
          309,
          310,
          314,
          315,
          317,
          318,
          319,
          322,
          323,
          325,
          327,
          328,
          331,
          332,
          335,
          336,
          337,
          340,
          342,
          345,
          347,
          348,
          350,
          352,
          354,
          356,
          357,
          358,
          360,
          363,
          364,
          365
         ],
         "xaxis": "x",
         "y": [
          169,
          204,
          105,
          235,
          149,
          308,
          177,
          210,
          166,
          263,
          286,
          282,
          215,
          221,
          153,
          238,
          312,
          294,
          223,
          244,
          240,
          230,
          284,
          232,
          211,
          139,
          206,
          217,
          258,
          238,
          185,
          193,
          265,
          256,
          348,
          335,
          291,
          186,
          126,
          229,
          235,
          186,
          287,
          271,
          186,
          289,
          220,
          224,
          315,
          339,
          192,
          308,
          269,
          244,
          241,
          333,
          259,
          189,
          332,
          333,
          328,
          233,
          156,
          269,
          241,
          313,
          210,
          290,
          264,
          232,
          370,
          256,
          283,
          314,
          317,
          298,
          231,
          239,
          228,
          234,
          318,
          206,
          294,
          286,
          269,
          301,
          315,
          286,
          258,
          261,
          329,
          304,
          268,
          282,
          261,
          225,
          324,
          301,
          313,
          317,
          251,
          303,
          403,
          391,
          319,
          255,
          252,
          253,
          291,
          325,
          380,
          290,
          363,
          273,
          300,
          336,
          236,
          372,
          381,
          329,
          274,
          348,
          301,
          367,
          351,
          361,
          341,
          345,
          300,
          262,
          372,
          414,
          281,
          290,
          355,
          296,
          431,
          395,
          343,
          340,
          253,
          299,
          360,
          366,
          276,
          328,
          321,
          392,
          386,
          319,
          351,
          258,
          423,
          485,
          345,
          387,
          330,
          302,
          380,
          356,
          292,
          401,
          399,
          399,
          413,
          378,
          423,
          314,
          362,
          283,
          359,
          370,
          385,
          442,
          288,
          416,
          359,
          377,
          398,
          350,
          497,
          285,
          315,
          406,
          405,
          302,
          360,
          360,
          349,
          407,
          275,
          392,
          481,
          445,
          355
         ],
         "yaxis": "y"
        }
       ],
       "layout": {
        "legend": {
         "title": {
          "text": "Regenerated?"
         },
         "tracegroupgap": 0
        },
        "template": {
         "data": {
          "bar": [
           {
            "error_x": {
             "color": "#2a3f5f"
            },
            "error_y": {
             "color": "#2a3f5f"
            },
            "marker": {
             "line": {
              "color": "#E5ECF6",
              "width": 0.5
             },
             "pattern": {
              "fillmode": "overlay",
              "size": 10,
              "solidity": 0.2
             }
            },
            "type": "bar"
           }
          ],
          "barpolar": [
           {
            "marker": {
             "line": {
              "color": "#E5ECF6",
              "width": 0.5
             },
             "pattern": {
              "fillmode": "overlay",
              "size": 10,
              "solidity": 0.2
             }
            },
            "type": "barpolar"
           }
          ],
          "carpet": [
           {
            "aaxis": {
             "endlinecolor": "#2a3f5f",
             "gridcolor": "white",
             "linecolor": "white",
             "minorgridcolor": "white",
             "startlinecolor": "#2a3f5f"
            },
            "baxis": {
             "endlinecolor": "#2a3f5f",
             "gridcolor": "white",
             "linecolor": "white",
             "minorgridcolor": "white",
             "startlinecolor": "#2a3f5f"
            },
            "type": "carpet"
           }
          ],
          "choropleth": [
           {
            "colorbar": {
             "outlinewidth": 0,
             "ticks": ""
            },
            "type": "choropleth"
           }
          ],
          "contour": [
           {
            "colorbar": {
             "outlinewidth": 0,
             "ticks": ""
            },
            "colorscale": [
             [
              0,
              "#0d0887"
             ],
             [
              0.1111111111111111,
              "#46039f"
             ],
             [
              0.2222222222222222,
              "#7201a8"
             ],
             [
              0.3333333333333333,
              "#9c179e"
             ],
             [
              0.4444444444444444,
              "#bd3786"
             ],
             [
              0.5555555555555556,
              "#d8576b"
             ],
             [
              0.6666666666666666,
              "#ed7953"
             ],
             [
              0.7777777777777778,
              "#fb9f3a"
             ],
             [
              0.8888888888888888,
              "#fdca26"
             ],
             [
              1,
              "#f0f921"
             ]
            ],
            "type": "contour"
           }
          ],
          "contourcarpet": [
           {
            "colorbar": {
             "outlinewidth": 0,
             "ticks": ""
            },
            "type": "contourcarpet"
           }
          ],
          "heatmap": [
           {
            "colorbar": {
             "outlinewidth": 0,
             "ticks": ""
            },
            "colorscale": [
             [
              0,
              "#0d0887"
             ],
             [
              0.1111111111111111,
              "#46039f"
             ],
             [
              0.2222222222222222,
              "#7201a8"
             ],
             [
              0.3333333333333333,
              "#9c179e"
             ],
             [
              0.4444444444444444,
              "#bd3786"
             ],
             [
              0.5555555555555556,
              "#d8576b"
             ],
             [
              0.6666666666666666,
              "#ed7953"
             ],
             [
              0.7777777777777778,
              "#fb9f3a"
             ],
             [
              0.8888888888888888,
              "#fdca26"
             ],
             [
              1,
              "#f0f921"
             ]
            ],
            "type": "heatmap"
           }
          ],
          "heatmapgl": [
           {
            "colorbar": {
             "outlinewidth": 0,
             "ticks": ""
            },
            "colorscale": [
             [
              0,
              "#0d0887"
             ],
             [
              0.1111111111111111,
              "#46039f"
             ],
             [
              0.2222222222222222,
              "#7201a8"
             ],
             [
              0.3333333333333333,
              "#9c179e"
             ],
             [
              0.4444444444444444,
              "#bd3786"
             ],
             [
              0.5555555555555556,
              "#d8576b"
             ],
             [
              0.6666666666666666,
              "#ed7953"
             ],
             [
              0.7777777777777778,
              "#fb9f3a"
             ],
             [
              0.8888888888888888,
              "#fdca26"
             ],
             [
              1,
              "#f0f921"
             ]
            ],
            "type": "heatmapgl"
           }
          ],
          "histogram": [
           {
            "marker": {
             "pattern": {
              "fillmode": "overlay",
              "size": 10,
              "solidity": 0.2
             }
            },
            "type": "histogram"
           }
          ],
          "histogram2d": [
           {
            "colorbar": {
             "outlinewidth": 0,
             "ticks": ""
            },
            "colorscale": [
             [
              0,
              "#0d0887"
             ],
             [
              0.1111111111111111,
              "#46039f"
             ],
             [
              0.2222222222222222,
              "#7201a8"
             ],
             [
              0.3333333333333333,
              "#9c179e"
             ],
             [
              0.4444444444444444,
              "#bd3786"
             ],
             [
              0.5555555555555556,
              "#d8576b"
             ],
             [
              0.6666666666666666,
              "#ed7953"
             ],
             [
              0.7777777777777778,
              "#fb9f3a"
             ],
             [
              0.8888888888888888,
              "#fdca26"
             ],
             [
              1,
              "#f0f921"
             ]
            ],
            "type": "histogram2d"
           }
          ],
          "histogram2dcontour": [
           {
            "colorbar": {
             "outlinewidth": 0,
             "ticks": ""
            },
            "colorscale": [
             [
              0,
              "#0d0887"
             ],
             [
              0.1111111111111111,
              "#46039f"
             ],
             [
              0.2222222222222222,
              "#7201a8"
             ],
             [
              0.3333333333333333,
              "#9c179e"
             ],
             [
              0.4444444444444444,
              "#bd3786"
             ],
             [
              0.5555555555555556,
              "#d8576b"
             ],
             [
              0.6666666666666666,
              "#ed7953"
             ],
             [
              0.7777777777777778,
              "#fb9f3a"
             ],
             [
              0.8888888888888888,
              "#fdca26"
             ],
             [
              1,
              "#f0f921"
             ]
            ],
            "type": "histogram2dcontour"
           }
          ],
          "mesh3d": [
           {
            "colorbar": {
             "outlinewidth": 0,
             "ticks": ""
            },
            "type": "mesh3d"
           }
          ],
          "parcoords": [
           {
            "line": {
             "colorbar": {
              "outlinewidth": 0,
              "ticks": ""
             }
            },
            "type": "parcoords"
           }
          ],
          "pie": [
           {
            "automargin": true,
            "type": "pie"
           }
          ],
          "scatter": [
           {
            "marker": {
             "colorbar": {
              "outlinewidth": 0,
              "ticks": ""
             }
            },
            "type": "scatter"
           }
          ],
          "scatter3d": [
           {
            "line": {
             "colorbar": {
              "outlinewidth": 0,
              "ticks": ""
             }
            },
            "marker": {
             "colorbar": {
              "outlinewidth": 0,
              "ticks": ""
             }
            },
            "type": "scatter3d"
           }
          ],
          "scattercarpet": [
           {
            "marker": {
             "colorbar": {
              "outlinewidth": 0,
              "ticks": ""
             }
            },
            "type": "scattercarpet"
           }
          ],
          "scattergeo": [
           {
            "marker": {
             "colorbar": {
              "outlinewidth": 0,
              "ticks": ""
             }
            },
            "type": "scattergeo"
           }
          ],
          "scattergl": [
           {
            "marker": {
             "colorbar": {
              "outlinewidth": 0,
              "ticks": ""
             }
            },
            "type": "scattergl"
           }
          ],
          "scattermapbox": [
           {
            "marker": {
             "colorbar": {
              "outlinewidth": 0,
              "ticks": ""
             }
            },
            "type": "scattermapbox"
           }
          ],
          "scatterpolar": [
           {
            "marker": {
             "colorbar": {
              "outlinewidth": 0,
              "ticks": ""
             }
            },
            "type": "scatterpolar"
           }
          ],
          "scatterpolargl": [
           {
            "marker": {
             "colorbar": {
              "outlinewidth": 0,
              "ticks": ""
             }
            },
            "type": "scatterpolargl"
           }
          ],
          "scatterternary": [
           {
            "marker": {
             "colorbar": {
              "outlinewidth": 0,
              "ticks": ""
             }
            },
            "type": "scatterternary"
           }
          ],
          "surface": [
           {
            "colorbar": {
             "outlinewidth": 0,
             "ticks": ""
            },
            "colorscale": [
             [
              0,
              "#0d0887"
             ],
             [
              0.1111111111111111,
              "#46039f"
             ],
             [
              0.2222222222222222,
              "#7201a8"
             ],
             [
              0.3333333333333333,
              "#9c179e"
             ],
             [
              0.4444444444444444,
              "#bd3786"
             ],
             [
              0.5555555555555556,
              "#d8576b"
             ],
             [
              0.6666666666666666,
              "#ed7953"
             ],
             [
              0.7777777777777778,
              "#fb9f3a"
             ],
             [
              0.8888888888888888,
              "#fdca26"
             ],
             [
              1,
              "#f0f921"
             ]
            ],
            "type": "surface"
           }
          ],
          "table": [
           {
            "cells": {
             "fill": {
              "color": "#EBF0F8"
             },
             "line": {
              "color": "white"
             }
            },
            "header": {
             "fill": {
              "color": "#C8D4E3"
             },
             "line": {
              "color": "white"
             }
            },
            "type": "table"
           }
          ]
         },
         "layout": {
          "annotationdefaults": {
           "arrowcolor": "#2a3f5f",
           "arrowhead": 0,
           "arrowwidth": 1
          },
          "autotypenumbers": "strict",
          "coloraxis": {
           "colorbar": {
            "outlinewidth": 0,
            "ticks": ""
           }
          },
          "colorscale": {
           "diverging": [
            [
             0,
             "#8e0152"
            ],
            [
             0.1,
             "#c51b7d"
            ],
            [
             0.2,
             "#de77ae"
            ],
            [
             0.3,
             "#f1b6da"
            ],
            [
             0.4,
             "#fde0ef"
            ],
            [
             0.5,
             "#f7f7f7"
            ],
            [
             0.6,
             "#e6f5d0"
            ],
            [
             0.7,
             "#b8e186"
            ],
            [
             0.8,
             "#7fbc41"
            ],
            [
             0.9,
             "#4d9221"
            ],
            [
             1,
             "#276419"
            ]
           ],
           "sequential": [
            [
             0,
             "#0d0887"
            ],
            [
             0.1111111111111111,
             "#46039f"
            ],
            [
             0.2222222222222222,
             "#7201a8"
            ],
            [
             0.3333333333333333,
             "#9c179e"
            ],
            [
             0.4444444444444444,
             "#bd3786"
            ],
            [
             0.5555555555555556,
             "#d8576b"
            ],
            [
             0.6666666666666666,
             "#ed7953"
            ],
            [
             0.7777777777777778,
             "#fb9f3a"
            ],
            [
             0.8888888888888888,
             "#fdca26"
            ],
            [
             1,
             "#f0f921"
            ]
           ],
           "sequentialminus": [
            [
             0,
             "#0d0887"
            ],
            [
             0.1111111111111111,
             "#46039f"
            ],
            [
             0.2222222222222222,
             "#7201a8"
            ],
            [
             0.3333333333333333,
             "#9c179e"
            ],
            [
             0.4444444444444444,
             "#bd3786"
            ],
            [
             0.5555555555555556,
             "#d8576b"
            ],
            [
             0.6666666666666666,
             "#ed7953"
            ],
            [
             0.7777777777777778,
             "#fb9f3a"
            ],
            [
             0.8888888888888888,
             "#fdca26"
            ],
            [
             1,
             "#f0f921"
            ]
           ]
          },
          "colorway": [
           "#636efa",
           "#EF553B",
           "#00cc96",
           "#ab63fa",
           "#FFA15A",
           "#19d3f3",
           "#FF6692",
           "#B6E880",
           "#FF97FF",
           "#FECB52"
          ],
          "font": {
           "color": "#2a3f5f"
          },
          "geo": {
           "bgcolor": "white",
           "lakecolor": "white",
           "landcolor": "#E5ECF6",
           "showlakes": true,
           "showland": true,
           "subunitcolor": "white"
          },
          "hoverlabel": {
           "align": "left"
          },
          "hovermode": "closest",
          "mapbox": {
           "style": "light"
          },
          "paper_bgcolor": "white",
          "plot_bgcolor": "#E5ECF6",
          "polar": {
           "angularaxis": {
            "gridcolor": "white",
            "linecolor": "white",
            "ticks": ""
           },
           "bgcolor": "#E5ECF6",
           "radialaxis": {
            "gridcolor": "white",
            "linecolor": "white",
            "ticks": ""
           }
          },
          "scene": {
           "xaxis": {
            "backgroundcolor": "#E5ECF6",
            "gridcolor": "white",
            "gridwidth": 2,
            "linecolor": "white",
            "showbackground": true,
            "ticks": "",
            "zerolinecolor": "white"
           },
           "yaxis": {
            "backgroundcolor": "#E5ECF6",
            "gridcolor": "white",
            "gridwidth": 2,
            "linecolor": "white",
            "showbackground": true,
            "ticks": "",
            "zerolinecolor": "white"
           },
           "zaxis": {
            "backgroundcolor": "#E5ECF6",
            "gridcolor": "white",
            "gridwidth": 2,
            "linecolor": "white",
            "showbackground": true,
            "ticks": "",
            "zerolinecolor": "white"
           }
          },
          "shapedefaults": {
           "line": {
            "color": "#2a3f5f"
           }
          },
          "ternary": {
           "aaxis": {
            "gridcolor": "white",
            "linecolor": "white",
            "ticks": ""
           },
           "baxis": {
            "gridcolor": "white",
            "linecolor": "white",
            "ticks": ""
           },
           "bgcolor": "#E5ECF6",
           "caxis": {
            "gridcolor": "white",
            "linecolor": "white",
            "ticks": ""
           }
          },
          "title": {
           "x": 0.05
          },
          "xaxis": {
           "automargin": true,
           "gridcolor": "white",
           "linecolor": "white",
           "ticks": "",
           "title": {
            "standoff": 15
           },
           "zerolinecolor": "white",
           "zerolinewidth": 2
          },
          "yaxis": {
           "automargin": true,
           "gridcolor": "white",
           "linecolor": "white",
           "ticks": "",
           "title": {
            "standoff": 15
           },
           "zerolinecolor": "white",
           "zerolinewidth": 2
          }
         }
        },
        "title": {
         "text": "Daily Data Transmitted"
        },
        "xaxis": {
         "anchor": "y",
         "domain": [
          0,
          1
         ],
         "title": {
          "text": "Mission Day"
         }
        },
        "yaxis": {
         "anchor": "x",
         "domain": [
          0,
          1
         ],
         "title": {
          "text": "Data Transmitted (kb)"
         }
        }
       }
      }
     },
     "metadata": {},
     "output_type": "display_data"
    }
   ],
   "source": [
    "px.line(df, x=df.index, y='data', title='Daily Data Transmitted', color='regen', color_discrete_sequence=px.colors.qualitative.Dark24_r, **plotly_options)"
   ]
  },
  {
   "cell_type": "code",
   "execution_count": 425,
   "metadata": {},
   "outputs": [
    {
     "data": {
      "text/html": [
       "<div>\n",
       "<style scoped>\n",
       "    .dataframe tbody tr th:only-of-type {\n",
       "        vertical-align: middle;\n",
       "    }\n",
       "\n",
       "    .dataframe tbody tr th {\n",
       "        vertical-align: top;\n",
       "    }\n",
       "\n",
       "    .dataframe thead th {\n",
       "        text-align: right;\n",
       "    }\n",
       "</style>\n",
       "<table border=\"1\" class=\"dataframe\">\n",
       "  <thead>\n",
       "    <tr style=\"text-align: right;\">\n",
       "      <th></th>\n",
       "      <th>regen</th>\n",
       "      <th>battery</th>\n",
       "      <th>reflector</th>\n",
       "      <th>distance</th>\n",
       "      <th>data</th>\n",
       "      <th>radiation</th>\n",
       "      <th>hit reflector</th>\n",
       "      <th>battery delta</th>\n",
       "    </tr>\n",
       "  </thead>\n",
       "  <tbody>\n",
       "    <tr>\n",
       "      <th>regen</th>\n",
       "      <td>1.000000</td>\n",
       "      <td>0.260619</td>\n",
       "      <td>-0.101845</td>\n",
       "      <td>0.193348</td>\n",
       "      <td>-0.224850</td>\n",
       "      <td>0.005224</td>\n",
       "      <td>0.994508</td>\n",
       "      <td>0.789572</td>\n",
       "    </tr>\n",
       "    <tr>\n",
       "      <th>battery</th>\n",
       "      <td>0.260619</td>\n",
       "      <td>1.000000</td>\n",
       "      <td>-0.239058</td>\n",
       "      <td>0.773549</td>\n",
       "      <td>-0.746683</td>\n",
       "      <td>-0.004332</td>\n",
       "      <td>0.267716</td>\n",
       "      <td>0.369623</td>\n",
       "    </tr>\n",
       "    <tr>\n",
       "      <th>reflector</th>\n",
       "      <td>-0.101845</td>\n",
       "      <td>-0.239058</td>\n",
       "      <td>1.000000</td>\n",
       "      <td>-0.166443</td>\n",
       "      <td>0.209700</td>\n",
       "      <td>0.034807</td>\n",
       "      <td>NaN</td>\n",
       "      <td>-0.902655</td>\n",
       "    </tr>\n",
       "    <tr>\n",
       "      <th>distance</th>\n",
       "      <td>0.193348</td>\n",
       "      <td>0.773549</td>\n",
       "      <td>-0.166443</td>\n",
       "      <td>1.000000</td>\n",
       "      <td>-0.560387</td>\n",
       "      <td>0.061224</td>\n",
       "      <td>0.199783</td>\n",
       "      <td>0.266635</td>\n",
       "    </tr>\n",
       "    <tr>\n",
       "      <th>data</th>\n",
       "      <td>-0.224850</td>\n",
       "      <td>-0.746683</td>\n",
       "      <td>0.209700</td>\n",
       "      <td>-0.560387</td>\n",
       "      <td>1.000000</td>\n",
       "      <td>0.017189</td>\n",
       "      <td>-0.230434</td>\n",
       "      <td>-0.275578</td>\n",
       "    </tr>\n",
       "    <tr>\n",
       "      <th>radiation</th>\n",
       "      <td>0.005224</td>\n",
       "      <td>-0.004332</td>\n",
       "      <td>0.034807</td>\n",
       "      <td>0.061224</td>\n",
       "      <td>0.017189</td>\n",
       "      <td>1.000000</td>\n",
       "      <td>0.006720</td>\n",
       "      <td>-0.023805</td>\n",
       "    </tr>\n",
       "    <tr>\n",
       "      <th>hit reflector</th>\n",
       "      <td>0.994508</td>\n",
       "      <td>0.267716</td>\n",
       "      <td>NaN</td>\n",
       "      <td>0.199783</td>\n",
       "      <td>-0.230434</td>\n",
       "      <td>0.006720</td>\n",
       "      <td>1.000000</td>\n",
       "      <td>0.789938</td>\n",
       "    </tr>\n",
       "    <tr>\n",
       "      <th>battery delta</th>\n",
       "      <td>0.789572</td>\n",
       "      <td>0.369623</td>\n",
       "      <td>-0.902655</td>\n",
       "      <td>0.266635</td>\n",
       "      <td>-0.275578</td>\n",
       "      <td>-0.023805</td>\n",
       "      <td>0.789938</td>\n",
       "      <td>1.000000</td>\n",
       "    </tr>\n",
       "  </tbody>\n",
       "</table>\n",
       "</div>"
      ],
      "text/plain": [
       "                  regen   battery  reflector  distance      data  radiation  \\\n",
       "regen          1.000000  0.260619  -0.101845  0.193348 -0.224850   0.005224   \n",
       "battery        0.260619  1.000000  -0.239058  0.773549 -0.746683  -0.004332   \n",
       "reflector     -0.101845 -0.239058   1.000000 -0.166443  0.209700   0.034807   \n",
       "distance       0.193348  0.773549  -0.166443  1.000000 -0.560387   0.061224   \n",
       "data          -0.224850 -0.746683   0.209700 -0.560387  1.000000   0.017189   \n",
       "radiation      0.005224 -0.004332   0.034807  0.061224  0.017189   1.000000   \n",
       "hit reflector  0.994508  0.267716        NaN  0.199783 -0.230434   0.006720   \n",
       "battery delta  0.789572  0.369623  -0.902655  0.266635 -0.275578  -0.023805   \n",
       "\n",
       "               hit reflector  battery delta  \n",
       "regen               0.994508       0.789572  \n",
       "battery             0.267716       0.369623  \n",
       "reflector                NaN      -0.902655  \n",
       "distance            0.199783       0.266635  \n",
       "data               -0.230434      -0.275578  \n",
       "radiation           0.006720      -0.023805  \n",
       "hit reflector       1.000000       0.789938  \n",
       "battery delta       0.789938       1.000000  "
      ]
     },
     "execution_count": 425,
     "metadata": {},
     "output_type": "execute_result"
    }
   ],
   "source": [
    "corr = df.corr()\n",
    "\n",
    "corr"
   ]
  },
  {
   "cell_type": "code",
   "execution_count": 426,
   "metadata": {},
   "outputs": [
    {
     "data": {
      "application/vnd.plotly.v1+json": {
       "config": {
        "plotlyServerURL": "https://plot.ly"
       },
       "data": [
        {
         "colorscale": [
          [
           0,
           "rgb(23, 28, 66)"
          ],
          [
           0.09090909090909091,
           "rgb(41, 58, 143)"
          ],
          [
           0.18181818181818182,
           "rgb(11, 102, 189)"
          ],
          [
           0.2727272727272727,
           "rgb(69, 144, 185)"
          ],
          [
           0.36363636363636365,
           "rgb(142, 181, 194)"
          ],
          [
           0.45454545454545453,
           "rgb(210, 216, 219)"
          ],
          [
           0.5454545454545454,
           "rgb(230, 210, 204)"
          ],
          [
           0.6363636363636364,
           "rgb(213, 157, 137)"
          ],
          [
           0.7272727272727273,
           "rgb(196, 101, 72)"
          ],
          [
           0.8181818181818182,
           "rgb(172, 43, 36)"
          ],
          [
           0.9090909090909091,
           "rgb(120, 14, 40)"
          ],
          [
           1,
           "rgb(60, 9, 17)"
          ]
         ],
         "hoverinfo": "z",
         "reversescale": false,
         "showscale": false,
         "type": "heatmap",
         "x": [
          "regen",
          "battery",
          "reflector",
          "distance",
          "data",
          "radiation",
          "hit reflector",
          "battery delta"
         ],
         "y": [
          "regen",
          "battery",
          "reflector",
          "distance",
          "data",
          "radiation",
          "hit reflector",
          "battery delta"
         ],
         "z": [
          [
           1,
           0.26061916483784225,
           -0.10184455245326961,
           0.19334752882217895,
           -0.2248502242324365,
           0.005223630725656493,
           0.9945077265900446,
           0.7895719895412519
          ],
          [
           0.26061916483784225,
           1,
           -0.23905841110516468,
           0.7735488217193527,
           -0.7466833159991086,
           -0.004332070561248644,
           0.267715768912828,
           0.3696232387036748
          ],
          [
           -0.10184455245326961,
           -0.23905841110516468,
           1,
           -0.16644250426837012,
           0.20970005463111818,
           0.03480665377693198,
           null,
           -0.9026552618537573
          ],
          [
           0.19334752882217895,
           0.7735488217193527,
           -0.16644250426837012,
           1,
           -0.5603867220181289,
           0.06122360985543302,
           0.1997831496301572,
           0.2666348731815271
          ],
          [
           -0.2248502242324365,
           -0.7466833159991086,
           0.20970005463111818,
           -0.5603867220181289,
           1,
           0.017189287510497742,
           -0.2304344320455637,
           -0.2755782909849612
          ],
          [
           0.005223630725656493,
           -0.004332070561248644,
           0.03480665377693198,
           0.06122360985543302,
           0.017189287510497742,
           1,
           0.006719689045274333,
           -0.02380521625926632
          ],
          [
           0.9945077265900446,
           0.267715768912828,
           null,
           0.1997831496301572,
           -0.2304344320455637,
           0.006719689045274333,
           1,
           0.789938496870522
          ],
          [
           0.7895719895412519,
           0.3696232387036748,
           -0.9026552618537573,
           0.2666348731815271,
           -0.2755782909849612,
           -0.02380521625926632,
           0.789938496870522,
           1
          ]
         ]
        }
       ],
       "layout": {
        "annotations": [
         {
          "font": {
           "color": "#FFFFFF"
          },
          "showarrow": false,
          "text": "1.0",
          "x": "regen",
          "xref": "x",
          "y": "regen",
          "yref": "y"
         },
         {
          "font": {
           "color": "#FFFFFF"
          },
          "showarrow": false,
          "text": "0.26",
          "x": "battery",
          "xref": "x",
          "y": "regen",
          "yref": "y"
         },
         {
          "font": {
           "color": "#FFFFFF"
          },
          "showarrow": false,
          "text": "-0.1",
          "x": "reflector",
          "xref": "x",
          "y": "regen",
          "yref": "y"
         },
         {
          "font": {
           "color": "#FFFFFF"
          },
          "showarrow": false,
          "text": "0.19",
          "x": "distance",
          "xref": "x",
          "y": "regen",
          "yref": "y"
         },
         {
          "font": {
           "color": "#FFFFFF"
          },
          "showarrow": false,
          "text": "-0.22",
          "x": "data",
          "xref": "x",
          "y": "regen",
          "yref": "y"
         },
         {
          "font": {
           "color": "#FFFFFF"
          },
          "showarrow": false,
          "text": "0.01",
          "x": "radiation",
          "xref": "x",
          "y": "regen",
          "yref": "y"
         },
         {
          "font": {
           "color": "#FFFFFF"
          },
          "showarrow": false,
          "text": "0.99",
          "x": "hit reflector",
          "xref": "x",
          "y": "regen",
          "yref": "y"
         },
         {
          "font": {
           "color": "#FFFFFF"
          },
          "showarrow": false,
          "text": "0.79",
          "x": "battery delta",
          "xref": "x",
          "y": "regen",
          "yref": "y"
         },
         {
          "font": {
           "color": "#FFFFFF"
          },
          "showarrow": false,
          "text": "0.26",
          "x": "regen",
          "xref": "x",
          "y": "battery",
          "yref": "y"
         },
         {
          "font": {
           "color": "#FFFFFF"
          },
          "showarrow": false,
          "text": "1.0",
          "x": "battery",
          "xref": "x",
          "y": "battery",
          "yref": "y"
         },
         {
          "font": {
           "color": "#FFFFFF"
          },
          "showarrow": false,
          "text": "-0.24",
          "x": "reflector",
          "xref": "x",
          "y": "battery",
          "yref": "y"
         },
         {
          "font": {
           "color": "#FFFFFF"
          },
          "showarrow": false,
          "text": "0.77",
          "x": "distance",
          "xref": "x",
          "y": "battery",
          "yref": "y"
         },
         {
          "font": {
           "color": "#FFFFFF"
          },
          "showarrow": false,
          "text": "-0.75",
          "x": "data",
          "xref": "x",
          "y": "battery",
          "yref": "y"
         },
         {
          "font": {
           "color": "#FFFFFF"
          },
          "showarrow": false,
          "text": "-0.0",
          "x": "radiation",
          "xref": "x",
          "y": "battery",
          "yref": "y"
         },
         {
          "font": {
           "color": "#FFFFFF"
          },
          "showarrow": false,
          "text": "0.27",
          "x": "hit reflector",
          "xref": "x",
          "y": "battery",
          "yref": "y"
         },
         {
          "font": {
           "color": "#FFFFFF"
          },
          "showarrow": false,
          "text": "0.37",
          "x": "battery delta",
          "xref": "x",
          "y": "battery",
          "yref": "y"
         },
         {
          "font": {
           "color": "#FFFFFF"
          },
          "showarrow": false,
          "text": "-0.1",
          "x": "regen",
          "xref": "x",
          "y": "reflector",
          "yref": "y"
         },
         {
          "font": {
           "color": "#FFFFFF"
          },
          "showarrow": false,
          "text": "-0.24",
          "x": "battery",
          "xref": "x",
          "y": "reflector",
          "yref": "y"
         },
         {
          "font": {
           "color": "#FFFFFF"
          },
          "showarrow": false,
          "text": "1.0",
          "x": "reflector",
          "xref": "x",
          "y": "reflector",
          "yref": "y"
         },
         {
          "font": {
           "color": "#FFFFFF"
          },
          "showarrow": false,
          "text": "-0.17",
          "x": "distance",
          "xref": "x",
          "y": "reflector",
          "yref": "y"
         },
         {
          "font": {
           "color": "#FFFFFF"
          },
          "showarrow": false,
          "text": "0.21",
          "x": "data",
          "xref": "x",
          "y": "reflector",
          "yref": "y"
         },
         {
          "font": {
           "color": "#FFFFFF"
          },
          "showarrow": false,
          "text": "0.03",
          "x": "radiation",
          "xref": "x",
          "y": "reflector",
          "yref": "y"
         },
         {
          "font": {
           "color": "#FFFFFF"
          },
          "showarrow": false,
          "text": "nan",
          "x": "hit reflector",
          "xref": "x",
          "y": "reflector",
          "yref": "y"
         },
         {
          "font": {
           "color": "#FFFFFF"
          },
          "showarrow": false,
          "text": "-0.9",
          "x": "battery delta",
          "xref": "x",
          "y": "reflector",
          "yref": "y"
         },
         {
          "font": {
           "color": "#FFFFFF"
          },
          "showarrow": false,
          "text": "0.19",
          "x": "regen",
          "xref": "x",
          "y": "distance",
          "yref": "y"
         },
         {
          "font": {
           "color": "#FFFFFF"
          },
          "showarrow": false,
          "text": "0.77",
          "x": "battery",
          "xref": "x",
          "y": "distance",
          "yref": "y"
         },
         {
          "font": {
           "color": "#FFFFFF"
          },
          "showarrow": false,
          "text": "-0.17",
          "x": "reflector",
          "xref": "x",
          "y": "distance",
          "yref": "y"
         },
         {
          "font": {
           "color": "#FFFFFF"
          },
          "showarrow": false,
          "text": "1.0",
          "x": "distance",
          "xref": "x",
          "y": "distance",
          "yref": "y"
         },
         {
          "font": {
           "color": "#FFFFFF"
          },
          "showarrow": false,
          "text": "-0.56",
          "x": "data",
          "xref": "x",
          "y": "distance",
          "yref": "y"
         },
         {
          "font": {
           "color": "#FFFFFF"
          },
          "showarrow": false,
          "text": "0.06",
          "x": "radiation",
          "xref": "x",
          "y": "distance",
          "yref": "y"
         },
         {
          "font": {
           "color": "#FFFFFF"
          },
          "showarrow": false,
          "text": "0.2",
          "x": "hit reflector",
          "xref": "x",
          "y": "distance",
          "yref": "y"
         },
         {
          "font": {
           "color": "#FFFFFF"
          },
          "showarrow": false,
          "text": "0.27",
          "x": "battery delta",
          "xref": "x",
          "y": "distance",
          "yref": "y"
         },
         {
          "font": {
           "color": "#FFFFFF"
          },
          "showarrow": false,
          "text": "-0.22",
          "x": "regen",
          "xref": "x",
          "y": "data",
          "yref": "y"
         },
         {
          "font": {
           "color": "#FFFFFF"
          },
          "showarrow": false,
          "text": "-0.75",
          "x": "battery",
          "xref": "x",
          "y": "data",
          "yref": "y"
         },
         {
          "font": {
           "color": "#FFFFFF"
          },
          "showarrow": false,
          "text": "0.21",
          "x": "reflector",
          "xref": "x",
          "y": "data",
          "yref": "y"
         },
         {
          "font": {
           "color": "#FFFFFF"
          },
          "showarrow": false,
          "text": "-0.56",
          "x": "distance",
          "xref": "x",
          "y": "data",
          "yref": "y"
         },
         {
          "font": {
           "color": "#FFFFFF"
          },
          "showarrow": false,
          "text": "1.0",
          "x": "data",
          "xref": "x",
          "y": "data",
          "yref": "y"
         },
         {
          "font": {
           "color": "#FFFFFF"
          },
          "showarrow": false,
          "text": "0.02",
          "x": "radiation",
          "xref": "x",
          "y": "data",
          "yref": "y"
         },
         {
          "font": {
           "color": "#FFFFFF"
          },
          "showarrow": false,
          "text": "-0.23",
          "x": "hit reflector",
          "xref": "x",
          "y": "data",
          "yref": "y"
         },
         {
          "font": {
           "color": "#FFFFFF"
          },
          "showarrow": false,
          "text": "-0.28",
          "x": "battery delta",
          "xref": "x",
          "y": "data",
          "yref": "y"
         },
         {
          "font": {
           "color": "#FFFFFF"
          },
          "showarrow": false,
          "text": "0.01",
          "x": "regen",
          "xref": "x",
          "y": "radiation",
          "yref": "y"
         },
         {
          "font": {
           "color": "#FFFFFF"
          },
          "showarrow": false,
          "text": "-0.0",
          "x": "battery",
          "xref": "x",
          "y": "radiation",
          "yref": "y"
         },
         {
          "font": {
           "color": "#FFFFFF"
          },
          "showarrow": false,
          "text": "0.03",
          "x": "reflector",
          "xref": "x",
          "y": "radiation",
          "yref": "y"
         },
         {
          "font": {
           "color": "#FFFFFF"
          },
          "showarrow": false,
          "text": "0.06",
          "x": "distance",
          "xref": "x",
          "y": "radiation",
          "yref": "y"
         },
         {
          "font": {
           "color": "#FFFFFF"
          },
          "showarrow": false,
          "text": "0.02",
          "x": "data",
          "xref": "x",
          "y": "radiation",
          "yref": "y"
         },
         {
          "font": {
           "color": "#FFFFFF"
          },
          "showarrow": false,
          "text": "1.0",
          "x": "radiation",
          "xref": "x",
          "y": "radiation",
          "yref": "y"
         },
         {
          "font": {
           "color": "#FFFFFF"
          },
          "showarrow": false,
          "text": "0.01",
          "x": "hit reflector",
          "xref": "x",
          "y": "radiation",
          "yref": "y"
         },
         {
          "font": {
           "color": "#FFFFFF"
          },
          "showarrow": false,
          "text": "-0.02",
          "x": "battery delta",
          "xref": "x",
          "y": "radiation",
          "yref": "y"
         },
         {
          "font": {
           "color": "#FFFFFF"
          },
          "showarrow": false,
          "text": "0.99",
          "x": "regen",
          "xref": "x",
          "y": "hit reflector",
          "yref": "y"
         },
         {
          "font": {
           "color": "#FFFFFF"
          },
          "showarrow": false,
          "text": "0.27",
          "x": "battery",
          "xref": "x",
          "y": "hit reflector",
          "yref": "y"
         },
         {
          "font": {
           "color": "#FFFFFF"
          },
          "showarrow": false,
          "text": "nan",
          "x": "reflector",
          "xref": "x",
          "y": "hit reflector",
          "yref": "y"
         },
         {
          "font": {
           "color": "#FFFFFF"
          },
          "showarrow": false,
          "text": "0.2",
          "x": "distance",
          "xref": "x",
          "y": "hit reflector",
          "yref": "y"
         },
         {
          "font": {
           "color": "#FFFFFF"
          },
          "showarrow": false,
          "text": "-0.23",
          "x": "data",
          "xref": "x",
          "y": "hit reflector",
          "yref": "y"
         },
         {
          "font": {
           "color": "#FFFFFF"
          },
          "showarrow": false,
          "text": "0.01",
          "x": "radiation",
          "xref": "x",
          "y": "hit reflector",
          "yref": "y"
         },
         {
          "font": {
           "color": "#FFFFFF"
          },
          "showarrow": false,
          "text": "1.0",
          "x": "hit reflector",
          "xref": "x",
          "y": "hit reflector",
          "yref": "y"
         },
         {
          "font": {
           "color": "#FFFFFF"
          },
          "showarrow": false,
          "text": "0.79",
          "x": "battery delta",
          "xref": "x",
          "y": "hit reflector",
          "yref": "y"
         },
         {
          "font": {
           "color": "#FFFFFF"
          },
          "showarrow": false,
          "text": "0.79",
          "x": "regen",
          "xref": "x",
          "y": "battery delta",
          "yref": "y"
         },
         {
          "font": {
           "color": "#FFFFFF"
          },
          "showarrow": false,
          "text": "0.37",
          "x": "battery",
          "xref": "x",
          "y": "battery delta",
          "yref": "y"
         },
         {
          "font": {
           "color": "#FFFFFF"
          },
          "showarrow": false,
          "text": "-0.9",
          "x": "reflector",
          "xref": "x",
          "y": "battery delta",
          "yref": "y"
         },
         {
          "font": {
           "color": "#FFFFFF"
          },
          "showarrow": false,
          "text": "0.27",
          "x": "distance",
          "xref": "x",
          "y": "battery delta",
          "yref": "y"
         },
         {
          "font": {
           "color": "#FFFFFF"
          },
          "showarrow": false,
          "text": "-0.28",
          "x": "data",
          "xref": "x",
          "y": "battery delta",
          "yref": "y"
         },
         {
          "font": {
           "color": "#FFFFFF"
          },
          "showarrow": false,
          "text": "-0.02",
          "x": "radiation",
          "xref": "x",
          "y": "battery delta",
          "yref": "y"
         },
         {
          "font": {
           "color": "#FFFFFF"
          },
          "showarrow": false,
          "text": "0.79",
          "x": "hit reflector",
          "xref": "x",
          "y": "battery delta",
          "yref": "y"
         },
         {
          "font": {
           "color": "#FFFFFF"
          },
          "showarrow": false,
          "text": "1.0",
          "x": "battery delta",
          "xref": "x",
          "y": "battery delta",
          "yref": "y"
         }
        ],
        "template": {
         "data": {
          "bar": [
           {
            "error_x": {
             "color": "#2a3f5f"
            },
            "error_y": {
             "color": "#2a3f5f"
            },
            "marker": {
             "line": {
              "color": "#E5ECF6",
              "width": 0.5
             },
             "pattern": {
              "fillmode": "overlay",
              "size": 10,
              "solidity": 0.2
             }
            },
            "type": "bar"
           }
          ],
          "barpolar": [
           {
            "marker": {
             "line": {
              "color": "#E5ECF6",
              "width": 0.5
             },
             "pattern": {
              "fillmode": "overlay",
              "size": 10,
              "solidity": 0.2
             }
            },
            "type": "barpolar"
           }
          ],
          "carpet": [
           {
            "aaxis": {
             "endlinecolor": "#2a3f5f",
             "gridcolor": "white",
             "linecolor": "white",
             "minorgridcolor": "white",
             "startlinecolor": "#2a3f5f"
            },
            "baxis": {
             "endlinecolor": "#2a3f5f",
             "gridcolor": "white",
             "linecolor": "white",
             "minorgridcolor": "white",
             "startlinecolor": "#2a3f5f"
            },
            "type": "carpet"
           }
          ],
          "choropleth": [
           {
            "colorbar": {
             "outlinewidth": 0,
             "ticks": ""
            },
            "type": "choropleth"
           }
          ],
          "contour": [
           {
            "colorbar": {
             "outlinewidth": 0,
             "ticks": ""
            },
            "colorscale": [
             [
              0,
              "#0d0887"
             ],
             [
              0.1111111111111111,
              "#46039f"
             ],
             [
              0.2222222222222222,
              "#7201a8"
             ],
             [
              0.3333333333333333,
              "#9c179e"
             ],
             [
              0.4444444444444444,
              "#bd3786"
             ],
             [
              0.5555555555555556,
              "#d8576b"
             ],
             [
              0.6666666666666666,
              "#ed7953"
             ],
             [
              0.7777777777777778,
              "#fb9f3a"
             ],
             [
              0.8888888888888888,
              "#fdca26"
             ],
             [
              1,
              "#f0f921"
             ]
            ],
            "type": "contour"
           }
          ],
          "contourcarpet": [
           {
            "colorbar": {
             "outlinewidth": 0,
             "ticks": ""
            },
            "type": "contourcarpet"
           }
          ],
          "heatmap": [
           {
            "colorbar": {
             "outlinewidth": 0,
             "ticks": ""
            },
            "colorscale": [
             [
              0,
              "#0d0887"
             ],
             [
              0.1111111111111111,
              "#46039f"
             ],
             [
              0.2222222222222222,
              "#7201a8"
             ],
             [
              0.3333333333333333,
              "#9c179e"
             ],
             [
              0.4444444444444444,
              "#bd3786"
             ],
             [
              0.5555555555555556,
              "#d8576b"
             ],
             [
              0.6666666666666666,
              "#ed7953"
             ],
             [
              0.7777777777777778,
              "#fb9f3a"
             ],
             [
              0.8888888888888888,
              "#fdca26"
             ],
             [
              1,
              "#f0f921"
             ]
            ],
            "type": "heatmap"
           }
          ],
          "heatmapgl": [
           {
            "colorbar": {
             "outlinewidth": 0,
             "ticks": ""
            },
            "colorscale": [
             [
              0,
              "#0d0887"
             ],
             [
              0.1111111111111111,
              "#46039f"
             ],
             [
              0.2222222222222222,
              "#7201a8"
             ],
             [
              0.3333333333333333,
              "#9c179e"
             ],
             [
              0.4444444444444444,
              "#bd3786"
             ],
             [
              0.5555555555555556,
              "#d8576b"
             ],
             [
              0.6666666666666666,
              "#ed7953"
             ],
             [
              0.7777777777777778,
              "#fb9f3a"
             ],
             [
              0.8888888888888888,
              "#fdca26"
             ],
             [
              1,
              "#f0f921"
             ]
            ],
            "type": "heatmapgl"
           }
          ],
          "histogram": [
           {
            "marker": {
             "pattern": {
              "fillmode": "overlay",
              "size": 10,
              "solidity": 0.2
             }
            },
            "type": "histogram"
           }
          ],
          "histogram2d": [
           {
            "colorbar": {
             "outlinewidth": 0,
             "ticks": ""
            },
            "colorscale": [
             [
              0,
              "#0d0887"
             ],
             [
              0.1111111111111111,
              "#46039f"
             ],
             [
              0.2222222222222222,
              "#7201a8"
             ],
             [
              0.3333333333333333,
              "#9c179e"
             ],
             [
              0.4444444444444444,
              "#bd3786"
             ],
             [
              0.5555555555555556,
              "#d8576b"
             ],
             [
              0.6666666666666666,
              "#ed7953"
             ],
             [
              0.7777777777777778,
              "#fb9f3a"
             ],
             [
              0.8888888888888888,
              "#fdca26"
             ],
             [
              1,
              "#f0f921"
             ]
            ],
            "type": "histogram2d"
           }
          ],
          "histogram2dcontour": [
           {
            "colorbar": {
             "outlinewidth": 0,
             "ticks": ""
            },
            "colorscale": [
             [
              0,
              "#0d0887"
             ],
             [
              0.1111111111111111,
              "#46039f"
             ],
             [
              0.2222222222222222,
              "#7201a8"
             ],
             [
              0.3333333333333333,
              "#9c179e"
             ],
             [
              0.4444444444444444,
              "#bd3786"
             ],
             [
              0.5555555555555556,
              "#d8576b"
             ],
             [
              0.6666666666666666,
              "#ed7953"
             ],
             [
              0.7777777777777778,
              "#fb9f3a"
             ],
             [
              0.8888888888888888,
              "#fdca26"
             ],
             [
              1,
              "#f0f921"
             ]
            ],
            "type": "histogram2dcontour"
           }
          ],
          "mesh3d": [
           {
            "colorbar": {
             "outlinewidth": 0,
             "ticks": ""
            },
            "type": "mesh3d"
           }
          ],
          "parcoords": [
           {
            "line": {
             "colorbar": {
              "outlinewidth": 0,
              "ticks": ""
             }
            },
            "type": "parcoords"
           }
          ],
          "pie": [
           {
            "automargin": true,
            "type": "pie"
           }
          ],
          "scatter": [
           {
            "marker": {
             "colorbar": {
              "outlinewidth": 0,
              "ticks": ""
             }
            },
            "type": "scatter"
           }
          ],
          "scatter3d": [
           {
            "line": {
             "colorbar": {
              "outlinewidth": 0,
              "ticks": ""
             }
            },
            "marker": {
             "colorbar": {
              "outlinewidth": 0,
              "ticks": ""
             }
            },
            "type": "scatter3d"
           }
          ],
          "scattercarpet": [
           {
            "marker": {
             "colorbar": {
              "outlinewidth": 0,
              "ticks": ""
             }
            },
            "type": "scattercarpet"
           }
          ],
          "scattergeo": [
           {
            "marker": {
             "colorbar": {
              "outlinewidth": 0,
              "ticks": ""
             }
            },
            "type": "scattergeo"
           }
          ],
          "scattergl": [
           {
            "marker": {
             "colorbar": {
              "outlinewidth": 0,
              "ticks": ""
             }
            },
            "type": "scattergl"
           }
          ],
          "scattermapbox": [
           {
            "marker": {
             "colorbar": {
              "outlinewidth": 0,
              "ticks": ""
             }
            },
            "type": "scattermapbox"
           }
          ],
          "scatterpolar": [
           {
            "marker": {
             "colorbar": {
              "outlinewidth": 0,
              "ticks": ""
             }
            },
            "type": "scatterpolar"
           }
          ],
          "scatterpolargl": [
           {
            "marker": {
             "colorbar": {
              "outlinewidth": 0,
              "ticks": ""
             }
            },
            "type": "scatterpolargl"
           }
          ],
          "scatterternary": [
           {
            "marker": {
             "colorbar": {
              "outlinewidth": 0,
              "ticks": ""
             }
            },
            "type": "scatterternary"
           }
          ],
          "surface": [
           {
            "colorbar": {
             "outlinewidth": 0,
             "ticks": ""
            },
            "colorscale": [
             [
              0,
              "#0d0887"
             ],
             [
              0.1111111111111111,
              "#46039f"
             ],
             [
              0.2222222222222222,
              "#7201a8"
             ],
             [
              0.3333333333333333,
              "#9c179e"
             ],
             [
              0.4444444444444444,
              "#bd3786"
             ],
             [
              0.5555555555555556,
              "#d8576b"
             ],
             [
              0.6666666666666666,
              "#ed7953"
             ],
             [
              0.7777777777777778,
              "#fb9f3a"
             ],
             [
              0.8888888888888888,
              "#fdca26"
             ],
             [
              1,
              "#f0f921"
             ]
            ],
            "type": "surface"
           }
          ],
          "table": [
           {
            "cells": {
             "fill": {
              "color": "#EBF0F8"
             },
             "line": {
              "color": "white"
             }
            },
            "header": {
             "fill": {
              "color": "#C8D4E3"
             },
             "line": {
              "color": "white"
             }
            },
            "type": "table"
           }
          ]
         },
         "layout": {
          "annotationdefaults": {
           "arrowcolor": "#2a3f5f",
           "arrowhead": 0,
           "arrowwidth": 1
          },
          "autotypenumbers": "strict",
          "coloraxis": {
           "colorbar": {
            "outlinewidth": 0,
            "ticks": ""
           }
          },
          "colorscale": {
           "diverging": [
            [
             0,
             "#8e0152"
            ],
            [
             0.1,
             "#c51b7d"
            ],
            [
             0.2,
             "#de77ae"
            ],
            [
             0.3,
             "#f1b6da"
            ],
            [
             0.4,
             "#fde0ef"
            ],
            [
             0.5,
             "#f7f7f7"
            ],
            [
             0.6,
             "#e6f5d0"
            ],
            [
             0.7,
             "#b8e186"
            ],
            [
             0.8,
             "#7fbc41"
            ],
            [
             0.9,
             "#4d9221"
            ],
            [
             1,
             "#276419"
            ]
           ],
           "sequential": [
            [
             0,
             "#0d0887"
            ],
            [
             0.1111111111111111,
             "#46039f"
            ],
            [
             0.2222222222222222,
             "#7201a8"
            ],
            [
             0.3333333333333333,
             "#9c179e"
            ],
            [
             0.4444444444444444,
             "#bd3786"
            ],
            [
             0.5555555555555556,
             "#d8576b"
            ],
            [
             0.6666666666666666,
             "#ed7953"
            ],
            [
             0.7777777777777778,
             "#fb9f3a"
            ],
            [
             0.8888888888888888,
             "#fdca26"
            ],
            [
             1,
             "#f0f921"
            ]
           ],
           "sequentialminus": [
            [
             0,
             "#0d0887"
            ],
            [
             0.1111111111111111,
             "#46039f"
            ],
            [
             0.2222222222222222,
             "#7201a8"
            ],
            [
             0.3333333333333333,
             "#9c179e"
            ],
            [
             0.4444444444444444,
             "#bd3786"
            ],
            [
             0.5555555555555556,
             "#d8576b"
            ],
            [
             0.6666666666666666,
             "#ed7953"
            ],
            [
             0.7777777777777778,
             "#fb9f3a"
            ],
            [
             0.8888888888888888,
             "#fdca26"
            ],
            [
             1,
             "#f0f921"
            ]
           ]
          },
          "colorway": [
           "#636efa",
           "#EF553B",
           "#00cc96",
           "#ab63fa",
           "#FFA15A",
           "#19d3f3",
           "#FF6692",
           "#B6E880",
           "#FF97FF",
           "#FECB52"
          ],
          "font": {
           "color": "#2a3f5f"
          },
          "geo": {
           "bgcolor": "white",
           "lakecolor": "white",
           "landcolor": "#E5ECF6",
           "showlakes": true,
           "showland": true,
           "subunitcolor": "white"
          },
          "hoverlabel": {
           "align": "left"
          },
          "hovermode": "closest",
          "mapbox": {
           "style": "light"
          },
          "paper_bgcolor": "white",
          "plot_bgcolor": "#E5ECF6",
          "polar": {
           "angularaxis": {
            "gridcolor": "white",
            "linecolor": "white",
            "ticks": ""
           },
           "bgcolor": "#E5ECF6",
           "radialaxis": {
            "gridcolor": "white",
            "linecolor": "white",
            "ticks": ""
           }
          },
          "scene": {
           "xaxis": {
            "backgroundcolor": "#E5ECF6",
            "gridcolor": "white",
            "gridwidth": 2,
            "linecolor": "white",
            "showbackground": true,
            "ticks": "",
            "zerolinecolor": "white"
           },
           "yaxis": {
            "backgroundcolor": "#E5ECF6",
            "gridcolor": "white",
            "gridwidth": 2,
            "linecolor": "white",
            "showbackground": true,
            "ticks": "",
            "zerolinecolor": "white"
           },
           "zaxis": {
            "backgroundcolor": "#E5ECF6",
            "gridcolor": "white",
            "gridwidth": 2,
            "linecolor": "white",
            "showbackground": true,
            "ticks": "",
            "zerolinecolor": "white"
           }
          },
          "shapedefaults": {
           "line": {
            "color": "#2a3f5f"
           }
          },
          "ternary": {
           "aaxis": {
            "gridcolor": "white",
            "linecolor": "white",
            "ticks": ""
           },
           "baxis": {
            "gridcolor": "white",
            "linecolor": "white",
            "ticks": ""
           },
           "bgcolor": "#E5ECF6",
           "caxis": {
            "gridcolor": "white",
            "linecolor": "white",
            "ticks": ""
           }
          },
          "title": {
           "x": 0.05
          },
          "xaxis": {
           "automargin": true,
           "gridcolor": "white",
           "linecolor": "white",
           "ticks": "",
           "title": {
            "standoff": 15
           },
           "zerolinecolor": "white",
           "zerolinewidth": 2
          },
          "yaxis": {
           "automargin": true,
           "gridcolor": "white",
           "linecolor": "white",
           "ticks": "",
           "title": {
            "standoff": 15
           },
           "zerolinecolor": "white",
           "zerolinewidth": 2
          }
         }
        },
        "title": {
         "text": "Correlations Analysis Matrix"
        },
        "xaxis": {
         "dtick": 1,
         "gridcolor": "rgb(0, 0, 0)",
         "side": "top",
         "ticks": ""
        },
        "yaxis": {
         "dtick": 1,
         "ticks": "",
         "ticksuffix": "  "
        }
       }
      }
     },
     "metadata": {},
     "output_type": "display_data"
    }
   ],
   "source": [
    "import numpy as np\n",
    "import plotly.graph_objects as go\n",
    "import plotly.figure_factory as ff\n",
    "\n",
    "z = np.array(corr)\n",
    "\n",
    "fig = ff.create_annotated_heatmap(\n",
    "        z,\n",
    "        x = list(corr.columns),\n",
    "        y = list(corr.index),\n",
    "        annotation_text = np.around(z, decimals=2),\n",
    "        hoverinfo='z',\n",
    "        colorscale=px.colors.diverging.balance,\n",
    "    )\n",
    "\n",
    "fig.update_layout(title='Correlations Analysis Matrix')\n",
    "\n",
    "fig.show()"
   ]
  }
 ],
 "metadata": {
  "kernelspec": {
   "display_name": "Python 3.9.12 ('base')",
   "language": "python",
   "name": "python3"
  },
  "language_info": {
   "codemirror_mode": {
    "name": "ipython",
    "version": 3
   },
   "file_extension": ".py",
   "mimetype": "text/x-python",
   "name": "python",
   "nbconvert_exporter": "python",
   "pygments_lexer": "ipython3",
   "version": "3.9.12"
  },
  "vscode": {
   "interpreter": {
    "hash": "2043299c89c8cd0b4d1a6f5cf4529bd58e6a4e0fe3181a25e0d328c821cdc5c5"
   }
  }
 },
 "nbformat": 4,
 "nbformat_minor": 0
}
